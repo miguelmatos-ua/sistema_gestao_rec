{
 "cells": [
  {
   "cell_type": "code",
   "execution_count": 1,
   "metadata": {},
   "outputs": [],
   "source": [
    "# import libraries\n",
    "import pandas as pd\n",
    "import numpy as np\n",
    "import matplotlib.pyplot as plt\n",
    "\n",
    "from tqdm import tqdm\n"
   ]
  },
  {
   "cell_type": "code",
   "execution_count": 2,
   "metadata": {},
   "outputs": [
    {
     "data": {
      "text/html": [
       "<div>\n",
       "<style scoped>\n",
       "    .dataframe tbody tr th:only-of-type {\n",
       "        vertical-align: middle;\n",
       "    }\n",
       "\n",
       "    .dataframe tbody tr th {\n",
       "        vertical-align: top;\n",
       "    }\n",
       "\n",
       "    .dataframe thead th {\n",
       "        text-align: right;\n",
       "    }\n",
       "</style>\n",
       "<table border=\"1\" class=\"dataframe\">\n",
       "  <thead>\n",
       "    <tr style=\"text-align: right;\">\n",
       "      <th></th>\n",
       "      <th>time</th>\n",
       "      <th>location</th>\n",
       "      <th>postcode</th>\n",
       "      <th>energy</th>\n",
       "    </tr>\n",
       "  </thead>\n",
       "  <tbody>\n",
       "    <tr>\n",
       "      <th>0</th>\n",
       "      <td>2006-10-01 00:30:00+00:00</td>\n",
       "      <td>Guildhall Electricity Supply 1 (HH)</td>\n",
       "      <td>BA1 5AW</td>\n",
       "      <td>32.8</td>\n",
       "    </tr>\n",
       "    <tr>\n",
       "      <th>1</th>\n",
       "      <td>2006-10-01 01:00:00+00:00</td>\n",
       "      <td>Guildhall Electricity Supply 1 (HH)</td>\n",
       "      <td>BA1 5AW</td>\n",
       "      <td>33.0</td>\n",
       "    </tr>\n",
       "    <tr>\n",
       "      <th>2</th>\n",
       "      <td>2006-10-01 01:30:00+00:00</td>\n",
       "      <td>Bath Central Library Electricity (HH)</td>\n",
       "      <td>BA1 5AL</td>\n",
       "      <td>5.9</td>\n",
       "    </tr>\n",
       "    <tr>\n",
       "      <th>3</th>\n",
       "      <td>2006-10-01 02:00:00+00:00</td>\n",
       "      <td>Guildhall Electricity Supply 1 (HH)</td>\n",
       "      <td>BA1 5AW</td>\n",
       "      <td>32.2</td>\n",
       "    </tr>\n",
       "    <tr>\n",
       "      <th>4</th>\n",
       "      <td>2006-10-01 02:30:00+00:00</td>\n",
       "      <td>Guildhall Electricity Supply 1 (HH)</td>\n",
       "      <td>BA1 5AW</td>\n",
       "      <td>31.3</td>\n",
       "    </tr>\n",
       "  </tbody>\n",
       "</table>\n",
       "</div>"
      ],
      "text/plain": [
       "                       time                               location postcode  \\\n",
       "0 2006-10-01 00:30:00+00:00    Guildhall Electricity Supply 1 (HH)  BA1 5AW   \n",
       "1 2006-10-01 01:00:00+00:00    Guildhall Electricity Supply 1 (HH)  BA1 5AW   \n",
       "2 2006-10-01 01:30:00+00:00  Bath Central Library Electricity (HH)  BA1 5AL   \n",
       "3 2006-10-01 02:00:00+00:00    Guildhall Electricity Supply 1 (HH)  BA1 5AW   \n",
       "4 2006-10-01 02:30:00+00:00    Guildhall Electricity Supply 1 (HH)  BA1 5AW   \n",
       "\n",
       "   energy  \n",
       "0    32.8  \n",
       "1    33.0  \n",
       "2     5.9  \n",
       "3    32.2  \n",
       "4    31.3  "
      ]
     },
     "execution_count": 2,
     "metadata": {},
     "output_type": "execute_result"
    }
   ],
   "source": [
    "df_banes = pd.read_csv(\"BANES_cleaned_final.csv\", parse_dates=[\"time\"])\n",
    "df_banes.head()\n"
   ]
  },
  {
   "cell_type": "code",
   "execution_count": 3,
   "metadata": {},
   "outputs": [
    {
     "data": {
      "text/html": [
       "<div>\n",
       "<style scoped>\n",
       "    .dataframe tbody tr th:only-of-type {\n",
       "        vertical-align: middle;\n",
       "    }\n",
       "\n",
       "    .dataframe tbody tr th {\n",
       "        vertical-align: top;\n",
       "    }\n",
       "\n",
       "    .dataframe thead th {\n",
       "        text-align: right;\n",
       "    }\n",
       "</style>\n",
       "<table border=\"1\" class=\"dataframe\">\n",
       "  <thead>\n",
       "    <tr style=\"text-align: right;\">\n",
       "      <th></th>\n",
       "      <th>time</th>\n",
       "      <th>temp</th>\n",
       "      <th>dwpt</th>\n",
       "      <th>rhum</th>\n",
       "      <th>prcp</th>\n",
       "      <th>snow</th>\n",
       "      <th>wdir</th>\n",
       "      <th>wspd</th>\n",
       "      <th>wpgt</th>\n",
       "      <th>pres</th>\n",
       "      <th>coco</th>\n",
       "    </tr>\n",
       "  </thead>\n",
       "  <tbody>\n",
       "    <tr>\n",
       "      <th>0</th>\n",
       "      <td>2006-10-01 00:00:00</td>\n",
       "      <td>15.10</td>\n",
       "      <td>14.10</td>\n",
       "      <td>94.0</td>\n",
       "      <td>0.0</td>\n",
       "      <td>0.0</td>\n",
       "      <td>170.0</td>\n",
       "      <td>13.0</td>\n",
       "      <td>NaN</td>\n",
       "      <td>1001.9</td>\n",
       "      <td>NaN</td>\n",
       "    </tr>\n",
       "    <tr>\n",
       "      <th>1</th>\n",
       "      <td>2006-10-01 00:30:00</td>\n",
       "      <td>14.95</td>\n",
       "      <td>13.80</td>\n",
       "      <td>93.0</td>\n",
       "      <td>0.0</td>\n",
       "      <td>0.0</td>\n",
       "      <td>175.0</td>\n",
       "      <td>13.9</td>\n",
       "      <td>NaN</td>\n",
       "      <td>1001.8</td>\n",
       "      <td>NaN</td>\n",
       "    </tr>\n",
       "    <tr>\n",
       "      <th>2</th>\n",
       "      <td>2006-10-01 01:00:00</td>\n",
       "      <td>14.80</td>\n",
       "      <td>13.50</td>\n",
       "      <td>92.0</td>\n",
       "      <td>0.0</td>\n",
       "      <td>0.0</td>\n",
       "      <td>180.0</td>\n",
       "      <td>14.8</td>\n",
       "      <td>NaN</td>\n",
       "      <td>1001.7</td>\n",
       "      <td>NaN</td>\n",
       "    </tr>\n",
       "    <tr>\n",
       "      <th>3</th>\n",
       "      <td>2006-10-01 01:30:00</td>\n",
       "      <td>14.75</td>\n",
       "      <td>13.35</td>\n",
       "      <td>91.5</td>\n",
       "      <td>0.0</td>\n",
       "      <td>0.0</td>\n",
       "      <td>180.0</td>\n",
       "      <td>13.9</td>\n",
       "      <td>NaN</td>\n",
       "      <td>1001.7</td>\n",
       "      <td>NaN</td>\n",
       "    </tr>\n",
       "    <tr>\n",
       "      <th>4</th>\n",
       "      <td>2006-10-01 02:00:00</td>\n",
       "      <td>14.70</td>\n",
       "      <td>13.20</td>\n",
       "      <td>91.0</td>\n",
       "      <td>0.0</td>\n",
       "      <td>0.0</td>\n",
       "      <td>180.0</td>\n",
       "      <td>13.0</td>\n",
       "      <td>NaN</td>\n",
       "      <td>1001.7</td>\n",
       "      <td>NaN</td>\n",
       "    </tr>\n",
       "  </tbody>\n",
       "</table>\n",
       "</div>"
      ],
      "text/plain": [
       "                 time   temp   dwpt  rhum  prcp  snow   wdir  wspd  wpgt  \\\n",
       "0 2006-10-01 00:00:00  15.10  14.10  94.0   0.0   0.0  170.0  13.0   NaN   \n",
       "1 2006-10-01 00:30:00  14.95  13.80  93.0   0.0   0.0  175.0  13.9   NaN   \n",
       "2 2006-10-01 01:00:00  14.80  13.50  92.0   0.0   0.0  180.0  14.8   NaN   \n",
       "3 2006-10-01 01:30:00  14.75  13.35  91.5   0.0   0.0  180.0  13.9   NaN   \n",
       "4 2006-10-01 02:00:00  14.70  13.20  91.0   0.0   0.0  180.0  13.0   NaN   \n",
       "\n",
       "     pres  coco  \n",
       "0  1001.9   NaN  \n",
       "1  1001.8   NaN  \n",
       "2  1001.7   NaN  \n",
       "3  1001.7   NaN  \n",
       "4  1001.7   NaN  "
      ]
     },
     "execution_count": 3,
     "metadata": {},
     "output_type": "execute_result"
    }
   ],
   "source": [
    "df_weather = pd.read_csv(\"Bath_hourly_cleaned_30min.csv\", parse_dates=[\"time\"])\n",
    "\n",
    "# drop unnamed columns\n",
    "df_weather.drop(\"Unnamed: 0\", axis=1, inplace=True)\n",
    "\n",
    "df_weather.head()\n"
   ]
  },
  {
   "cell_type": "code",
   "execution_count": 4,
   "metadata": {},
   "outputs": [
    {
     "name": "stdout",
     "output_type": "stream",
     "text": [
      "<class 'pandas.core.frame.DataFrame'>\n",
      "RangeIndex: 7980288 entries, 0 to 7980287\n",
      "Data columns (total 4 columns):\n",
      " #   Column    Dtype              \n",
      "---  ------    -----              \n",
      " 0   time      datetime64[ns, UTC]\n",
      " 1   location  object             \n",
      " 2   postcode  object             \n",
      " 3   energy    float64            \n",
      "dtypes: datetime64[ns, UTC](1), float64(1), object(2)\n",
      "memory usage: 243.5+ MB\n"
     ]
    }
   ],
   "source": [
    "df_banes.info()"
   ]
  },
  {
   "cell_type": "code",
   "execution_count": 5,
   "metadata": {},
   "outputs": [
    {
     "name": "stdout",
     "output_type": "stream",
     "text": [
      "<class 'pandas.core.frame.DataFrame'>\n",
      "RangeIndex: 234146 entries, 0 to 234145\n",
      "Data columns (total 11 columns):\n",
      " #   Column  Non-Null Count   Dtype         \n",
      "---  ------  --------------   -----         \n",
      " 0   time    234146 non-null  datetime64[ns]\n",
      " 1   temp    234146 non-null  float64       \n",
      " 2   dwpt    234146 non-null  float64       \n",
      " 3   rhum    234146 non-null  float64       \n",
      " 4   prcp    234146 non-null  float64       \n",
      " 5   snow    234146 non-null  float64       \n",
      " 6   wdir    234146 non-null  float64       \n",
      " 7   wspd    234146 non-null  float64       \n",
      " 8   wpgt    12339 non-null   float64       \n",
      " 9   pres    234146 non-null  float64       \n",
      " 10  coco    16926 non-null   float64       \n",
      "dtypes: datetime64[ns](1), float64(10)\n",
      "memory usage: 19.7 MB\n"
     ]
    }
   ],
   "source": [
    "df_weather.info()"
   ]
  },
  {
   "cell_type": "markdown",
   "metadata": {},
   "source": [
    "BANES has type `datetime64[ns,UTC]`. Parse it to `datetime64[ns]`."
   ]
  },
  {
   "cell_type": "code",
   "execution_count": 6,
   "metadata": {},
   "outputs": [
    {
     "name": "stdout",
     "output_type": "stream",
     "text": [
      "<class 'pandas.core.frame.DataFrame'>\n",
      "RangeIndex: 7980288 entries, 0 to 7980287\n",
      "Data columns (total 4 columns):\n",
      " #   Column    Dtype         \n",
      "---  ------    -----         \n",
      " 0   time      datetime64[ns]\n",
      " 1   location  object        \n",
      " 2   postcode  object        \n",
      " 3   energy    float64       \n",
      "dtypes: datetime64[ns](1), float64(1), object(2)\n",
      "memory usage: 243.5+ MB\n"
     ]
    }
   ],
   "source": [
    "# parse datetime64[ns, UTC] to datetime64[ns]\n",
    "df_banes[\"time\"] = df_banes[\"time\"].dt.tz_localize(None)\n",
    "\n",
    "df_banes.info()"
   ]
  },
  {
   "cell_type": "code",
   "execution_count": 7,
   "metadata": {},
   "outputs": [
    {
     "name": "stdout",
     "output_type": "stream",
     "text": [
      "<class 'pandas.core.frame.DataFrame'>\n",
      "Int64Index: 7980288 entries, 0 to 7980287\n",
      "Data columns (total 14 columns):\n",
      " #   Column    Dtype         \n",
      "---  ------    -----         \n",
      " 0   time      datetime64[ns]\n",
      " 1   location  object        \n",
      " 2   postcode  object        \n",
      " 3   energy    float64       \n",
      " 4   temp      float64       \n",
      " 5   dwpt      float64       \n",
      " 6   rhum      float64       \n",
      " 7   prcp      float64       \n",
      " 8   snow      float64       \n",
      " 9   wdir      float64       \n",
      " 10  wspd      float64       \n",
      " 11  wpgt      float64       \n",
      " 12  pres      float64       \n",
      " 13  coco      float64       \n",
      "dtypes: datetime64[ns](1), float64(11), object(2)\n",
      "memory usage: 913.3+ MB\n"
     ]
    }
   ],
   "source": [
    "# merge datasets on time\n",
    "df_merged = pd.merge(df_banes, df_weather, on=\"time\")\n",
    "\n",
    "df_merged.info()"
   ]
  },
  {
   "cell_type": "code",
   "execution_count": 8,
   "metadata": {},
   "outputs": [
    {
     "data": {
      "text/plain": [
       "time              0\n",
       "location          0\n",
       "postcode          0\n",
       "energy            0\n",
       "temp              0\n",
       "dwpt              0\n",
       "rhum              0\n",
       "prcp              0\n",
       "snow              0\n",
       "wdir              0\n",
       "wspd              0\n",
       "wpgt        7381489\n",
       "pres              0\n",
       "coco        7173801\n",
       "dtype: int64"
      ]
     },
     "execution_count": 8,
     "metadata": {},
     "output_type": "execute_result"
    }
   ],
   "source": [
    "df_merged.isnull().sum()"
   ]
  },
  {
   "cell_type": "code",
   "execution_count": 9,
   "metadata": {},
   "outputs": [
    {
     "data": {
      "text/html": [
       "<div>\n",
       "<style scoped>\n",
       "    .dataframe tbody tr th:only-of-type {\n",
       "        vertical-align: middle;\n",
       "    }\n",
       "\n",
       "    .dataframe tbody tr th {\n",
       "        vertical-align: top;\n",
       "    }\n",
       "\n",
       "    .dataframe thead th {\n",
       "        text-align: right;\n",
       "    }\n",
       "</style>\n",
       "<table border=\"1\" class=\"dataframe\">\n",
       "  <thead>\n",
       "    <tr style=\"text-align: right;\">\n",
       "      <th></th>\n",
       "      <th>time</th>\n",
       "      <th>location</th>\n",
       "      <th>postcode</th>\n",
       "      <th>energy</th>\n",
       "      <th>temp</th>\n",
       "      <th>dwpt</th>\n",
       "      <th>rhum</th>\n",
       "      <th>prcp</th>\n",
       "      <th>snow</th>\n",
       "      <th>wdir</th>\n",
       "      <th>wspd</th>\n",
       "      <th>wpgt</th>\n",
       "      <th>pres</th>\n",
       "      <th>coco</th>\n",
       "    </tr>\n",
       "  </thead>\n",
       "  <tbody>\n",
       "    <tr>\n",
       "      <th>0</th>\n",
       "      <td>2006-10-01 00:30:00</td>\n",
       "      <td>Guildhall Electricity Supply 1 (HH)</td>\n",
       "      <td>BA1 5AW</td>\n",
       "      <td>32.8</td>\n",
       "      <td>14.95</td>\n",
       "      <td>13.80</td>\n",
       "      <td>93.0</td>\n",
       "      <td>0.0</td>\n",
       "      <td>0.0</td>\n",
       "      <td>175.0</td>\n",
       "      <td>13.9</td>\n",
       "      <td>NaN</td>\n",
       "      <td>1001.8</td>\n",
       "      <td>NaN</td>\n",
       "    </tr>\n",
       "    <tr>\n",
       "      <th>1</th>\n",
       "      <td>2006-10-01 00:30:00</td>\n",
       "      <td>Guildhall Electricity Supply 1 (HH)</td>\n",
       "      <td>BA1 5AW</td>\n",
       "      <td>32.8</td>\n",
       "      <td>14.95</td>\n",
       "      <td>13.80</td>\n",
       "      <td>93.0</td>\n",
       "      <td>0.0</td>\n",
       "      <td>0.0</td>\n",
       "      <td>175.0</td>\n",
       "      <td>13.9</td>\n",
       "      <td>NaN</td>\n",
       "      <td>1001.8</td>\n",
       "      <td>NaN</td>\n",
       "    </tr>\n",
       "    <tr>\n",
       "      <th>2</th>\n",
       "      <td>2006-10-01 01:00:00</td>\n",
       "      <td>Guildhall Electricity Supply 1 (HH)</td>\n",
       "      <td>BA1 5AW</td>\n",
       "      <td>33.0</td>\n",
       "      <td>14.80</td>\n",
       "      <td>13.50</td>\n",
       "      <td>92.0</td>\n",
       "      <td>0.0</td>\n",
       "      <td>0.0</td>\n",
       "      <td>180.0</td>\n",
       "      <td>14.8</td>\n",
       "      <td>NaN</td>\n",
       "      <td>1001.7</td>\n",
       "      <td>NaN</td>\n",
       "    </tr>\n",
       "    <tr>\n",
       "      <th>3</th>\n",
       "      <td>2006-10-01 01:00:00</td>\n",
       "      <td>Guildhall Electricity Supply 1 (HH)</td>\n",
       "      <td>BA1 5AW</td>\n",
       "      <td>33.0</td>\n",
       "      <td>14.80</td>\n",
       "      <td>13.50</td>\n",
       "      <td>92.0</td>\n",
       "      <td>0.0</td>\n",
       "      <td>0.0</td>\n",
       "      <td>180.0</td>\n",
       "      <td>14.8</td>\n",
       "      <td>NaN</td>\n",
       "      <td>1001.7</td>\n",
       "      <td>NaN</td>\n",
       "    </tr>\n",
       "    <tr>\n",
       "      <th>4</th>\n",
       "      <td>2006-10-01 01:30:00</td>\n",
       "      <td>Bath Central Library Electricity (HH)</td>\n",
       "      <td>BA1 5AL</td>\n",
       "      <td>5.9</td>\n",
       "      <td>14.75</td>\n",
       "      <td>13.35</td>\n",
       "      <td>91.5</td>\n",
       "      <td>0.0</td>\n",
       "      <td>0.0</td>\n",
       "      <td>180.0</td>\n",
       "      <td>13.9</td>\n",
       "      <td>NaN</td>\n",
       "      <td>1001.7</td>\n",
       "      <td>NaN</td>\n",
       "    </tr>\n",
       "  </tbody>\n",
       "</table>\n",
       "</div>"
      ],
      "text/plain": [
       "                 time                               location postcode  energy  \\\n",
       "0 2006-10-01 00:30:00    Guildhall Electricity Supply 1 (HH)  BA1 5AW    32.8   \n",
       "1 2006-10-01 00:30:00    Guildhall Electricity Supply 1 (HH)  BA1 5AW    32.8   \n",
       "2 2006-10-01 01:00:00    Guildhall Electricity Supply 1 (HH)  BA1 5AW    33.0   \n",
       "3 2006-10-01 01:00:00    Guildhall Electricity Supply 1 (HH)  BA1 5AW    33.0   \n",
       "4 2006-10-01 01:30:00  Bath Central Library Electricity (HH)  BA1 5AL     5.9   \n",
       "\n",
       "    temp   dwpt  rhum  prcp  snow   wdir  wspd  wpgt    pres  coco  \n",
       "0  14.95  13.80  93.0   0.0   0.0  175.0  13.9   NaN  1001.8   NaN  \n",
       "1  14.95  13.80  93.0   0.0   0.0  175.0  13.9   NaN  1001.8   NaN  \n",
       "2  14.80  13.50  92.0   0.0   0.0  180.0  14.8   NaN  1001.7   NaN  \n",
       "3  14.80  13.50  92.0   0.0   0.0  180.0  14.8   NaN  1001.7   NaN  \n",
       "4  14.75  13.35  91.5   0.0   0.0  180.0  13.9   NaN  1001.7   NaN  "
      ]
     },
     "execution_count": 9,
     "metadata": {},
     "output_type": "execute_result"
    }
   ],
   "source": [
    "df_merged.head()"
   ]
  },
  {
   "cell_type": "markdown",
   "metadata": {},
   "source": [
    "Weird values, repeated at the beggining of the merged dataset. Are they also on the BANES dataset, or is it an error?"
   ]
  },
  {
   "cell_type": "code",
   "execution_count": 10,
   "metadata": {},
   "outputs": [
    {
     "data": {
      "text/html": [
       "<div>\n",
       "<style scoped>\n",
       "    .dataframe tbody tr th:only-of-type {\n",
       "        vertical-align: middle;\n",
       "    }\n",
       "\n",
       "    .dataframe tbody tr th {\n",
       "        vertical-align: top;\n",
       "    }\n",
       "\n",
       "    .dataframe thead th {\n",
       "        text-align: right;\n",
       "    }\n",
       "</style>\n",
       "<table border=\"1\" class=\"dataframe\">\n",
       "  <thead>\n",
       "    <tr style=\"text-align: right;\">\n",
       "      <th></th>\n",
       "      <th>time</th>\n",
       "      <th>location</th>\n",
       "      <th>postcode</th>\n",
       "      <th>energy</th>\n",
       "    </tr>\n",
       "  </thead>\n",
       "  <tbody>\n",
       "    <tr>\n",
       "      <th>0</th>\n",
       "      <td>2006-10-01 00:30:00</td>\n",
       "      <td>Guildhall Electricity Supply 1 (HH)</td>\n",
       "      <td>BA1 5AW</td>\n",
       "      <td>32.8</td>\n",
       "    </tr>\n",
       "    <tr>\n",
       "      <th>48</th>\n",
       "      <td>2006-10-01 00:30:00</td>\n",
       "      <td>Guildhall Electricity Supply 1 (HH)</td>\n",
       "      <td>BA1 5AW</td>\n",
       "      <td>32.8</td>\n",
       "    </tr>\n",
       "    <tr>\n",
       "      <th>49</th>\n",
       "      <td>2006-10-01 01:00:00</td>\n",
       "      <td>Guildhall Electricity Supply 1 (HH)</td>\n",
       "      <td>BA1 5AW</td>\n",
       "      <td>33.0</td>\n",
       "    </tr>\n",
       "    <tr>\n",
       "      <th>1</th>\n",
       "      <td>2006-10-01 01:00:00</td>\n",
       "      <td>Guildhall Electricity Supply 1 (HH)</td>\n",
       "      <td>BA1 5AW</td>\n",
       "      <td>33.0</td>\n",
       "    </tr>\n",
       "    <tr>\n",
       "      <th>2</th>\n",
       "      <td>2006-10-01 01:30:00</td>\n",
       "      <td>Bath Central Library Electricity (HH)</td>\n",
       "      <td>BA1 5AL</td>\n",
       "      <td>5.9</td>\n",
       "    </tr>\n",
       "  </tbody>\n",
       "</table>\n",
       "</div>"
      ],
      "text/plain": [
       "                  time                               location postcode  energy\n",
       "0  2006-10-01 00:30:00    Guildhall Electricity Supply 1 (HH)  BA1 5AW    32.8\n",
       "48 2006-10-01 00:30:00    Guildhall Electricity Supply 1 (HH)  BA1 5AW    32.8\n",
       "49 2006-10-01 01:00:00    Guildhall Electricity Supply 1 (HH)  BA1 5AW    33.0\n",
       "1  2006-10-01 01:00:00    Guildhall Electricity Supply 1 (HH)  BA1 5AW    33.0\n",
       "2  2006-10-01 01:30:00  Bath Central Library Electricity (HH)  BA1 5AL     5.9"
      ]
     },
     "execution_count": 10,
     "metadata": {},
     "output_type": "execute_result"
    }
   ],
   "source": [
    "df_banes.sort_values(by=\"time\", inplace=True)\n",
    "df_banes.head()\n"
   ]
  },
  {
   "cell_type": "markdown",
   "metadata": {},
   "source": [
    "The weird values are indeed in the BANES dataset, everything is fine, let's export the merged dataset."
   ]
  },
  {
   "cell_type": "code",
   "execution_count": 11,
   "metadata": {},
   "outputs": [],
   "source": [
    "df_merged.to_csv(\"BANES_weather_merged.csv\", index=False)\n"
   ]
  },
  {
   "cell_type": "markdown",
   "metadata": {},
   "source": [
    "# Machine Learning\n",
    "\n",
    "The rest of this notebook will use the state-of-the-art algorithms reviewed with the "
   ]
  },
  {
   "cell_type": "code",
   "execution_count": null,
   "metadata": {},
   "outputs": [],
   "source": []
  }
 ],
 "metadata": {
  "interpreter": {
   "hash": "9b1f332fd89bb55c2c3f9863fa09609ddaa711e42a9a5767d6b702ced9885182"
  },
  "kernelspec": {
   "display_name": "Python 3.9.10 64-bit (windows store)",
   "language": "python",
   "name": "python3"
  },
  "language_info": {
   "codemirror_mode": {
    "name": "ipython",
    "version": 3
   },
   "file_extension": ".py",
   "mimetype": "text/x-python",
   "name": "python",
   "nbconvert_exporter": "python",
   "pygments_lexer": "ipython3",
   "version": "3.9.10"
  },
  "orig_nbformat": 4
 },
 "nbformat": 4,
 "nbformat_minor": 2
}
