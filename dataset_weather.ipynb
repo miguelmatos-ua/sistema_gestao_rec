{
 "cells": [
  {
   "cell_type": "code",
   "execution_count": 1,
   "metadata": {},
   "outputs": [],
   "source": [
    "# import libraries\n",
    "import pandas as pd\n",
    "import numpy as np\n",
    "import matplotlib.pyplot as plt\n",
    "\n",
    "from tqdm import tqdm\n"
   ]
  },
  {
   "cell_type": "code",
   "execution_count": 2,
   "metadata": {},
   "outputs": [
    {
     "data": {
      "text/html": [
       "<div>\n",
       "<style scoped>\n",
       "    .dataframe tbody tr th:only-of-type {\n",
       "        vertical-align: middle;\n",
       "    }\n",
       "\n",
       "    .dataframe tbody tr th {\n",
       "        vertical-align: top;\n",
       "    }\n",
       "\n",
       "    .dataframe thead th {\n",
       "        text-align: right;\n",
       "    }\n",
       "</style>\n",
       "<table border=\"1\" class=\"dataframe\">\n",
       "  <thead>\n",
       "    <tr style=\"text-align: right;\">\n",
       "      <th></th>\n",
       "      <th>time</th>\n",
       "      <th>location</th>\n",
       "      <th>postcode</th>\n",
       "      <th>energy</th>\n",
       "    </tr>\n",
       "  </thead>\n",
       "  <tbody>\n",
       "    <tr>\n",
       "      <th>0</th>\n",
       "      <td>2006-10-01 00:30:00+00:00</td>\n",
       "      <td>Guildhall Electricity Supply 1 (HH)</td>\n",
       "      <td>BA1 5AW</td>\n",
       "      <td>32.8</td>\n",
       "    </tr>\n",
       "    <tr>\n",
       "      <th>1</th>\n",
       "      <td>2006-10-01 01:00:00+00:00</td>\n",
       "      <td>Guildhall Electricity Supply 1 (HH)</td>\n",
       "      <td>BA1 5AW</td>\n",
       "      <td>33.0</td>\n",
       "    </tr>\n",
       "    <tr>\n",
       "      <th>2</th>\n",
       "      <td>2006-10-01 01:30:00+00:00</td>\n",
       "      <td>Bath Central Library Electricity (HH)</td>\n",
       "      <td>BA1 5AL</td>\n",
       "      <td>5.9</td>\n",
       "    </tr>\n",
       "    <tr>\n",
       "      <th>3</th>\n",
       "      <td>2006-10-01 02:00:00+00:00</td>\n",
       "      <td>Guildhall Electricity Supply 1 (HH)</td>\n",
       "      <td>BA1 5AW</td>\n",
       "      <td>32.2</td>\n",
       "    </tr>\n",
       "    <tr>\n",
       "      <th>4</th>\n",
       "      <td>2006-10-01 02:30:00+00:00</td>\n",
       "      <td>Guildhall Electricity Supply 1 (HH)</td>\n",
       "      <td>BA1 5AW</td>\n",
       "      <td>31.3</td>\n",
       "    </tr>\n",
       "  </tbody>\n",
       "</table>\n",
       "</div>"
      ],
      "text/plain": [
       "                       time                               location postcode  \\\n",
       "0 2006-10-01 00:30:00+00:00    Guildhall Electricity Supply 1 (HH)  BA1 5AW   \n",
       "1 2006-10-01 01:00:00+00:00    Guildhall Electricity Supply 1 (HH)  BA1 5AW   \n",
       "2 2006-10-01 01:30:00+00:00  Bath Central Library Electricity (HH)  BA1 5AL   \n",
       "3 2006-10-01 02:00:00+00:00    Guildhall Electricity Supply 1 (HH)  BA1 5AW   \n",
       "4 2006-10-01 02:30:00+00:00    Guildhall Electricity Supply 1 (HH)  BA1 5AW   \n",
       "\n",
       "   energy  \n",
       "0    32.8  \n",
       "1    33.0  \n",
       "2     5.9  \n",
       "3    32.2  \n",
       "4    31.3  "
      ]
     },
     "execution_count": 2,
     "metadata": {},
     "output_type": "execute_result"
    }
   ],
   "source": [
    "df_banes = pd.read_csv(\"BANES_cleaned_final.csv\", parse_dates=[\"time\"])\n",
    "df_banes.head()\n"
   ]
  },
  {
   "cell_type": "code",
   "execution_count": 3,
   "metadata": {},
   "outputs": [
    {
     "data": {
      "text/html": [
       "<div>\n",
       "<style scoped>\n",
       "    .dataframe tbody tr th:only-of-type {\n",
       "        vertical-align: middle;\n",
       "    }\n",
       "\n",
       "    .dataframe tbody tr th {\n",
       "        vertical-align: top;\n",
       "    }\n",
       "\n",
       "    .dataframe thead th {\n",
       "        text-align: right;\n",
       "    }\n",
       "</style>\n",
       "<table border=\"1\" class=\"dataframe\">\n",
       "  <thead>\n",
       "    <tr style=\"text-align: right;\">\n",
       "      <th></th>\n",
       "      <th>time</th>\n",
       "      <th>temp</th>\n",
       "      <th>dwpt</th>\n",
       "      <th>rhum</th>\n",
       "      <th>prcp</th>\n",
       "      <th>snow</th>\n",
       "      <th>wdir</th>\n",
       "      <th>wspd</th>\n",
       "      <th>wpgt</th>\n",
       "      <th>pres</th>\n",
       "      <th>coco</th>\n",
       "    </tr>\n",
       "  </thead>\n",
       "  <tbody>\n",
       "    <tr>\n",
       "      <th>0</th>\n",
       "      <td>2006-10-01 00:00:00</td>\n",
       "      <td>15.10</td>\n",
       "      <td>14.10</td>\n",
       "      <td>94.0</td>\n",
       "      <td>0.0</td>\n",
       "      <td>0.0</td>\n",
       "      <td>170.0</td>\n",
       "      <td>13.0</td>\n",
       "      <td>NaN</td>\n",
       "      <td>1001.9</td>\n",
       "      <td>NaN</td>\n",
       "    </tr>\n",
       "    <tr>\n",
       "      <th>1</th>\n",
       "      <td>2006-10-01 00:30:00</td>\n",
       "      <td>14.95</td>\n",
       "      <td>13.80</td>\n",
       "      <td>93.0</td>\n",
       "      <td>0.0</td>\n",
       "      <td>0.0</td>\n",
       "      <td>175.0</td>\n",
       "      <td>13.9</td>\n",
       "      <td>NaN</td>\n",
       "      <td>1001.8</td>\n",
       "      <td>NaN</td>\n",
       "    </tr>\n",
       "    <tr>\n",
       "      <th>2</th>\n",
       "      <td>2006-10-01 01:00:00</td>\n",
       "      <td>14.80</td>\n",
       "      <td>13.50</td>\n",
       "      <td>92.0</td>\n",
       "      <td>0.0</td>\n",
       "      <td>0.0</td>\n",
       "      <td>180.0</td>\n",
       "      <td>14.8</td>\n",
       "      <td>NaN</td>\n",
       "      <td>1001.7</td>\n",
       "      <td>NaN</td>\n",
       "    </tr>\n",
       "    <tr>\n",
       "      <th>3</th>\n",
       "      <td>2006-10-01 01:30:00</td>\n",
       "      <td>14.75</td>\n",
       "      <td>13.35</td>\n",
       "      <td>91.5</td>\n",
       "      <td>0.0</td>\n",
       "      <td>0.0</td>\n",
       "      <td>180.0</td>\n",
       "      <td>13.9</td>\n",
       "      <td>NaN</td>\n",
       "      <td>1001.7</td>\n",
       "      <td>NaN</td>\n",
       "    </tr>\n",
       "    <tr>\n",
       "      <th>4</th>\n",
       "      <td>2006-10-01 02:00:00</td>\n",
       "      <td>14.70</td>\n",
       "      <td>13.20</td>\n",
       "      <td>91.0</td>\n",
       "      <td>0.0</td>\n",
       "      <td>0.0</td>\n",
       "      <td>180.0</td>\n",
       "      <td>13.0</td>\n",
       "      <td>NaN</td>\n",
       "      <td>1001.7</td>\n",
       "      <td>NaN</td>\n",
       "    </tr>\n",
       "  </tbody>\n",
       "</table>\n",
       "</div>"
      ],
      "text/plain": [
       "                 time   temp   dwpt  rhum  prcp  snow   wdir  wspd  wpgt  \\\n",
       "0 2006-10-01 00:00:00  15.10  14.10  94.0   0.0   0.0  170.0  13.0   NaN   \n",
       "1 2006-10-01 00:30:00  14.95  13.80  93.0   0.0   0.0  175.0  13.9   NaN   \n",
       "2 2006-10-01 01:00:00  14.80  13.50  92.0   0.0   0.0  180.0  14.8   NaN   \n",
       "3 2006-10-01 01:30:00  14.75  13.35  91.5   0.0   0.0  180.0  13.9   NaN   \n",
       "4 2006-10-01 02:00:00  14.70  13.20  91.0   0.0   0.0  180.0  13.0   NaN   \n",
       "\n",
       "     pres  coco  \n",
       "0  1001.9   NaN  \n",
       "1  1001.8   NaN  \n",
       "2  1001.7   NaN  \n",
       "3  1001.7   NaN  \n",
       "4  1001.7   NaN  "
      ]
     },
     "execution_count": 3,
     "metadata": {},
     "output_type": "execute_result"
    }
   ],
   "source": [
    "df_weather = pd.read_csv(\"Bath_hourly_cleaned_30min.csv\", parse_dates=[\"time\"])\n",
    "\n",
    "# drop unnamed columns\n",
    "df_weather.drop(\"Unnamed: 0\", axis=1, inplace=True)\n",
    "\n",
    "df_weather.head()\n"
   ]
  },
  {
   "cell_type": "code",
   "execution_count": 4,
   "metadata": {},
   "outputs": [
    {
     "name": "stdout",
     "output_type": "stream",
     "text": [
      "<class 'pandas.core.frame.DataFrame'>\n",
      "RangeIndex: 7980288 entries, 0 to 7980287\n",
      "Data columns (total 4 columns):\n",
      " #   Column    Dtype              \n",
      "---  ------    -----              \n",
      " 0   time      datetime64[ns, UTC]\n",
      " 1   location  object             \n",
      " 2   postcode  object             \n",
      " 3   energy    float64            \n",
      "dtypes: datetime64[ns, UTC](1), float64(1), object(2)\n",
      "memory usage: 243.5+ MB\n"
     ]
    }
   ],
   "source": [
    "df_banes.info()"
   ]
  },
  {
   "cell_type": "code",
   "execution_count": 5,
   "metadata": {},
   "outputs": [
    {
     "name": "stdout",
     "output_type": "stream",
     "text": [
      "<class 'pandas.core.frame.DataFrame'>\n",
      "RangeIndex: 234146 entries, 0 to 234145\n",
      "Data columns (total 11 columns):\n",
      " #   Column  Non-Null Count   Dtype         \n",
      "---  ------  --------------   -----         \n",
      " 0   time    234146 non-null  datetime64[ns]\n",
      " 1   temp    234146 non-null  float64       \n",
      " 2   dwpt    234146 non-null  float64       \n",
      " 3   rhum    234146 non-null  float64       \n",
      " 4   prcp    234146 non-null  float64       \n",
      " 5   snow    234146 non-null  float64       \n",
      " 6   wdir    234146 non-null  float64       \n",
      " 7   wspd    234146 non-null  float64       \n",
      " 8   wpgt    12339 non-null   float64       \n",
      " 9   pres    234146 non-null  float64       \n",
      " 10  coco    16926 non-null   float64       \n",
      "dtypes: datetime64[ns](1), float64(10)\n",
      "memory usage: 19.7 MB\n"
     ]
    }
   ],
   "source": [
    "df_weather.info()"
   ]
  },
  {
   "cell_type": "markdown",
   "metadata": {},
   "source": [
    "BANES has type `datetime64[ns,UTC]`. Parse it to `datetime64[ns]`."
   ]
  },
  {
   "cell_type": "code",
   "execution_count": 6,
   "metadata": {},
   "outputs": [
    {
     "name": "stdout",
     "output_type": "stream",
     "text": [
      "<class 'pandas.core.frame.DataFrame'>\n",
      "RangeIndex: 7980288 entries, 0 to 7980287\n",
      "Data columns (total 4 columns):\n",
      " #   Column    Dtype         \n",
      "---  ------    -----         \n",
      " 0   time      datetime64[ns]\n",
      " 1   location  object        \n",
      " 2   postcode  object        \n",
      " 3   energy    float64       \n",
      "dtypes: datetime64[ns](1), float64(1), object(2)\n",
      "memory usage: 243.5+ MB\n"
     ]
    }
   ],
   "source": [
    "# parse datetime64[ns, UTC] to datetime64[ns]\n",
    "df_banes[\"time\"] = df_banes[\"time\"].dt.tz_localize(None)\n",
    "\n",
    "df_banes.info()"
   ]
  },
  {
   "cell_type": "code",
   "execution_count": 7,
   "metadata": {},
   "outputs": [
    {
     "name": "stdout",
     "output_type": "stream",
     "text": [
      "<class 'pandas.core.frame.DataFrame'>\n",
      "Int64Index: 7980288 entries, 0 to 7980287\n",
      "Data columns (total 14 columns):\n",
      " #   Column    Dtype         \n",
      "---  ------    -----         \n",
      " 0   time      datetime64[ns]\n",
      " 1   location  object        \n",
      " 2   postcode  object        \n",
      " 3   energy    float64       \n",
      " 4   temp      float64       \n",
      " 5   dwpt      float64       \n",
      " 6   rhum      float64       \n",
      " 7   prcp      float64       \n",
      " 8   snow      float64       \n",
      " 9   wdir      float64       \n",
      " 10  wspd      float64       \n",
      " 11  wpgt      float64       \n",
      " 12  pres      float64       \n",
      " 13  coco      float64       \n",
      "dtypes: datetime64[ns](1), float64(11), object(2)\n",
      "memory usage: 913.3+ MB\n"
     ]
    }
   ],
   "source": [
    "# merge datasets on time\n",
    "df_merged = pd.merge(df_banes, df_weather, on=\"time\")\n",
    "\n",
    "df_merged.info()"
   ]
  },
  {
   "cell_type": "code",
   "execution_count": 8,
   "metadata": {},
   "outputs": [
    {
     "data": {
      "text/plain": [
       "time              0\n",
       "location          0\n",
       "postcode          0\n",
       "energy            0\n",
       "temp              0\n",
       "dwpt              0\n",
       "rhum              0\n",
       "prcp              0\n",
       "snow              0\n",
       "wdir              0\n",
       "wspd              0\n",
       "wpgt        7381489\n",
       "pres              0\n",
       "coco        7173801\n",
       "dtype: int64"
      ]
     },
     "execution_count": 8,
     "metadata": {},
     "output_type": "execute_result"
    }
   ],
   "source": [
    "df_merged.isnull().sum()"
   ]
  },
  {
   "cell_type": "code",
   "execution_count": 9,
   "metadata": {},
   "outputs": [
    {
     "data": {
      "text/html": [
       "<div>\n",
       "<style scoped>\n",
       "    .dataframe tbody tr th:only-of-type {\n",
       "        vertical-align: middle;\n",
       "    }\n",
       "\n",
       "    .dataframe tbody tr th {\n",
       "        vertical-align: top;\n",
       "    }\n",
       "\n",
       "    .dataframe thead th {\n",
       "        text-align: right;\n",
       "    }\n",
       "</style>\n",
       "<table border=\"1\" class=\"dataframe\">\n",
       "  <thead>\n",
       "    <tr style=\"text-align: right;\">\n",
       "      <th></th>\n",
       "      <th>time</th>\n",
       "      <th>location</th>\n",
       "      <th>postcode</th>\n",
       "      <th>energy</th>\n",
       "      <th>temp</th>\n",
       "      <th>dwpt</th>\n",
       "      <th>rhum</th>\n",
       "      <th>prcp</th>\n",
       "      <th>snow</th>\n",
       "      <th>wdir</th>\n",
       "      <th>wspd</th>\n",
       "      <th>wpgt</th>\n",
       "      <th>pres</th>\n",
       "      <th>coco</th>\n",
       "    </tr>\n",
       "  </thead>\n",
       "  <tbody>\n",
       "    <tr>\n",
       "      <th>0</th>\n",
       "      <td>2006-10-01 00:30:00</td>\n",
       "      <td>Guildhall Electricity Supply 1 (HH)</td>\n",
       "      <td>BA1 5AW</td>\n",
       "      <td>32.8</td>\n",
       "      <td>14.95</td>\n",
       "      <td>13.80</td>\n",
       "      <td>93.0</td>\n",
       "      <td>0.0</td>\n",
       "      <td>0.0</td>\n",
       "      <td>175.0</td>\n",
       "      <td>13.9</td>\n",
       "      <td>NaN</td>\n",
       "      <td>1001.8</td>\n",
       "      <td>NaN</td>\n",
       "    </tr>\n",
       "    <tr>\n",
       "      <th>1</th>\n",
       "      <td>2006-10-01 00:30:00</td>\n",
       "      <td>Guildhall Electricity Supply 1 (HH)</td>\n",
       "      <td>BA1 5AW</td>\n",
       "      <td>32.8</td>\n",
       "      <td>14.95</td>\n",
       "      <td>13.80</td>\n",
       "      <td>93.0</td>\n",
       "      <td>0.0</td>\n",
       "      <td>0.0</td>\n",
       "      <td>175.0</td>\n",
       "      <td>13.9</td>\n",
       "      <td>NaN</td>\n",
       "      <td>1001.8</td>\n",
       "      <td>NaN</td>\n",
       "    </tr>\n",
       "    <tr>\n",
       "      <th>2</th>\n",
       "      <td>2006-10-01 01:00:00</td>\n",
       "      <td>Guildhall Electricity Supply 1 (HH)</td>\n",
       "      <td>BA1 5AW</td>\n",
       "      <td>33.0</td>\n",
       "      <td>14.80</td>\n",
       "      <td>13.50</td>\n",
       "      <td>92.0</td>\n",
       "      <td>0.0</td>\n",
       "      <td>0.0</td>\n",
       "      <td>180.0</td>\n",
       "      <td>14.8</td>\n",
       "      <td>NaN</td>\n",
       "      <td>1001.7</td>\n",
       "      <td>NaN</td>\n",
       "    </tr>\n",
       "    <tr>\n",
       "      <th>3</th>\n",
       "      <td>2006-10-01 01:00:00</td>\n",
       "      <td>Guildhall Electricity Supply 1 (HH)</td>\n",
       "      <td>BA1 5AW</td>\n",
       "      <td>33.0</td>\n",
       "      <td>14.80</td>\n",
       "      <td>13.50</td>\n",
       "      <td>92.0</td>\n",
       "      <td>0.0</td>\n",
       "      <td>0.0</td>\n",
       "      <td>180.0</td>\n",
       "      <td>14.8</td>\n",
       "      <td>NaN</td>\n",
       "      <td>1001.7</td>\n",
       "      <td>NaN</td>\n",
       "    </tr>\n",
       "    <tr>\n",
       "      <th>4</th>\n",
       "      <td>2006-10-01 01:30:00</td>\n",
       "      <td>Bath Central Library Electricity (HH)</td>\n",
       "      <td>BA1 5AL</td>\n",
       "      <td>5.9</td>\n",
       "      <td>14.75</td>\n",
       "      <td>13.35</td>\n",
       "      <td>91.5</td>\n",
       "      <td>0.0</td>\n",
       "      <td>0.0</td>\n",
       "      <td>180.0</td>\n",
       "      <td>13.9</td>\n",
       "      <td>NaN</td>\n",
       "      <td>1001.7</td>\n",
       "      <td>NaN</td>\n",
       "    </tr>\n",
       "  </tbody>\n",
       "</table>\n",
       "</div>"
      ],
      "text/plain": [
       "                 time                               location postcode  energy  \\\n",
       "0 2006-10-01 00:30:00    Guildhall Electricity Supply 1 (HH)  BA1 5AW    32.8   \n",
       "1 2006-10-01 00:30:00    Guildhall Electricity Supply 1 (HH)  BA1 5AW    32.8   \n",
       "2 2006-10-01 01:00:00    Guildhall Electricity Supply 1 (HH)  BA1 5AW    33.0   \n",
       "3 2006-10-01 01:00:00    Guildhall Electricity Supply 1 (HH)  BA1 5AW    33.0   \n",
       "4 2006-10-01 01:30:00  Bath Central Library Electricity (HH)  BA1 5AL     5.9   \n",
       "\n",
       "    temp   dwpt  rhum  prcp  snow   wdir  wspd  wpgt    pres  coco  \n",
       "0  14.95  13.80  93.0   0.0   0.0  175.0  13.9   NaN  1001.8   NaN  \n",
       "1  14.95  13.80  93.0   0.0   0.0  175.0  13.9   NaN  1001.8   NaN  \n",
       "2  14.80  13.50  92.0   0.0   0.0  180.0  14.8   NaN  1001.7   NaN  \n",
       "3  14.80  13.50  92.0   0.0   0.0  180.0  14.8   NaN  1001.7   NaN  \n",
       "4  14.75  13.35  91.5   0.0   0.0  180.0  13.9   NaN  1001.7   NaN  "
      ]
     },
     "execution_count": 9,
     "metadata": {},
     "output_type": "execute_result"
    }
   ],
   "source": [
    "df_merged.head()"
   ]
  },
  {
   "cell_type": "markdown",
   "metadata": {},
   "source": [
    "Weird values, repeated at the beggining of the merged dataset. Are they also on the BANES dataset, or is it an error?"
   ]
  },
  {
   "cell_type": "code",
   "execution_count": 10,
   "metadata": {},
   "outputs": [
    {
     "data": {
      "text/html": [
       "<div>\n",
       "<style scoped>\n",
       "    .dataframe tbody tr th:only-of-type {\n",
       "        vertical-align: middle;\n",
       "    }\n",
       "\n",
       "    .dataframe tbody tr th {\n",
       "        vertical-align: top;\n",
       "    }\n",
       "\n",
       "    .dataframe thead th {\n",
       "        text-align: right;\n",
       "    }\n",
       "</style>\n",
       "<table border=\"1\" class=\"dataframe\">\n",
       "  <thead>\n",
       "    <tr style=\"text-align: right;\">\n",
       "      <th></th>\n",
       "      <th>time</th>\n",
       "      <th>location</th>\n",
       "      <th>postcode</th>\n",
       "      <th>energy</th>\n",
       "    </tr>\n",
       "  </thead>\n",
       "  <tbody>\n",
       "    <tr>\n",
       "      <th>0</th>\n",
       "      <td>2006-10-01 00:30:00</td>\n",
       "      <td>Guildhall Electricity Supply 1 (HH)</td>\n",
       "      <td>BA1 5AW</td>\n",
       "      <td>32.8</td>\n",
       "    </tr>\n",
       "    <tr>\n",
       "      <th>48</th>\n",
       "      <td>2006-10-01 00:30:00</td>\n",
       "      <td>Guildhall Electricity Supply 1 (HH)</td>\n",
       "      <td>BA1 5AW</td>\n",
       "      <td>32.8</td>\n",
       "    </tr>\n",
       "    <tr>\n",
       "      <th>49</th>\n",
       "      <td>2006-10-01 01:00:00</td>\n",
       "      <td>Guildhall Electricity Supply 1 (HH)</td>\n",
       "      <td>BA1 5AW</td>\n",
       "      <td>33.0</td>\n",
       "    </tr>\n",
       "    <tr>\n",
       "      <th>1</th>\n",
       "      <td>2006-10-01 01:00:00</td>\n",
       "      <td>Guildhall Electricity Supply 1 (HH)</td>\n",
       "      <td>BA1 5AW</td>\n",
       "      <td>33.0</td>\n",
       "    </tr>\n",
       "    <tr>\n",
       "      <th>2</th>\n",
       "      <td>2006-10-01 01:30:00</td>\n",
       "      <td>Bath Central Library Electricity (HH)</td>\n",
       "      <td>BA1 5AL</td>\n",
       "      <td>5.9</td>\n",
       "    </tr>\n",
       "  </tbody>\n",
       "</table>\n",
       "</div>"
      ],
      "text/plain": [
       "                  time                               location postcode  energy\n",
       "0  2006-10-01 00:30:00    Guildhall Electricity Supply 1 (HH)  BA1 5AW    32.8\n",
       "48 2006-10-01 00:30:00    Guildhall Electricity Supply 1 (HH)  BA1 5AW    32.8\n",
       "49 2006-10-01 01:00:00    Guildhall Electricity Supply 1 (HH)  BA1 5AW    33.0\n",
       "1  2006-10-01 01:00:00    Guildhall Electricity Supply 1 (HH)  BA1 5AW    33.0\n",
       "2  2006-10-01 01:30:00  Bath Central Library Electricity (HH)  BA1 5AL     5.9"
      ]
     },
     "execution_count": 10,
     "metadata": {},
     "output_type": "execute_result"
    }
   ],
   "source": [
    "df_banes.sort_values(by=\"time\", inplace=True)\n",
    "df_banes.head()\n"
   ]
  },
  {
   "cell_type": "markdown",
   "metadata": {},
   "source": [
    "The weird values are indeed in the BANES dataset, everything is fine, let's export the merged dataset."
   ]
  },
  {
   "cell_type": "code",
   "execution_count": 11,
   "metadata": {},
   "outputs": [],
   "source": [
    "df_merged.to_csv(\"BANES_weather_merged.csv\", index=False)\n"
   ]
  },
  {
   "cell_type": "markdown",
   "metadata": {},
   "source": [
    "# Machine Learning\n",
    "\n",
    "The rest of this notebook will use the state-of-the-art algorithms reviewed with the weather data."
   ]
  },
  {
   "cell_type": "markdown",
   "metadata": {},
   "source": [
    "### Gradient Boost"
   ]
  },
  {
   "cell_type": "code",
   "execution_count": 84,
   "metadata": {},
   "outputs": [],
   "source": [
    "# import libraries for Gradient Boosting\n",
    "from sklearn.ensemble import GradientBoostingRegressor\n",
    "from sklearn.metrics import mean_squared_error\n",
    "from sklearn.model_selection import train_test_split\n",
    "from sklearn.model_selection import GridSearchCV\n",
    "from sklearn.model_selection import cross_val_score\n",
    "from sklearn.model_selection import KFold\n",
    "from sklearn.model_selection import RandomizedSearchCV\n",
    "from sklearn.model_selection import learning_curve\n",
    "from sklearn.model_selection import ShuffleSplit\n",
    "from sklearn.model_selection import validation_curve\n",
    "\n",
    "import pandas as pd\n",
    "import numpy as np\n",
    "import matplotlib.pyplot as plt\n",
    "\n"
   ]
  },
  {
   "cell_type": "code",
   "execution_count": 135,
   "metadata": {},
   "outputs": [],
   "source": [
    "def split_data(df, test_size=0.2):\n",
    "    \"\"\"\n",
    "    Split data into train and test sets\n",
    "    \"\"\"\n",
    "    train, test = train_test_split(df, test_size=test_size)\n",
    "    return train, test\n",
    "\n",
    "\n",
    "def build_model(X, y):\n",
    "    \"\"\"\n",
    "    Build Gradient Boosting model\n",
    "    \"\"\"\n",
    "    gbr = GradientBoostingRegressor(n_estimators=100, learning_rate=0.1, random_state=0, loss='squared_error')\n",
    "    return gbr.fit(X, y)\n",
    "\n",
    "\n",
    "def scatter_results(y_test, y_pred):\n",
    "    \"\"\"\n",
    "    Scatter plot of predictions vs actuals\n",
    "    \"\"\"\n",
    "    plt.figure(figsize=(10, 6))\n",
    "\n",
    "    plt.scatter(y_test, y_pred, color='blue')\n",
    "    plt.xlabel('True Values')\n",
    "    plt.ylabel('Predictions')\n",
    "    plt.title('Gradient Boosting Regression')\n",
    "    _ = plt.plot([-5, 100], [-5, 100], color='red')\n",
    "    plt.show()\n",
    "\n",
    "\n",
    "def performance_metrics(y_test, y_pred):\n",
    "    \"\"\"\n",
    "    Calculate performance metrics\n",
    "    \"\"\"\n",
    "    mse = mean_squared_error(y_test, y_pred)\n",
    "    rmse = np.sqrt(mse)\n",
    "    mae = mean_absolute_error(y_test, y_pred)\n",
    "    r2 = r2_score(y_test, y_pred)\n",
    "\n",
    "    print('MSE: %.4f' % mse)\n",
    "    print('RMSE: %.4f' % rmse)\n",
    "    print('MAE: %.4f' % mae)\n",
    "    print('R2: %.4f' % r2)\n"
   ]
  },
  {
   "cell_type": "code",
   "execution_count": 85,
   "metadata": {},
   "outputs": [
    {
     "data": {
      "text/html": [
       "<div>\n",
       "<style scoped>\n",
       "    .dataframe tbody tr th:only-of-type {\n",
       "        vertical-align: middle;\n",
       "    }\n",
       "\n",
       "    .dataframe tbody tr th {\n",
       "        vertical-align: top;\n",
       "    }\n",
       "\n",
       "    .dataframe thead th {\n",
       "        text-align: right;\n",
       "    }\n",
       "</style>\n",
       "<table border=\"1\" class=\"dataframe\">\n",
       "  <thead>\n",
       "    <tr style=\"text-align: right;\">\n",
       "      <th></th>\n",
       "      <th>energy</th>\n",
       "      <th>temp</th>\n",
       "      <th>dwpt</th>\n",
       "      <th>rhum</th>\n",
       "      <th>prcp</th>\n",
       "      <th>snow</th>\n",
       "      <th>wdir</th>\n",
       "      <th>wspd</th>\n",
       "      <th>wpgt</th>\n",
       "      <th>pres</th>\n",
       "      <th>coco</th>\n",
       "    </tr>\n",
       "  </thead>\n",
       "  <tbody>\n",
       "    <tr>\n",
       "      <th>count</th>\n",
       "      <td>7.980288e+06</td>\n",
       "      <td>7.980288e+06</td>\n",
       "      <td>7.980288e+06</td>\n",
       "      <td>7.980288e+06</td>\n",
       "      <td>7.980288e+06</td>\n",
       "      <td>7980288.0</td>\n",
       "      <td>7.980288e+06</td>\n",
       "      <td>7.980288e+06</td>\n",
       "      <td>598799.000000</td>\n",
       "      <td>7.980288e+06</td>\n",
       "      <td>806487.000000</td>\n",
       "    </tr>\n",
       "    <tr>\n",
       "      <th>mean</th>\n",
       "      <td>3.986388e+00</td>\n",
       "      <td>1.061746e+01</td>\n",
       "      <td>7.757424e+00</td>\n",
       "      <td>8.369144e+01</td>\n",
       "      <td>8.988285e-03</td>\n",
       "      <td>0.0</td>\n",
       "      <td>1.913825e+02</td>\n",
       "      <td>1.681830e+01</td>\n",
       "      <td>26.166198</td>\n",
       "      <td>1.015104e+03</td>\n",
       "      <td>4.335750</td>\n",
       "    </tr>\n",
       "    <tr>\n",
       "      <th>std</th>\n",
       "      <td>8.404270e+00</td>\n",
       "      <td>5.347194e+00</td>\n",
       "      <td>4.841110e+00</td>\n",
       "      <td>1.285147e+01</td>\n",
       "      <td>1.092506e-01</td>\n",
       "      <td>0.0</td>\n",
       "      <td>8.833137e+01</td>\n",
       "      <td>8.369234e+00</td>\n",
       "      <td>12.331589</td>\n",
       "      <td>1.100893e+01</td>\n",
       "      <td>3.033078</td>\n",
       "    </tr>\n",
       "    <tr>\n",
       "      <th>min</th>\n",
       "      <td>0.000000e+00</td>\n",
       "      <td>-9.400000e+00</td>\n",
       "      <td>-1.230000e+01</td>\n",
       "      <td>1.500000e+01</td>\n",
       "      <td>0.000000e+00</td>\n",
       "      <td>0.0</td>\n",
       "      <td>1.000000e+00</td>\n",
       "      <td>0.000000e+00</td>\n",
       "      <td>3.700000</td>\n",
       "      <td>9.602000e+02</td>\n",
       "      <td>1.000000</td>\n",
       "    </tr>\n",
       "    <tr>\n",
       "      <th>25%</th>\n",
       "      <td>2.030000e-01</td>\n",
       "      <td>6.600000e+00</td>\n",
       "      <td>4.500000e+00</td>\n",
       "      <td>7.700000e+01</td>\n",
       "      <td>0.000000e+00</td>\n",
       "      <td>0.0</td>\n",
       "      <td>1.200000e+02</td>\n",
       "      <td>1.110000e+01</td>\n",
       "      <td>16.700000</td>\n",
       "      <td>1.008700e+03</td>\n",
       "      <td>2.000000</td>\n",
       "    </tr>\n",
       "    <tr>\n",
       "      <th>50%</th>\n",
       "      <td>7.400000e-01</td>\n",
       "      <td>1.060000e+01</td>\n",
       "      <td>8.000000e+00</td>\n",
       "      <td>8.700000e+01</td>\n",
       "      <td>0.000000e+00</td>\n",
       "      <td>0.0</td>\n",
       "      <td>2.100000e+02</td>\n",
       "      <td>1.570000e+01</td>\n",
       "      <td>24.100000</td>\n",
       "      <td>1.016100e+03</td>\n",
       "      <td>3.000000</td>\n",
       "    </tr>\n",
       "    <tr>\n",
       "      <th>75%</th>\n",
       "      <td>3.180000e+00</td>\n",
       "      <td>1.460000e+01</td>\n",
       "      <td>1.160000e+01</td>\n",
       "      <td>9.300000e+01</td>\n",
       "      <td>0.000000e+00</td>\n",
       "      <td>0.0</td>\n",
       "      <td>2.600000e+02</td>\n",
       "      <td>2.220000e+01</td>\n",
       "      <td>33.300000</td>\n",
       "      <td>1.022500e+03</td>\n",
       "      <td>7.000000</td>\n",
       "    </tr>\n",
       "    <tr>\n",
       "      <th>max</th>\n",
       "      <td>7.470000e+01</td>\n",
       "      <td>3.160000e+01</td>\n",
       "      <td>2.270000e+01</td>\n",
       "      <td>1.000000e+02</td>\n",
       "      <td>7.500000e+00</td>\n",
       "      <td>0.0</td>\n",
       "      <td>3.600000e+02</td>\n",
       "      <td>7.920000e+01</td>\n",
       "      <td>76.000000</td>\n",
       "      <td>1.048900e+03</td>\n",
       "      <td>25.000000</td>\n",
       "    </tr>\n",
       "  </tbody>\n",
       "</table>\n",
       "</div>"
      ],
      "text/plain": [
       "             energy          temp          dwpt          rhum          prcp  \\\n",
       "count  7.980288e+06  7.980288e+06  7.980288e+06  7.980288e+06  7.980288e+06   \n",
       "mean   3.986388e+00  1.061746e+01  7.757424e+00  8.369144e+01  8.988285e-03   \n",
       "std    8.404270e+00  5.347194e+00  4.841110e+00  1.285147e+01  1.092506e-01   \n",
       "min    0.000000e+00 -9.400000e+00 -1.230000e+01  1.500000e+01  0.000000e+00   \n",
       "25%    2.030000e-01  6.600000e+00  4.500000e+00  7.700000e+01  0.000000e+00   \n",
       "50%    7.400000e-01  1.060000e+01  8.000000e+00  8.700000e+01  0.000000e+00   \n",
       "75%    3.180000e+00  1.460000e+01  1.160000e+01  9.300000e+01  0.000000e+00   \n",
       "max    7.470000e+01  3.160000e+01  2.270000e+01  1.000000e+02  7.500000e+00   \n",
       "\n",
       "            snow          wdir          wspd           wpgt          pres  \\\n",
       "count  7980288.0  7.980288e+06  7.980288e+06  598799.000000  7.980288e+06   \n",
       "mean         0.0  1.913825e+02  1.681830e+01      26.166198  1.015104e+03   \n",
       "std          0.0  8.833137e+01  8.369234e+00      12.331589  1.100893e+01   \n",
       "min          0.0  1.000000e+00  0.000000e+00       3.700000  9.602000e+02   \n",
       "25%          0.0  1.200000e+02  1.110000e+01      16.700000  1.008700e+03   \n",
       "50%          0.0  2.100000e+02  1.570000e+01      24.100000  1.016100e+03   \n",
       "75%          0.0  2.600000e+02  2.220000e+01      33.300000  1.022500e+03   \n",
       "max          0.0  3.600000e+02  7.920000e+01      76.000000  1.048900e+03   \n",
       "\n",
       "                coco  \n",
       "count  806487.000000  \n",
       "mean        4.335750  \n",
       "std         3.033078  \n",
       "min         1.000000  \n",
       "25%         2.000000  \n",
       "50%         3.000000  \n",
       "75%         7.000000  \n",
       "max        25.000000  "
      ]
     },
     "execution_count": 85,
     "metadata": {},
     "output_type": "execute_result"
    }
   ],
   "source": [
    "df = pd.read_csv(\"BANES_weather_merged.csv\", parse_dates=[\"time\"])\n",
    "df.describe()\n"
   ]
  },
  {
   "cell_type": "markdown",
   "metadata": {},
   "source": [
    "#### Pre-Processing"
   ]
  },
  {
   "cell_type": "code",
   "execution_count": 86,
   "metadata": {},
   "outputs": [
    {
     "data": {
      "text/html": [
       "<div>\n",
       "<style scoped>\n",
       "    .dataframe tbody tr th:only-of-type {\n",
       "        vertical-align: middle;\n",
       "    }\n",
       "\n",
       "    .dataframe tbody tr th {\n",
       "        vertical-align: top;\n",
       "    }\n",
       "\n",
       "    .dataframe thead th {\n",
       "        text-align: right;\n",
       "    }\n",
       "</style>\n",
       "<table border=\"1\" class=\"dataframe\">\n",
       "  <thead>\n",
       "    <tr style=\"text-align: right;\">\n",
       "      <th></th>\n",
       "      <th>time</th>\n",
       "      <th>location</th>\n",
       "      <th>postcode</th>\n",
       "      <th>energy</th>\n",
       "      <th>temp</th>\n",
       "      <th>rhum</th>\n",
       "      <th>pres</th>\n",
       "    </tr>\n",
       "  </thead>\n",
       "  <tbody>\n",
       "    <tr>\n",
       "      <th>0</th>\n",
       "      <td>2006-10-01 00:30:00</td>\n",
       "      <td>Guildhall Electricity Supply 1 (HH)</td>\n",
       "      <td>BA1 5AW</td>\n",
       "      <td>32.8</td>\n",
       "      <td>14.95</td>\n",
       "      <td>93.0</td>\n",
       "      <td>1001.8</td>\n",
       "    </tr>\n",
       "    <tr>\n",
       "      <th>1</th>\n",
       "      <td>2006-10-01 00:30:00</td>\n",
       "      <td>Guildhall Electricity Supply 1 (HH)</td>\n",
       "      <td>BA1 5AW</td>\n",
       "      <td>32.8</td>\n",
       "      <td>14.95</td>\n",
       "      <td>93.0</td>\n",
       "      <td>1001.8</td>\n",
       "    </tr>\n",
       "    <tr>\n",
       "      <th>2</th>\n",
       "      <td>2006-10-01 01:00:00</td>\n",
       "      <td>Guildhall Electricity Supply 1 (HH)</td>\n",
       "      <td>BA1 5AW</td>\n",
       "      <td>33.0</td>\n",
       "      <td>14.80</td>\n",
       "      <td>92.0</td>\n",
       "      <td>1001.7</td>\n",
       "    </tr>\n",
       "    <tr>\n",
       "      <th>3</th>\n",
       "      <td>2006-10-01 01:00:00</td>\n",
       "      <td>Guildhall Electricity Supply 1 (HH)</td>\n",
       "      <td>BA1 5AW</td>\n",
       "      <td>33.0</td>\n",
       "      <td>14.80</td>\n",
       "      <td>92.0</td>\n",
       "      <td>1001.7</td>\n",
       "    </tr>\n",
       "    <tr>\n",
       "      <th>4</th>\n",
       "      <td>2006-10-01 01:30:00</td>\n",
       "      <td>Bath Central Library Electricity (HH)</td>\n",
       "      <td>BA1 5AL</td>\n",
       "      <td>5.9</td>\n",
       "      <td>14.75</td>\n",
       "      <td>91.5</td>\n",
       "      <td>1001.7</td>\n",
       "    </tr>\n",
       "  </tbody>\n",
       "</table>\n",
       "</div>"
      ],
      "text/plain": [
       "                 time                               location postcode  energy  \\\n",
       "0 2006-10-01 00:30:00    Guildhall Electricity Supply 1 (HH)  BA1 5AW    32.8   \n",
       "1 2006-10-01 00:30:00    Guildhall Electricity Supply 1 (HH)  BA1 5AW    32.8   \n",
       "2 2006-10-01 01:00:00    Guildhall Electricity Supply 1 (HH)  BA1 5AW    33.0   \n",
       "3 2006-10-01 01:00:00    Guildhall Electricity Supply 1 (HH)  BA1 5AW    33.0   \n",
       "4 2006-10-01 01:30:00  Bath Central Library Electricity (HH)  BA1 5AL     5.9   \n",
       "\n",
       "    temp  rhum    pres  \n",
       "0  14.95  93.0  1001.8  \n",
       "1  14.95  93.0  1001.8  \n",
       "2  14.80  92.0  1001.7  \n",
       "3  14.80  92.0  1001.7  \n",
       "4  14.75  91.5  1001.7  "
      ]
     },
     "execution_count": 86,
     "metadata": {},
     "output_type": "execute_result"
    }
   ],
   "source": [
    "# drop unnecessary columns\n",
    "df_cols = df[['time', 'location', 'postcode', 'energy', 'temp', 'rhum', 'pres']]\n",
    "df_cols.head()\n"
   ]
  },
  {
   "cell_type": "markdown",
   "metadata": {},
   "source": [
    "Let's try with a single location first."
   ]
  },
  {
   "cell_type": "code",
   "execution_count": 87,
   "metadata": {},
   "outputs": [
    {
     "data": {
      "text/plain": [
       "'Guildhall Electricity Supply 1 (HH)'"
      ]
     },
     "execution_count": 87,
     "metadata": {},
     "output_type": "execute_result"
    }
   ],
   "source": [
    "# location with the most data\n",
    "max_location = df_cols['location'].value_counts().idxmax()\n",
    "max_location\n"
   ]
  },
  {
   "cell_type": "code",
   "execution_count": 88,
   "metadata": {},
   "outputs": [
    {
     "data": {
      "text/html": [
       "<div>\n",
       "<style scoped>\n",
       "    .dataframe tbody tr th:only-of-type {\n",
       "        vertical-align: middle;\n",
       "    }\n",
       "\n",
       "    .dataframe tbody tr th {\n",
       "        vertical-align: top;\n",
       "    }\n",
       "\n",
       "    .dataframe thead th {\n",
       "        text-align: right;\n",
       "    }\n",
       "</style>\n",
       "<table border=\"1\" class=\"dataframe\">\n",
       "  <thead>\n",
       "    <tr style=\"text-align: right;\">\n",
       "      <th></th>\n",
       "      <th>time</th>\n",
       "      <th>location</th>\n",
       "      <th>postcode</th>\n",
       "      <th>energy</th>\n",
       "      <th>temp</th>\n",
       "      <th>rhum</th>\n",
       "      <th>pres</th>\n",
       "    </tr>\n",
       "  </thead>\n",
       "  <tbody>\n",
       "    <tr>\n",
       "      <th>0</th>\n",
       "      <td>2006-10-01 00:30:00</td>\n",
       "      <td>Guildhall Electricity Supply 1 (HH)</td>\n",
       "      <td>BA1 5AW</td>\n",
       "      <td>32.8</td>\n",
       "      <td>14.95</td>\n",
       "      <td>93.0</td>\n",
       "      <td>1001.8</td>\n",
       "    </tr>\n",
       "    <tr>\n",
       "      <th>1</th>\n",
       "      <td>2006-10-01 00:30:00</td>\n",
       "      <td>Guildhall Electricity Supply 1 (HH)</td>\n",
       "      <td>BA1 5AW</td>\n",
       "      <td>32.8</td>\n",
       "      <td>14.95</td>\n",
       "      <td>93.0</td>\n",
       "      <td>1001.8</td>\n",
       "    </tr>\n",
       "    <tr>\n",
       "      <th>2</th>\n",
       "      <td>2006-10-01 01:00:00</td>\n",
       "      <td>Guildhall Electricity Supply 1 (HH)</td>\n",
       "      <td>BA1 5AW</td>\n",
       "      <td>33.0</td>\n",
       "      <td>14.80</td>\n",
       "      <td>92.0</td>\n",
       "      <td>1001.7</td>\n",
       "    </tr>\n",
       "    <tr>\n",
       "      <th>3</th>\n",
       "      <td>2006-10-01 01:00:00</td>\n",
       "      <td>Guildhall Electricity Supply 1 (HH)</td>\n",
       "      <td>BA1 5AW</td>\n",
       "      <td>33.0</td>\n",
       "      <td>14.80</td>\n",
       "      <td>92.0</td>\n",
       "      <td>1001.7</td>\n",
       "    </tr>\n",
       "    <tr>\n",
       "      <th>5</th>\n",
       "      <td>2006-10-01 01:30:00</td>\n",
       "      <td>Guildhall Electricity Supply 1 (HH)</td>\n",
       "      <td>BA1 5AW</td>\n",
       "      <td>32.7</td>\n",
       "      <td>14.75</td>\n",
       "      <td>91.5</td>\n",
       "      <td>1001.7</td>\n",
       "    </tr>\n",
       "  </tbody>\n",
       "</table>\n",
       "</div>"
      ],
      "text/plain": [
       "                 time                             location postcode  energy  \\\n",
       "0 2006-10-01 00:30:00  Guildhall Electricity Supply 1 (HH)  BA1 5AW    32.8   \n",
       "1 2006-10-01 00:30:00  Guildhall Electricity Supply 1 (HH)  BA1 5AW    32.8   \n",
       "2 2006-10-01 01:00:00  Guildhall Electricity Supply 1 (HH)  BA1 5AW    33.0   \n",
       "3 2006-10-01 01:00:00  Guildhall Electricity Supply 1 (HH)  BA1 5AW    33.0   \n",
       "5 2006-10-01 01:30:00  Guildhall Electricity Supply 1 (HH)  BA1 5AW    32.7   \n",
       "\n",
       "    temp  rhum    pres  \n",
       "0  14.95  93.0  1001.8  \n",
       "1  14.95  93.0  1001.8  \n",
       "2  14.80  92.0  1001.7  \n",
       "3  14.80  92.0  1001.7  \n",
       "5  14.75  91.5  1001.7  "
      ]
     },
     "execution_count": 88,
     "metadata": {},
     "output_type": "execute_result"
    }
   ],
   "source": [
    "df_guild = df_cols[df_cols['location'] == max_location]\n",
    "df_guild.head()"
   ]
  },
  {
   "cell_type": "code",
   "execution_count": 89,
   "metadata": {},
   "outputs": [
    {
     "data": {
      "text/html": [
       "<div>\n",
       "<style scoped>\n",
       "    .dataframe tbody tr th:only-of-type {\n",
       "        vertical-align: middle;\n",
       "    }\n",
       "\n",
       "    .dataframe tbody tr th {\n",
       "        vertical-align: top;\n",
       "    }\n",
       "\n",
       "    .dataframe thead th {\n",
       "        text-align: right;\n",
       "    }\n",
       "</style>\n",
       "<table border=\"1\" class=\"dataframe\">\n",
       "  <thead>\n",
       "    <tr style=\"text-align: right;\">\n",
       "      <th></th>\n",
       "      <th>time</th>\n",
       "      <th>location</th>\n",
       "      <th>energy</th>\n",
       "      <th>temp</th>\n",
       "      <th>rhum</th>\n",
       "      <th>pres</th>\n",
       "    </tr>\n",
       "  </thead>\n",
       "  <tbody>\n",
       "    <tr>\n",
       "      <th>0</th>\n",
       "      <td>2006-10-01 00:30:00</td>\n",
       "      <td>Guildhall Electricity Supply 1 (HH)</td>\n",
       "      <td>32.8</td>\n",
       "      <td>14.95</td>\n",
       "      <td>93.0</td>\n",
       "      <td>1001.8</td>\n",
       "    </tr>\n",
       "    <tr>\n",
       "      <th>1</th>\n",
       "      <td>2006-10-01 01:00:00</td>\n",
       "      <td>Guildhall Electricity Supply 1 (HH)</td>\n",
       "      <td>33.0</td>\n",
       "      <td>14.80</td>\n",
       "      <td>92.0</td>\n",
       "      <td>1001.7</td>\n",
       "    </tr>\n",
       "    <tr>\n",
       "      <th>2</th>\n",
       "      <td>2006-10-01 01:30:00</td>\n",
       "      <td>Guildhall Electricity Supply 1 (HH)</td>\n",
       "      <td>32.7</td>\n",
       "      <td>14.75</td>\n",
       "      <td>91.5</td>\n",
       "      <td>1001.7</td>\n",
       "    </tr>\n",
       "    <tr>\n",
       "      <th>3</th>\n",
       "      <td>2006-10-01 02:00:00</td>\n",
       "      <td>Guildhall Electricity Supply 1 (HH)</td>\n",
       "      <td>32.2</td>\n",
       "      <td>14.70</td>\n",
       "      <td>91.0</td>\n",
       "      <td>1001.7</td>\n",
       "    </tr>\n",
       "    <tr>\n",
       "      <th>4</th>\n",
       "      <td>2006-10-01 02:30:00</td>\n",
       "      <td>Guildhall Electricity Supply 1 (HH)</td>\n",
       "      <td>31.3</td>\n",
       "      <td>14.55</td>\n",
       "      <td>91.5</td>\n",
       "      <td>1001.6</td>\n",
       "    </tr>\n",
       "  </tbody>\n",
       "</table>\n",
       "</div>"
      ],
      "text/plain": [
       "                 time                             location  energy   temp  \\\n",
       "0 2006-10-01 00:30:00  Guildhall Electricity Supply 1 (HH)    32.8  14.95   \n",
       "1 2006-10-01 01:00:00  Guildhall Electricity Supply 1 (HH)    33.0  14.80   \n",
       "2 2006-10-01 01:30:00  Guildhall Electricity Supply 1 (HH)    32.7  14.75   \n",
       "3 2006-10-01 02:00:00  Guildhall Electricity Supply 1 (HH)    32.2  14.70   \n",
       "4 2006-10-01 02:30:00  Guildhall Electricity Supply 1 (HH)    31.3  14.55   \n",
       "\n",
       "   rhum    pres  \n",
       "0  93.0  1001.8  \n",
       "1  92.0  1001.7  \n",
       "2  91.5  1001.7  \n",
       "3  91.0  1001.7  \n",
       "4  91.5  1001.6  "
      ]
     },
     "execution_count": 89,
     "metadata": {},
     "output_type": "execute_result"
    }
   ],
   "source": [
    "df_guild = df_guild.groupby(['time', 'location']).mean().reset_index()\n",
    "df_guild.head()"
   ]
  },
  {
   "cell_type": "markdown",
   "metadata": {},
   "source": [
    "#### Train and test split"
   ]
  },
  {
   "cell_type": "code",
   "execution_count": 90,
   "metadata": {},
   "outputs": [],
   "source": [
    "# split into train and test\n",
    "train, test = train_test_split(df_guild, test_size=0.2, random_state=42)\n"
   ]
  },
  {
   "cell_type": "code",
   "execution_count": 91,
   "metadata": {},
   "outputs": [
    {
     "data": {
      "text/plain": [
       "((122661, 6), (30666, 6))"
      ]
     },
     "execution_count": 91,
     "metadata": {},
     "output_type": "execute_result"
    }
   ],
   "source": [
    "train.shape, test.shape"
   ]
  },
  {
   "cell_type": "code",
   "execution_count": 92,
   "metadata": {},
   "outputs": [],
   "source": [
    "X_train = train.drop(['energy', 'time', 'location'], axis=1)\n",
    "y_train = train['energy']\n",
    "X_test = test.drop(['energy', 'time', 'location'], axis=1)\n",
    "y_test = test['energy']\n"
   ]
  },
  {
   "cell_type": "markdown",
   "metadata": {},
   "source": [
    "#### Build Model"
   ]
  },
  {
   "cell_type": "code",
   "execution_count": 93,
   "metadata": {},
   "outputs": [],
   "source": [
    "# create model\n",
    "gbr = GradientBoostingRegressor(n_estimators=100, learning_rate=0.1, random_state=0, loss='squared_error')\n"
   ]
  },
  {
   "cell_type": "code",
   "execution_count": 94,
   "metadata": {},
   "outputs": [
    {
     "data": {
      "text/plain": [
       "GradientBoostingRegressor(random_state=0)"
      ]
     },
     "execution_count": 94,
     "metadata": {},
     "output_type": "execute_result"
    }
   ],
   "source": [
    "gbr.fit(X_train, y_train)"
   ]
  },
  {
   "cell_type": "markdown",
   "metadata": {},
   "source": [
    "#### Test model"
   ]
  },
  {
   "cell_type": "code",
   "execution_count": 95,
   "metadata": {},
   "outputs": [],
   "source": [
    "# predict\n",
    "y_pred = gbr.predict(X_test)\n"
   ]
  },
  {
   "cell_type": "code",
   "execution_count": 96,
   "metadata": {},
   "outputs": [
    {
     "data": {
      "image/png": "[encoded data removed]",
      "text/plain": [
       "<Figure size 720x432 with 1 Axes>"
      ]
     },
     "metadata": {
      "needs_background": "light"
     },
     "output_type": "display_data"
    }
   ],
   "source": [
    "# plot the results\n",
    "plt.figure(figsize=(10, 6))\n",
    "\n",
    "plt.scatter(y_test, y_pred, color='blue')\n",
    "plt.xlabel('True Values')\n",
    "plt.ylabel('Predictions')\n",
    "plt.title('Gradient Boosting Regression')\n",
    "plt.xlim([0, 100])\n",
    "plt.ylim([0, 100])\n",
    "_ = plt.plot([-100, 100], [-100, 100], color='red')\n",
    "plt.show()"
   ]
  },
  {
   "cell_type": "code",
   "execution_count": 97,
   "metadata": {},
   "outputs": [
    {
     "name": "stdout",
     "output_type": "stream",
     "text": [
      "MSE: 99.2025\n",
      "RMSE: 9.9600\n",
      "MAE: 8.0163\n",
      "R2: 0.0643\n"
     ]
    }
   ],
   "source": [
    "# performance metrics\n",
    "from sklearn.metrics import mean_squared_error, r2_score, mean_absolute_error\n",
    "\n",
    "mse = mean_squared_error(y_test, y_pred)\n",
    "rmse = np.sqrt(mse)\n",
    "mae = mean_absolute_error(y_test, y_pred)\n",
    "r2 = r2_score(y_test, y_pred)\n",
    "\n",
    "print(\"MSE: %.4f\" % mse)\n",
    "print(\"RMSE: %.4f\" % rmse)\n",
    "print(\"MAE: %.4f\" % mae)\n",
    "print(\"R2: %.4f\" % r2)\n"
   ]
  },
  {
   "cell_type": "markdown",
   "metadata": {},
   "source": [
    "The results were pretty bad. Let's test with the entire dataset, instead of just one location."
   ]
  },
  {
   "cell_type": "markdown",
   "metadata": {},
   "source": [
    "### GB 2\n",
    "\n",
    "#### Pre-processing"
   ]
  },
  {
   "cell_type": "code",
   "execution_count": 98,
   "metadata": {},
   "outputs": [
    {
     "data": {
      "text/html": [
       "<div>\n",
       "<style scoped>\n",
       "    .dataframe tbody tr th:only-of-type {\n",
       "        vertical-align: middle;\n",
       "    }\n",
       "\n",
       "    .dataframe tbody tr th {\n",
       "        vertical-align: top;\n",
       "    }\n",
       "\n",
       "    .dataframe thead th {\n",
       "        text-align: right;\n",
       "    }\n",
       "</style>\n",
       "<table border=\"1\" class=\"dataframe\">\n",
       "  <thead>\n",
       "    <tr style=\"text-align: right;\">\n",
       "      <th></th>\n",
       "      <th>time</th>\n",
       "      <th>location</th>\n",
       "      <th>postcode</th>\n",
       "      <th>energy</th>\n",
       "      <th>temp</th>\n",
       "      <th>rhum</th>\n",
       "      <th>pres</th>\n",
       "    </tr>\n",
       "  </thead>\n",
       "  <tbody>\n",
       "    <tr>\n",
       "      <th>0</th>\n",
       "      <td>2006-10-01 00:30:00</td>\n",
       "      <td>Guildhall Electricity Supply 1 (HH)</td>\n",
       "      <td>BA1 5AW</td>\n",
       "      <td>32.8</td>\n",
       "      <td>14.95</td>\n",
       "      <td>93.0</td>\n",
       "      <td>1001.8</td>\n",
       "    </tr>\n",
       "    <tr>\n",
       "      <th>1</th>\n",
       "      <td>2006-10-01 00:30:00</td>\n",
       "      <td>Guildhall Electricity Supply 1 (HH)</td>\n",
       "      <td>BA1 5AW</td>\n",
       "      <td>32.8</td>\n",
       "      <td>14.95</td>\n",
       "      <td>93.0</td>\n",
       "      <td>1001.8</td>\n",
       "    </tr>\n",
       "    <tr>\n",
       "      <th>2</th>\n",
       "      <td>2006-10-01 01:00:00</td>\n",
       "      <td>Guildhall Electricity Supply 1 (HH)</td>\n",
       "      <td>BA1 5AW</td>\n",
       "      <td>33.0</td>\n",
       "      <td>14.80</td>\n",
       "      <td>92.0</td>\n",
       "      <td>1001.7</td>\n",
       "    </tr>\n",
       "    <tr>\n",
       "      <th>3</th>\n",
       "      <td>2006-10-01 01:00:00</td>\n",
       "      <td>Guildhall Electricity Supply 1 (HH)</td>\n",
       "      <td>BA1 5AW</td>\n",
       "      <td>33.0</td>\n",
       "      <td>14.80</td>\n",
       "      <td>92.0</td>\n",
       "      <td>1001.7</td>\n",
       "    </tr>\n",
       "    <tr>\n",
       "      <th>4</th>\n",
       "      <td>2006-10-01 01:30:00</td>\n",
       "      <td>Bath Central Library Electricity (HH)</td>\n",
       "      <td>BA1 5AL</td>\n",
       "      <td>5.9</td>\n",
       "      <td>14.75</td>\n",
       "      <td>91.5</td>\n",
       "      <td>1001.7</td>\n",
       "    </tr>\n",
       "  </tbody>\n",
       "</table>\n",
       "</div>"
      ],
      "text/plain": [
       "                 time                               location postcode  energy  \\\n",
       "0 2006-10-01 00:30:00    Guildhall Electricity Supply 1 (HH)  BA1 5AW    32.8   \n",
       "1 2006-10-01 00:30:00    Guildhall Electricity Supply 1 (HH)  BA1 5AW    32.8   \n",
       "2 2006-10-01 01:00:00    Guildhall Electricity Supply 1 (HH)  BA1 5AW    33.0   \n",
       "3 2006-10-01 01:00:00    Guildhall Electricity Supply 1 (HH)  BA1 5AW    33.0   \n",
       "4 2006-10-01 01:30:00  Bath Central Library Electricity (HH)  BA1 5AL     5.9   \n",
       "\n",
       "    temp  rhum    pres  \n",
       "0  14.95  93.0  1001.8  \n",
       "1  14.95  93.0  1001.8  \n",
       "2  14.80  92.0  1001.7  \n",
       "3  14.80  92.0  1001.7  \n",
       "4  14.75  91.5  1001.7  "
      ]
     },
     "execution_count": 98,
     "metadata": {},
     "output_type": "execute_result"
    }
   ],
   "source": [
    "df_cols.head()"
   ]
  },
  {
   "cell_type": "code",
   "execution_count": 99,
   "metadata": {},
   "outputs": [
    {
     "data": {
      "text/html": [
       "<div>\n",
       "<style scoped>\n",
       "    .dataframe tbody tr th:only-of-type {\n",
       "        vertical-align: middle;\n",
       "    }\n",
       "\n",
       "    .dataframe tbody tr th {\n",
       "        vertical-align: top;\n",
       "    }\n",
       "\n",
       "    .dataframe thead th {\n",
       "        text-align: right;\n",
       "    }\n",
       "</style>\n",
       "<table border=\"1\" class=\"dataframe\">\n",
       "  <thead>\n",
       "    <tr style=\"text-align: right;\">\n",
       "      <th></th>\n",
       "      <th>time</th>\n",
       "      <th>location</th>\n",
       "      <th>energy</th>\n",
       "      <th>temp</th>\n",
       "      <th>rhum</th>\n",
       "      <th>pres</th>\n",
       "    </tr>\n",
       "  </thead>\n",
       "  <tbody>\n",
       "    <tr>\n",
       "      <th>0</th>\n",
       "      <td>2006-10-01 00:30:00</td>\n",
       "      <td>Guildhall Electricity Supply 1 (HH)</td>\n",
       "      <td>32.8</td>\n",
       "      <td>14.95</td>\n",
       "      <td>93.0</td>\n",
       "      <td>1001.8</td>\n",
       "    </tr>\n",
       "    <tr>\n",
       "      <th>1</th>\n",
       "      <td>2006-10-01 01:00:00</td>\n",
       "      <td>Guildhall Electricity Supply 1 (HH)</td>\n",
       "      <td>33.0</td>\n",
       "      <td>14.80</td>\n",
       "      <td>92.0</td>\n",
       "      <td>1001.7</td>\n",
       "    </tr>\n",
       "    <tr>\n",
       "      <th>2</th>\n",
       "      <td>2006-10-01 01:30:00</td>\n",
       "      <td>Bath Central Library Electricity (HH)</td>\n",
       "      <td>5.9</td>\n",
       "      <td>14.75</td>\n",
       "      <td>91.5</td>\n",
       "      <td>1001.7</td>\n",
       "    </tr>\n",
       "    <tr>\n",
       "      <th>3</th>\n",
       "      <td>2006-10-01 01:30:00</td>\n",
       "      <td>Guildhall Electricity Supply 1 (HH)</td>\n",
       "      <td>32.7</td>\n",
       "      <td>14.75</td>\n",
       "      <td>91.5</td>\n",
       "      <td>1001.7</td>\n",
       "    </tr>\n",
       "    <tr>\n",
       "      <th>4</th>\n",
       "      <td>2006-10-01 02:00:00</td>\n",
       "      <td>Guildhall Electricity Supply 1 (HH)</td>\n",
       "      <td>32.2</td>\n",
       "      <td>14.70</td>\n",
       "      <td>91.0</td>\n",
       "      <td>1001.7</td>\n",
       "    </tr>\n",
       "  </tbody>\n",
       "</table>\n",
       "</div>"
      ],
      "text/plain": [
       "                 time                               location  energy   temp  \\\n",
       "0 2006-10-01 00:30:00    Guildhall Electricity Supply 1 (HH)    32.8  14.95   \n",
       "1 2006-10-01 01:00:00    Guildhall Electricity Supply 1 (HH)    33.0  14.80   \n",
       "2 2006-10-01 01:30:00  Bath Central Library Electricity (HH)     5.9  14.75   \n",
       "3 2006-10-01 01:30:00    Guildhall Electricity Supply 1 (HH)    32.7  14.75   \n",
       "4 2006-10-01 02:00:00    Guildhall Electricity Supply 1 (HH)    32.2  14.70   \n",
       "\n",
       "   rhum    pres  \n",
       "0  93.0  1001.8  \n",
       "1  92.0  1001.7  \n",
       "2  91.5  1001.7  \n",
       "3  91.5  1001.7  \n",
       "4  91.0  1001.7  "
      ]
     },
     "execution_count": 99,
     "metadata": {},
     "output_type": "execute_result"
    }
   ],
   "source": [
    "df_grouped = df_cols.groupby(['time', 'location']).mean().reset_index()\n",
    "df_grouped.head()"
   ]
  },
  {
   "cell_type": "markdown",
   "metadata": {},
   "source": [
    "#### Train and test split"
   ]
  },
  {
   "cell_type": "code",
   "execution_count": 100,
   "metadata": {},
   "outputs": [],
   "source": [
    "# split into train and test\n",
    "train, test = train_test_split(df_grouped, test_size=0.2, random_state=42)\n"
   ]
  },
  {
   "cell_type": "code",
   "execution_count": 101,
   "metadata": {},
   "outputs": [
    {
     "data": {
      "text/plain": [
       "((4023978, 6), (1005995, 6))"
      ]
     },
     "execution_count": 101,
     "metadata": {},
     "output_type": "execute_result"
    }
   ],
   "source": [
    "train.shape, test.shape\n"
   ]
  },
  {
   "cell_type": "code",
   "execution_count": 102,
   "metadata": {},
   "outputs": [],
   "source": [
    "X_train = train.drop(['energy', 'time', 'location'], axis=1)\n",
    "y_train = train['energy']\n",
    "X_test = test.drop(['energy', 'time', 'location'], axis=1)\n",
    "y_test = test['energy']\n"
   ]
  },
  {
   "cell_type": "markdown",
   "metadata": {},
   "source": [
    "#### Build model"
   ]
  },
  {
   "cell_type": "code",
   "execution_count": 103,
   "metadata": {},
   "outputs": [],
   "source": [
    "gbr = GradientBoostingRegressor(n_estimators=100, learning_rate=0.1, random_state=0, loss='squared_error')"
   ]
  },
  {
   "cell_type": "code",
   "execution_count": 104,
   "metadata": {},
   "outputs": [
    {
     "data": {
      "text/plain": [
       "GradientBoostingRegressor(random_state=0)"
      ]
     },
     "execution_count": 104,
     "metadata": {},
     "output_type": "execute_result"
    }
   ],
   "source": [
    "gbr.fit(X_train, y_train)"
   ]
  },
  {
   "cell_type": "markdown",
   "metadata": {},
   "source": [
    "#### Test model"
   ]
  },
  {
   "cell_type": "code",
   "execution_count": 105,
   "metadata": {},
   "outputs": [],
   "source": [
    "# predict\n",
    "y_pred = gbr.predict(X_test)\n"
   ]
  },
  {
   "cell_type": "code",
   "execution_count": 106,
   "metadata": {},
   "outputs": [
    {
     "data": {
      "image/png": "[encoded data removed]",
      "text/plain": [
       "<Figure size 720x432 with 1 Axes>"
      ]
     },
     "metadata": {
      "needs_background": "light"
     },
     "output_type": "display_data"
    }
   ],
   "source": [
    "# plot the results\n",
    "plt.figure(figsize=(10, 6))\n",
    "\n",
    "plt.scatter(y_test, y_pred, color='blue')\n",
    "plt.xlabel('True Values')\n",
    "plt.ylabel('Predictions')\n",
    "plt.title('Gradient Boosting Regression')\n",
    "plt.xlim([-10, plt.xlim()[1] + 10])\n",
    "plt.ylim([2, plt.ylim()[1] + 2])\n",
    "_ = plt.plot([-100, 100], [-100, 100], color='red')\n",
    "plt.show()\n"
   ]
  },
  {
   "cell_type": "code",
   "execution_count": 107,
   "metadata": {},
   "outputs": [
    {
     "name": "stdout",
     "output_type": "stream",
     "text": [
      "MSE: 72.4017\n",
      "RMSE: 8.5089\n",
      "MAE: 5.0606\n",
      "R2: 0.0039\n"
     ]
    }
   ],
   "source": [
    "# performance metrics\n",
    "mse = mean_squared_error(y_test, y_pred)\n",
    "rmse = np.sqrt(mse)\n",
    "mae = mean_absolute_error(y_test, y_pred)\n",
    "r2 = r2_score(y_test, y_pred)\n",
    "\n",
    "print(\"MSE: %.4f\" % mse)\n",
    "print(\"RMSE: %.4f\" % rmse)\n",
    "print(\"MAE: %.4f\" % mae)\n",
    "print(\"R2: %.4f\" % r2)\n"
   ]
  },
  {
   "cell_type": "markdown",
   "metadata": {},
   "source": [
    "### GB 3\n",
    "\n",
    "Last one, with ``locations`` and ``postcode`` as features. \n",
    "\n",
    "#### Pre-processing"
   ]
  },
  {
   "cell_type": "code",
   "execution_count": 108,
   "metadata": {},
   "outputs": [
    {
     "data": {
      "text/html": [
       "<div>\n",
       "<style scoped>\n",
       "    .dataframe tbody tr th:only-of-type {\n",
       "        vertical-align: middle;\n",
       "    }\n",
       "\n",
       "    .dataframe tbody tr th {\n",
       "        vertical-align: top;\n",
       "    }\n",
       "\n",
       "    .dataframe thead th {\n",
       "        text-align: right;\n",
       "    }\n",
       "</style>\n",
       "<table border=\"1\" class=\"dataframe\">\n",
       "  <thead>\n",
       "    <tr style=\"text-align: right;\">\n",
       "      <th></th>\n",
       "      <th>time</th>\n",
       "      <th>location</th>\n",
       "      <th>postcode</th>\n",
       "      <th>energy</th>\n",
       "      <th>temp</th>\n",
       "      <th>rhum</th>\n",
       "      <th>pres</th>\n",
       "    </tr>\n",
       "  </thead>\n",
       "  <tbody>\n",
       "    <tr>\n",
       "      <th>0</th>\n",
       "      <td>2006-10-01 00:30:00</td>\n",
       "      <td>30</td>\n",
       "      <td>6</td>\n",
       "      <td>32.8</td>\n",
       "      <td>14.95</td>\n",
       "      <td>93.0</td>\n",
       "      <td>1001.8</td>\n",
       "    </tr>\n",
       "    <tr>\n",
       "      <th>1</th>\n",
       "      <td>2006-10-01 00:30:00</td>\n",
       "      <td>30</td>\n",
       "      <td>6</td>\n",
       "      <td>32.8</td>\n",
       "      <td>14.95</td>\n",
       "      <td>93.0</td>\n",
       "      <td>1001.8</td>\n",
       "    </tr>\n",
       "    <tr>\n",
       "      <th>2</th>\n",
       "      <td>2006-10-01 01:00:00</td>\n",
       "      <td>30</td>\n",
       "      <td>6</td>\n",
       "      <td>33.0</td>\n",
       "      <td>14.80</td>\n",
       "      <td>92.0</td>\n",
       "      <td>1001.7</td>\n",
       "    </tr>\n",
       "    <tr>\n",
       "      <th>3</th>\n",
       "      <td>2006-10-01 01:00:00</td>\n",
       "      <td>30</td>\n",
       "      <td>6</td>\n",
       "      <td>33.0</td>\n",
       "      <td>14.80</td>\n",
       "      <td>92.0</td>\n",
       "      <td>1001.7</td>\n",
       "    </tr>\n",
       "    <tr>\n",
       "      <th>4</th>\n",
       "      <td>2006-10-01 01:30:00</td>\n",
       "      <td>13</td>\n",
       "      <td>5</td>\n",
       "      <td>5.9</td>\n",
       "      <td>14.75</td>\n",
       "      <td>91.5</td>\n",
       "      <td>1001.7</td>\n",
       "    </tr>\n",
       "  </tbody>\n",
       "</table>\n",
       "</div>"
      ],
      "text/plain": [
       "                 time  location  postcode  energy   temp  rhum    pres\n",
       "0 2006-10-01 00:30:00        30         6    32.8  14.95  93.0  1001.8\n",
       "1 2006-10-01 00:30:00        30         6    32.8  14.95  93.0  1001.8\n",
       "2 2006-10-01 01:00:00        30         6    33.0  14.80  92.0  1001.7\n",
       "3 2006-10-01 01:00:00        30         6    33.0  14.80  92.0  1001.7\n",
       "4 2006-10-01 01:30:00        13         5     5.9  14.75  91.5  1001.7"
      ]
     },
     "execution_count": 108,
     "metadata": {},
     "output_type": "execute_result"
    }
   ],
   "source": [
    "# encode locations and postcode\n",
    "from sklearn.preprocessing import LabelEncoder\n",
    "\n",
    "df_copy = df_cols.copy()\n",
    "\n",
    "le = LabelEncoder()\n",
    "le.fit(df_cols['location'])\n",
    "df_copy.loc[:, 'location'] = le.transform(df_cols['location'])\n",
    "\n",
    "le = LabelEncoder()\n",
    "le.fit(df_cols['postcode'])\n",
    "df_copy.loc[:, 'postcode'] = le.transform(df_cols['postcode'])\n",
    "\n",
    "df_copy.head()\n"
   ]
  },
  {
   "cell_type": "code",
   "execution_count": 109,
   "metadata": {},
   "outputs": [
    {
     "data": {
      "text/html": [
       "<div>\n",
       "<style scoped>\n",
       "    .dataframe tbody tr th:only-of-type {\n",
       "        vertical-align: middle;\n",
       "    }\n",
       "\n",
       "    .dataframe tbody tr th {\n",
       "        vertical-align: top;\n",
       "    }\n",
       "\n",
       "    .dataframe thead th {\n",
       "        text-align: right;\n",
       "    }\n",
       "</style>\n",
       "<table border=\"1\" class=\"dataframe\">\n",
       "  <thead>\n",
       "    <tr style=\"text-align: right;\">\n",
       "      <th></th>\n",
       "      <th>time</th>\n",
       "      <th>location</th>\n",
       "      <th>postcode</th>\n",
       "      <th>energy</th>\n",
       "      <th>temp</th>\n",
       "      <th>rhum</th>\n",
       "      <th>pres</th>\n",
       "    </tr>\n",
       "  </thead>\n",
       "  <tbody>\n",
       "    <tr>\n",
       "      <th>0</th>\n",
       "      <td>2006-10-01 00:30:00</td>\n",
       "      <td>30</td>\n",
       "      <td>6</td>\n",
       "      <td>32.8</td>\n",
       "      <td>14.95</td>\n",
       "      <td>93.0</td>\n",
       "      <td>1001.8</td>\n",
       "    </tr>\n",
       "    <tr>\n",
       "      <th>1</th>\n",
       "      <td>2006-10-01 01:00:00</td>\n",
       "      <td>30</td>\n",
       "      <td>6</td>\n",
       "      <td>33.0</td>\n",
       "      <td>14.80</td>\n",
       "      <td>92.0</td>\n",
       "      <td>1001.7</td>\n",
       "    </tr>\n",
       "    <tr>\n",
       "      <th>2</th>\n",
       "      <td>2006-10-01 01:30:00</td>\n",
       "      <td>13</td>\n",
       "      <td>5</td>\n",
       "      <td>5.9</td>\n",
       "      <td>14.75</td>\n",
       "      <td>91.5</td>\n",
       "      <td>1001.7</td>\n",
       "    </tr>\n",
       "    <tr>\n",
       "      <th>3</th>\n",
       "      <td>2006-10-01 01:30:00</td>\n",
       "      <td>30</td>\n",
       "      <td>6</td>\n",
       "      <td>32.7</td>\n",
       "      <td>14.75</td>\n",
       "      <td>91.5</td>\n",
       "      <td>1001.7</td>\n",
       "    </tr>\n",
       "    <tr>\n",
       "      <th>4</th>\n",
       "      <td>2006-10-01 02:00:00</td>\n",
       "      <td>30</td>\n",
       "      <td>6</td>\n",
       "      <td>32.2</td>\n",
       "      <td>14.70</td>\n",
       "      <td>91.0</td>\n",
       "      <td>1001.7</td>\n",
       "    </tr>\n",
       "  </tbody>\n",
       "</table>\n",
       "</div>"
      ],
      "text/plain": [
       "                 time  location  postcode  energy   temp  rhum    pres\n",
       "0 2006-10-01 00:30:00        30         6    32.8  14.95  93.0  1001.8\n",
       "1 2006-10-01 01:00:00        30         6    33.0  14.80  92.0  1001.7\n",
       "2 2006-10-01 01:30:00        13         5     5.9  14.75  91.5  1001.7\n",
       "3 2006-10-01 01:30:00        30         6    32.7  14.75  91.5  1001.7\n",
       "4 2006-10-01 02:00:00        30         6    32.2  14.70  91.0  1001.7"
      ]
     },
     "execution_count": 109,
     "metadata": {},
     "output_type": "execute_result"
    }
   ],
   "source": [
    "# group by time, location and postcode\n",
    "df_grouped = df_copy.groupby(['time', 'location', 'postcode']).mean().reset_index()\n",
    "df_grouped.head()\n"
   ]
  },
  {
   "cell_type": "markdown",
   "metadata": {},
   "source": [
    "#### Split into train and test data"
   ]
  },
  {
   "cell_type": "code",
   "execution_count": 110,
   "metadata": {},
   "outputs": [],
   "source": [
    "# split into train and test\n",
    "train, test = train_test_split(df_grouped, test_size=0.2, random_state=42)\n"
   ]
  },
  {
   "cell_type": "code",
   "execution_count": 111,
   "metadata": {},
   "outputs": [],
   "source": [
    "X_train = train.drop(['time', 'energy'], axis=1)\n",
    "y_train = train['energy']\n",
    "X_test = test.drop(['time', 'energy'], axis=1)\n",
    "y_test = test['energy']\n"
   ]
  },
  {
   "cell_type": "markdown",
   "metadata": {},
   "source": [
    "#### Build model"
   ]
  },
  {
   "cell_type": "code",
   "execution_count": 112,
   "metadata": {},
   "outputs": [],
   "source": [
    "gbr = GradientBoostingRegressor(n_estimators=100, learning_rate=0.1, random_state=0, loss='squared_error')"
   ]
  },
  {
   "cell_type": "code",
   "execution_count": 113,
   "metadata": {},
   "outputs": [
    {
     "data": {
      "text/plain": [
       "GradientBoostingRegressor(random_state=0)"
      ]
     },
     "execution_count": 113,
     "metadata": {},
     "output_type": "execute_result"
    }
   ],
   "source": [
    "gbr.fit(X_train, y_train)"
   ]
  },
  {
   "cell_type": "code",
   "execution_count": 114,
   "metadata": {},
   "outputs": [],
   "source": [
    "# predict\n",
    "y_pred = gbr.predict(X_test)\n"
   ]
  },
  {
   "cell_type": "code",
   "execution_count": 115,
   "metadata": {},
   "outputs": [
    {
     "data": {
      "image/png": "[encoded data removed]",
      "text/plain": [
       "<Figure size 720x432 with 1 Axes>"
      ]
     },
     "metadata": {
      "needs_background": "light"
     },
     "output_type": "display_data"
    }
   ],
   "source": [
    "# plot the results\n",
    "plt.figure(figsize=(10, 6))\n",
    "\n",
    "plt.scatter(y_test, y_pred, color='blue')\n",
    "plt.xlabel('True Values')\n",
    "plt.ylabel('Predictions')\n",
    "plt.title('Gradient Boosting Regression')\n",
    "_ = plt.plot([-5, 100], [-5, 100], color='red')\n",
    "plt.show()\n"
   ]
  },
  {
   "cell_type": "code",
   "execution_count": 116,
   "metadata": {},
   "outputs": [
    {
     "name": "stdout",
     "output_type": "stream",
     "text": [
      "MSE: 19.5487\n",
      "RMSE: 4.4214\n",
      "MAE: 2.3196\n",
      "R2: 0.7311\n"
     ]
    }
   ],
   "source": [
    "# performance metrics\n",
    "mse = mean_squared_error(y_test, y_pred)\n",
    "rmse = np.sqrt(mse)\n",
    "mae = mean_absolute_error(y_test, y_pred)\n",
    "r2 = r2_score(y_test, y_pred)\n",
    "\n",
    "print(\"MSE: %.4f\" % mse)\n",
    "print(\"RMSE: %.4f\" % rmse)\n",
    "print(\"MAE: %.4f\" % mae)\n",
    "print(\"R2: %.4f\" % r2)\n"
   ]
  },
  {
   "cell_type": "markdown",
   "metadata": {},
   "source": [
    "### GB 4"
   ]
  },
  {
   "cell_type": "code",
   "execution_count": 117,
   "metadata": {},
   "outputs": [
    {
     "data": {
      "text/html": [
       "<div>\n",
       "<style scoped>\n",
       "    .dataframe tbody tr th:only-of-type {\n",
       "        vertical-align: middle;\n",
       "    }\n",
       "\n",
       "    .dataframe tbody tr th {\n",
       "        vertical-align: top;\n",
       "    }\n",
       "\n",
       "    .dataframe thead th {\n",
       "        text-align: right;\n",
       "    }\n",
       "</style>\n",
       "<table border=\"1\" class=\"dataframe\">\n",
       "  <thead>\n",
       "    <tr style=\"text-align: right;\">\n",
       "      <th></th>\n",
       "      <th>time</th>\n",
       "      <th>location</th>\n",
       "      <th>postcode</th>\n",
       "      <th>energy</th>\n",
       "      <th>temp</th>\n",
       "      <th>rhum</th>\n",
       "      <th>pres</th>\n",
       "    </tr>\n",
       "  </thead>\n",
       "  <tbody>\n",
       "    <tr>\n",
       "      <th>0</th>\n",
       "      <td>2006-10-01 00:30:00</td>\n",
       "      <td>30</td>\n",
       "      <td>BA1 5AW</td>\n",
       "      <td>32.8</td>\n",
       "      <td>14.95</td>\n",
       "      <td>93.0</td>\n",
       "      <td>1001.8</td>\n",
       "    </tr>\n",
       "    <tr>\n",
       "      <th>1</th>\n",
       "      <td>2006-10-01 00:30:00</td>\n",
       "      <td>30</td>\n",
       "      <td>BA1 5AW</td>\n",
       "      <td>32.8</td>\n",
       "      <td>14.95</td>\n",
       "      <td>93.0</td>\n",
       "      <td>1001.8</td>\n",
       "    </tr>\n",
       "    <tr>\n",
       "      <th>2</th>\n",
       "      <td>2006-10-01 01:00:00</td>\n",
       "      <td>30</td>\n",
       "      <td>BA1 5AW</td>\n",
       "      <td>33.0</td>\n",
       "      <td>14.80</td>\n",
       "      <td>92.0</td>\n",
       "      <td>1001.7</td>\n",
       "    </tr>\n",
       "    <tr>\n",
       "      <th>3</th>\n",
       "      <td>2006-10-01 01:00:00</td>\n",
       "      <td>30</td>\n",
       "      <td>BA1 5AW</td>\n",
       "      <td>33.0</td>\n",
       "      <td>14.80</td>\n",
       "      <td>92.0</td>\n",
       "      <td>1001.7</td>\n",
       "    </tr>\n",
       "    <tr>\n",
       "      <th>4</th>\n",
       "      <td>2006-10-01 01:30:00</td>\n",
       "      <td>13</td>\n",
       "      <td>BA1 5AL</td>\n",
       "      <td>5.9</td>\n",
       "      <td>14.75</td>\n",
       "      <td>91.5</td>\n",
       "      <td>1001.7</td>\n",
       "    </tr>\n",
       "  </tbody>\n",
       "</table>\n",
       "</div>"
      ],
      "text/plain": [
       "                 time  location postcode  energy   temp  rhum    pres\n",
       "0 2006-10-01 00:30:00        30  BA1 5AW    32.8  14.95  93.0  1001.8\n",
       "1 2006-10-01 00:30:00        30  BA1 5AW    32.8  14.95  93.0  1001.8\n",
       "2 2006-10-01 01:00:00        30  BA1 5AW    33.0  14.80  92.0  1001.7\n",
       "3 2006-10-01 01:00:00        30  BA1 5AW    33.0  14.80  92.0  1001.7\n",
       "4 2006-10-01 01:30:00        13  BA1 5AL     5.9  14.75  91.5  1001.7"
      ]
     },
     "execution_count": 117,
     "metadata": {},
     "output_type": "execute_result"
    }
   ],
   "source": [
    "df_copy = df_cols.copy()\n",
    "\n",
    "le = LabelEncoder()\n",
    "le.fit(df_cols['location'])\n",
    "df_copy.loc[:, 'location'] = le.transform(df_cols['location'])\n",
    "\n",
    "df_copy.head()\n"
   ]
  },
  {
   "cell_type": "code",
   "execution_count": 118,
   "metadata": {},
   "outputs": [
    {
     "data": {
      "text/html": [
       "<div>\n",
       "<style scoped>\n",
       "    .dataframe tbody tr th:only-of-type {\n",
       "        vertical-align: middle;\n",
       "    }\n",
       "\n",
       "    .dataframe tbody tr th {\n",
       "        vertical-align: top;\n",
       "    }\n",
       "\n",
       "    .dataframe thead th {\n",
       "        text-align: right;\n",
       "    }\n",
       "</style>\n",
       "<table border=\"1\" class=\"dataframe\">\n",
       "  <thead>\n",
       "    <tr style=\"text-align: right;\">\n",
       "      <th></th>\n",
       "      <th>time</th>\n",
       "      <th>location</th>\n",
       "      <th>energy</th>\n",
       "      <th>temp</th>\n",
       "      <th>rhum</th>\n",
       "      <th>pres</th>\n",
       "    </tr>\n",
       "  </thead>\n",
       "  <tbody>\n",
       "    <tr>\n",
       "      <th>0</th>\n",
       "      <td>2006-10-01 00:30:00</td>\n",
       "      <td>30</td>\n",
       "      <td>32.8</td>\n",
       "      <td>14.95</td>\n",
       "      <td>93.0</td>\n",
       "      <td>1001.8</td>\n",
       "    </tr>\n",
       "    <tr>\n",
       "      <th>1</th>\n",
       "      <td>2006-10-01 01:00:00</td>\n",
       "      <td>30</td>\n",
       "      <td>33.0</td>\n",
       "      <td>14.80</td>\n",
       "      <td>92.0</td>\n",
       "      <td>1001.7</td>\n",
       "    </tr>\n",
       "    <tr>\n",
       "      <th>2</th>\n",
       "      <td>2006-10-01 01:30:00</td>\n",
       "      <td>13</td>\n",
       "      <td>5.9</td>\n",
       "      <td>14.75</td>\n",
       "      <td>91.5</td>\n",
       "      <td>1001.7</td>\n",
       "    </tr>\n",
       "    <tr>\n",
       "      <th>3</th>\n",
       "      <td>2006-10-01 01:30:00</td>\n",
       "      <td>30</td>\n",
       "      <td>32.7</td>\n",
       "      <td>14.75</td>\n",
       "      <td>91.5</td>\n",
       "      <td>1001.7</td>\n",
       "    </tr>\n",
       "    <tr>\n",
       "      <th>4</th>\n",
       "      <td>2006-10-01 02:00:00</td>\n",
       "      <td>30</td>\n",
       "      <td>32.2</td>\n",
       "      <td>14.70</td>\n",
       "      <td>91.0</td>\n",
       "      <td>1001.7</td>\n",
       "    </tr>\n",
       "  </tbody>\n",
       "</table>\n",
       "</div>"
      ],
      "text/plain": [
       "                 time  location  energy   temp  rhum    pres\n",
       "0 2006-10-01 00:30:00        30    32.8  14.95  93.0  1001.8\n",
       "1 2006-10-01 01:00:00        30    33.0  14.80  92.0  1001.7\n",
       "2 2006-10-01 01:30:00        13     5.9  14.75  91.5  1001.7\n",
       "3 2006-10-01 01:30:00        30    32.7  14.75  91.5  1001.7\n",
       "4 2006-10-01 02:00:00        30    32.2  14.70  91.0  1001.7"
      ]
     },
     "execution_count": 118,
     "metadata": {},
     "output_type": "execute_result"
    }
   ],
   "source": [
    "# group by time and location\n",
    "df_grouped = df_copy.groupby(['time', 'location']).mean().reset_index()\n",
    "df_grouped.head()\n"
   ]
  },
  {
   "cell_type": "markdown",
   "metadata": {},
   "source": [
    "#### Split into train and test data"
   ]
  },
  {
   "cell_type": "code",
   "execution_count": 119,
   "metadata": {},
   "outputs": [],
   "source": [
    "# split into train and test\n",
    "train, test = train_test_split(df_grouped, test_size=0.2, random_state=42)\n"
   ]
  },
  {
   "cell_type": "code",
   "execution_count": 120,
   "metadata": {},
   "outputs": [],
   "source": [
    "X_train = train.drop(['time', 'energy'], axis=1)\n",
    "y_train = train['energy']\n",
    "X_test = test.drop(['time', 'energy'], axis=1)\n",
    "y_test = test['energy']\n"
   ]
  },
  {
   "cell_type": "markdown",
   "metadata": {},
   "source": [
    "#### Build Model"
   ]
  },
  {
   "cell_type": "code",
   "execution_count": 121,
   "metadata": {},
   "outputs": [],
   "source": [
    "gbr = GradientBoostingRegressor(n_estimators=100, learning_rate=0.1, random_state=0, loss='squared_error')"
   ]
  },
  {
   "cell_type": "code",
   "execution_count": 122,
   "metadata": {},
   "outputs": [
    {
     "data": {
      "text/plain": [
       "GradientBoostingRegressor(random_state=0)"
      ]
     },
     "execution_count": 122,
     "metadata": {},
     "output_type": "execute_result"
    }
   ],
   "source": [
    "gbr.fit(X_train, y_train)\n"
   ]
  },
  {
   "cell_type": "code",
   "execution_count": 123,
   "metadata": {},
   "outputs": [],
   "source": [
    "# predict\n",
    "y_pred = gbr.predict(X_test)\n"
   ]
  },
  {
   "cell_type": "code",
   "execution_count": 124,
   "metadata": {},
   "outputs": [
    {
     "data": {
      "image/png": "[encoded data removed]",
      "text/plain": [
       "<Figure size 720x432 with 1 Axes>"
      ]
     },
     "metadata": {
      "needs_background": "light"
     },
     "output_type": "display_data"
    }
   ],
   "source": [
    "# plot the results\n",
    "plt.figure(figsize=(10, 6))\n",
    "plt.scatter(y_test, y_pred, color='blue')\n",
    "plt.xlabel('True Values')\n",
    "plt.ylabel('Predictions')\n",
    "plt.title('Gradient Boosting Regression')\n",
    "_ = plt.plot([-5, 100], [-5, 100], color='red')\n",
    "plt.show()\n"
   ]
  },
  {
   "cell_type": "code",
   "execution_count": 125,
   "metadata": {},
   "outputs": [
    {
     "name": "stdout",
     "output_type": "stream",
     "text": [
      "MSE: 19.4960\n",
      "RMSE: 4.4154\n",
      "MAE: 2.3177\n",
      "R2: 0.7318\n"
     ]
    }
   ],
   "source": [
    "# performance metrics\n",
    "mse = mean_squared_error(y_test, y_pred)\n",
    "rmse = np.sqrt(mse)\n",
    "mae = mean_absolute_error(y_test, y_pred)\n",
    "r2 = r2_score(y_test, y_pred)\n",
    "\n",
    "print(\"MSE: %.4f\" % mse)\n",
    "print(\"RMSE: %.4f\" % rmse)\n",
    "print(\"MAE: %.4f\" % mae)\n",
    "print(\"R2: %.4f\" % r2)\n"
   ]
  },
  {
   "cell_type": "markdown",
   "metadata": {},
   "source": [
    "### GB 5"
   ]
  },
  {
   "cell_type": "code",
   "execution_count": 126,
   "metadata": {},
   "outputs": [],
   "source": [
    "df_copy = df_cols.copy()\n",
    "\n",
    "le = LabelEncoder()\n",
    "le.fit(df_cols['postcode'])\n",
    "df_copy.loc[:, 'postcode'] = le.transform(df_cols['postcode'])"
   ]
  },
  {
   "cell_type": "code",
   "execution_count": 127,
   "metadata": {},
   "outputs": [],
   "source": [
    "df_grouped = df_copy.groupby(['time', 'location', 'postcode']).mean().reset_index()"
   ]
  },
  {
   "cell_type": "code",
   "execution_count": 128,
   "metadata": {},
   "outputs": [],
   "source": [
    "train, test = train_test_split(df_grouped, test_size=0.2, random_state=42)"
   ]
  },
  {
   "cell_type": "code",
   "execution_count": 129,
   "metadata": {},
   "outputs": [],
   "source": [
    "X_train = train.drop(['time', 'energy', 'location'], axis=1)\n",
    "y_train = train['energy']\n",
    "X_test = test.drop(['time', 'energy', 'location'], axis=1)\n",
    "y_test = test['energy']\n"
   ]
  },
  {
   "cell_type": "code",
   "execution_count": 130,
   "metadata": {},
   "outputs": [],
   "source": [
    "gbr = GradientBoostingRegressor(n_estimators=100, learning_rate=0.1, random_state=0, loss='squared_error')"
   ]
  },
  {
   "cell_type": "code",
   "execution_count": 131,
   "metadata": {},
   "outputs": [
    {
     "data": {
      "text/plain": [
       "GradientBoostingRegressor(random_state=0)"
      ]
     },
     "execution_count": 131,
     "metadata": {},
     "output_type": "execute_result"
    }
   ],
   "source": [
    "gbr.fit(X_train, y_train)"
   ]
  },
  {
   "cell_type": "code",
   "execution_count": 132,
   "metadata": {},
   "outputs": [],
   "source": [
    "y_pred = gbr.predict(X_test)\n"
   ]
  },
  {
   "cell_type": "code",
   "execution_count": 133,
   "metadata": {},
   "outputs": [
    {
     "data": {
      "image/png": "[encoded data removed]",
      "text/plain": [
       "<Figure size 720x432 with 1 Axes>"
      ]
     },
     "metadata": {
      "needs_background": "light"
     },
     "output_type": "display_data"
    }
   ],
   "source": [
    "# plot the results\n",
    "plt.figure(figsize=(10, 6))\n",
    "\n",
    "plt.scatter(y_test, y_pred, color='blue')\n",
    "plt.xlabel('True Values')\n",
    "plt.ylabel('Predictions')\n",
    "plt.title('Gradient Boosting Regression')\n",
    "_ = plt.plot([-5, 100], [-5, 100], color='red')\n",
    "plt.show()\n"
   ]
  },
  {
   "cell_type": "code",
   "execution_count": 134,
   "metadata": {},
   "outputs": [
    {
     "name": "stdout",
     "output_type": "stream",
     "text": [
      "MSE: 23.2939\n",
      "RMSE: 4.8264\n",
      "MAE: 2.6185\n",
      "R2: 0.6795\n"
     ]
    }
   ],
   "source": [
    "# performance metrics\n",
    "mse = mean_squared_error(y_test, y_pred)\n",
    "rmse = np.sqrt(mse)\n",
    "mae = mean_absolute_error(y_test, y_pred)\n",
    "r2 = r2_score(y_test, y_pred)\n",
    "\n",
    "print(\"MSE: %.4f\" % mse)\n",
    "print(\"RMSE: %.4f\" % rmse)\n",
    "print(\"MAE: %.4f\" % mae)\n",
    "print(\"R2: %.4f\" % r2)\n"
   ]
  },
  {
   "cell_type": "code",
   "execution_count": null,
   "metadata": {},
   "outputs": [],
   "source": []
  }
 ],
 "metadata": {
  "interpreter": {
   "hash": "9b1f332fd89bb55c2c3f9863fa09609ddaa711e42a9a5767d6b702ced9885182"
  },
  "kernelspec": {
   "display_name": "Python 3.9.10 64-bit (windows store)",
   "language": "python",
   "name": "python3"
  },
  "language_info": {
   "codemirror_mode": {
    "name": "ipython",
    "version": 3
   },
   "file_extension": ".py",
   "mimetype": "text/x-python",
   "name": "python",
   "nbconvert_exporter": "python",
   "pygments_lexer": "ipython3",
   "version": "3.9.10"
  },
  "orig_nbformat": 4
 },
 "nbformat": 4,
 "nbformat_minor": 2
}
