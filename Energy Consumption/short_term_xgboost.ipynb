{
 "cells": [
  {
   "cell_type": "markdown",
   "metadata": {},
   "source": [
    "# Short Term Load Forecasting using XGBoost\n",
    "\n",
    "This notebook demonstrates the use of XGBoost for short term load forecasting. It follows the steps in [\"Short Term Load Forecasting Using XGBoost\"](https://doi.org/10.1007/978-3-030-15035-8_108)."
   ]
  },
  {
   "cell_type": "code",
   "execution_count": 1,
   "metadata": {},
   "outputs": [],
   "source": [
    "# import libraries\n",
    "import pandas as pd\n",
    "import numpy as np\n",
    "import matplotlib.pyplot as plt\n",
    "\n",
    "import xgboost as xgb\n",
    "\n",
    "from sklearn.model_selection import train_test_split\n",
    "from sklearn.metrics import mean_absolute_error, mean_squared_error, r2_score\n",
    "\n",
    "from tqdm import tqdm\n",
    "\n",
    "import time\n",
    "import pickle\n",
    "import warnings\n",
    "warnings.filterwarnings('ignore')\n",
    "\n",
    "plt.rcParams['figure.figsize'] = (12.8, 7.2)\n"
   ]
  },
  {
   "cell_type": "code",
   "execution_count": 2,
   "metadata": {},
   "outputs": [
    {
     "ename": "KeyboardInterrupt",
     "evalue": "",
     "output_type": "error",
     "traceback": [
      "\u001b[1;31m---------------------------------------------------------------------------\u001b[0m",
      "\u001b[1;31mKeyboardInterrupt\u001b[0m                         Traceback (most recent call last)",
      "\u001b[1;32m~\\AppData\\Local\\Temp/ipykernel_11440/2724301477.py\u001b[0m in \u001b[0;36m<module>\u001b[1;34m\u001b[0m\n\u001b[1;32m----> 1\u001b[1;33m \u001b[0mdf\u001b[0m \u001b[1;33m=\u001b[0m \u001b[0mpd\u001b[0m\u001b[1;33m.\u001b[0m\u001b[0mread_csv\u001b[0m\u001b[1;33m(\u001b[0m\u001b[1;34m'../data/BANES_v2.csv'\u001b[0m\u001b[1;33m,\u001b[0m \u001b[0mparse_dates\u001b[0m\u001b[1;33m=\u001b[0m\u001b[1;33m[\u001b[0m\u001b[1;34m'time'\u001b[0m\u001b[1;33m]\u001b[0m\u001b[1;33m)\u001b[0m\u001b[1;33m\u001b[0m\u001b[1;33m\u001b[0m\u001b[0m\n\u001b[0m\u001b[0;32m      2\u001b[0m \u001b[1;31m# df = df.groupby(['time', 'location']).mean().reset_index()\u001b[0m\u001b[1;33m\u001b[0m\u001b[1;33m\u001b[0m\u001b[0m\n\u001b[0;32m      3\u001b[0m \u001b[0mdf\u001b[0m\u001b[1;33m.\u001b[0m\u001b[0mhead\u001b[0m\u001b[1;33m(\u001b[0m\u001b[1;33m)\u001b[0m\u001b[1;33m\u001b[0m\u001b[1;33m\u001b[0m\u001b[0m\n",
      "\u001b[1;32m~\\AppData\\Local\\Packages\\PythonSoftwareFoundation.Python.3.9_qbz5n2kfra8p0\\LocalCache\\local-packages\\Python39\\site-packages\\pandas\\util\\_decorators.py\u001b[0m in \u001b[0;36mwrapper\u001b[1;34m(*args, **kwargs)\u001b[0m\n\u001b[0;32m    309\u001b[0m                     \u001b[0mstacklevel\u001b[0m\u001b[1;33m=\u001b[0m\u001b[0mstacklevel\u001b[0m\u001b[1;33m,\u001b[0m\u001b[1;33m\u001b[0m\u001b[1;33m\u001b[0m\u001b[0m\n\u001b[0;32m    310\u001b[0m                 )\n\u001b[1;32m--> 311\u001b[1;33m             \u001b[1;32mreturn\u001b[0m \u001b[0mfunc\u001b[0m\u001b[1;33m(\u001b[0m\u001b[1;33m*\u001b[0m\u001b[0margs\u001b[0m\u001b[1;33m,\u001b[0m \u001b[1;33m**\u001b[0m\u001b[0mkwargs\u001b[0m\u001b[1;33m)\u001b[0m\u001b[1;33m\u001b[0m\u001b[1;33m\u001b[0m\u001b[0m\n\u001b[0m\u001b[0;32m    312\u001b[0m \u001b[1;33m\u001b[0m\u001b[0m\n\u001b[0;32m    313\u001b[0m         \u001b[1;32mreturn\u001b[0m \u001b[0mwrapper\u001b[0m\u001b[1;33m\u001b[0m\u001b[1;33m\u001b[0m\u001b[0m\n",
      "\u001b[1;32m~\\AppData\\Local\\Packages\\PythonSoftwareFoundation.Python.3.9_qbz5n2kfra8p0\\LocalCache\\local-packages\\Python39\\site-packages\\pandas\\io\\parsers\\readers.py\u001b[0m in \u001b[0;36mread_csv\u001b[1;34m(filepath_or_buffer, sep, delimiter, header, names, index_col, usecols, squeeze, prefix, mangle_dupe_cols, dtype, engine, converters, true_values, false_values, skipinitialspace, skiprows, skipfooter, nrows, na_values, keep_default_na, na_filter, verbose, skip_blank_lines, parse_dates, infer_datetime_format, keep_date_col, date_parser, dayfirst, cache_dates, iterator, chunksize, compression, thousands, decimal, lineterminator, quotechar, quoting, doublequote, escapechar, comment, encoding, encoding_errors, dialect, error_bad_lines, warn_bad_lines, on_bad_lines, delim_whitespace, low_memory, memory_map, float_precision, storage_options)\u001b[0m\n\u001b[0;32m    584\u001b[0m     \u001b[0mkwds\u001b[0m\u001b[1;33m.\u001b[0m\u001b[0mupdate\u001b[0m\u001b[1;33m(\u001b[0m\u001b[0mkwds_defaults\u001b[0m\u001b[1;33m)\u001b[0m\u001b[1;33m\u001b[0m\u001b[1;33m\u001b[0m\u001b[0m\n\u001b[0;32m    585\u001b[0m \u001b[1;33m\u001b[0m\u001b[0m\n\u001b[1;32m--> 586\u001b[1;33m     \u001b[1;32mreturn\u001b[0m \u001b[0m_read\u001b[0m\u001b[1;33m(\u001b[0m\u001b[0mfilepath_or_buffer\u001b[0m\u001b[1;33m,\u001b[0m \u001b[0mkwds\u001b[0m\u001b[1;33m)\u001b[0m\u001b[1;33m\u001b[0m\u001b[1;33m\u001b[0m\u001b[0m\n\u001b[0m\u001b[0;32m    587\u001b[0m \u001b[1;33m\u001b[0m\u001b[0m\n\u001b[0;32m    588\u001b[0m \u001b[1;33m\u001b[0m\u001b[0m\n",
      "\u001b[1;32m~\\AppData\\Local\\Packages\\PythonSoftwareFoundation.Python.3.9_qbz5n2kfra8p0\\LocalCache\\local-packages\\Python39\\site-packages\\pandas\\io\\parsers\\readers.py\u001b[0m in \u001b[0;36m_read\u001b[1;34m(filepath_or_buffer, kwds)\u001b[0m\n\u001b[0;32m    486\u001b[0m \u001b[1;33m\u001b[0m\u001b[0m\n\u001b[0;32m    487\u001b[0m     \u001b[1;32mwith\u001b[0m \u001b[0mparser\u001b[0m\u001b[1;33m:\u001b[0m\u001b[1;33m\u001b[0m\u001b[1;33m\u001b[0m\u001b[0m\n\u001b[1;32m--> 488\u001b[1;33m         \u001b[1;32mreturn\u001b[0m \u001b[0mparser\u001b[0m\u001b[1;33m.\u001b[0m\u001b[0mread\u001b[0m\u001b[1;33m(\u001b[0m\u001b[0mnrows\u001b[0m\u001b[1;33m)\u001b[0m\u001b[1;33m\u001b[0m\u001b[1;33m\u001b[0m\u001b[0m\n\u001b[0m\u001b[0;32m    489\u001b[0m \u001b[1;33m\u001b[0m\u001b[0m\n\u001b[0;32m    490\u001b[0m \u001b[1;33m\u001b[0m\u001b[0m\n",
      "\u001b[1;32m~\\AppData\\Local\\Packages\\PythonSoftwareFoundation.Python.3.9_qbz5n2kfra8p0\\LocalCache\\local-packages\\Python39\\site-packages\\pandas\\io\\parsers\\readers.py\u001b[0m in \u001b[0;36mread\u001b[1;34m(self, nrows)\u001b[0m\n\u001b[0;32m   1045\u001b[0m     \u001b[1;32mdef\u001b[0m \u001b[0mread\u001b[0m\u001b[1;33m(\u001b[0m\u001b[0mself\u001b[0m\u001b[1;33m,\u001b[0m \u001b[0mnrows\u001b[0m\u001b[1;33m=\u001b[0m\u001b[1;32mNone\u001b[0m\u001b[1;33m)\u001b[0m\u001b[1;33m:\u001b[0m\u001b[1;33m\u001b[0m\u001b[1;33m\u001b[0m\u001b[0m\n\u001b[0;32m   1046\u001b[0m         \u001b[0mnrows\u001b[0m \u001b[1;33m=\u001b[0m \u001b[0mvalidate_integer\u001b[0m\u001b[1;33m(\u001b[0m\u001b[1;34m\"nrows\"\u001b[0m\u001b[1;33m,\u001b[0m \u001b[0mnrows\u001b[0m\u001b[1;33m)\u001b[0m\u001b[1;33m\u001b[0m\u001b[1;33m\u001b[0m\u001b[0m\n\u001b[1;32m-> 1047\u001b[1;33m         \u001b[0mindex\u001b[0m\u001b[1;33m,\u001b[0m \u001b[0mcolumns\u001b[0m\u001b[1;33m,\u001b[0m \u001b[0mcol_dict\u001b[0m \u001b[1;33m=\u001b[0m \u001b[0mself\u001b[0m\u001b[1;33m.\u001b[0m\u001b[0m_engine\u001b[0m\u001b[1;33m.\u001b[0m\u001b[0mread\u001b[0m\u001b[1;33m(\u001b[0m\u001b[0mnrows\u001b[0m\u001b[1;33m)\u001b[0m\u001b[1;33m\u001b[0m\u001b[1;33m\u001b[0m\u001b[0m\n\u001b[0m\u001b[0;32m   1048\u001b[0m \u001b[1;33m\u001b[0m\u001b[0m\n\u001b[0;32m   1049\u001b[0m         \u001b[1;32mif\u001b[0m \u001b[0mindex\u001b[0m \u001b[1;32mis\u001b[0m \u001b[1;32mNone\u001b[0m\u001b[1;33m:\u001b[0m\u001b[1;33m\u001b[0m\u001b[1;33m\u001b[0m\u001b[0m\n",
      "\u001b[1;32m~\\AppData\\Local\\Packages\\PythonSoftwareFoundation.Python.3.9_qbz5n2kfra8p0\\LocalCache\\local-packages\\Python39\\site-packages\\pandas\\io\\parsers\\c_parser_wrapper.py\u001b[0m in \u001b[0;36mread\u001b[1;34m(self, nrows)\u001b[0m\n\u001b[0;32m    223\u001b[0m                 \u001b[0mchunks\u001b[0m \u001b[1;33m=\u001b[0m \u001b[0mself\u001b[0m\u001b[1;33m.\u001b[0m\u001b[0m_reader\u001b[0m\u001b[1;33m.\u001b[0m\u001b[0mread_low_memory\u001b[0m\u001b[1;33m(\u001b[0m\u001b[0mnrows\u001b[0m\u001b[1;33m)\u001b[0m\u001b[1;33m\u001b[0m\u001b[1;33m\u001b[0m\u001b[0m\n\u001b[0;32m    224\u001b[0m                 \u001b[1;31m# destructive to chunks\u001b[0m\u001b[1;33m\u001b[0m\u001b[1;33m\u001b[0m\u001b[0m\n\u001b[1;32m--> 225\u001b[1;33m                 \u001b[0mdata\u001b[0m \u001b[1;33m=\u001b[0m \u001b[0m_concatenate_chunks\u001b[0m\u001b[1;33m(\u001b[0m\u001b[0mchunks\u001b[0m\u001b[1;33m)\u001b[0m\u001b[1;33m\u001b[0m\u001b[1;33m\u001b[0m\u001b[0m\n\u001b[0m\u001b[0;32m    226\u001b[0m \u001b[1;33m\u001b[0m\u001b[0m\n\u001b[0;32m    227\u001b[0m             \u001b[1;32melse\u001b[0m\u001b[1;33m:\u001b[0m\u001b[1;33m\u001b[0m\u001b[1;33m\u001b[0m\u001b[0m\n",
      "\u001b[1;32m~\\AppData\\Local\\Packages\\PythonSoftwareFoundation.Python.3.9_qbz5n2kfra8p0\\LocalCache\\local-packages\\Python39\\site-packages\\pandas\\io\\parsers\\c_parser_wrapper.py\u001b[0m in \u001b[0;36m_concatenate_chunks\u001b[1;34m(chunks)\u001b[0m\n\u001b[0;32m    354\u001b[0m         \u001b[0marrs\u001b[0m \u001b[1;33m=\u001b[0m \u001b[1;33m[\u001b[0m\u001b[0mchunk\u001b[0m\u001b[1;33m.\u001b[0m\u001b[0mpop\u001b[0m\u001b[1;33m(\u001b[0m\u001b[0mname\u001b[0m\u001b[1;33m)\u001b[0m \u001b[1;32mfor\u001b[0m \u001b[0mchunk\u001b[0m \u001b[1;32min\u001b[0m \u001b[0mchunks\u001b[0m\u001b[1;33m]\u001b[0m\u001b[1;33m\u001b[0m\u001b[1;33m\u001b[0m\u001b[0m\n\u001b[0;32m    355\u001b[0m         \u001b[1;31m# Check each arr for consistent types.\u001b[0m\u001b[1;33m\u001b[0m\u001b[1;33m\u001b[0m\u001b[0m\n\u001b[1;32m--> 356\u001b[1;33m         \u001b[0mdtypes\u001b[0m \u001b[1;33m=\u001b[0m \u001b[1;33m{\u001b[0m\u001b[0ma\u001b[0m\u001b[1;33m.\u001b[0m\u001b[0mdtype\u001b[0m \u001b[1;32mfor\u001b[0m \u001b[0ma\u001b[0m \u001b[1;32min\u001b[0m \u001b[0marrs\u001b[0m\u001b[1;33m}\u001b[0m\u001b[1;33m\u001b[0m\u001b[1;33m\u001b[0m\u001b[0m\n\u001b[0m\u001b[0;32m    357\u001b[0m         \u001b[1;31m# TODO: shouldn't we exclude all EA dtypes here?\u001b[0m\u001b[1;33m\u001b[0m\u001b[1;33m\u001b[0m\u001b[0m\n\u001b[0;32m    358\u001b[0m         \u001b[0mnumpy_dtypes\u001b[0m \u001b[1;33m=\u001b[0m \u001b[1;33m{\u001b[0m\u001b[0mx\u001b[0m \u001b[1;32mfor\u001b[0m \u001b[0mx\u001b[0m \u001b[1;32min\u001b[0m \u001b[0mdtypes\u001b[0m \u001b[1;32mif\u001b[0m \u001b[1;32mnot\u001b[0m \u001b[0mis_categorical_dtype\u001b[0m\u001b[1;33m(\u001b[0m\u001b[0mx\u001b[0m\u001b[1;33m)\u001b[0m\u001b[1;33m}\u001b[0m\u001b[1;33m\u001b[0m\u001b[1;33m\u001b[0m\u001b[0m\n",
      "\u001b[1;32m~\\AppData\\Local\\Packages\\PythonSoftwareFoundation.Python.3.9_qbz5n2kfra8p0\\LocalCache\\local-packages\\Python39\\site-packages\\pandas\\io\\parsers\\c_parser_wrapper.py\u001b[0m in \u001b[0;36m<setcomp>\u001b[1;34m(.0)\u001b[0m\n\u001b[0;32m    354\u001b[0m         \u001b[0marrs\u001b[0m \u001b[1;33m=\u001b[0m \u001b[1;33m[\u001b[0m\u001b[0mchunk\u001b[0m\u001b[1;33m.\u001b[0m\u001b[0mpop\u001b[0m\u001b[1;33m(\u001b[0m\u001b[0mname\u001b[0m\u001b[1;33m)\u001b[0m \u001b[1;32mfor\u001b[0m \u001b[0mchunk\u001b[0m \u001b[1;32min\u001b[0m \u001b[0mchunks\u001b[0m\u001b[1;33m]\u001b[0m\u001b[1;33m\u001b[0m\u001b[1;33m\u001b[0m\u001b[0m\n\u001b[0;32m    355\u001b[0m         \u001b[1;31m# Check each arr for consistent types.\u001b[0m\u001b[1;33m\u001b[0m\u001b[1;33m\u001b[0m\u001b[0m\n\u001b[1;32m--> 356\u001b[1;33m         \u001b[0mdtypes\u001b[0m \u001b[1;33m=\u001b[0m \u001b[1;33m{\u001b[0m\u001b[0ma\u001b[0m\u001b[1;33m.\u001b[0m\u001b[0mdtype\u001b[0m \u001b[1;32mfor\u001b[0m \u001b[0ma\u001b[0m \u001b[1;32min\u001b[0m \u001b[0marrs\u001b[0m\u001b[1;33m}\u001b[0m\u001b[1;33m\u001b[0m\u001b[1;33m\u001b[0m\u001b[0m\n\u001b[0m\u001b[0;32m    357\u001b[0m         \u001b[1;31m# TODO: shouldn't we exclude all EA dtypes here?\u001b[0m\u001b[1;33m\u001b[0m\u001b[1;33m\u001b[0m\u001b[0m\n\u001b[0;32m    358\u001b[0m         \u001b[0mnumpy_dtypes\u001b[0m \u001b[1;33m=\u001b[0m \u001b[1;33m{\u001b[0m\u001b[0mx\u001b[0m \u001b[1;32mfor\u001b[0m \u001b[0mx\u001b[0m \u001b[1;32min\u001b[0m \u001b[0mdtypes\u001b[0m \u001b[1;32mif\u001b[0m \u001b[1;32mnot\u001b[0m \u001b[0mis_categorical_dtype\u001b[0m\u001b[1;33m(\u001b[0m\u001b[0mx\u001b[0m\u001b[1;33m)\u001b[0m\u001b[1;33m}\u001b[0m\u001b[1;33m\u001b[0m\u001b[1;33m\u001b[0m\u001b[0m\n",
      "\u001b[1;31mKeyboardInterrupt\u001b[0m: "
     ]
    }
   ],
   "source": [
    "df = pd.read_csv('../data/BANES_v2.csv', parse_dates=['time'])\n",
    "# df = df.groupby(['time', 'location']).mean().reset_index()\n",
    "df.head()"
   ]
  },
  {
   "cell_type": "code",
   "execution_count": null,
   "metadata": {},
   "outputs": [],
   "source": [
    "df = df.sort_values(by=['location', 'time'])"
   ]
  },
  {
   "cell_type": "markdown",
   "metadata": {},
   "source": [
    "Joining the last week of data will expand the usage up to almost 20 GiB of data. That's too large for the RAM and unnecessary for this.\n",
    "We will use only around 3 years of data to reduce the RAM usage."
   ]
  },
  {
   "cell_type": "code",
   "execution_count": null,
   "metadata": {},
   "outputs": [],
   "source": [
    "df = df[df['time'] >= '2017-01-01']"
   ]
  },
  {
   "cell_type": "code",
   "execution_count": 5,
   "metadata": {},
   "outputs": [
    {
     "name": "stderr",
     "output_type": "stream",
     "text": [
      "100%|██████████| 336/336 [01:51<00:00,  3.02it/s]\n"
     ]
    }
   ],
   "source": [
    "# join the last 7 days of data\n",
    "for i in tqdm(range(1, 48 * 7 + 1)):\n",
    "    df.loc[df['time'].shift(i) == df['time'] - pd.Timedelta(i * 30, 'm'), f\"energy_lag_{i}\"] = df['energy'].shift(i)"
   ]
  },
  {
   "cell_type": "code",
   "execution_count": 6,
   "metadata": {},
   "outputs": [
    {
     "data": {
      "text/html": [
       "<div>\n",
       "<style scoped>\n",
       "    .dataframe tbody tr th:only-of-type {\n",
       "        vertical-align: middle;\n",
       "    }\n",
       "\n",
       "    .dataframe tbody tr th {\n",
       "        vertical-align: top;\n",
       "    }\n",
       "\n",
       "    .dataframe thead th {\n",
       "        text-align: right;\n",
       "    }\n",
       "</style>\n",
       "<table border=\"1\" class=\"dataframe\">\n",
       "  <thead>\n",
       "    <tr style=\"text-align: right;\">\n",
       "      <th></th>\n",
       "      <th>location</th>\n",
       "      <th>time</th>\n",
       "      <th>energy</th>\n",
       "      <th>AirTemp</th>\n",
       "      <th>RelativeHumidity</th>\n",
       "      <th>Dni</th>\n",
       "      <th>energy_lag_1</th>\n",
       "      <th>energy_lag_2</th>\n",
       "      <th>energy_lag_3</th>\n",
       "      <th>energy_lag_4</th>\n",
       "      <th>...</th>\n",
       "      <th>energy_lag_327</th>\n",
       "      <th>energy_lag_328</th>\n",
       "      <th>energy_lag_329</th>\n",
       "      <th>energy_lag_330</th>\n",
       "      <th>energy_lag_331</th>\n",
       "      <th>energy_lag_332</th>\n",
       "      <th>energy_lag_333</th>\n",
       "      <th>energy_lag_334</th>\n",
       "      <th>energy_lag_335</th>\n",
       "      <th>energy_lag_336</th>\n",
       "    </tr>\n",
       "  </thead>\n",
       "  <tbody>\n",
       "    <tr>\n",
       "      <th>188447</th>\n",
       "      <td>##Bishop Sutton Primary School Electricity</td>\n",
       "      <td>2017-01-08 00:00:00+00:00</td>\n",
       "      <td>0.000</td>\n",
       "      <td>8.4</td>\n",
       "      <td>0.987</td>\n",
       "      <td>0.0</td>\n",
       "      <td>0.000</td>\n",
       "      <td>0.0</td>\n",
       "      <td>0.0</td>\n",
       "      <td>0.0</td>\n",
       "      <td>...</td>\n",
       "      <td>0.005</td>\n",
       "      <td>0.005</td>\n",
       "      <td>0.005</td>\n",
       "      <td>0.005</td>\n",
       "      <td>0.006</td>\n",
       "      <td>0.005</td>\n",
       "      <td>0.005</td>\n",
       "      <td>0.000</td>\n",
       "      <td>0.000</td>\n",
       "      <td>0.000</td>\n",
       "    </tr>\n",
       "    <tr>\n",
       "      <th>188448</th>\n",
       "      <td>##Bishop Sutton Primary School Electricity</td>\n",
       "      <td>2017-01-08 00:30:00+00:00</td>\n",
       "      <td>0.000</td>\n",
       "      <td>8.3</td>\n",
       "      <td>0.987</td>\n",
       "      <td>0.0</td>\n",
       "      <td>0.000</td>\n",
       "      <td>0.0</td>\n",
       "      <td>0.0</td>\n",
       "      <td>0.0</td>\n",
       "      <td>...</td>\n",
       "      <td>0.006</td>\n",
       "      <td>0.005</td>\n",
       "      <td>0.005</td>\n",
       "      <td>0.005</td>\n",
       "      <td>0.005</td>\n",
       "      <td>0.006</td>\n",
       "      <td>0.005</td>\n",
       "      <td>0.005</td>\n",
       "      <td>0.000</td>\n",
       "      <td>0.000</td>\n",
       "    </tr>\n",
       "    <tr>\n",
       "      <th>188449</th>\n",
       "      <td>##Bishop Sutton Primary School Electricity</td>\n",
       "      <td>2017-01-08 01:00:00+00:00</td>\n",
       "      <td>0.000</td>\n",
       "      <td>8.2</td>\n",
       "      <td>0.987</td>\n",
       "      <td>0.0</td>\n",
       "      <td>0.000</td>\n",
       "      <td>0.0</td>\n",
       "      <td>0.0</td>\n",
       "      <td>0.0</td>\n",
       "      <td>...</td>\n",
       "      <td>0.005</td>\n",
       "      <td>0.006</td>\n",
       "      <td>0.005</td>\n",
       "      <td>0.005</td>\n",
       "      <td>0.005</td>\n",
       "      <td>0.005</td>\n",
       "      <td>0.006</td>\n",
       "      <td>0.005</td>\n",
       "      <td>0.005</td>\n",
       "      <td>0.000</td>\n",
       "    </tr>\n",
       "    <tr>\n",
       "      <th>188450</th>\n",
       "      <td>##Bishop Sutton Primary School Electricity</td>\n",
       "      <td>2017-01-08 01:30:00+00:00</td>\n",
       "      <td>0.006</td>\n",
       "      <td>8.1</td>\n",
       "      <td>0.987</td>\n",
       "      <td>0.0</td>\n",
       "      <td>0.000</td>\n",
       "      <td>0.0</td>\n",
       "      <td>0.0</td>\n",
       "      <td>0.0</td>\n",
       "      <td>...</td>\n",
       "      <td>0.005</td>\n",
       "      <td>0.005</td>\n",
       "      <td>0.006</td>\n",
       "      <td>0.005</td>\n",
       "      <td>0.005</td>\n",
       "      <td>0.005</td>\n",
       "      <td>0.005</td>\n",
       "      <td>0.006</td>\n",
       "      <td>0.005</td>\n",
       "      <td>0.005</td>\n",
       "    </tr>\n",
       "    <tr>\n",
       "      <th>188451</th>\n",
       "      <td>##Bishop Sutton Primary School Electricity</td>\n",
       "      <td>2017-01-08 02:00:00+00:00</td>\n",
       "      <td>0.005</td>\n",
       "      <td>8.0</td>\n",
       "      <td>0.988</td>\n",
       "      <td>0.0</td>\n",
       "      <td>0.006</td>\n",
       "      <td>0.0</td>\n",
       "      <td>0.0</td>\n",
       "      <td>0.0</td>\n",
       "      <td>...</td>\n",
       "      <td>0.005</td>\n",
       "      <td>0.005</td>\n",
       "      <td>0.005</td>\n",
       "      <td>0.006</td>\n",
       "      <td>0.005</td>\n",
       "      <td>0.005</td>\n",
       "      <td>0.005</td>\n",
       "      <td>0.005</td>\n",
       "      <td>0.006</td>\n",
       "      <td>0.005</td>\n",
       "    </tr>\n",
       "  </tbody>\n",
       "</table>\n",
       "<p>5 rows × 342 columns</p>\n",
       "</div>"
      ],
      "text/plain": [
       "                                          location                      time  \\\n",
       "188447  ##Bishop Sutton Primary School Electricity 2017-01-08 00:00:00+00:00   \n",
       "188448  ##Bishop Sutton Primary School Electricity 2017-01-08 00:30:00+00:00   \n",
       "188449  ##Bishop Sutton Primary School Electricity 2017-01-08 01:00:00+00:00   \n",
       "188450  ##Bishop Sutton Primary School Electricity 2017-01-08 01:30:00+00:00   \n",
       "188451  ##Bishop Sutton Primary School Electricity 2017-01-08 02:00:00+00:00   \n",
       "\n",
       "        energy  AirTemp  RelativeHumidity  Dni  energy_lag_1  energy_lag_2  \\\n",
       "188447   0.000      8.4             0.987  0.0         0.000           0.0   \n",
       "188448   0.000      8.3             0.987  0.0         0.000           0.0   \n",
       "188449   0.000      8.2             0.987  0.0         0.000           0.0   \n",
       "188450   0.006      8.1             0.987  0.0         0.000           0.0   \n",
       "188451   0.005      8.0             0.988  0.0         0.006           0.0   \n",
       "\n",
       "        energy_lag_3  energy_lag_4  ...  energy_lag_327  energy_lag_328  \\\n",
       "188447           0.0           0.0  ...           0.005           0.005   \n",
       "188448           0.0           0.0  ...           0.006           0.005   \n",
       "188449           0.0           0.0  ...           0.005           0.006   \n",
       "188450           0.0           0.0  ...           0.005           0.005   \n",
       "188451           0.0           0.0  ...           0.005           0.005   \n",
       "\n",
       "        energy_lag_329  energy_lag_330  energy_lag_331  energy_lag_332  \\\n",
       "188447           0.005           0.005           0.006           0.005   \n",
       "188448           0.005           0.005           0.005           0.006   \n",
       "188449           0.005           0.005           0.005           0.005   \n",
       "188450           0.006           0.005           0.005           0.005   \n",
       "188451           0.005           0.006           0.005           0.005   \n",
       "\n",
       "        energy_lag_333  energy_lag_334  energy_lag_335  energy_lag_336  \n",
       "188447           0.005           0.000           0.000           0.000  \n",
       "188448           0.005           0.005           0.000           0.000  \n",
       "188449           0.006           0.005           0.005           0.000  \n",
       "188450           0.005           0.006           0.005           0.005  \n",
       "188451           0.005           0.005           0.006           0.005  \n",
       "\n",
       "[5 rows x 342 columns]"
      ]
     },
     "execution_count": 6,
     "metadata": {},
     "output_type": "execute_result"
    }
   ],
   "source": [
    "df.dropna(inplace=True)\n",
    "df.head()"
   ]
  },
  {
   "cell_type": "code",
   "execution_count": 7,
   "metadata": {},
   "outputs": [],
   "source": [
    "# df.to_csv('../data/BANES_v3_oneweek.csv', index=False)"
   ]
  },
  {
   "cell_type": "markdown",
   "metadata": {},
   "source": [
    "## Feature Selection"
   ]
  },
  {
   "cell_type": "code",
   "execution_count": 3,
   "metadata": {},
   "outputs": [
    {
     "data": {
      "text/html": [
       "<div>\n",
       "<style scoped>\n",
       "    .dataframe tbody tr th:only-of-type {\n",
       "        vertical-align: middle;\n",
       "    }\n",
       "\n",
       "    .dataframe tbody tr th {\n",
       "        vertical-align: top;\n",
       "    }\n",
       "\n",
       "    .dataframe thead th {\n",
       "        text-align: right;\n",
       "    }\n",
       "</style>\n",
       "<table border=\"1\" class=\"dataframe\">\n",
       "  <thead>\n",
       "    <tr style=\"text-align: right;\">\n",
       "      <th></th>\n",
       "      <th>location</th>\n",
       "      <th>time</th>\n",
       "      <th>energy</th>\n",
       "      <th>AirTemp</th>\n",
       "      <th>RelativeHumidity</th>\n",
       "      <th>Dni</th>\n",
       "      <th>energy_lag_1</th>\n",
       "      <th>energy_lag_2</th>\n",
       "      <th>energy_lag_3</th>\n",
       "      <th>energy_lag_4</th>\n",
       "      <th>...</th>\n",
       "      <th>energy_lag_327</th>\n",
       "      <th>energy_lag_328</th>\n",
       "      <th>energy_lag_329</th>\n",
       "      <th>energy_lag_330</th>\n",
       "      <th>energy_lag_331</th>\n",
       "      <th>energy_lag_332</th>\n",
       "      <th>energy_lag_333</th>\n",
       "      <th>energy_lag_334</th>\n",
       "      <th>energy_lag_335</th>\n",
       "      <th>energy_lag_336</th>\n",
       "    </tr>\n",
       "  </thead>\n",
       "  <tbody>\n",
       "    <tr>\n",
       "      <th>0</th>\n",
       "      <td>##Bishop Sutton Primary School Electricity</td>\n",
       "      <td>2017-01-08 00:00:00+00:00</td>\n",
       "      <td>0.000</td>\n",
       "      <td>8.4</td>\n",
       "      <td>0.987</td>\n",
       "      <td>0.0</td>\n",
       "      <td>0.000</td>\n",
       "      <td>0.0</td>\n",
       "      <td>0.0</td>\n",
       "      <td>0.0</td>\n",
       "      <td>...</td>\n",
       "      <td>0.005</td>\n",
       "      <td>0.005</td>\n",
       "      <td>0.005</td>\n",
       "      <td>0.005</td>\n",
       "      <td>0.006</td>\n",
       "      <td>0.005</td>\n",
       "      <td>0.005</td>\n",
       "      <td>0.000</td>\n",
       "      <td>0.000</td>\n",
       "      <td>0.000</td>\n",
       "    </tr>\n",
       "    <tr>\n",
       "      <th>1</th>\n",
       "      <td>##Bishop Sutton Primary School Electricity</td>\n",
       "      <td>2017-01-08 00:30:00+00:00</td>\n",
       "      <td>0.000</td>\n",
       "      <td>8.3</td>\n",
       "      <td>0.987</td>\n",
       "      <td>0.0</td>\n",
       "      <td>0.000</td>\n",
       "      <td>0.0</td>\n",
       "      <td>0.0</td>\n",
       "      <td>0.0</td>\n",
       "      <td>...</td>\n",
       "      <td>0.006</td>\n",
       "      <td>0.005</td>\n",
       "      <td>0.005</td>\n",
       "      <td>0.005</td>\n",
       "      <td>0.005</td>\n",
       "      <td>0.006</td>\n",
       "      <td>0.005</td>\n",
       "      <td>0.005</td>\n",
       "      <td>0.000</td>\n",
       "      <td>0.000</td>\n",
       "    </tr>\n",
       "    <tr>\n",
       "      <th>2</th>\n",
       "      <td>##Bishop Sutton Primary School Electricity</td>\n",
       "      <td>2017-01-08 01:00:00+00:00</td>\n",
       "      <td>0.000</td>\n",
       "      <td>8.2</td>\n",
       "      <td>0.987</td>\n",
       "      <td>0.0</td>\n",
       "      <td>0.000</td>\n",
       "      <td>0.0</td>\n",
       "      <td>0.0</td>\n",
       "      <td>0.0</td>\n",
       "      <td>...</td>\n",
       "      <td>0.005</td>\n",
       "      <td>0.006</td>\n",
       "      <td>0.005</td>\n",
       "      <td>0.005</td>\n",
       "      <td>0.005</td>\n",
       "      <td>0.005</td>\n",
       "      <td>0.006</td>\n",
       "      <td>0.005</td>\n",
       "      <td>0.005</td>\n",
       "      <td>0.000</td>\n",
       "    </tr>\n",
       "    <tr>\n",
       "      <th>3</th>\n",
       "      <td>##Bishop Sutton Primary School Electricity</td>\n",
       "      <td>2017-01-08 01:30:00+00:00</td>\n",
       "      <td>0.006</td>\n",
       "      <td>8.1</td>\n",
       "      <td>0.987</td>\n",
       "      <td>0.0</td>\n",
       "      <td>0.000</td>\n",
       "      <td>0.0</td>\n",
       "      <td>0.0</td>\n",
       "      <td>0.0</td>\n",
       "      <td>...</td>\n",
       "      <td>0.005</td>\n",
       "      <td>0.005</td>\n",
       "      <td>0.006</td>\n",
       "      <td>0.005</td>\n",
       "      <td>0.005</td>\n",
       "      <td>0.005</td>\n",
       "      <td>0.005</td>\n",
       "      <td>0.006</td>\n",
       "      <td>0.005</td>\n",
       "      <td>0.005</td>\n",
       "    </tr>\n",
       "    <tr>\n",
       "      <th>4</th>\n",
       "      <td>##Bishop Sutton Primary School Electricity</td>\n",
       "      <td>2017-01-08 02:00:00+00:00</td>\n",
       "      <td>0.005</td>\n",
       "      <td>8.0</td>\n",
       "      <td>0.988</td>\n",
       "      <td>0.0</td>\n",
       "      <td>0.006</td>\n",
       "      <td>0.0</td>\n",
       "      <td>0.0</td>\n",
       "      <td>0.0</td>\n",
       "      <td>...</td>\n",
       "      <td>0.005</td>\n",
       "      <td>0.005</td>\n",
       "      <td>0.005</td>\n",
       "      <td>0.006</td>\n",
       "      <td>0.005</td>\n",
       "      <td>0.005</td>\n",
       "      <td>0.005</td>\n",
       "      <td>0.005</td>\n",
       "      <td>0.006</td>\n",
       "      <td>0.005</td>\n",
       "    </tr>\n",
       "  </tbody>\n",
       "</table>\n",
       "<p>5 rows × 342 columns</p>\n",
       "</div>"
      ],
      "text/plain": [
       "                                     location                      time  \\\n",
       "0  ##Bishop Sutton Primary School Electricity 2017-01-08 00:00:00+00:00   \n",
       "1  ##Bishop Sutton Primary School Electricity 2017-01-08 00:30:00+00:00   \n",
       "2  ##Bishop Sutton Primary School Electricity 2017-01-08 01:00:00+00:00   \n",
       "3  ##Bishop Sutton Primary School Electricity 2017-01-08 01:30:00+00:00   \n",
       "4  ##Bishop Sutton Primary School Electricity 2017-01-08 02:00:00+00:00   \n",
       "\n",
       "   energy  AirTemp  RelativeHumidity  Dni  energy_lag_1  energy_lag_2  \\\n",
       "0   0.000      8.4             0.987  0.0         0.000           0.0   \n",
       "1   0.000      8.3             0.987  0.0         0.000           0.0   \n",
       "2   0.000      8.2             0.987  0.0         0.000           0.0   \n",
       "3   0.006      8.1             0.987  0.0         0.000           0.0   \n",
       "4   0.005      8.0             0.988  0.0         0.006           0.0   \n",
       "\n",
       "   energy_lag_3  energy_lag_4  ...  energy_lag_327  energy_lag_328  \\\n",
       "0           0.0           0.0  ...           0.005           0.005   \n",
       "1           0.0           0.0  ...           0.006           0.005   \n",
       "2           0.0           0.0  ...           0.005           0.006   \n",
       "3           0.0           0.0  ...           0.005           0.005   \n",
       "4           0.0           0.0  ...           0.005           0.005   \n",
       "\n",
       "   energy_lag_329  energy_lag_330  energy_lag_331  energy_lag_332  \\\n",
       "0           0.005           0.005           0.006           0.005   \n",
       "1           0.005           0.005           0.005           0.006   \n",
       "2           0.005           0.005           0.005           0.005   \n",
       "3           0.006           0.005           0.005           0.005   \n",
       "4           0.005           0.006           0.005           0.005   \n",
       "\n",
       "   energy_lag_333  energy_lag_334  energy_lag_335  energy_lag_336  \n",
       "0           0.005           0.000           0.000           0.000  \n",
       "1           0.005           0.005           0.000           0.000  \n",
       "2           0.006           0.005           0.005           0.000  \n",
       "3           0.005           0.006           0.005           0.005  \n",
       "4           0.005           0.005           0.006           0.005  \n",
       "\n",
       "[5 rows x 342 columns]"
      ]
     },
     "execution_count": 3,
     "metadata": {},
     "output_type": "execute_result"
    }
   ],
   "source": [
    "df = pd.read_csv('../data/BANES_v3_oneweek.csv', parse_dates=['time'])\n",
    "df.head()"
   ]
  },
  {
   "cell_type": "code",
   "execution_count": 4,
   "metadata": {},
   "outputs": [
    {
     "data": {
      "text/plain": [
       "(2466431, 342)"
      ]
     },
     "execution_count": 4,
     "metadata": {},
     "output_type": "execute_result"
    }
   ],
   "source": [
    "df.shape"
   ]
  },
  {
   "cell_type": "code",
   "execution_count": 5,
   "metadata": {},
   "outputs": [
    {
     "data": {
      "text/plain": [
       "843519402"
      ]
     },
     "execution_count": 5,
     "metadata": {},
     "output_type": "execute_result"
    }
   ],
   "source": [
    "df.shape[0] * df.shape[1]"
   ]
  },
  {
   "cell_type": "markdown",
   "metadata": {},
   "source": [
    "3 years of data is still too large. We'll only use around one year and half."
   ]
  },
  {
   "cell_type": "code",
   "execution_count": 6,
   "metadata": {},
   "outputs": [
    {
     "data": {
      "text/plain": [
       "(array([[13.9  ,  0.937,  0.   , ...,  0.   ,  0.   ,  0.   ],\n",
       "        [13.9  ,  0.942,  0.   , ...,  0.   ,  0.   ,  0.   ],\n",
       "        [14.   ,  0.948,  0.   , ...,  0.   ,  0.   ,  0.   ],\n",
       "        [14.1  ,  0.951,  0.   , ...,  0.   ,  0.   ,  0.   ],\n",
       "        [14.1  ,  0.952,  0.   , ...,  0.   ,  0.   ,  0.   ]]),\n",
       " array([1.347, 1.384, 1.344, 1.394, 1.34 ]))"
      ]
     },
     "execution_count": 6,
     "metadata": {},
     "output_type": "execute_result"
    }
   ],
   "source": [
    "df = df[(df['time'] >= '2019-01-01') & (df['time'] < '2020-01-01')]\n",
    "\n",
    "X_vals = df.drop(['energy', 'location', 'time'], axis=1).values\n",
    "y_vals = df['energy'].values\n",
    "\n",
    "X_vals[:5], y_vals[:5]"
   ]
  },
  {
   "cell_type": "code",
   "execution_count": 7,
   "metadata": {},
   "outputs": [],
   "source": [
    "model = xgb.XGBRegressor(n_estimators=1000, learning_rate=0.05, max_depth=5, tree_method='gpu_hist', verbosity=2)"
   ]
  },
  {
   "cell_type": "code",
   "execution_count": 8,
   "metadata": {},
   "outputs": [
    {
     "name": "stdout",
     "output_type": "stream",
     "text": [
      "Training time: 259.9533 s\n"
     ]
    }
   ],
   "source": [
    "init = time.time()\n",
    "model.fit(X_vals, y_vals)\n",
    "end = time.time()\n",
    "\n",
    "print('Training time: {:.4f} s'.format(end - init))"
   ]
  },
  {
   "cell_type": "code",
   "execution_count": 9,
   "metadata": {},
   "outputs": [],
   "source": [
    "\n",
    "# pickle.dump(model, open('../models/model_featureimportance.pkl', 'wb'))"
   ]
  },
  {
   "cell_type": "code",
   "execution_count": 10,
   "metadata": {},
   "outputs": [],
   "source": [
    "columns = df.drop(['energy', 'location', 'time'], axis=1).columns"
   ]
  },
  {
   "cell_type": "code",
   "execution_count": 11,
   "metadata": {},
   "outputs": [],
   "source": [
    "feature_importance = pd.Series(model.feature_importances_, index=columns)"
   ]
  },
  {
   "cell_type": "code",
   "execution_count": 12,
   "metadata": {},
   "outputs": [
    {
     "data": {
      "image/png": "[encoded data removed]",
      "text/plain": [
       "<Figure size 921.6x518.4 with 1 Axes>"
      ]
     },
     "metadata": {
      "needs_background": "light"
     },
     "output_type": "display_data"
    }
   ],
   "source": [
    "plt.bar(range(len(model.feature_importances_)), model.feature_importances_)\n",
    "plt.title('Feature Importance')\n",
    "plt.xlabel('Feature')\n",
    "plt.ylabel('Importance')\n",
    "plt.show()"
   ]
  },
  {
   "cell_type": "code",
   "execution_count": 13,
   "metadata": {},
   "outputs": [
    {
     "data": {
      "image/png": "[encoded data removed]",
      "text/plain": [
       "<Figure size 921.6x518.4 with 1 Axes>"
      ]
     },
     "metadata": {
      "needs_background": "light"
     },
     "output_type": "display_data"
    }
   ],
   "source": [
    "plt.bar(range(len(model.feature_importances_)), model.feature_importances_)\n",
    "# on the top of the bar plot, add the feature names but only for the 20 largest features\n",
    "plt.title('Feature Importance (limited)')\n",
    "plt.xlabel('Feature')\n",
    "plt.ylabel('Importance')\n",
    "plt.ylim([0, 0.015])\n",
    "plt.show()"
   ]
  },
  {
   "cell_type": "code",
   "execution_count": 14,
   "metadata": {},
   "outputs": [
    {
     "data": {
      "image/png": "[encoded data removed]",
      "text/plain": [
       "<Figure size 921.6x720 with 1 Axes>"
      ]
     },
     "metadata": {
      "needs_background": "light"
     },
     "output_type": "display_data"
    }
   ],
   "source": [
    "plt.figure(figsize=(12.8, 10))\n",
    "\n",
    "feature_importance.nlargest(40).plot(kind='barh')\n",
    "plt.title('Feature Importance (top 40)')\n",
    "plt.ylabel('Feature')\n",
    "plt.xlabel('Importance')\n",
    "plt.show()"
   ]
  },
  {
   "cell_type": "code",
   "execution_count": 15,
   "metadata": {},
   "outputs": [
    {
     "data": {
      "image/png": "[encoded data removed]",
      "text/plain": [
       "<Figure size 921.6x720 with 1 Axes>"
      ]
     },
     "metadata": {
      "needs_background": "light"
     },
     "output_type": "display_data"
    }
   ],
   "source": [
    "plt.figure(figsize=(12.8, 10))\n",
    "\n",
    "feature_importance.drop(['energy_lag_1']).nlargest(40).plot(kind='barh')\n",
    "plt.title('Feature Importance (top 40 without lag 1)')\n",
    "plt.ylabel('Feature')\n",
    "plt.xlabel('Importance')\n",
    "plt.show()"
   ]
  },
  {
   "cell_type": "code",
   "execution_count": 16,
   "metadata": {},
   "outputs": [
    {
     "data": {
      "text/plain": [
       "Index(['energy_lag_1', 'energy_lag_335', 'energy_lag_328', 'energy_lag_336',\n",
       "       'energy_lag_46', 'energy_lag_334', 'energy_lag_48', 'energy_lag_47',\n",
       "       'energy_lag_51', 'energy_lag_286', 'energy_lag_327', 'energy_lag_332',\n",
       "       'energy_lag_287', 'energy_lag_280', 'energy_lag_45', 'energy_lag_279',\n",
       "       'energy_lag_326', 'energy_lag_49', 'energy_lag_284', 'energy_lag_331',\n",
       "       'energy_lag_57', 'energy_lag_50', 'energy_lag_333', 'energy_lag_291',\n",
       "       'energy_lag_288', 'energy_lag_2', 'energy_lag_223', 'energy_lag_289',\n",
       "       'energy_lag_285', 'energy_lag_315', 'energy_lag_191', 'energy_lag_330',\n",
       "       'energy_lag_319', 'energy_lag_3', 'energy_lag_56', 'energy_lag_320',\n",
       "       'energy_lag_145', 'energy_lag_281', 'energy_lag_43', 'energy_lag_9'],\n",
       "      dtype='object')"
      ]
     },
     "execution_count": 16,
     "metadata": {},
     "output_type": "execute_result"
    }
   ],
   "source": [
    "features = feature_importance.nlargest(40).index\n",
    "features"
   ]
  },
  {
   "cell_type": "markdown",
   "metadata": {},
   "source": [
    "## Test with features worth > 0.5%\n",
    "\n",
    "- 5x5 casas\n",
    "- 1x[7 9 12] casas\n",
    "- 1x80/20"
   ]
  },
  {
   "cell_type": "code",
   "execution_count": 17,
   "metadata": {},
   "outputs": [
    {
     "data": {
      "text/plain": [
       "Index(['energy_lag_1', 'energy_lag_46', 'energy_lag_328', 'energy_lag_334',\n",
       "       'energy_lag_335', 'energy_lag_336'],\n",
       "      dtype='object')"
      ]
     },
     "execution_count": 17,
     "metadata": {},
     "output_type": "execute_result"
    }
   ],
   "source": [
    "# feature importance larger than 0.5%\n",
    "features = feature_importance[feature_importance > 0.005].index\n",
    "features"
   ]
  },
  {
   "cell_type": "code",
   "execution_count": 19,
   "metadata": {},
   "outputs": [
    {
     "data": {
      "text/html": [
       "<div>\n",
       "<style scoped>\n",
       "    .dataframe tbody tr th:only-of-type {\n",
       "        vertical-align: middle;\n",
       "    }\n",
       "\n",
       "    .dataframe tbody tr th {\n",
       "        vertical-align: top;\n",
       "    }\n",
       "\n",
       "    .dataframe thead th {\n",
       "        text-align: right;\n",
       "    }\n",
       "</style>\n",
       "<table border=\"1\" class=\"dataframe\">\n",
       "  <thead>\n",
       "    <tr style=\"text-align: right;\">\n",
       "      <th></th>\n",
       "      <th>energy_lag_1</th>\n",
       "      <th>energy_lag_46</th>\n",
       "      <th>energy_lag_328</th>\n",
       "      <th>energy_lag_334</th>\n",
       "      <th>energy_lag_335</th>\n",
       "      <th>energy_lag_336</th>\n",
       "      <th>energy</th>\n",
       "      <th>location</th>\n",
       "    </tr>\n",
       "  </thead>\n",
       "  <tbody>\n",
       "    <tr>\n",
       "      <th>33650</th>\n",
       "      <td>1.344</td>\n",
       "      <td>1.414</td>\n",
       "      <td>0.0</td>\n",
       "      <td>0.0</td>\n",
       "      <td>0.0</td>\n",
       "      <td>0.0</td>\n",
       "      <td>1.347</td>\n",
       "      <td>##Northgate House Electricity Supply 1</td>\n",
       "    </tr>\n",
       "    <tr>\n",
       "      <th>33651</th>\n",
       "      <td>1.347</td>\n",
       "      <td>1.359</td>\n",
       "      <td>0.0</td>\n",
       "      <td>0.0</td>\n",
       "      <td>0.0</td>\n",
       "      <td>0.0</td>\n",
       "      <td>1.384</td>\n",
       "      <td>##Northgate House Electricity Supply 1</td>\n",
       "    </tr>\n",
       "    <tr>\n",
       "      <th>33652</th>\n",
       "      <td>1.384</td>\n",
       "      <td>1.381</td>\n",
       "      <td>0.0</td>\n",
       "      <td>0.0</td>\n",
       "      <td>0.0</td>\n",
       "      <td>0.0</td>\n",
       "      <td>1.344</td>\n",
       "      <td>##Northgate House Electricity Supply 1</td>\n",
       "    </tr>\n",
       "    <tr>\n",
       "      <th>33653</th>\n",
       "      <td>1.344</td>\n",
       "      <td>1.296</td>\n",
       "      <td>0.0</td>\n",
       "      <td>0.0</td>\n",
       "      <td>0.0</td>\n",
       "      <td>0.0</td>\n",
       "      <td>1.394</td>\n",
       "      <td>##Northgate House Electricity Supply 1</td>\n",
       "    </tr>\n",
       "    <tr>\n",
       "      <th>33654</th>\n",
       "      <td>1.394</td>\n",
       "      <td>1.313</td>\n",
       "      <td>0.0</td>\n",
       "      <td>0.0</td>\n",
       "      <td>0.0</td>\n",
       "      <td>0.0</td>\n",
       "      <td>1.340</td>\n",
       "      <td>##Northgate House Electricity Supply 1</td>\n",
       "    </tr>\n",
       "  </tbody>\n",
       "</table>\n",
       "</div>"
      ],
      "text/plain": [
       "       energy_lag_1  energy_lag_46  energy_lag_328  energy_lag_334  \\\n",
       "33650         1.344          1.414             0.0             0.0   \n",
       "33651         1.347          1.359             0.0             0.0   \n",
       "33652         1.384          1.381             0.0             0.0   \n",
       "33653         1.344          1.296             0.0             0.0   \n",
       "33654         1.394          1.313             0.0             0.0   \n",
       "\n",
       "       energy_lag_335  energy_lag_336  energy  \\\n",
       "33650             0.0             0.0   1.347   \n",
       "33651             0.0             0.0   1.384   \n",
       "33652             0.0             0.0   1.344   \n",
       "33653             0.0             0.0   1.394   \n",
       "33654             0.0             0.0   1.340   \n",
       "\n",
       "                                     location  \n",
       "33650  ##Northgate House Electricity Supply 1  \n",
       "33651  ##Northgate House Electricity Supply 1  \n",
       "33652  ##Northgate House Electricity Supply 1  \n",
       "33653  ##Northgate House Electricity Supply 1  \n",
       "33654  ##Northgate House Electricity Supply 1  "
      ]
     },
     "execution_count": 19,
     "metadata": {},
     "output_type": "execute_result"
    }
   ],
   "source": [
    "df_05 = df[[*features] + ['energy', 'location']]\n",
    "df_05.head()"
   ]
  },
  {
   "cell_type": "markdown",
   "metadata": {},
   "source": [
    "As we can see, the half hour before the energy is the most important, with around the same hour the day before and the last week being also somewhat important."
   ]
  },
  {
   "cell_type": "markdown",
   "metadata": {},
   "source": [
    "### 5x5 houses"
   ]
  },
  {
   "cell_type": "code",
   "execution_count": 23,
   "metadata": {},
   "outputs": [],
   "source": [
    "models = [xgb.XGBRegressor(n_estimators=1000, learning_rate=0.05, max_depth=5, tree_method='gpu_hist', verbosity=2) for _ in range(5)]"
   ]
  },
  {
   "cell_type": "code",
   "execution_count": 24,
   "metadata": {},
   "outputs": [
    {
     "name": "stdout",
     "output_type": "stream",
     "text": [
      "Training time: 14.7672 s\n",
      "Prediction time: 0.2244 s\n",
      "MSE: 0.3704\n",
      "RMSE: 0.6086\n",
      "MAE: 0.3053\n",
      "WMAPE: 18.9405\n",
      "R2: 0.9234\n",
      "\n",
      "Training time: 14.0753 s\n",
      "Prediction time: 0.1893 s\n",
      "MSE: 0.1798\n",
      "RMSE: 0.4240\n",
      "MAE: 0.1727\n",
      "WMAPE: 21.2881\n",
      "R2: 0.9048\n",
      "\n",
      "Training time: 14.4677 s\n",
      "Prediction time: 0.2756 s\n",
      "MSE: 1.3460\n",
      "RMSE: 1.1602\n",
      "MAE: 0.4177\n",
      "WMAPE: 11.9769\n",
      "R2: 0.9708\n",
      "\n",
      "Training time: 14.0565 s\n",
      "Prediction time: 0.3514 s\n",
      "MSE: 0.2441\n",
      "RMSE: 0.4940\n",
      "MAE: 0.1861\n",
      "WMAPE: 14.9444\n",
      "R2: 0.9519\n",
      "\n",
      "Training time: 14.4625 s\n",
      "Prediction time: 0.2330 s\n",
      "MSE: 0.3098\n",
      "RMSE: 0.5566\n",
      "MAE: 0.1819\n",
      "WMAPE: 17.4994\n",
      "R2: 0.9234\n",
      "\n"
     ]
    }
   ],
   "source": [
    "for model in models:\n",
    "    # get 5 random houses\n",
    "    random_locations = np.random.choice(df['location'].unique(), size=5, replace=False)\n",
    "    # use the 5 houses as the test set\n",
    "    test = df_05[df_05['location'].isin(random_locations)]\n",
    "    # remove the houses from the training set\n",
    "    train = df_05[~df_05['location'].isin(random_locations)]\n",
    "    X_train = train.drop(['energy', 'location'], axis=1).values\n",
    "    y_train = train['energy'].values\n",
    "    X_test = test.drop(['energy', 'location'], axis=1).values\n",
    "    y_test = test['energy'].values\n",
    "\n",
    "    init = time.time()\n",
    "    model.fit(X_train, y_train)\n",
    "    end = time.time()\n",
    "\n",
    "    print('Training time: {:.4f} s'.format(end - init))\n",
    "\n",
    "    init = time.time()\n",
    "    y_pred = model.predict(X_test)\n",
    "    end = time.time()\n",
    "\n",
    "    print('Prediction time: {:.4f} s'.format(end - init))\n",
    "\n",
    "    mse = mean_squared_error(y_test, y_pred)\n",
    "    rmse = np.sqrt(mse)\n",
    "    mae = mean_absolute_error(y_test, y_pred)    \n",
    "    wmape = np.sum(np.abs(y_pred - y_test)) / np.sum(np.abs(y_test)) * 100\n",
    "    r2 = r2_score(y_test, y_pred)\n",
    "\n",
    "    print('MSE: {:.4f}'.format(mse))\n",
    "    print('RMSE: {:.4f}'.format(rmse))\n",
    "    print('MAE: {:.4f}'.format(mae))\n",
    "    print('WMAPE: {:.4f}'.format(wmape))\n",
    "    print('R2: {:.4f}\\n'.format(r2))\n"
   ]
  },
  {
   "cell_type": "markdown",
   "metadata": {},
   "source": [
    "### 80/20 split"
   ]
  },
  {
   "cell_type": "code",
   "execution_count": 25,
   "metadata": {},
   "outputs": [],
   "source": [
    "model = xgb.XGBRegressor(n_estimators=1000, learning_rate=0.05, max_depth=5, tree_method='gpu_hist', verbosity=2)"
   ]
  },
  {
   "cell_type": "code",
   "execution_count": 27,
   "metadata": {},
   "outputs": [],
   "source": [
    "X_train, X_test, y_train, y_test = train_test_split(df_05.drop(['energy', 'location'], axis=1), df_05['energy'], test_size=0.2, random_state=42)"
   ]
  },
  {
   "cell_type": "code",
   "execution_count": 28,
   "metadata": {},
   "outputs": [
    {
     "name": "stdout",
     "output_type": "stream",
     "text": [
      "Training time: 14.3055 s\n",
      "Prediction time: 0.5841 s\n",
      "MSE: 0.4816\n",
      "RMSE: 0.6940\n",
      "MAE: 0.2881\n",
      "WMAPE: 9.3880\n",
      "R2: 0.9886\n",
      "\n"
     ]
    }
   ],
   "source": [
    "init = time.time()\n",
    "model.fit(X_train, y_train)\n",
    "end = time.time()\n",
    "\n",
    "print('Training time: {:.4f} s'.format(end - init))\n",
    "\n",
    "init = time.time()\n",
    "y_pred = model.predict(X_test)\n",
    "end = time.time()\n",
    "\n",
    "print('Prediction time: {:.4f} s'.format(end - init))\n",
    "\n",
    "mse = mean_squared_error(y_test, y_pred)\n",
    "rmse = np.sqrt(mse)\n",
    "mae = mean_absolute_error(y_test, y_pred)\n",
    "wmape = np.sum(np.abs(y_pred - y_test)) / np.sum(np.abs(y_test)) * 100\n",
    "r2 = r2_score(y_test, y_pred)\n",
    "\n",
    "print('MSE: {:.4f}'.format(mse))\n",
    "print('RMSE: {:.4f}'.format(rmse))\n",
    "print('MAE: {:.4f}'.format(mae))\n",
    "print('WMAPE: {:.4f}'.format(wmape))\n",
    "print('R2: {:.4f}\\n'.format(r2))\n"
   ]
  },
  {
   "cell_type": "code",
   "execution_count": null,
   "metadata": {},
   "outputs": [],
   "source": []
  },
  {
   "cell_type": "markdown",
   "metadata": {},
   "source": [
    "## Export Data with the top 40 features"
   ]
  },
  {
   "cell_type": "code",
   "execution_count": 22,
   "metadata": {},
   "outputs": [
    {
     "data": {
      "text/plain": [
       "[1,\n",
       " 328,\n",
       " 335,\n",
       " 46,\n",
       " 336,\n",
       " 334,\n",
       " 48,\n",
       " 47,\n",
       " 286,\n",
       " 287,\n",
       " 280,\n",
       " 51,\n",
       " 327,\n",
       " 284,\n",
       " 332,\n",
       " 45,\n",
       " 331,\n",
       " 333,\n",
       " 50,\n",
       " 49,\n",
       " 279,\n",
       " 326,\n",
       " 315,\n",
       " 40,\n",
       " 289,\n",
       " 288,\n",
       " 2,\n",
       " 291,\n",
       " 320,\n",
       " 39,\n",
       " 317,\n",
       " 57,\n",
       " 145,\n",
       " 56,\n",
       " 292,\n",
       " 143,\n",
       " 276,\n",
       " 220,\n",
       " 3,\n",
       " 290]"
      ]
     },
     "execution_count": 22,
     "metadata": {},
     "output_type": "execute_result"
    }
   ],
   "source": [
    "features = [int(f.split(\"_\")[-1]) for f in features]\n",
    "features"
   ]
  },
  {
   "cell_type": "code",
   "execution_count": 23,
   "metadata": {},
   "outputs": [],
   "source": [
    "ddf = pd.read_csv('../data/BANES_v2.csv', parse_dates=['time'])"
   ]
  },
  {
   "cell_type": "code",
   "execution_count": 24,
   "metadata": {},
   "outputs": [
    {
     "name": "stderr",
     "output_type": "stream",
     "text": [
      "100%|██████████| 40/40 [00:33<00:00,  1.20it/s]\n"
     ]
    }
   ],
   "source": [
    "for i in tqdm(range(len(features))):\n",
    "    f = features[i]\n",
    "    ddf.loc[ddf['time'].shift(f) == ddf['time'] - pd.Timedelta(f * 30, 'm'), f\"energy_lag_{f}\"] = ddf['energy'].shift(f)"
   ]
  },
  {
   "cell_type": "code",
   "execution_count": 25,
   "metadata": {},
   "outputs": [],
   "source": [
    "ddf = ddf.dropna()\n"
   ]
  },
  {
   "cell_type": "code",
   "execution_count": 26,
   "metadata": {},
   "outputs": [],
   "source": [
    "ddf.to_csv('../data/BANES_v4_featureimportance.csv', index=False)"
   ]
  },
  {
   "cell_type": "markdown",
   "metadata": {},
   "source": [
    "# XGBoost training"
   ]
  },
  {
   "cell_type": "code",
   "execution_count": 27,
   "metadata": {},
   "outputs": [
    {
     "name": "stdout",
     "output_type": "stream",
     "text": [
      "<class 'pandas.core.frame.DataFrame'>\n",
      "Int64Index: 7618080 entries, 336 to 7759967\n",
      "Data columns (total 46 columns):\n",
      " #   Column            Dtype              \n",
      "---  ------            -----              \n",
      " 0   location          object             \n",
      " 1   time              datetime64[ns, UTC]\n",
      " 2   energy            float64            \n",
      " 3   AirTemp           float64            \n",
      " 4   RelativeHumidity  float64            \n",
      " 5   Dni               float64            \n",
      " 6   energy_lag_1      float64            \n",
      " 7   energy_lag_328    float64            \n",
      " 8   energy_lag_335    float64            \n",
      " 9   energy_lag_46     float64            \n",
      " 10  energy_lag_336    float64            \n",
      " 11  energy_lag_334    float64            \n",
      " 12  energy_lag_48     float64            \n",
      " 13  energy_lag_47     float64            \n",
      " 14  energy_lag_286    float64            \n",
      " 15  energy_lag_287    float64            \n",
      " 16  energy_lag_280    float64            \n",
      " 17  energy_lag_51     float64            \n",
      " 18  energy_lag_327    float64            \n",
      " 19  energy_lag_284    float64            \n",
      " 20  energy_lag_332    float64            \n",
      " 21  energy_lag_45     float64            \n",
      " 22  energy_lag_331    float64            \n",
      " 23  energy_lag_333    float64            \n",
      " 24  energy_lag_50     float64            \n",
      " 25  energy_lag_49     float64            \n",
      " 26  energy_lag_279    float64            \n",
      " 27  energy_lag_326    float64            \n",
      " 28  energy_lag_315    float64            \n",
      " 29  energy_lag_40     float64            \n",
      " 30  energy_lag_289    float64            \n",
      " 31  energy_lag_288    float64            \n",
      " 32  energy_lag_2      float64            \n",
      " 33  energy_lag_291    float64            \n",
      " 34  energy_lag_320    float64            \n",
      " 35  energy_lag_39     float64            \n",
      " 36  energy_lag_317    float64            \n",
      " 37  energy_lag_57     float64            \n",
      " 38  energy_lag_145    float64            \n",
      " 39  energy_lag_56     float64            \n",
      " 40  energy_lag_292    float64            \n",
      " 41  energy_lag_143    float64            \n",
      " 42  energy_lag_276    float64            \n",
      " 43  energy_lag_220    float64            \n",
      " 44  energy_lag_3      float64            \n",
      " 45  energy_lag_290    float64            \n",
      "dtypes: datetime64[ns, UTC](1), float64(44), object(1)\n",
      "memory usage: 2.7+ GB\n"
     ]
    }
   ],
   "source": [
    "ddf.info()"
   ]
  },
  {
   "cell_type": "code",
   "execution_count": 28,
   "metadata": {},
   "outputs": [
    {
     "data": {
      "text/html": [
       "<div>\n",
       "<style scoped>\n",
       "    .dataframe tbody tr th:only-of-type {\n",
       "        vertical-align: middle;\n",
       "    }\n",
       "\n",
       "    .dataframe tbody tr th {\n",
       "        vertical-align: top;\n",
       "    }\n",
       "\n",
       "    .dataframe thead th {\n",
       "        text-align: right;\n",
       "    }\n",
       "</style>\n",
       "<table border=\"1\" class=\"dataframe\">\n",
       "  <thead>\n",
       "    <tr style=\"text-align: right;\">\n",
       "      <th></th>\n",
       "      <th>energy</th>\n",
       "      <th>AirTemp</th>\n",
       "      <th>RelativeHumidity</th>\n",
       "      <th>Dni</th>\n",
       "      <th>energy_lag_1</th>\n",
       "      <th>energy_lag_328</th>\n",
       "      <th>energy_lag_335</th>\n",
       "      <th>energy_lag_46</th>\n",
       "      <th>energy_lag_336</th>\n",
       "      <th>energy_lag_334</th>\n",
       "      <th>...</th>\n",
       "      <th>energy_lag_317</th>\n",
       "      <th>energy_lag_57</th>\n",
       "      <th>energy_lag_145</th>\n",
       "      <th>energy_lag_56</th>\n",
       "      <th>energy_lag_292</th>\n",
       "      <th>energy_lag_143</th>\n",
       "      <th>energy_lag_276</th>\n",
       "      <th>energy_lag_220</th>\n",
       "      <th>energy_lag_3</th>\n",
       "      <th>energy_lag_290</th>\n",
       "    </tr>\n",
       "  </thead>\n",
       "  <tbody>\n",
       "    <tr>\n",
       "      <th>count</th>\n",
       "      <td>7.618080e+06</td>\n",
       "      <td>7.618080e+06</td>\n",
       "      <td>7.618080e+06</td>\n",
       "      <td>7.618080e+06</td>\n",
       "      <td>7.618080e+06</td>\n",
       "      <td>7.618080e+06</td>\n",
       "      <td>7.618080e+06</td>\n",
       "      <td>7.618080e+06</td>\n",
       "      <td>7.618080e+06</td>\n",
       "      <td>7.618080e+06</td>\n",
       "      <td>...</td>\n",
       "      <td>7.618080e+06</td>\n",
       "      <td>7.618080e+06</td>\n",
       "      <td>7.618080e+06</td>\n",
       "      <td>7.618080e+06</td>\n",
       "      <td>7.618080e+06</td>\n",
       "      <td>7.618080e+06</td>\n",
       "      <td>7.618080e+06</td>\n",
       "      <td>7.618080e+06</td>\n",
       "      <td>7.618080e+06</td>\n",
       "      <td>7.618080e+06</td>\n",
       "    </tr>\n",
       "    <tr>\n",
       "      <th>mean</th>\n",
       "      <td>4.047301e+00</td>\n",
       "      <td>1.037881e+01</td>\n",
       "      <td>8.224648e-01</td>\n",
       "      <td>9.455131e+01</td>\n",
       "      <td>4.047312e+00</td>\n",
       "      <td>4.045944e+00</td>\n",
       "      <td>4.045883e+00</td>\n",
       "      <td>4.047256e+00</td>\n",
       "      <td>4.045876e+00</td>\n",
       "      <td>4.045890e+00</td>\n",
       "      <td>...</td>\n",
       "      <td>4.046194e+00</td>\n",
       "      <td>4.047229e+00</td>\n",
       "      <td>4.046361e+00</td>\n",
       "      <td>4.047236e+00</td>\n",
       "      <td>4.046653e+00</td>\n",
       "      <td>4.046348e+00</td>\n",
       "      <td>4.046644e+00</td>\n",
       "      <td>4.046735e+00</td>\n",
       "      <td>4.047327e+00</td>\n",
       "      <td>4.046660e+00</td>\n",
       "    </tr>\n",
       "    <tr>\n",
       "      <th>std</th>\n",
       "      <td>8.456606e+00</td>\n",
       "      <td>5.630281e+00</td>\n",
       "      <td>1.291052e-01</td>\n",
       "      <td>2.143843e+02</td>\n",
       "      <td>8.456609e+00</td>\n",
       "      <td>8.456158e+00</td>\n",
       "      <td>8.456215e+00</td>\n",
       "      <td>8.456330e+00</td>\n",
       "      <td>8.456223e+00</td>\n",
       "      <td>8.456208e+00</td>\n",
       "      <td>...</td>\n",
       "      <td>8.456348e+00</td>\n",
       "      <td>8.456297e+00</td>\n",
       "      <td>8.455656e+00</td>\n",
       "      <td>8.456302e+00</td>\n",
       "      <td>8.457062e+00</td>\n",
       "      <td>8.455644e+00</td>\n",
       "      <td>8.457053e+00</td>\n",
       "      <td>8.456899e+00</td>\n",
       "      <td>8.456609e+00</td>\n",
       "      <td>8.457062e+00</td>\n",
       "    </tr>\n",
       "    <tr>\n",
       "      <th>min</th>\n",
       "      <td>0.000000e+00</td>\n",
       "      <td>-9.000000e+00</td>\n",
       "      <td>3.060000e-01</td>\n",
       "      <td>0.000000e+00</td>\n",
       "      <td>0.000000e+00</td>\n",
       "      <td>0.000000e+00</td>\n",
       "      <td>0.000000e+00</td>\n",
       "      <td>0.000000e+00</td>\n",
       "      <td>0.000000e+00</td>\n",
       "      <td>0.000000e+00</td>\n",
       "      <td>...</td>\n",
       "      <td>0.000000e+00</td>\n",
       "      <td>0.000000e+00</td>\n",
       "      <td>0.000000e+00</td>\n",
       "      <td>0.000000e+00</td>\n",
       "      <td>0.000000e+00</td>\n",
       "      <td>0.000000e+00</td>\n",
       "      <td>0.000000e+00</td>\n",
       "      <td>0.000000e+00</td>\n",
       "      <td>0.000000e+00</td>\n",
       "      <td>0.000000e+00</td>\n",
       "    </tr>\n",
       "    <tr>\n",
       "      <th>25%</th>\n",
       "      <td>2.290000e-01</td>\n",
       "      <td>6.400000e+00</td>\n",
       "      <td>7.450000e-01</td>\n",
       "      <td>0.000000e+00</td>\n",
       "      <td>2.290000e-01</td>\n",
       "      <td>2.290000e-01</td>\n",
       "      <td>2.290000e-01</td>\n",
       "      <td>2.290000e-01</td>\n",
       "      <td>2.290000e-01</td>\n",
       "      <td>2.290000e-01</td>\n",
       "      <td>...</td>\n",
       "      <td>2.290000e-01</td>\n",
       "      <td>2.290000e-01</td>\n",
       "      <td>2.290000e-01</td>\n",
       "      <td>2.290000e-01</td>\n",
       "      <td>2.290000e-01</td>\n",
       "      <td>2.290000e-01</td>\n",
       "      <td>2.290000e-01</td>\n",
       "      <td>2.290000e-01</td>\n",
       "      <td>2.290000e-01</td>\n",
       "      <td>2.290000e-01</td>\n",
       "    </tr>\n",
       "    <tr>\n",
       "      <th>50%</th>\n",
       "      <td>7.630000e-01</td>\n",
       "      <td>1.030000e+01</td>\n",
       "      <td>8.590000e-01</td>\n",
       "      <td>0.000000e+00</td>\n",
       "      <td>7.630000e-01</td>\n",
       "      <td>7.620000e-01</td>\n",
       "      <td>7.620000e-01</td>\n",
       "      <td>7.630000e-01</td>\n",
       "      <td>7.620000e-01</td>\n",
       "      <td>7.620000e-01</td>\n",
       "      <td>...</td>\n",
       "      <td>7.620000e-01</td>\n",
       "      <td>7.630000e-01</td>\n",
       "      <td>7.630000e-01</td>\n",
       "      <td>7.630000e-01</td>\n",
       "      <td>7.630000e-01</td>\n",
       "      <td>7.630000e-01</td>\n",
       "      <td>7.630000e-01</td>\n",
       "      <td>7.630000e-01</td>\n",
       "      <td>7.630000e-01</td>\n",
       "      <td>7.630000e-01</td>\n",
       "    </tr>\n",
       "    <tr>\n",
       "      <th>75%</th>\n",
       "      <td>3.258000e+00</td>\n",
       "      <td>1.440000e+01</td>\n",
       "      <td>9.260000e-01</td>\n",
       "      <td>1.500000e+01</td>\n",
       "      <td>3.258000e+00</td>\n",
       "      <td>3.255000e+00</td>\n",
       "      <td>3.255000e+00</td>\n",
       "      <td>3.258000e+00</td>\n",
       "      <td>3.255000e+00</td>\n",
       "      <td>3.255000e+00</td>\n",
       "      <td>...</td>\n",
       "      <td>3.255000e+00</td>\n",
       "      <td>3.258000e+00</td>\n",
       "      <td>3.257000e+00</td>\n",
       "      <td>3.258000e+00</td>\n",
       "      <td>3.256000e+00</td>\n",
       "      <td>3.257000e+00</td>\n",
       "      <td>3.256000e+00</td>\n",
       "      <td>3.256000e+00</td>\n",
       "      <td>3.258000e+00</td>\n",
       "      <td>3.256000e+00</td>\n",
       "    </tr>\n",
       "    <tr>\n",
       "      <th>max</th>\n",
       "      <td>7.470000e+01</td>\n",
       "      <td>2.970000e+01</td>\n",
       "      <td>1.000000e+00</td>\n",
       "      <td>9.460000e+02</td>\n",
       "      <td>7.470000e+01</td>\n",
       "      <td>7.470000e+01</td>\n",
       "      <td>7.470000e+01</td>\n",
       "      <td>7.470000e+01</td>\n",
       "      <td>7.470000e+01</td>\n",
       "      <td>7.470000e+01</td>\n",
       "      <td>...</td>\n",
       "      <td>7.470000e+01</td>\n",
       "      <td>7.470000e+01</td>\n",
       "      <td>7.470000e+01</td>\n",
       "      <td>7.470000e+01</td>\n",
       "      <td>7.470000e+01</td>\n",
       "      <td>7.470000e+01</td>\n",
       "      <td>7.470000e+01</td>\n",
       "      <td>7.470000e+01</td>\n",
       "      <td>7.470000e+01</td>\n",
       "      <td>7.470000e+01</td>\n",
       "    </tr>\n",
       "  </tbody>\n",
       "</table>\n",
       "<p>8 rows × 44 columns</p>\n",
       "</div>"
      ],
      "text/plain": [
       "             energy       AirTemp  RelativeHumidity           Dni  \\\n",
       "count  7.618080e+06  7.618080e+06      7.618080e+06  7.618080e+06   \n",
       "mean   4.047301e+00  1.037881e+01      8.224648e-01  9.455131e+01   \n",
       "std    8.456606e+00  5.630281e+00      1.291052e-01  2.143843e+02   \n",
       "min    0.000000e+00 -9.000000e+00      3.060000e-01  0.000000e+00   \n",
       "25%    2.290000e-01  6.400000e+00      7.450000e-01  0.000000e+00   \n",
       "50%    7.630000e-01  1.030000e+01      8.590000e-01  0.000000e+00   \n",
       "75%    3.258000e+00  1.440000e+01      9.260000e-01  1.500000e+01   \n",
       "max    7.470000e+01  2.970000e+01      1.000000e+00  9.460000e+02   \n",
       "\n",
       "       energy_lag_1  energy_lag_328  energy_lag_335  energy_lag_46  \\\n",
       "count  7.618080e+06    7.618080e+06    7.618080e+06   7.618080e+06   \n",
       "mean   4.047312e+00    4.045944e+00    4.045883e+00   4.047256e+00   \n",
       "std    8.456609e+00    8.456158e+00    8.456215e+00   8.456330e+00   \n",
       "min    0.000000e+00    0.000000e+00    0.000000e+00   0.000000e+00   \n",
       "25%    2.290000e-01    2.290000e-01    2.290000e-01   2.290000e-01   \n",
       "50%    7.630000e-01    7.620000e-01    7.620000e-01   7.630000e-01   \n",
       "75%    3.258000e+00    3.255000e+00    3.255000e+00   3.258000e+00   \n",
       "max    7.470000e+01    7.470000e+01    7.470000e+01   7.470000e+01   \n",
       "\n",
       "       energy_lag_336  energy_lag_334  ...  energy_lag_317  energy_lag_57  \\\n",
       "count    7.618080e+06    7.618080e+06  ...    7.618080e+06   7.618080e+06   \n",
       "mean     4.045876e+00    4.045890e+00  ...    4.046194e+00   4.047229e+00   \n",
       "std      8.456223e+00    8.456208e+00  ...    8.456348e+00   8.456297e+00   \n",
       "min      0.000000e+00    0.000000e+00  ...    0.000000e+00   0.000000e+00   \n",
       "25%      2.290000e-01    2.290000e-01  ...    2.290000e-01   2.290000e-01   \n",
       "50%      7.620000e-01    7.620000e-01  ...    7.620000e-01   7.630000e-01   \n",
       "75%      3.255000e+00    3.255000e+00  ...    3.255000e+00   3.258000e+00   \n",
       "max      7.470000e+01    7.470000e+01  ...    7.470000e+01   7.470000e+01   \n",
       "\n",
       "       energy_lag_145  energy_lag_56  energy_lag_292  energy_lag_143  \\\n",
       "count    7.618080e+06   7.618080e+06    7.618080e+06    7.618080e+06   \n",
       "mean     4.046361e+00   4.047236e+00    4.046653e+00    4.046348e+00   \n",
       "std      8.455656e+00   8.456302e+00    8.457062e+00    8.455644e+00   \n",
       "min      0.000000e+00   0.000000e+00    0.000000e+00    0.000000e+00   \n",
       "25%      2.290000e-01   2.290000e-01    2.290000e-01    2.290000e-01   \n",
       "50%      7.630000e-01   7.630000e-01    7.630000e-01    7.630000e-01   \n",
       "75%      3.257000e+00   3.258000e+00    3.256000e+00    3.257000e+00   \n",
       "max      7.470000e+01   7.470000e+01    7.470000e+01    7.470000e+01   \n",
       "\n",
       "       energy_lag_276  energy_lag_220  energy_lag_3  energy_lag_290  \n",
       "count    7.618080e+06    7.618080e+06  7.618080e+06    7.618080e+06  \n",
       "mean     4.046644e+00    4.046735e+00  4.047327e+00    4.046660e+00  \n",
       "std      8.457053e+00    8.456899e+00  8.456609e+00    8.457062e+00  \n",
       "min      0.000000e+00    0.000000e+00  0.000000e+00    0.000000e+00  \n",
       "25%      2.290000e-01    2.290000e-01  2.290000e-01    2.290000e-01  \n",
       "50%      7.630000e-01    7.630000e-01  7.630000e-01    7.630000e-01  \n",
       "75%      3.256000e+00    3.256000e+00  3.258000e+00    3.256000e+00  \n",
       "max      7.470000e+01    7.470000e+01  7.470000e+01    7.470000e+01  \n",
       "\n",
       "[8 rows x 44 columns]"
      ]
     },
     "execution_count": 28,
     "metadata": {},
     "output_type": "execute_result"
    }
   ],
   "source": [
    "ddf.describe()"
   ]
  },
  {
   "cell_type": "code",
   "execution_count": 30,
   "metadata": {},
   "outputs": [],
   "source": [
    "X_train, X_test, y_train, y_test = train_test_split(ddf[[f\"energy_lag_{f}\" for f in features]], ddf['energy'], test_size=0.2, random_state=42)"
   ]
  },
  {
   "cell_type": "code",
   "execution_count": 31,
   "metadata": {},
   "outputs": [],
   "source": [
    "model = xgb.XGBRegressor(n_estimators=1000, learning_rate=0.05, max_depth=5, tree_method='gpu_hist', verbosity=2)"
   ]
  },
  {
   "cell_type": "code",
   "execution_count": 32,
   "metadata": {},
   "outputs": [
    {
     "name": "stdout",
     "output_type": "stream",
     "text": [
      "Training time: 243.8325 s\n"
     ]
    }
   ],
   "source": [
    "init = time.time()\n",
    "model.fit(X_train, y_train)\n",
    "end = time.time()\n",
    "\n",
    "print('Training time: {:.4f} s'.format(end - init))"
   ]
  },
  {
   "cell_type": "code",
   "execution_count": 33,
   "metadata": {},
   "outputs": [
    {
     "name": "stdout",
     "output_type": "stream",
     "text": [
      "Prediction time: 8.5927 s\n"
     ]
    }
   ],
   "source": [
    "init = time.time()\n",
    "preds = model.predict(X_test)\n",
    "end = time.time()\n",
    "\n",
    "print('Prediction time: {:.4f} s'.format(end - init))"
   ]
  },
  {
   "cell_type": "code",
   "execution_count": 34,
   "metadata": {},
   "outputs": [
    {
     "data": {
      "image/png": "[encoded data removed]",
      "text/plain": [
       "<Figure size 921.6x518.4 with 1 Axes>"
      ]
     },
     "metadata": {
      "needs_background": "light"
     },
     "output_type": "display_data"
    }
   ],
   "source": [
    "# plot error histogram\n",
    "plt.hist(np.abs(preds - y_test), bins=200)\n",
    "plt.title('Prediction Error')\n",
    "plt.xlabel('Error')\n",
    "plt.ylabel('Count')\n",
    "plt.show()"
   ]
  },
  {
   "cell_type": "code",
   "execution_count": 35,
   "metadata": {},
   "outputs": [
    {
     "data": {
      "image/png": "[encoded data removed]",
      "text/plain": [
       "<Figure size 921.6x518.4 with 1 Axes>"
      ]
     },
     "metadata": {
      "needs_background": "light"
     },
     "output_type": "display_data"
    }
   ],
   "source": [
    "plt.scatter(y_test, preds)\n",
    "plt.title('Prediction Error')\n",
    "plt.xlabel('True Energy')\n",
    "plt.ylabel('Predicted Energy')\n",
    "plt.plot([0, max(y_test)], [0, max(y_test)], '--', color='red')\n",
    "plt.legend(['perfect prediction', 'predictions'])\n",
    "plt.show()"
   ]
  },
  {
   "cell_type": "code",
   "execution_count": 36,
   "metadata": {},
   "outputs": [
    {
     "name": "stdout",
     "output_type": "stream",
     "text": [
      "MSE: 0.5187 kWh\n",
      "RMSE: 0.7202 kWh\n",
      "MAE: 0.2924 kWh\n",
      "WMAPE: 7.2161 %\n",
      "R2: 0.9928\n"
     ]
    }
   ],
   "source": [
    "mse = mean_squared_error(y_test, preds)\n",
    "rmse = np.sqrt(mse)\n",
    "mae = mean_absolute_error(y_test, preds)\n",
    "wmape = np.sum(np.abs(preds - y_test)) / np.sum(np.abs(y_test)) * 100\n",
    "r2 = r2_score(y_test, preds)\n",
    "\n",
    "print('MSE: {:.4f} kWh'.format(mse))\n",
    "print('RMSE: {:.4f} kWh'.format(rmse))\n",
    "print('MAE: {:.4f} kWh'.format(mae))\n",
    "print('WMAPE: {:.4f} %'.format(wmape))\n",
    "print('R2: {:.4f}'.format(r2))\n"
   ]
  },
  {
   "cell_type": "markdown",
   "metadata": {},
   "source": [
    "## Use houses as training data"
   ]
  },
  {
   "cell_type": "code",
   "execution_count": 37,
   "metadata": {},
   "outputs": [
    {
     "data": {
      "text/plain": [
       "69"
      ]
     },
     "execution_count": 37,
     "metadata": {},
     "output_type": "execute_result"
    }
   ],
   "source": [
    "ddf.location.nunique()"
   ]
  },
  {
   "cell_type": "code",
   "execution_count": 38,
   "metadata": {},
   "outputs": [
    {
     "data": {
      "text/plain": [
       "Guildhall Electricity Supply 1 (HH)              228384\n",
       "Bath Central Library Electricity (HH)            224784\n",
       "##Weston Library Electricity Supply 1            197376\n",
       "Royal Victoria Park Nursery Electricity          196848\n",
       "Moorland Rd Library                              194304\n",
       "                                                  ...  \n",
       "Mechanical Control Panel 1                         7536\n",
       "Ground & First Floor North - Power & Lighting      7536\n",
       "Air cooled chiller 1                               2352\n",
       "AirCooled Chiller 2                                 432\n",
       "Ground Floor Disabled WC Water Heater                96\n",
       "Name: location, Length: 69, dtype: int64"
      ]
     },
     "execution_count": 38,
     "metadata": {},
     "output_type": "execute_result"
    }
   ],
   "source": [
    "ddf.location.value_counts()"
   ]
  },
  {
   "cell_type": "code",
   "execution_count": 58,
   "metadata": {},
   "outputs": [
    {
     "data": {
      "text/plain": [
       "array(['St Johns Primary Oldfield Lane BATH BA2',\n",
       "       'Keynsham Library & One Stop Shop (P272 HH)',\n",
       "       'Keynsham Library & One Stop Shop (P272 HH)',\n",
       "       'St Johns Primary Oldfield Lane BATH BA2',\n",
       "       'The Hollies Offices MSN Car Park Barrier',\n",
       "       'Swallow Street Stores & Workshop Electri',\n",
       "       '##Nothgate House Electricity Supply 3',\n",
       "       'Junior School Electricity - Kitchen',\n",
       "       'Castle Primary School (HH) (New Supply)',\n",
       "       'Pensford Primary School - Kitchen'], dtype=object)"
      ]
     },
     "execution_count": 58,
     "metadata": {},
     "output_type": "execute_result"
    }
   ],
   "source": [
    "# get 10 random locations\n",
    "locations = ddf.location.sample(10).values\n",
    "locations"
   ]
  },
  {
   "cell_type": "code",
   "execution_count": 59,
   "metadata": {},
   "outputs": [
    {
     "name": "stdout",
     "output_type": "stream",
     "text": [
      "(1074816, 46) (6543264, 46)\n"
     ]
    }
   ],
   "source": [
    "test = ddf[ddf.location.isin(locations)]\n",
    "train = ddf[~ddf.location.isin(locations)]\n",
    "print(test.shape, train.shape)\n",
    "\n",
    "X_train = train[[f\"energy_lag_{f}\" for f in features]]\n",
    "y_train = train['energy']\n",
    "X_test = test[[f\"energy_lag_{f}\" for f in features]]\n",
    "y_test = test['energy']"
   ]
  },
  {
   "cell_type": "code",
   "execution_count": 60,
   "metadata": {},
   "outputs": [
    {
     "data": {
      "text/plain": [
       "16.426297334174503"
      ]
     },
     "execution_count": 60,
     "metadata": {},
     "output_type": "execute_result"
    }
   ],
   "source": [
    "test.shape[0] / train.shape[0] * 100"
   ]
  },
  {
   "cell_type": "code",
   "execution_count": 65,
   "metadata": {},
   "outputs": [],
   "source": [
    "model2 = xgb.XGBRegressor(n_estimators=1000, learning_rate=0.05, max_depth=5, tree_method='gpu_hist', verbosity=2)"
   ]
  },
  {
   "cell_type": "code",
   "execution_count": 66,
   "metadata": {},
   "outputs": [
    {
     "ename": "XGBoostError",
     "evalue": "bad allocation",
     "output_type": "error",
     "traceback": [
      "\u001b[1;31m---------------------------------------------------------------------------\u001b[0m",
      "\u001b[1;31mXGBoostError\u001b[0m                              Traceback (most recent call last)",
      "\u001b[1;32m~\\AppData\\Local\\Temp/ipykernel_21548/2538276570.py\u001b[0m in \u001b[0;36m<module>\u001b[1;34m\u001b[0m\n\u001b[0;32m      1\u001b[0m \u001b[0minit\u001b[0m \u001b[1;33m=\u001b[0m \u001b[0mtime\u001b[0m\u001b[1;33m.\u001b[0m\u001b[0mtime\u001b[0m\u001b[1;33m(\u001b[0m\u001b[1;33m)\u001b[0m\u001b[1;33m\u001b[0m\u001b[1;33m\u001b[0m\u001b[0m\n\u001b[1;32m----> 2\u001b[1;33m \u001b[0mmodel2\u001b[0m\u001b[1;33m.\u001b[0m\u001b[0mfit\u001b[0m\u001b[1;33m(\u001b[0m\u001b[0mX_train\u001b[0m\u001b[1;33m,\u001b[0m \u001b[0my_train\u001b[0m\u001b[1;33m)\u001b[0m\u001b[1;33m\u001b[0m\u001b[1;33m\u001b[0m\u001b[0m\n\u001b[0m\u001b[0;32m      3\u001b[0m \u001b[0mend\u001b[0m \u001b[1;33m=\u001b[0m \u001b[0mtime\u001b[0m\u001b[1;33m.\u001b[0m\u001b[0mtime\u001b[0m\u001b[1;33m(\u001b[0m\u001b[1;33m)\u001b[0m\u001b[1;33m\u001b[0m\u001b[1;33m\u001b[0m\u001b[0m\n\u001b[0;32m      4\u001b[0m \u001b[1;33m\u001b[0m\u001b[0m\n\u001b[0;32m      5\u001b[0m \u001b[0mprint\u001b[0m\u001b[1;33m(\u001b[0m\u001b[1;34m'Training time: {:.4f} s'\u001b[0m\u001b[1;33m.\u001b[0m\u001b[0mformat\u001b[0m\u001b[1;33m(\u001b[0m\u001b[0mend\u001b[0m \u001b[1;33m-\u001b[0m \u001b[0minit\u001b[0m\u001b[1;33m)\u001b[0m\u001b[1;33m)\u001b[0m\u001b[1;33m\u001b[0m\u001b[1;33m\u001b[0m\u001b[0m\n",
      "\u001b[1;32m~\\AppData\\Local\\Packages\\PythonSoftwareFoundation.Python.3.9_qbz5n2kfra8p0\\LocalCache\\local-packages\\Python39\\site-packages\\xgboost\\core.py\u001b[0m in \u001b[0;36minner_f\u001b[1;34m(*args, **kwargs)\u001b[0m\n\u001b[0;32m    504\u001b[0m         \u001b[1;32mfor\u001b[0m \u001b[0mk\u001b[0m\u001b[1;33m,\u001b[0m \u001b[0marg\u001b[0m \u001b[1;32min\u001b[0m \u001b[0mzip\u001b[0m\u001b[1;33m(\u001b[0m\u001b[0msig\u001b[0m\u001b[1;33m.\u001b[0m\u001b[0mparameters\u001b[0m\u001b[1;33m,\u001b[0m \u001b[0margs\u001b[0m\u001b[1;33m)\u001b[0m\u001b[1;33m:\u001b[0m\u001b[1;33m\u001b[0m\u001b[1;33m\u001b[0m\u001b[0m\n\u001b[0;32m    505\u001b[0m             \u001b[0mkwargs\u001b[0m\u001b[1;33m[\u001b[0m\u001b[0mk\u001b[0m\u001b[1;33m]\u001b[0m \u001b[1;33m=\u001b[0m \u001b[0marg\u001b[0m\u001b[1;33m\u001b[0m\u001b[1;33m\u001b[0m\u001b[0m\n\u001b[1;32m--> 506\u001b[1;33m         \u001b[1;32mreturn\u001b[0m \u001b[0mf\u001b[0m\u001b[1;33m(\u001b[0m\u001b[1;33m**\u001b[0m\u001b[0mkwargs\u001b[0m\u001b[1;33m)\u001b[0m\u001b[1;33m\u001b[0m\u001b[1;33m\u001b[0m\u001b[0m\n\u001b[0m\u001b[0;32m    507\u001b[0m \u001b[1;33m\u001b[0m\u001b[0m\n\u001b[0;32m    508\u001b[0m     \u001b[1;32mreturn\u001b[0m \u001b[0minner_f\u001b[0m\u001b[1;33m\u001b[0m\u001b[1;33m\u001b[0m\u001b[0m\n",
      "\u001b[1;32m~\\AppData\\Local\\Packages\\PythonSoftwareFoundation.Python.3.9_qbz5n2kfra8p0\\LocalCache\\local-packages\\Python39\\site-packages\\xgboost\\sklearn.py\u001b[0m in \u001b[0;36mfit\u001b[1;34m(self, X, y, sample_weight, base_margin, eval_set, eval_metric, early_stopping_rounds, verbose, xgb_model, sample_weight_eval_set, base_margin_eval_set, feature_weights, callbacks)\u001b[0m\n\u001b[0;32m    759\u001b[0m         \"\"\"\n\u001b[0;32m    760\u001b[0m         \u001b[0mevals_result\u001b[0m\u001b[1;33m:\u001b[0m \u001b[0mTrainingCallback\u001b[0m\u001b[1;33m.\u001b[0m\u001b[0mEvalsLog\u001b[0m \u001b[1;33m=\u001b[0m \u001b[1;33m{\u001b[0m\u001b[1;33m}\u001b[0m\u001b[1;33m\u001b[0m\u001b[1;33m\u001b[0m\u001b[0m\n\u001b[1;32m--> 761\u001b[1;33m         train_dmatrix, evals = _wrap_evaluation_matrices(\n\u001b[0m\u001b[0;32m    762\u001b[0m             \u001b[0mmissing\u001b[0m\u001b[1;33m=\u001b[0m\u001b[0mself\u001b[0m\u001b[1;33m.\u001b[0m\u001b[0mmissing\u001b[0m\u001b[1;33m,\u001b[0m\u001b[1;33m\u001b[0m\u001b[1;33m\u001b[0m\u001b[0m\n\u001b[0;32m    763\u001b[0m             \u001b[0mX\u001b[0m\u001b[1;33m=\u001b[0m\u001b[0mX\u001b[0m\u001b[1;33m,\u001b[0m\u001b[1;33m\u001b[0m\u001b[1;33m\u001b[0m\u001b[0m\n",
      "\u001b[1;32m~\\AppData\\Local\\Packages\\PythonSoftwareFoundation.Python.3.9_qbz5n2kfra8p0\\LocalCache\\local-packages\\Python39\\site-packages\\xgboost\\sklearn.py\u001b[0m in \u001b[0;36m_wrap_evaluation_matrices\u001b[1;34m(missing, X, y, group, qid, sample_weight, base_margin, feature_weights, eval_set, sample_weight_eval_set, base_margin_eval_set, eval_group, eval_qid, create_dmatrix, enable_categorical, label_transform)\u001b[0m\n\u001b[0;32m    284\u001b[0m \u001b[1;33m\u001b[0m\u001b[0m\n\u001b[0;32m    285\u001b[0m     \"\"\"\n\u001b[1;32m--> 286\u001b[1;33m     train_dmatrix = create_dmatrix(\n\u001b[0m\u001b[0;32m    287\u001b[0m         \u001b[0mdata\u001b[0m\u001b[1;33m=\u001b[0m\u001b[0mX\u001b[0m\u001b[1;33m,\u001b[0m\u001b[1;33m\u001b[0m\u001b[1;33m\u001b[0m\u001b[0m\n\u001b[0;32m    288\u001b[0m         \u001b[0mlabel\u001b[0m\u001b[1;33m=\u001b[0m\u001b[0mlabel_transform\u001b[0m\u001b[1;33m(\u001b[0m\u001b[0my\u001b[0m\u001b[1;33m)\u001b[0m\u001b[1;33m,\u001b[0m\u001b[1;33m\u001b[0m\u001b[1;33m\u001b[0m\u001b[0m\n",
      "\u001b[1;32m~\\AppData\\Local\\Packages\\PythonSoftwareFoundation.Python.3.9_qbz5n2kfra8p0\\LocalCache\\local-packages\\Python39\\site-packages\\xgboost\\sklearn.py\u001b[0m in \u001b[0;36m<lambda>\u001b[1;34m(**kwargs)\u001b[0m\n\u001b[0;32m    773\u001b[0m             \u001b[0meval_group\u001b[0m\u001b[1;33m=\u001b[0m\u001b[1;32mNone\u001b[0m\u001b[1;33m,\u001b[0m\u001b[1;33m\u001b[0m\u001b[1;33m\u001b[0m\u001b[0m\n\u001b[0;32m    774\u001b[0m             \u001b[0meval_qid\u001b[0m\u001b[1;33m=\u001b[0m\u001b[1;32mNone\u001b[0m\u001b[1;33m,\u001b[0m\u001b[1;33m\u001b[0m\u001b[1;33m\u001b[0m\u001b[0m\n\u001b[1;32m--> 775\u001b[1;33m             \u001b[0mcreate_dmatrix\u001b[0m\u001b[1;33m=\u001b[0m\u001b[1;32mlambda\u001b[0m \u001b[1;33m**\u001b[0m\u001b[0mkwargs\u001b[0m\u001b[1;33m:\u001b[0m \u001b[0mDMatrix\u001b[0m\u001b[1;33m(\u001b[0m\u001b[0mnthread\u001b[0m\u001b[1;33m=\u001b[0m\u001b[0mself\u001b[0m\u001b[1;33m.\u001b[0m\u001b[0mn_jobs\u001b[0m\u001b[1;33m,\u001b[0m \u001b[1;33m**\u001b[0m\u001b[0mkwargs\u001b[0m\u001b[1;33m)\u001b[0m\u001b[1;33m,\u001b[0m\u001b[1;33m\u001b[0m\u001b[1;33m\u001b[0m\u001b[0m\n\u001b[0m\u001b[0;32m    776\u001b[0m             \u001b[0menable_categorical\u001b[0m\u001b[1;33m=\u001b[0m\u001b[0mself\u001b[0m\u001b[1;33m.\u001b[0m\u001b[0menable_categorical\u001b[0m\u001b[1;33m,\u001b[0m\u001b[1;33m\u001b[0m\u001b[1;33m\u001b[0m\u001b[0m\n\u001b[0;32m    777\u001b[0m         )\n",
      "\u001b[1;32m~\\AppData\\Local\\Packages\\PythonSoftwareFoundation.Python.3.9_qbz5n2kfra8p0\\LocalCache\\local-packages\\Python39\\site-packages\\xgboost\\core.py\u001b[0m in \u001b[0;36minner_f\u001b[1;34m(*args, **kwargs)\u001b[0m\n\u001b[0;32m    504\u001b[0m         \u001b[1;32mfor\u001b[0m \u001b[0mk\u001b[0m\u001b[1;33m,\u001b[0m \u001b[0marg\u001b[0m \u001b[1;32min\u001b[0m \u001b[0mzip\u001b[0m\u001b[1;33m(\u001b[0m\u001b[0msig\u001b[0m\u001b[1;33m.\u001b[0m\u001b[0mparameters\u001b[0m\u001b[1;33m,\u001b[0m \u001b[0margs\u001b[0m\u001b[1;33m)\u001b[0m\u001b[1;33m:\u001b[0m\u001b[1;33m\u001b[0m\u001b[1;33m\u001b[0m\u001b[0m\n\u001b[0;32m    505\u001b[0m             \u001b[0mkwargs\u001b[0m\u001b[1;33m[\u001b[0m\u001b[0mk\u001b[0m\u001b[1;33m]\u001b[0m \u001b[1;33m=\u001b[0m \u001b[0marg\u001b[0m\u001b[1;33m\u001b[0m\u001b[1;33m\u001b[0m\u001b[0m\n\u001b[1;32m--> 506\u001b[1;33m         \u001b[1;32mreturn\u001b[0m \u001b[0mf\u001b[0m\u001b[1;33m(\u001b[0m\u001b[1;33m**\u001b[0m\u001b[0mkwargs\u001b[0m\u001b[1;33m)\u001b[0m\u001b[1;33m\u001b[0m\u001b[1;33m\u001b[0m\u001b[0m\n\u001b[0m\u001b[0;32m    507\u001b[0m \u001b[1;33m\u001b[0m\u001b[0m\n\u001b[0;32m    508\u001b[0m     \u001b[1;32mreturn\u001b[0m \u001b[0minner_f\u001b[0m\u001b[1;33m\u001b[0m\u001b[1;33m\u001b[0m\u001b[0m\n",
      "\u001b[1;32m~\\AppData\\Local\\Packages\\PythonSoftwareFoundation.Python.3.9_qbz5n2kfra8p0\\LocalCache\\local-packages\\Python39\\site-packages\\xgboost\\core.py\u001b[0m in \u001b[0;36m__init__\u001b[1;34m(self, data, label, weight, base_margin, missing, silent, feature_names, feature_types, nthread, group, qid, label_lower_bound, label_upper_bound, feature_weights, enable_categorical)\u001b[0m\n\u001b[0;32m    614\u001b[0m             \u001b[1;32mreturn\u001b[0m\u001b[1;33m\u001b[0m\u001b[1;33m\u001b[0m\u001b[0m\n\u001b[0;32m    615\u001b[0m \u001b[1;33m\u001b[0m\u001b[0m\n\u001b[1;32m--> 616\u001b[1;33m         handle, feature_names, feature_types = dispatch_data_backend(\n\u001b[0m\u001b[0;32m    617\u001b[0m             \u001b[0mdata\u001b[0m\u001b[1;33m,\u001b[0m\u001b[1;33m\u001b[0m\u001b[1;33m\u001b[0m\u001b[0m\n\u001b[0;32m    618\u001b[0m             \u001b[0mmissing\u001b[0m\u001b[1;33m=\u001b[0m\u001b[0mself\u001b[0m\u001b[1;33m.\u001b[0m\u001b[0mmissing\u001b[0m\u001b[1;33m,\u001b[0m\u001b[1;33m\u001b[0m\u001b[1;33m\u001b[0m\u001b[0m\n",
      "\u001b[1;32m~\\AppData\\Local\\Packages\\PythonSoftwareFoundation.Python.3.9_qbz5n2kfra8p0\\LocalCache\\local-packages\\Python39\\site-packages\\xgboost\\data.py\u001b[0m in \u001b[0;36mdispatch_data_backend\u001b[1;34m(data, missing, threads, feature_names, feature_types, enable_categorical)\u001b[0m\n\u001b[0;32m    770\u001b[0m         \u001b[1;32mreturn\u001b[0m \u001b[0m_from_tuple\u001b[0m\u001b[1;33m(\u001b[0m\u001b[0mdata\u001b[0m\u001b[1;33m,\u001b[0m \u001b[0mmissing\u001b[0m\u001b[1;33m,\u001b[0m \u001b[0mthreads\u001b[0m\u001b[1;33m,\u001b[0m \u001b[0mfeature_names\u001b[0m\u001b[1;33m,\u001b[0m \u001b[0mfeature_types\u001b[0m\u001b[1;33m)\u001b[0m\u001b[1;33m\u001b[0m\u001b[1;33m\u001b[0m\u001b[0m\n\u001b[0;32m    771\u001b[0m     \u001b[1;32mif\u001b[0m \u001b[0m_is_pandas_df\u001b[0m\u001b[1;33m(\u001b[0m\u001b[0mdata\u001b[0m\u001b[1;33m)\u001b[0m\u001b[1;33m:\u001b[0m\u001b[1;33m\u001b[0m\u001b[1;33m\u001b[0m\u001b[0m\n\u001b[1;32m--> 772\u001b[1;33m         return _from_pandas_df(data, enable_categorical, missing, threads,\n\u001b[0m\u001b[0;32m    773\u001b[0m                                feature_names, feature_types)\n\u001b[0;32m    774\u001b[0m     \u001b[1;32mif\u001b[0m \u001b[0m_is_pandas_series\u001b[0m\u001b[1;33m(\u001b[0m\u001b[0mdata\u001b[0m\u001b[1;33m)\u001b[0m\u001b[1;33m:\u001b[0m\u001b[1;33m\u001b[0m\u001b[1;33m\u001b[0m\u001b[0m\n",
      "\u001b[1;32m~\\AppData\\Local\\Packages\\PythonSoftwareFoundation.Python.3.9_qbz5n2kfra8p0\\LocalCache\\local-packages\\Python39\\site-packages\\xgboost\\data.py\u001b[0m in \u001b[0;36m_from_pandas_df\u001b[1;34m(data, enable_categorical, missing, nthread, feature_names, feature_types)\u001b[0m\n\u001b[0;32m    312\u001b[0m     data, feature_names, feature_types = _transform_pandas_df(\n\u001b[0;32m    313\u001b[0m         data, enable_categorical, feature_names, feature_types)\n\u001b[1;32m--> 314\u001b[1;33m     return _from_numpy_array(data, missing, nthread, feature_names,\n\u001b[0m\u001b[0;32m    315\u001b[0m                              feature_types)\n\u001b[0;32m    316\u001b[0m \u001b[1;33m\u001b[0m\u001b[0m\n",
      "\u001b[1;32m~\\AppData\\Local\\Packages\\PythonSoftwareFoundation.Python.3.9_qbz5n2kfra8p0\\LocalCache\\local-packages\\Python39\\site-packages\\xgboost\\data.py\u001b[0m in \u001b[0;36m_from_numpy_array\u001b[1;34m(data, missing, nthread, feature_names, feature_types)\u001b[0m\n\u001b[0;32m    176\u001b[0m     }\n\u001b[0;32m    177\u001b[0m     \u001b[0mconfig\u001b[0m \u001b[1;33m=\u001b[0m \u001b[0mbytes\u001b[0m\u001b[1;33m(\u001b[0m\u001b[0mjson\u001b[0m\u001b[1;33m.\u001b[0m\u001b[0mdumps\u001b[0m\u001b[1;33m(\u001b[0m\u001b[0margs\u001b[0m\u001b[1;33m)\u001b[0m\u001b[1;33m,\u001b[0m \u001b[1;34m\"utf-8\"\u001b[0m\u001b[1;33m)\u001b[0m\u001b[1;33m\u001b[0m\u001b[1;33m\u001b[0m\u001b[0m\n\u001b[1;32m--> 178\u001b[1;33m     _check_call(\n\u001b[0m\u001b[0;32m    179\u001b[0m         _LIB.XGDMatrixCreateFromDense(\n\u001b[0;32m    180\u001b[0m             \u001b[0m_array_interface\u001b[0m\u001b[1;33m(\u001b[0m\u001b[0mdata\u001b[0m\u001b[1;33m)\u001b[0m\u001b[1;33m,\u001b[0m\u001b[1;33m\u001b[0m\u001b[1;33m\u001b[0m\u001b[0m\n",
      "\u001b[1;32m~\\AppData\\Local\\Packages\\PythonSoftwareFoundation.Python.3.9_qbz5n2kfra8p0\\LocalCache\\local-packages\\Python39\\site-packages\\xgboost\\core.py\u001b[0m in \u001b[0;36m_check_call\u001b[1;34m(ret)\u001b[0m\n\u001b[0;32m    216\u001b[0m     \"\"\"\n\u001b[0;32m    217\u001b[0m     \u001b[1;32mif\u001b[0m \u001b[0mret\u001b[0m \u001b[1;33m!=\u001b[0m \u001b[1;36m0\u001b[0m\u001b[1;33m:\u001b[0m\u001b[1;33m\u001b[0m\u001b[1;33m\u001b[0m\u001b[0m\n\u001b[1;32m--> 218\u001b[1;33m         \u001b[1;32mraise\u001b[0m \u001b[0mXGBoostError\u001b[0m\u001b[1;33m(\u001b[0m\u001b[0mpy_str\u001b[0m\u001b[1;33m(\u001b[0m\u001b[0m_LIB\u001b[0m\u001b[1;33m.\u001b[0m\u001b[0mXGBGetLastError\u001b[0m\u001b[1;33m(\u001b[0m\u001b[1;33m)\u001b[0m\u001b[1;33m)\u001b[0m\u001b[1;33m)\u001b[0m\u001b[1;33m\u001b[0m\u001b[1;33m\u001b[0m\u001b[0m\n\u001b[0m\u001b[0;32m    219\u001b[0m \u001b[1;33m\u001b[0m\u001b[0m\n\u001b[0;32m    220\u001b[0m \u001b[1;33m\u001b[0m\u001b[0m\n",
      "\u001b[1;31mXGBoostError\u001b[0m: bad allocation"
     ]
    }
   ],
   "source": [
    "init = time.time()\n",
    "model2.fit(X_train, y_train)\n",
    "end = time.time()\n",
    "\n",
    "print('Training time: {:.4f} s'.format(end - init))"
   ]
  },
  {
   "cell_type": "code",
   "execution_count": null,
   "metadata": {},
   "outputs": [
    {
     "name": "stdout",
     "output_type": "stream",
     "text": [
      "Prediction time: 6.1365 s\n"
     ]
    }
   ],
   "source": [
    "init = time.time()\n",
    "preds2 = model2.predict(X_test)\n",
    "end = time.time()\n",
    "\n",
    "print('Prediction time: {:.4f} s'.format(end - init))"
   ]
  },
  {
   "cell_type": "code",
   "execution_count": null,
   "metadata": {},
   "outputs": [
    {
     "name": "stdout",
     "output_type": "stream",
     "text": [
      "MSE: 0.1474 kWh\n",
      "RMSE: 0.3840 kWh\n",
      "MAE: 0.1674 kWh\n",
      "WMAPE: 9.1390 %\n",
      "R2: 0.9811\n"
     ]
    }
   ],
   "source": [
    "mse = mean_squared_error(y_test, preds2)\n",
    "rmse = np.sqrt(mse)\n",
    "mae = mean_absolute_error(y_test, preds2)\n",
    "wmape = np.sum(np.abs(preds2 - y_test)) / np.sum(np.abs(y_test)) * 100\n",
    "r2 = r2_score(y_test, preds2)\n",
    "\n",
    "print('MSE: {:.4f} kWh'.format(mse))\n",
    "print('RMSE: {:.4f} kWh'.format(rmse))\n",
    "print('MAE: {:.4f} kWh'.format(mae))\n",
    "print('WMAPE: {:.4f} %'.format(wmape))\n",
    "print('R2: {:.4f}'.format(r2))"
   ]
  },
  {
   "cell_type": "markdown",
   "metadata": {},
   "source": [
    "## Test with different features"
   ]
  },
  {
   "cell_type": "markdown",
   "metadata": {},
   "source": [
    "In the previous section, we trained the model on the whole top 40 features. In this section we will further limit the features."
   ]
  },
  {
   "cell_type": "code",
   "execution_count": 41,
   "metadata": {},
   "outputs": [
    {
     "data": {
      "text/plain": [
       "AirTemp             0.000239\n",
       "RelativeHumidity    0.000184\n",
       "Dni                 0.000232\n",
       "energy_lag_1        0.804968\n",
       "energy_lag_2        0.001172\n",
       "energy_lag_3        0.000813\n",
       "energy_lag_4        0.000436\n",
       "energy_lag_5        0.000303\n",
       "energy_lag_6        0.000242\n",
       "energy_lag_7        0.000189\n",
       "dtype: float32"
      ]
     },
     "execution_count": 41,
     "metadata": {},
     "output_type": "execute_result"
    }
   ],
   "source": [
    "feature_importance.head(10)"
   ]
  },
  {
   "cell_type": "code",
   "execution_count": 44,
   "metadata": {},
   "outputs": [
    {
     "data": {
      "text/plain": [
       "energy_lag_1      0.804968\n",
       "energy_lag_46     0.008218\n",
       "energy_lag_328    0.009736\n",
       "energy_lag_334    0.005625\n",
       "energy_lag_335    0.008320\n",
       "energy_lag_336    0.007290\n",
       "dtype: float32"
      ]
     },
     "execution_count": 44,
     "metadata": {},
     "output_type": "execute_result"
    }
   ],
   "source": [
    "limit_5pc = feature_importance.where(feature_importance > 0.005).dropna()\n",
    "limit_5pc"
   ]
  },
  {
   "cell_type": "code",
   "execution_count": 48,
   "metadata": {},
   "outputs": [],
   "source": [
    "X_train = train[limit_5pc.index]\n",
    "y_train = train['energy']\n",
    "X_test = test[limit_5pc.index]\n",
    "y_test = test['energy']"
   ]
  },
  {
   "cell_type": "code",
   "execution_count": 47,
   "metadata": {},
   "outputs": [],
   "source": [
    "model = xgb.XGBRegressor(n_estimators=1000, learning_rate=0.05, max_depth=5, tree_method='gpu_hist', verbosity=2)"
   ]
  },
  {
   "cell_type": "code",
   "execution_count": 49,
   "metadata": {},
   "outputs": [
    {
     "name": "stdout",
     "output_type": "stream",
     "text": [
      "Training time: 442.4856 s\n"
     ]
    }
   ],
   "source": [
    "init = time.time()\n",
    "model.fit(X_train, y_train)\n",
    "end = time.time()\n",
    "\n",
    "print('Training time: {:.4f} s'.format(end - init))\n"
   ]
  },
  {
   "cell_type": "code",
   "execution_count": 50,
   "metadata": {},
   "outputs": [
    {
     "name": "stdout",
     "output_type": "stream",
     "text": [
      "Prediction time: 2.7311 s\n"
     ]
    }
   ],
   "source": [
    "init = time.time()\n",
    "preds = model.predict(X_test)\n",
    "end = time.time()\n",
    "\n",
    "print('Prediction time: {:.4f} s'.format(end - init))\n"
   ]
  },
  {
   "cell_type": "code",
   "execution_count": 51,
   "metadata": {},
   "outputs": [
    {
     "name": "stdout",
     "output_type": "stream",
     "text": [
      "MSE: 1.2742 kWh\n",
      "RMSE: 1.1288 kWh\n",
      "MAE: 0.4775 kWh\n",
      "WMAPE: 12.3203 %\n",
      "R2: 0.9726\n"
     ]
    }
   ],
   "source": [
    "mse = mean_squared_error(y_test, preds)\n",
    "rmse = np.sqrt(mse)\n",
    "mae = mean_absolute_error(y_test, preds)\n",
    "wmape = np.sum(np.abs(preds - y_test)) / np.sum(np.abs(y_test)) * 100\n",
    "r2 = r2_score(y_test, preds)\n",
    "\n",
    "print('MSE: {:.4f} kWh'.format(mse))\n",
    "print('RMSE: {:.4f} kWh'.format(rmse))\n",
    "print('MAE: {:.4f} kWh'.format(mae))\n",
    "print('WMAPE: {:.4f} %'.format(wmape))\n",
    "print('R2: {:.4f}'.format(r2))\n"
   ]
  },
  {
   "cell_type": "code",
   "execution_count": null,
   "metadata": {},
   "outputs": [],
   "source": []
  }
 ],
 "metadata": {
  "interpreter": {
   "hash": "9b1f332fd89bb55c2c3f9863fa09609ddaa711e42a9a5767d6b702ced9885182"
  },
  "kernelspec": {
   "display_name": "Python 3 (ipykernel)",
   "language": "python",
   "name": "python3"
  },
  "language_info": {
   "codemirror_mode": {
    "name": "ipython",
    "version": 3
   },
   "file_extension": ".py",
   "mimetype": "text/x-python",
   "name": "python",
   "nbconvert_exporter": "python",
   "pygments_lexer": "ipython3",
   "version": "3.9.12"
  }
 },
 "nbformat": 4,
 "nbformat_minor": 4
}
