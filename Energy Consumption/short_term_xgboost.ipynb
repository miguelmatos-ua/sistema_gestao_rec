{
 "cells": [
  {
   "cell_type": "markdown",
   "metadata": {},
   "source": [
    "# Short Term Load Forecasting using XGBoost\n",
    "\n",
    "This notebook demonstrates the use of XGBoost for short term load forecasting. It follows the steps in [\"Short Term Load Forecasting Using XGBoost\"](https://doi.org/10.1007/978-3-030-15035-8_108)."
   ]
  },
  {
   "cell_type": "code",
   "execution_count": 1,
   "metadata": {},
   "outputs": [],
   "source": [
    "# import libraries\n",
    "import pandas as pd\n",
    "import numpy as np\n",
    "import matplotlib.pyplot as plt\n",
    "\n",
    "import xgboost as xgb\n",
    "\n",
    "from sklearn.model_selection import train_test_split\n",
    "from sklearn.metrics import mean_absolute_error, mean_squared_error, r2_score\n",
    "\n",
    "from tqdm import tqdm\n",
    "\n",
    "import time\n",
    "import pickle\n",
    "import warnings\n",
    "\n",
    "warnings.filterwarnings('ignore')\n",
    "\n",
    "plt.rcParams['figure.figsize'] = (12.8, 7.2)\n"
   ]
  },
  {
   "cell_type": "code",
   "execution_count": 2,
   "metadata": {},
   "outputs": [],
   "source": [
    "df = pd.read_csv('../data/BANES_v2.csv', parse_dates=['time'])\n",
    "# df = df.groupby(['time', 'location']).mean().reset_index()\n",
    "df.head()"
   ]
  },
  {
   "cell_type": "code",
   "execution_count": null,
   "metadata": {},
   "outputs": [],
   "source": [
    "df = df.sort_values(by=['location', 'time'])"
   ]
  },
  {
   "cell_type": "markdown",
   "metadata": {},
   "source": [
    "Joining the last week of data will expand the usage up to almost 20 GiB of data. That's too large for the RAM and unnecessary for this.\n",
    "We will use only around 3 years of data to reduce the RAM usage."
   ]
  },
  {
   "cell_type": "code",
   "execution_count": null,
   "metadata": {},
   "outputs": [],
   "source": [
    "df = df[df['time'] >= '2017-01-01']"
   ]
  },
  {
   "cell_type": "code",
   "execution_count": 5,
   "metadata": {},
   "outputs": [
    {
     "name": "stderr",
     "output_type": "stream",
     "text": [
      "100%|██████████| 336/336 [01:51<00:00,  3.02it/s]\n"
     ]
    }
   ],
   "source": [
    "# join the last 7 days of data\n",
    "for i in tqdm(range(1, 48 * 7 + 1)):\n",
    "    df.loc[df['time'].shift(i) == df['time'] - pd.Timedelta(i * 30, 'm'), f\"energy_lag_{i}\"] = df['energy'].shift(i)"
   ]
  },
  {
   "cell_type": "code",
   "execution_count": 6,
   "metadata": {},
   "outputs": [
    {
     "data": {
      "text/html": [
       "<div>\n",
       "<style scoped>\n",
       "    .dataframe tbody tr th:only-of-type {\n",
       "        vertical-align: middle;\n",
       "    }\n",
       "\n",
       "    .dataframe tbody tr th {\n",
       "        vertical-align: top;\n",
       "    }\n",
       "\n",
       "    .dataframe thead th {\n",
       "        text-align: right;\n",
       "    }\n",
       "</style>\n",
       "<table border=\"1\" class=\"dataframe\">\n",
       "  <thead>\n",
       "    <tr style=\"text-align: right;\">\n",
       "      <th></th>\n",
       "      <th>location</th>\n",
       "      <th>time</th>\n",
       "      <th>energy</th>\n",
       "      <th>AirTemp</th>\n",
       "      <th>RelativeHumidity</th>\n",
       "      <th>Dni</th>\n",
       "      <th>energy_lag_1</th>\n",
       "      <th>energy_lag_2</th>\n",
       "      <th>energy_lag_3</th>\n",
       "      <th>energy_lag_4</th>\n",
       "      <th>...</th>\n",
       "      <th>energy_lag_327</th>\n",
       "      <th>energy_lag_328</th>\n",
       "      <th>energy_lag_329</th>\n",
       "      <th>energy_lag_330</th>\n",
       "      <th>energy_lag_331</th>\n",
       "      <th>energy_lag_332</th>\n",
       "      <th>energy_lag_333</th>\n",
       "      <th>energy_lag_334</th>\n",
       "      <th>energy_lag_335</th>\n",
       "      <th>energy_lag_336</th>\n",
       "    </tr>\n",
       "  </thead>\n",
       "  <tbody>\n",
       "    <tr>\n",
       "      <th>188447</th>\n",
       "      <td>##Bishop Sutton Primary School Electricity</td>\n",
       "      <td>2017-01-08 00:00:00+00:00</td>\n",
       "      <td>0.000</td>\n",
       "      <td>8.4</td>\n",
       "      <td>0.987</td>\n",
       "      <td>0.0</td>\n",
       "      <td>0.000</td>\n",
       "      <td>0.0</td>\n",
       "      <td>0.0</td>\n",
       "      <td>0.0</td>\n",
       "      <td>...</td>\n",
       "      <td>0.005</td>\n",
       "      <td>0.005</td>\n",
       "      <td>0.005</td>\n",
       "      <td>0.005</td>\n",
       "      <td>0.006</td>\n",
       "      <td>0.005</td>\n",
       "      <td>0.005</td>\n",
       "      <td>0.000</td>\n",
       "      <td>0.000</td>\n",
       "      <td>0.000</td>\n",
       "    </tr>\n",
       "    <tr>\n",
       "      <th>188448</th>\n",
       "      <td>##Bishop Sutton Primary School Electricity</td>\n",
       "      <td>2017-01-08 00:30:00+00:00</td>\n",
       "      <td>0.000</td>\n",
       "      <td>8.3</td>\n",
       "      <td>0.987</td>\n",
       "      <td>0.0</td>\n",
       "      <td>0.000</td>\n",
       "      <td>0.0</td>\n",
       "      <td>0.0</td>\n",
       "      <td>0.0</td>\n",
       "      <td>...</td>\n",
       "      <td>0.006</td>\n",
       "      <td>0.005</td>\n",
       "      <td>0.005</td>\n",
       "      <td>0.005</td>\n",
       "      <td>0.005</td>\n",
       "      <td>0.006</td>\n",
       "      <td>0.005</td>\n",
       "      <td>0.005</td>\n",
       "      <td>0.000</td>\n",
       "      <td>0.000</td>\n",
       "    </tr>\n",
       "    <tr>\n",
       "      <th>188449</th>\n",
       "      <td>##Bishop Sutton Primary School Electricity</td>\n",
       "      <td>2017-01-08 01:00:00+00:00</td>\n",
       "      <td>0.000</td>\n",
       "      <td>8.2</td>\n",
       "      <td>0.987</td>\n",
       "      <td>0.0</td>\n",
       "      <td>0.000</td>\n",
       "      <td>0.0</td>\n",
       "      <td>0.0</td>\n",
       "      <td>0.0</td>\n",
       "      <td>...</td>\n",
       "      <td>0.005</td>\n",
       "      <td>0.006</td>\n",
       "      <td>0.005</td>\n",
       "      <td>0.005</td>\n",
       "      <td>0.005</td>\n",
       "      <td>0.005</td>\n",
       "      <td>0.006</td>\n",
       "      <td>0.005</td>\n",
       "      <td>0.005</td>\n",
       "      <td>0.000</td>\n",
       "    </tr>\n",
       "    <tr>\n",
       "      <th>188450</th>\n",
       "      <td>##Bishop Sutton Primary School Electricity</td>\n",
       "      <td>2017-01-08 01:30:00+00:00</td>\n",
       "      <td>0.006</td>\n",
       "      <td>8.1</td>\n",
       "      <td>0.987</td>\n",
       "      <td>0.0</td>\n",
       "      <td>0.000</td>\n",
       "      <td>0.0</td>\n",
       "      <td>0.0</td>\n",
       "      <td>0.0</td>\n",
       "      <td>...</td>\n",
       "      <td>0.005</td>\n",
       "      <td>0.005</td>\n",
       "      <td>0.006</td>\n",
       "      <td>0.005</td>\n",
       "      <td>0.005</td>\n",
       "      <td>0.005</td>\n",
       "      <td>0.005</td>\n",
       "      <td>0.006</td>\n",
       "      <td>0.005</td>\n",
       "      <td>0.005</td>\n",
       "    </tr>\n",
       "    <tr>\n",
       "      <th>188451</th>\n",
       "      <td>##Bishop Sutton Primary School Electricity</td>\n",
       "      <td>2017-01-08 02:00:00+00:00</td>\n",
       "      <td>0.005</td>\n",
       "      <td>8.0</td>\n",
       "      <td>0.988</td>\n",
       "      <td>0.0</td>\n",
       "      <td>0.006</td>\n",
       "      <td>0.0</td>\n",
       "      <td>0.0</td>\n",
       "      <td>0.0</td>\n",
       "      <td>...</td>\n",
       "      <td>0.005</td>\n",
       "      <td>0.005</td>\n",
       "      <td>0.005</td>\n",
       "      <td>0.006</td>\n",
       "      <td>0.005</td>\n",
       "      <td>0.005</td>\n",
       "      <td>0.005</td>\n",
       "      <td>0.005</td>\n",
       "      <td>0.006</td>\n",
       "      <td>0.005</td>\n",
       "    </tr>\n",
       "  </tbody>\n",
       "</table>\n",
       "<p>5 rows × 342 columns</p>\n",
       "</div>"
      ],
      "text/plain": [
       "                                          location                      time  \\\n",
       "188447  ##Bishop Sutton Primary School Electricity 2017-01-08 00:00:00+00:00   \n",
       "188448  ##Bishop Sutton Primary School Electricity 2017-01-08 00:30:00+00:00   \n",
       "188449  ##Bishop Sutton Primary School Electricity 2017-01-08 01:00:00+00:00   \n",
       "188450  ##Bishop Sutton Primary School Electricity 2017-01-08 01:30:00+00:00   \n",
       "188451  ##Bishop Sutton Primary School Electricity 2017-01-08 02:00:00+00:00   \n",
       "\n",
       "        energy  AirTemp  RelativeHumidity  Dni  energy_lag_1  energy_lag_2  \\\n",
       "188447   0.000      8.4             0.987  0.0         0.000           0.0   \n",
       "188448   0.000      8.3             0.987  0.0         0.000           0.0   \n",
       "188449   0.000      8.2             0.987  0.0         0.000           0.0   \n",
       "188450   0.006      8.1             0.987  0.0         0.000           0.0   \n",
       "188451   0.005      8.0             0.988  0.0         0.006           0.0   \n",
       "\n",
       "        energy_lag_3  energy_lag_4  ...  energy_lag_327  energy_lag_328  \\\n",
       "188447           0.0           0.0  ...           0.005           0.005   \n",
       "188448           0.0           0.0  ...           0.006           0.005   \n",
       "188449           0.0           0.0  ...           0.005           0.006   \n",
       "188450           0.0           0.0  ...           0.005           0.005   \n",
       "188451           0.0           0.0  ...           0.005           0.005   \n",
       "\n",
       "        energy_lag_329  energy_lag_330  energy_lag_331  energy_lag_332  \\\n",
       "188447           0.005           0.005           0.006           0.005   \n",
       "188448           0.005           0.005           0.005           0.006   \n",
       "188449           0.005           0.005           0.005           0.005   \n",
       "188450           0.006           0.005           0.005           0.005   \n",
       "188451           0.005           0.006           0.005           0.005   \n",
       "\n",
       "        energy_lag_333  energy_lag_334  energy_lag_335  energy_lag_336  \n",
       "188447           0.005           0.000           0.000           0.000  \n",
       "188448           0.005           0.005           0.000           0.000  \n",
       "188449           0.006           0.005           0.005           0.000  \n",
       "188450           0.005           0.006           0.005           0.005  \n",
       "188451           0.005           0.005           0.006           0.005  \n",
       "\n",
       "[5 rows x 342 columns]"
      ]
     },
     "execution_count": 6,
     "metadata": {},
     "output_type": "execute_result"
    }
   ],
   "source": [
    "df.dropna(inplace=True)\n",
    "df.head()"
   ]
  },
  {
   "cell_type": "code",
   "execution_count": 7,
   "metadata": {},
   "outputs": [],
   "source": [
    "df.to_csv('../data/BANES_v3_oneweek.csv', index=False)"
   ]
  },
  {
   "cell_type": "markdown",
   "metadata": {},
   "source": [
    "## Feature Selection"
   ]
  },
  {
   "cell_type": "code",
   "execution_count": 3,
   "metadata": {},
   "outputs": [
    {
     "data": {
      "text/html": [
       "<div>\n",
       "<style scoped>\n",
       "    .dataframe tbody tr th:only-of-type {\n",
       "        vertical-align: middle;\n",
       "    }\n",
       "\n",
       "    .dataframe tbody tr th {\n",
       "        vertical-align: top;\n",
       "    }\n",
       "\n",
       "    .dataframe thead th {\n",
       "        text-align: right;\n",
       "    }\n",
       "</style>\n",
       "<table border=\"1\" class=\"dataframe\">\n",
       "  <thead>\n",
       "    <tr style=\"text-align: right;\">\n",
       "      <th></th>\n",
       "      <th>location</th>\n",
       "      <th>time</th>\n",
       "      <th>energy</th>\n",
       "      <th>AirTemp</th>\n",
       "      <th>RelativeHumidity</th>\n",
       "      <th>Dni</th>\n",
       "      <th>energy_lag_1</th>\n",
       "      <th>energy_lag_2</th>\n",
       "      <th>energy_lag_3</th>\n",
       "      <th>energy_lag_4</th>\n",
       "      <th>...</th>\n",
       "      <th>energy_lag_327</th>\n",
       "      <th>energy_lag_328</th>\n",
       "      <th>energy_lag_329</th>\n",
       "      <th>energy_lag_330</th>\n",
       "      <th>energy_lag_331</th>\n",
       "      <th>energy_lag_332</th>\n",
       "      <th>energy_lag_333</th>\n",
       "      <th>energy_lag_334</th>\n",
       "      <th>energy_lag_335</th>\n",
       "      <th>energy_lag_336</th>\n",
       "    </tr>\n",
       "  </thead>\n",
       "  <tbody>\n",
       "    <tr>\n",
       "      <th>0</th>\n",
       "      <td>##Bishop Sutton Primary School Electricity</td>\n",
       "      <td>2017-01-08 00:00:00+00:00</td>\n",
       "      <td>0.000</td>\n",
       "      <td>8.4</td>\n",
       "      <td>0.987</td>\n",
       "      <td>0.0</td>\n",
       "      <td>0.000</td>\n",
       "      <td>0.0</td>\n",
       "      <td>0.0</td>\n",
       "      <td>0.0</td>\n",
       "      <td>...</td>\n",
       "      <td>0.005</td>\n",
       "      <td>0.005</td>\n",
       "      <td>0.005</td>\n",
       "      <td>0.005</td>\n",
       "      <td>0.006</td>\n",
       "      <td>0.005</td>\n",
       "      <td>0.005</td>\n",
       "      <td>0.000</td>\n",
       "      <td>0.000</td>\n",
       "      <td>0.000</td>\n",
       "    </tr>\n",
       "    <tr>\n",
       "      <th>1</th>\n",
       "      <td>##Bishop Sutton Primary School Electricity</td>\n",
       "      <td>2017-01-08 00:30:00+00:00</td>\n",
       "      <td>0.000</td>\n",
       "      <td>8.3</td>\n",
       "      <td>0.987</td>\n",
       "      <td>0.0</td>\n",
       "      <td>0.000</td>\n",
       "      <td>0.0</td>\n",
       "      <td>0.0</td>\n",
       "      <td>0.0</td>\n",
       "      <td>...</td>\n",
       "      <td>0.006</td>\n",
       "      <td>0.005</td>\n",
       "      <td>0.005</td>\n",
       "      <td>0.005</td>\n",
       "      <td>0.005</td>\n",
       "      <td>0.006</td>\n",
       "      <td>0.005</td>\n",
       "      <td>0.005</td>\n",
       "      <td>0.000</td>\n",
       "      <td>0.000</td>\n",
       "    </tr>\n",
       "    <tr>\n",
       "      <th>2</th>\n",
       "      <td>##Bishop Sutton Primary School Electricity</td>\n",
       "      <td>2017-01-08 01:00:00+00:00</td>\n",
       "      <td>0.000</td>\n",
       "      <td>8.2</td>\n",
       "      <td>0.987</td>\n",
       "      <td>0.0</td>\n",
       "      <td>0.000</td>\n",
       "      <td>0.0</td>\n",
       "      <td>0.0</td>\n",
       "      <td>0.0</td>\n",
       "      <td>...</td>\n",
       "      <td>0.005</td>\n",
       "      <td>0.006</td>\n",
       "      <td>0.005</td>\n",
       "      <td>0.005</td>\n",
       "      <td>0.005</td>\n",
       "      <td>0.005</td>\n",
       "      <td>0.006</td>\n",
       "      <td>0.005</td>\n",
       "      <td>0.005</td>\n",
       "      <td>0.000</td>\n",
       "    </tr>\n",
       "    <tr>\n",
       "      <th>3</th>\n",
       "      <td>##Bishop Sutton Primary School Electricity</td>\n",
       "      <td>2017-01-08 01:30:00+00:00</td>\n",
       "      <td>0.006</td>\n",
       "      <td>8.1</td>\n",
       "      <td>0.987</td>\n",
       "      <td>0.0</td>\n",
       "      <td>0.000</td>\n",
       "      <td>0.0</td>\n",
       "      <td>0.0</td>\n",
       "      <td>0.0</td>\n",
       "      <td>...</td>\n",
       "      <td>0.005</td>\n",
       "      <td>0.005</td>\n",
       "      <td>0.006</td>\n",
       "      <td>0.005</td>\n",
       "      <td>0.005</td>\n",
       "      <td>0.005</td>\n",
       "      <td>0.005</td>\n",
       "      <td>0.006</td>\n",
       "      <td>0.005</td>\n",
       "      <td>0.005</td>\n",
       "    </tr>\n",
       "    <tr>\n",
       "      <th>4</th>\n",
       "      <td>##Bishop Sutton Primary School Electricity</td>\n",
       "      <td>2017-01-08 02:00:00+00:00</td>\n",
       "      <td>0.005</td>\n",
       "      <td>8.0</td>\n",
       "      <td>0.988</td>\n",
       "      <td>0.0</td>\n",
       "      <td>0.006</td>\n",
       "      <td>0.0</td>\n",
       "      <td>0.0</td>\n",
       "      <td>0.0</td>\n",
       "      <td>...</td>\n",
       "      <td>0.005</td>\n",
       "      <td>0.005</td>\n",
       "      <td>0.005</td>\n",
       "      <td>0.006</td>\n",
       "      <td>0.005</td>\n",
       "      <td>0.005</td>\n",
       "      <td>0.005</td>\n",
       "      <td>0.005</td>\n",
       "      <td>0.006</td>\n",
       "      <td>0.005</td>\n",
       "    </tr>\n",
       "  </tbody>\n",
       "</table>\n",
       "<p>5 rows × 342 columns</p>\n",
       "</div>"
      ],
      "text/plain": [
       "                                     location                      time  \\\n",
       "0  ##Bishop Sutton Primary School Electricity 2017-01-08 00:00:00+00:00   \n",
       "1  ##Bishop Sutton Primary School Electricity 2017-01-08 00:30:00+00:00   \n",
       "2  ##Bishop Sutton Primary School Electricity 2017-01-08 01:00:00+00:00   \n",
       "3  ##Bishop Sutton Primary School Electricity 2017-01-08 01:30:00+00:00   \n",
       "4  ##Bishop Sutton Primary School Electricity 2017-01-08 02:00:00+00:00   \n",
       "\n",
       "   energy  AirTemp  RelativeHumidity  Dni  energy_lag_1  energy_lag_2  \\\n",
       "0   0.000      8.4             0.987  0.0         0.000           0.0   \n",
       "1   0.000      8.3             0.987  0.0         0.000           0.0   \n",
       "2   0.000      8.2             0.987  0.0         0.000           0.0   \n",
       "3   0.006      8.1             0.987  0.0         0.000           0.0   \n",
       "4   0.005      8.0             0.988  0.0         0.006           0.0   \n",
       "\n",
       "   energy_lag_3  energy_lag_4  ...  energy_lag_327  energy_lag_328  \\\n",
       "0           0.0           0.0  ...           0.005           0.005   \n",
       "1           0.0           0.0  ...           0.006           0.005   \n",
       "2           0.0           0.0  ...           0.005           0.006   \n",
       "3           0.0           0.0  ...           0.005           0.005   \n",
       "4           0.0           0.0  ...           0.005           0.005   \n",
       "\n",
       "   energy_lag_329  energy_lag_330  energy_lag_331  energy_lag_332  \\\n",
       "0           0.005           0.005           0.006           0.005   \n",
       "1           0.005           0.005           0.005           0.006   \n",
       "2           0.005           0.005           0.005           0.005   \n",
       "3           0.006           0.005           0.005           0.005   \n",
       "4           0.005           0.006           0.005           0.005   \n",
       "\n",
       "   energy_lag_333  energy_lag_334  energy_lag_335  energy_lag_336  \n",
       "0           0.005           0.000           0.000           0.000  \n",
       "1           0.005           0.005           0.000           0.000  \n",
       "2           0.006           0.005           0.005           0.000  \n",
       "3           0.005           0.006           0.005           0.005  \n",
       "4           0.005           0.005           0.006           0.005  \n",
       "\n",
       "[5 rows x 342 columns]"
      ]
     },
     "execution_count": 3,
     "metadata": {},
     "output_type": "execute_result"
    }
   ],
   "source": [
    "df = pd.read_csv('../data/BANES_v3_oneweek.csv', parse_dates=['time'])\n",
    "df.head()"
   ]
  },
  {
   "cell_type": "code",
   "execution_count": 4,
   "metadata": {},
   "outputs": [
    {
     "data": {
      "text/plain": [
       "(2466431, 342)"
      ]
     },
     "execution_count": 4,
     "metadata": {},
     "output_type": "execute_result"
    }
   ],
   "source": [
    "df.shape"
   ]
  },
  {
   "cell_type": "code",
   "execution_count": 5,
   "metadata": {},
   "outputs": [
    {
     "data": {
      "text/plain": [
       "843519402"
      ]
     },
     "execution_count": 5,
     "metadata": {},
     "output_type": "execute_result"
    }
   ],
   "source": [
    "df.shape[0] * df.shape[1]"
   ]
  },
  {
   "cell_type": "markdown",
   "metadata": {},
   "source": [
    "3 years of data is still too large. We'll only use around one year and half."
   ]
  },
  {
   "cell_type": "code",
   "execution_count": 6,
   "metadata": {},
   "outputs": [
    {
     "data": {
      "text/plain": [
       "(array([[13.9  ,  0.937,  0.   , ...,  0.   ,  0.   ,  0.   ],\n",
       "        [13.9  ,  0.942,  0.   , ...,  0.   ,  0.   ,  0.   ],\n",
       "        [14.   ,  0.948,  0.   , ...,  0.   ,  0.   ,  0.   ],\n",
       "        [14.1  ,  0.951,  0.   , ...,  0.   ,  0.   ,  0.   ],\n",
       "        [14.1  ,  0.952,  0.   , ...,  0.   ,  0.   ,  0.   ]]),\n",
       " array([1.347, 1.384, 1.344, 1.394, 1.34 ]))"
      ]
     },
     "execution_count": 6,
     "metadata": {},
     "output_type": "execute_result"
    }
   ],
   "source": [
    "df = df[(df['time'] >= '2019-01-01') & (df['time'] < '2020-01-01')]\n",
    "\n",
    "X_vals = df.drop(['energy', 'location', 'time'], axis=1).values\n",
    "y_vals = df['energy'].values\n",
    "\n",
    "X_vals[:5], y_vals[:5]"
   ]
  },
  {
   "cell_type": "code",
   "execution_count": 7,
   "metadata": {},
   "outputs": [],
   "source": [
    "model = xgb.XGBRegressor(n_estimators=1000, learning_rate=0.05, max_depth=5, tree_method='gpu_hist', verbosity=2)"
   ]
  },
  {
   "cell_type": "code",
   "execution_count": 8,
   "metadata": {},
   "outputs": [
    {
     "name": "stdout",
     "output_type": "stream",
     "text": [
      "Training time: 259.9533 s\n"
     ]
    }
   ],
   "source": [
    "init = time.time()\n",
    "model.fit(X_vals, y_vals)\n",
    "end = time.time()\n",
    "\n",
    "print('Training time: {:.4f} s'.format(end - init))"
   ]
  },
  {
   "cell_type": "code",
   "execution_count": 9,
   "metadata": {},
   "outputs": [],
   "source": [
    "\n",
    "# pickle.dump(model, open('../models/model_featureimportance.pkl', 'wb'))"
   ]
  },
  {
   "cell_type": "code",
   "execution_count": 10,
   "metadata": {},
   "outputs": [],
   "source": [
    "columns = df.drop(['energy', 'location', 'time'], axis=1).columns"
   ]
  },
  {
   "cell_type": "code",
   "execution_count": 11,
   "metadata": {},
   "outputs": [],
   "source": [
    "feature_importance = pd.Series(model.feature_importances_, index=columns)"
   ]
  },
  {
   "cell_type": "code",
   "execution_count": 12,
   "metadata": {},
   "outputs": [
    {
     "data": {
      "image/png": "[encoded data removed]",
      "text/plain": [
       "<Figure size 921.6x518.4 with 1 Axes>"
      ]
     },
     "metadata": {
      "needs_background": "light"
     },
     "output_type": "display_data"
    }
   ],
   "source": [
    "plt.bar(range(len(model.feature_importances_)), model.feature_importances_)\n",
    "plt.title('Feature Importance')\n",
    "plt.xlabel('Feature')\n",
    "plt.ylabel('Importance')\n",
    "plt.show()"
   ]
  },
  {
   "cell_type": "code",
   "execution_count": 13,
   "metadata": {},
   "outputs": [
    {
     "data": {
      "image/png": "[encoded data removed]",
      "text/plain": [
       "<Figure size 921.6x518.4 with 1 Axes>"
      ]
     },
     "metadata": {
      "needs_background": "light"
     },
     "output_type": "display_data"
    }
   ],
   "source": [
    "plt.bar(range(len(model.feature_importances_)), model.feature_importances_)\n",
    "# on the top of the bar plot, add the feature names but only for the 20 largest features\n",
    "plt.title('Feature Importance (limited)')\n",
    "plt.xlabel('Feature')\n",
    "plt.ylabel('Importance')\n",
    "plt.ylim([0, 0.015])\n",
    "plt.show()"
   ]
  },
  {
   "cell_type": "code",
   "execution_count": 14,
   "metadata": {},
   "outputs": [
    {
     "data": {
      "image/png": "[encoded data removed]",
      "text/plain": [
       "<Figure size 921.6x720 with 1 Axes>"
      ]
     },
     "metadata": {
      "needs_background": "light"
     },
     "output_type": "display_data"
    }
   ],
   "source": [
    "plt.figure(figsize=(12.8, 10))\n",
    "\n",
    "feature_importance.nlargest(40).plot(kind='barh')\n",
    "plt.title('Feature Importance (top 40)')\n",
    "plt.ylabel('Feature')\n",
    "plt.xlabel('Importance')\n",
    "plt.show()"
   ]
  },
  {
   "cell_type": "code",
   "execution_count": 15,
   "metadata": {},
   "outputs": [
    {
     "data": {
      "image/png": "[encoded data removed]",
      "text/plain": [
       "<Figure size 921.6x720 with 1 Axes>"
      ]
     },
     "metadata": {
      "needs_background": "light"
     },
     "output_type": "display_data"
    }
   ],
   "source": [
    "plt.figure(figsize=(12.8, 10))\n",
    "\n",
    "feature_importance.drop(['energy_lag_1']).nlargest(40).plot(kind='barh')\n",
    "plt.title('Feature Importance (top 40 without lag 1)')\n",
    "plt.ylabel('Feature')\n",
    "plt.xlabel('Importance')\n",
    "plt.show()"
   ]
  },
  {
   "cell_type": "code",
   "execution_count": 16,
   "metadata": {},
   "outputs": [
    {
     "data": {
      "text/plain": [
       "Index(['energy_lag_1', 'energy_lag_335', 'energy_lag_328', 'energy_lag_336',\n",
       "       'energy_lag_46', 'energy_lag_334', 'energy_lag_48', 'energy_lag_47',\n",
       "       'energy_lag_51', 'energy_lag_286', 'energy_lag_327', 'energy_lag_332',\n",
       "       'energy_lag_287', 'energy_lag_280', 'energy_lag_45', 'energy_lag_279',\n",
       "       'energy_lag_326', 'energy_lag_49', 'energy_lag_284', 'energy_lag_331',\n",
       "       'energy_lag_57', 'energy_lag_50', 'energy_lag_333', 'energy_lag_291',\n",
       "       'energy_lag_288', 'energy_lag_2', 'energy_lag_223', 'energy_lag_289',\n",
       "       'energy_lag_285', 'energy_lag_315', 'energy_lag_191', 'energy_lag_330',\n",
       "       'energy_lag_319', 'energy_lag_3', 'energy_lag_56', 'energy_lag_320',\n",
       "       'energy_lag_145', 'energy_lag_281', 'energy_lag_43', 'energy_lag_9'],\n",
       "      dtype='object')"
      ]
     },
     "execution_count": 16,
     "metadata": {},
     "output_type": "execute_result"
    }
   ],
   "source": [
    "features = feature_importance.nlargest(40).index\n",
    "features"
   ]
  },
  {
   "cell_type": "markdown",
   "metadata": {},
   "source": [
    "## Test with features worth > 0.5%\n",
    "\n",
    "- 5x5 casas\n",
    "- 1x[7 9 12] casas\n",
    "- 1x80/20"
   ]
  },
  {
   "cell_type": "code",
   "execution_count": 17,
   "metadata": {},
   "outputs": [
    {
     "data": {
      "text/plain": [
       "Index(['energy_lag_1', 'energy_lag_46', 'energy_lag_328', 'energy_lag_334',\n",
       "       'energy_lag_335', 'energy_lag_336'],\n",
       "      dtype='object')"
      ]
     },
     "execution_count": 17,
     "metadata": {},
     "output_type": "execute_result"
    }
   ],
   "source": [
    "# feature importance larger than 0.5%\n",
    "features = feature_importance[feature_importance > 0.005].index\n",
    "features"
   ]
  },
  {
   "cell_type": "code",
   "execution_count": 19,
   "metadata": {},
   "outputs": [
    {
     "data": {
      "text/html": [
       "<div>\n",
       "<style scoped>\n",
       "    .dataframe tbody tr th:only-of-type {\n",
       "        vertical-align: middle;\n",
       "    }\n",
       "\n",
       "    .dataframe tbody tr th {\n",
       "        vertical-align: top;\n",
       "    }\n",
       "\n",
       "    .dataframe thead th {\n",
       "        text-align: right;\n",
       "    }\n",
       "</style>\n",
       "<table border=\"1\" class=\"dataframe\">\n",
       "  <thead>\n",
       "    <tr style=\"text-align: right;\">\n",
       "      <th></th>\n",
       "      <th>energy_lag_1</th>\n",
       "      <th>energy_lag_46</th>\n",
       "      <th>energy_lag_328</th>\n",
       "      <th>energy_lag_334</th>\n",
       "      <th>energy_lag_335</th>\n",
       "      <th>energy_lag_336</th>\n",
       "      <th>energy</th>\n",
       "      <th>location</th>\n",
       "    </tr>\n",
       "  </thead>\n",
       "  <tbody>\n",
       "    <tr>\n",
       "      <th>33650</th>\n",
       "      <td>1.344</td>\n",
       "      <td>1.414</td>\n",
       "      <td>0.0</td>\n",
       "      <td>0.0</td>\n",
       "      <td>0.0</td>\n",
       "      <td>0.0</td>\n",
       "      <td>1.347</td>\n",
       "      <td>##Northgate House Electricity Supply 1</td>\n",
       "    </tr>\n",
       "    <tr>\n",
       "      <th>33651</th>\n",
       "      <td>1.347</td>\n",
       "      <td>1.359</td>\n",
       "      <td>0.0</td>\n",
       "      <td>0.0</td>\n",
       "      <td>0.0</td>\n",
       "      <td>0.0</td>\n",
       "      <td>1.384</td>\n",
       "      <td>##Northgate House Electricity Supply 1</td>\n",
       "    </tr>\n",
       "    <tr>\n",
       "      <th>33652</th>\n",
       "      <td>1.384</td>\n",
       "      <td>1.381</td>\n",
       "      <td>0.0</td>\n",
       "      <td>0.0</td>\n",
       "      <td>0.0</td>\n",
       "      <td>0.0</td>\n",
       "      <td>1.344</td>\n",
       "      <td>##Northgate House Electricity Supply 1</td>\n",
       "    </tr>\n",
       "    <tr>\n",
       "      <th>33653</th>\n",
       "      <td>1.344</td>\n",
       "      <td>1.296</td>\n",
       "      <td>0.0</td>\n",
       "      <td>0.0</td>\n",
       "      <td>0.0</td>\n",
       "      <td>0.0</td>\n",
       "      <td>1.394</td>\n",
       "      <td>##Northgate House Electricity Supply 1</td>\n",
       "    </tr>\n",
       "    <tr>\n",
       "      <th>33654</th>\n",
       "      <td>1.394</td>\n",
       "      <td>1.313</td>\n",
       "      <td>0.0</td>\n",
       "      <td>0.0</td>\n",
       "      <td>0.0</td>\n",
       "      <td>0.0</td>\n",
       "      <td>1.340</td>\n",
       "      <td>##Northgate House Electricity Supply 1</td>\n",
       "    </tr>\n",
       "  </tbody>\n",
       "</table>\n",
       "</div>"
      ],
      "text/plain": [
       "       energy_lag_1  energy_lag_46  energy_lag_328  energy_lag_334  \\\n",
       "33650         1.344          1.414             0.0             0.0   \n",
       "33651         1.347          1.359             0.0             0.0   \n",
       "33652         1.384          1.381             0.0             0.0   \n",
       "33653         1.344          1.296             0.0             0.0   \n",
       "33654         1.394          1.313             0.0             0.0   \n",
       "\n",
       "       energy_lag_335  energy_lag_336  energy  \\\n",
       "33650             0.0             0.0   1.347   \n",
       "33651             0.0             0.0   1.384   \n",
       "33652             0.0             0.0   1.344   \n",
       "33653             0.0             0.0   1.394   \n",
       "33654             0.0             0.0   1.340   \n",
       "\n",
       "                                     location  \n",
       "33650  ##Northgate House Electricity Supply 1  \n",
       "33651  ##Northgate House Electricity Supply 1  \n",
       "33652  ##Northgate House Electricity Supply 1  \n",
       "33653  ##Northgate House Electricity Supply 1  \n",
       "33654  ##Northgate House Electricity Supply 1  "
      ]
     },
     "execution_count": 19,
     "metadata": {},
     "output_type": "execute_result"
    }
   ],
   "source": [
    "df_05 = df[[*features] + ['energy', 'location']]\n",
    "df_05.head()"
   ]
  },
  {
   "cell_type": "markdown",
   "metadata": {},
   "source": [
    "As we can see, the half hour before the energy is the most important, with around the same hour the day before and the last week being also somewhat important."
   ]
  },
  {
   "cell_type": "markdown",
   "metadata": {},
   "source": [
    "### 5x5 houses"
   ]
  },
  {
   "cell_type": "code",
   "execution_count": 23,
   "metadata": {},
   "outputs": [],
   "source": [
    "models = [xgb.XGBRegressor(n_estimators=1000, learning_rate=0.05, max_depth=5, tree_method='gpu_hist', verbosity=2) for\n",
    "          _ in range(5)]"
   ]
  },
  {
   "cell_type": "code",
   "execution_count": 24,
   "metadata": {},
   "outputs": [
    {
     "name": "stdout",
     "output_type": "stream",
     "text": [
      "Training time: 14.7672 s\n",
      "Prediction time: 0.2244 s\n",
      "MSE: 0.3704\n",
      "RMSE: 0.6086\n",
      "MAE: 0.3053\n",
      "WMAPE: 18.9405\n",
      "R2: 0.9234\n",
      "\n",
      "Training time: 14.0753 s\n",
      "Prediction time: 0.1893 s\n",
      "MSE: 0.1798\n",
      "RMSE: 0.4240\n",
      "MAE: 0.1727\n",
      "WMAPE: 21.2881\n",
      "R2: 0.9048\n",
      "\n",
      "Training time: 14.4677 s\n",
      "Prediction time: 0.2756 s\n",
      "MSE: 1.3460\n",
      "RMSE: 1.1602\n",
      "MAE: 0.4177\n",
      "WMAPE: 11.9769\n",
      "R2: 0.9708\n",
      "\n",
      "Training time: 14.0565 s\n",
      "Prediction time: 0.3514 s\n",
      "MSE: 0.2441\n",
      "RMSE: 0.4940\n",
      "MAE: 0.1861\n",
      "WMAPE: 14.9444\n",
      "R2: 0.9519\n",
      "\n",
      "Training time: 14.4625 s\n",
      "Prediction time: 0.2330 s\n",
      "MSE: 0.3098\n",
      "RMSE: 0.5566\n",
      "MAE: 0.1819\n",
      "WMAPE: 17.4994\n",
      "R2: 0.9234\n",
      "\n"
     ]
    }
   ],
   "source": [
    "for model in models:\n",
    "    # get 5 random houses\n",
    "    random_locations = np.random.choice(df['location'].unique(), size=5, replace=False)\n",
    "    # use the 5 houses as the test set\n",
    "    test = df_05[df_05['location'].isin(random_locations)]\n",
    "    # remove the houses from the training set\n",
    "    train = df_05[~df_05['location'].isin(random_locations)]\n",
    "    X_train = train.drop(['energy', 'location'], axis=1).values\n",
    "    y_train = train['energy'].values\n",
    "    X_test = test.drop(['energy', 'location'], axis=1).values\n",
    "    y_test = test['energy'].values\n",
    "\n",
    "    init = time.time()\n",
    "    model.fit(X_train, y_train)\n",
    "    end = time.time()\n",
    "\n",
    "    print('Training time: {:.4f} s'.format(end - init))\n",
    "\n",
    "    init = time.time()\n",
    "    y_pred = model.predict(X_test)\n",
    "    end = time.time()\n",
    "\n",
    "    print('Prediction time: {:.4f} s'.format(end - init))\n",
    "\n",
    "    mse = mean_squared_error(y_test, y_pred)\n",
    "    rmse = np.sqrt(mse)\n",
    "    mae = mean_absolute_error(y_test, y_pred)\n",
    "    wmape = np.sum(np.abs(y_pred - y_test)) / np.sum(np.abs(y_test)) * 100\n",
    "    r2 = r2_score(y_test, y_pred)\n",
    "\n",
    "    print('MSE: {:.4f}'.format(mse))\n",
    "    print('RMSE: {:.4f}'.format(rmse))\n",
    "    print('MAE: {:.4f}'.format(mae))\n",
    "    print('WMAPE: {:.4f}'.format(wmape))\n",
    "    print('R2: {:.4f}\\n'.format(r2))\n"
   ]
  },
  {
   "cell_type": "markdown",
   "metadata": {},
   "source": [
    "### 80/20 split"
   ]
  },
  {
   "cell_type": "code",
   "execution_count": 25,
   "metadata": {},
   "outputs": [],
   "source": [
    "model = xgb.XGBRegressor(n_estimators=1000, learning_rate=0.05, max_depth=5, tree_method='gpu_hist', verbosity=2)"
   ]
  },
  {
   "cell_type": "code",
   "execution_count": 27,
   "metadata": {},
   "outputs": [],
   "source": [
    "X_train, X_test, y_train, y_test = train_test_split(df_05.drop(['energy', 'location'], axis=1), df_05['energy'],\n",
    "                                                    test_size=0.2, random_state=42)"
   ]
  },
  {
   "cell_type": "code",
   "execution_count": 28,
   "metadata": {},
   "outputs": [
    {
     "name": "stdout",
     "output_type": "stream",
     "text": [
      "Training time: 14.3055 s\n",
      "Prediction time: 0.5841 s\n",
      "MSE: 0.4816\n",
      "RMSE: 0.6940\n",
      "MAE: 0.2881\n",
      "WMAPE: 9.3880\n",
      "R2: 0.9886\n",
      "\n"
     ]
    }
   ],
   "source": [
    "init = time.time()\n",
    "model.fit(X_train, y_train)\n",
    "end = time.time()\n",
    "\n",
    "print('Training time: {:.4f} s'.format(end - init))\n",
    "\n",
    "init = time.time()\n",
    "y_pred = model.predict(X_test)\n",
    "end = time.time()\n",
    "\n",
    "print('Prediction time: {:.4f} s'.format(end - init))\n",
    "\n",
    "mse = mean_squared_error(y_test, y_pred)\n",
    "rmse = np.sqrt(mse)\n",
    "mae = mean_absolute_error(y_test, y_pred)\n",
    "wmape = np.sum(np.abs(y_pred - y_test)) / np.sum(np.abs(y_test)) * 100\n",
    "r2 = r2_score(y_test, y_pred)\n",
    "\n",
    "print('MSE: {:.4f}'.format(mse))\n",
    "print('RMSE: {:.4f}'.format(rmse))\n",
    "print('MAE: {:.4f}'.format(mae))\n",
    "print('WMAPE: {:.4f}'.format(wmape))\n",
    "print('R2: {:.4f}\\n'.format(r2))\n"
   ]
  },
  {
   "cell_type": "markdown",
   "metadata": {},
   "source": [
    "### 10 houses and 15 houses"
   ]
  },
  {
   "cell_type": "code",
   "execution_count": 29,
   "metadata": {},
   "outputs": [],
   "source": [
    "models = [xgb.XGBRegressor(n_estimators=1000, learning_rate=0.05, max_depth=5, tree_method='gpu_hist', verbosity=2) for\n",
    "          _ in range(10)]"
   ]
  },
  {
   "cell_type": "code",
   "execution_count": 32,
   "metadata": {},
   "outputs": [
    {
     "name": "stdout",
     "output_type": "stream",
     "text": [
      "10 houses\n",
      "Model 1\n",
      "Training time: 14.1847 s\n",
      "Prediction time: 0.5532 s\n",
      "MSE: 0.5044\n",
      "RMSE: 0.7102\n",
      "MAE: 0.2904\n",
      "WMAPE: 9.4635\n",
      "R2: 0.9881\n",
      "\n",
      "10 houses\n",
      "Model 2\n",
      "Training time: 13.8021 s\n",
      "Prediction time: 0.7017 s\n",
      "MSE: 0.4252\n",
      "RMSE: 0.6521\n",
      "MAE: 0.2804\n",
      "WMAPE: 9.1346\n",
      "R2: 0.9899\n",
      "\n",
      "10 houses\n",
      "Model 3\n",
      "Training time: 13.1502 s\n",
      "Prediction time: 0.7264 s\n",
      "MSE: 0.4973\n",
      "RMSE: 0.7052\n",
      "MAE: 0.2884\n",
      "WMAPE: 9.3974\n",
      "R2: 0.9882\n",
      "\n",
      "10 houses\n",
      "Model 4\n",
      "Training time: 13.2155 s\n",
      "Prediction time: 0.7201 s\n",
      "MSE: 0.5460\n",
      "RMSE: 0.7389\n",
      "MAE: 0.3022\n",
      "WMAPE: 9.8449\n",
      "R2: 0.9871\n",
      "\n",
      "10 houses\n",
      "Model 5\n",
      "Training time: 13.1910 s\n",
      "Prediction time: 0.8567 s\n",
      "MSE: 0.5060\n",
      "RMSE: 0.7114\n",
      "MAE: 0.2911\n",
      "WMAPE: 9.4851\n",
      "R2: 0.9880\n",
      "\n",
      "15 houses\n",
      "Model 1\n",
      "Training time: 12.6170 s\n",
      "Prediction time: 0.7609 s\n",
      "MSE: 0.4328\n",
      "RMSE: 0.6578\n",
      "MAE: 0.2817\n",
      "WMAPE: 9.1798\n",
      "R2: 0.9898\n",
      "\n",
      "15 houses\n",
      "Model 2\n",
      "Training time: 13.0302 s\n",
      "Prediction time: 1.0387 s\n",
      "MSE: 0.4740\n",
      "RMSE: 0.6885\n",
      "MAE: 0.2874\n",
      "WMAPE: 9.3646\n",
      "R2: 0.9888\n",
      "\n",
      "15 houses\n",
      "Model 3\n",
      "Training time: 12.2479 s\n",
      "Prediction time: 0.6212 s\n",
      "MSE: 0.4270\n",
      "RMSE: 0.6535\n",
      "MAE: 0.2791\n",
      "WMAPE: 9.0927\n",
      "R2: 0.9899\n",
      "\n",
      "15 houses\n",
      "Model 4\n",
      "Training time: 12.7789 s\n",
      "Prediction time: 0.7085 s\n",
      "MSE: 0.4469\n",
      "RMSE: 0.6685\n",
      "MAE: 0.2858\n",
      "WMAPE: 9.3123\n",
      "R2: 0.9894\n",
      "\n",
      "15 houses\n",
      "Model 5\n",
      "Training time: 12.1010 s\n",
      "Prediction time: 0.6987 s\n",
      "MSE: 0.4762\n",
      "RMSE: 0.6901\n",
      "MAE: 0.2853\n",
      "WMAPE: 9.2955\n",
      "R2: 0.9887\n",
      "\n"
     ]
    }
   ],
   "source": [
    "for i, model in enumerate(models):\n",
    "    if i >= 5:\n",
    "        print(\"15 houses\")\n",
    "        i = i - 5\n",
    "        # get 15 random houses\n",
    "        locations = np.random.choice(df['location'].unique(), size=15, replace=False)\n",
    "    else:\n",
    "        print(\"10 houses\")\n",
    "        # get 10 random houses\n",
    "        locations = np.random.choice(df['location'].unique(), size=10, replace=False)\n",
    "\n",
    "    print('Model {}'.format(i + 1))\n",
    "\n",
    "    # use the houses as the test set\n",
    "    test = df_05[df_05['location'].isin(locations)]\n",
    "    # remove the houses from the training set\n",
    "    train = df_05[~df_05['location'].isin(locations)]\n",
    "    X_train = train.drop(['energy', 'location'], axis=1).values\n",
    "    y_train = train['energy'].values\n",
    "\n",
    "    init = time.time()\n",
    "    model.fit(X_train, y_train)\n",
    "    end = time.time()\n",
    "\n",
    "    print('Training time: {:.4f} s'.format(end - init))\n",
    "\n",
    "    init = time.time()\n",
    "    y_pred = model.predict(X_test)\n",
    "    end = time.time()\n",
    "\n",
    "    print('Prediction time: {:.4f} s'.format(end - init))\n",
    "\n",
    "    mse = mean_squared_error(y_test, y_pred)\n",
    "    rmse = np.sqrt(mse)\n",
    "    mae = mean_absolute_error(y_test, y_pred)\n",
    "    wmape = np.sum(np.abs(y_pred - y_test)) / np.sum(np.abs(y_test)) * 100\n",
    "    r2 = r2_score(y_test, y_pred)\n",
    "\n",
    "    print('MSE: {:.4f}'.format(mse))\n",
    "    print('RMSE: {:.4f}'.format(rmse))\n",
    "    print('MAE: {:.4f}'.format(mae))\n",
    "    print('WMAPE: {:.4f}'.format(wmape))\n",
    "    print('R2: {:.4f}\\n'.format(r2))\n"
   ]
  },
  {
   "cell_type": "markdown",
   "metadata": {},
   "source": [
    "## Export Data with the top 40 features"
   ]
  },
  {
   "cell_type": "code",
   "execution_count": 35,
   "metadata": {},
   "outputs": [
    {
     "data": {
      "text/plain": [
       "[1,\n",
       " 335,\n",
       " 328,\n",
       " 336,\n",
       " 46,\n",
       " 334,\n",
       " 48,\n",
       " 47,\n",
       " 51,\n",
       " 286,\n",
       " 327,\n",
       " 332,\n",
       " 287,\n",
       " 280,\n",
       " 45,\n",
       " 279,\n",
       " 326,\n",
       " 49,\n",
       " 284,\n",
       " 331,\n",
       " 57,\n",
       " 50,\n",
       " 333,\n",
       " 291,\n",
       " 288,\n",
       " 2,\n",
       " 223,\n",
       " 289,\n",
       " 285,\n",
       " 315,\n",
       " 191,\n",
       " 330,\n",
       " 319,\n",
       " 3,\n",
       " 56,\n",
       " 320,\n",
       " 145,\n",
       " 281,\n",
       " 43,\n",
       " 9]"
      ]
     },
     "execution_count": 35,
     "metadata": {},
     "output_type": "execute_result"
    }
   ],
   "source": [
    "if features is not None:\n",
    "    features = ['energy_lag_1', 'energy_lag_335', 'energy_lag_328', 'energy_lag_336',\n",
    "                'energy_lag_46', 'energy_lag_334', 'energy_lag_48', 'energy_lag_47',\n",
    "                'energy_lag_51', 'energy_lag_286', 'energy_lag_327', 'energy_lag_332',\n",
    "                'energy_lag_287', 'energy_lag_280', 'energy_lag_45', 'energy_lag_279',\n",
    "                'energy_lag_326', 'energy_lag_49', 'energy_lag_284', 'energy_lag_331',\n",
    "                'energy_lag_57', 'energy_lag_50', 'energy_lag_333', 'energy_lag_291',\n",
    "                'energy_lag_288', 'energy_lag_2', 'energy_lag_223', 'energy_lag_289',\n",
    "                'energy_lag_285', 'energy_lag_315', 'energy_lag_191', 'energy_lag_330',\n",
    "                'energy_lag_319', 'energy_lag_3', 'energy_lag_56', 'energy_lag_320',\n",
    "                'energy_lag_145', 'energy_lag_281', 'energy_lag_43', 'energy_lag_9']\n",
    "\n",
    "features = [int(f.split(\"_\")[-1]) for f in features]\n",
    "features"
   ]
  },
  {
   "cell_type": "code",
   "execution_count": 36,
   "metadata": {},
   "outputs": [],
   "source": [
    "ddf = pd.read_csv('../data/BANES_v2.csv', parse_dates=['time'])"
   ]
  },
  {
   "cell_type": "code",
   "execution_count": 37,
   "metadata": {},
   "outputs": [
    {
     "name": "stderr",
     "output_type": "stream",
     "text": [
      "100%|██████████| 40/40 [01:00<00:00,  1.52s/it]\n"
     ]
    }
   ],
   "source": [
    "for i in tqdm(range(len(features))):\n",
    "    f = features[i]\n",
    "    ddf.loc[ddf['time'].shift(f) == ddf['time'] - pd.Timedelta(f * 30, 'm'), f\"energy_lag_{f}\"] = ddf['energy'].shift(f)"
   ]
  },
  {
   "cell_type": "code",
   "execution_count": 38,
   "metadata": {},
   "outputs": [],
   "source": [
    "ddf = ddf.dropna()\n"
   ]
  },
  {
   "cell_type": "code",
   "execution_count": 26,
   "metadata": {},
   "outputs": [],
   "source": [
    "ddf.to_csv('../data/BANES_v4_featureimportance.csv', index=False)"
   ]
  },
  {
   "cell_type": "markdown",
   "metadata": {},
   "source": [
    "# XGBoost training"
   ]
  },
  {
   "cell_type": "code",
   "execution_count": 39,
   "metadata": {},
   "outputs": [
    {
     "name": "stdout",
     "output_type": "stream",
     "text": [
      "<class 'pandas.core.frame.DataFrame'>\n",
      "Int64Index: 7618080 entries, 336 to 7759967\n",
      "Data columns (total 46 columns):\n",
      " #   Column            Dtype              \n",
      "---  ------            -----              \n",
      " 0   location          object             \n",
      " 1   time              datetime64[ns, UTC]\n",
      " 2   energy            float64            \n",
      " 3   AirTemp           float64            \n",
      " 4   RelativeHumidity  float64            \n",
      " 5   Dni               float64            \n",
      " 6   energy_lag_1      float64            \n",
      " 7   energy_lag_335    float64            \n",
      " 8   energy_lag_328    float64            \n",
      " 9   energy_lag_336    float64            \n",
      " 10  energy_lag_46     float64            \n",
      " 11  energy_lag_334    float64            \n",
      " 12  energy_lag_48     float64            \n",
      " 13  energy_lag_47     float64            \n",
      " 14  energy_lag_51     float64            \n",
      " 15  energy_lag_286    float64            \n",
      " 16  energy_lag_327    float64            \n",
      " 17  energy_lag_332    float64            \n",
      " 18  energy_lag_287    float64            \n",
      " 19  energy_lag_280    float64            \n",
      " 20  energy_lag_45     float64            \n",
      " 21  energy_lag_279    float64            \n",
      " 22  energy_lag_326    float64            \n",
      " 23  energy_lag_49     float64            \n",
      " 24  energy_lag_284    float64            \n",
      " 25  energy_lag_331    float64            \n",
      " 26  energy_lag_57     float64            \n",
      " 27  energy_lag_50     float64            \n",
      " 28  energy_lag_333    float64            \n",
      " 29  energy_lag_291    float64            \n",
      " 30  energy_lag_288    float64            \n",
      " 31  energy_lag_2      float64            \n",
      " 32  energy_lag_223    float64            \n",
      " 33  energy_lag_289    float64            \n",
      " 34  energy_lag_285    float64            \n",
      " 35  energy_lag_315    float64            \n",
      " 36  energy_lag_191    float64            \n",
      " 37  energy_lag_330    float64            \n",
      " 38  energy_lag_319    float64            \n",
      " 39  energy_lag_3      float64            \n",
      " 40  energy_lag_56     float64            \n",
      " 41  energy_lag_320    float64            \n",
      " 42  energy_lag_145    float64            \n",
      " 43  energy_lag_281    float64            \n",
      " 44  energy_lag_43     float64            \n",
      " 45  energy_lag_9      float64            \n",
      "dtypes: datetime64[ns, UTC](1), float64(44), object(1)\n",
      "memory usage: 2.7+ GB\n"
     ]
    }
   ],
   "source": [
    "ddf.info()"
   ]
  },
  {
   "cell_type": "code",
   "execution_count": 40,
   "metadata": {},
   "outputs": [
    {
     "data": {
      "text/html": [
       "<div>\n",
       "<style scoped>\n",
       "    .dataframe tbody tr th:only-of-type {\n",
       "        vertical-align: middle;\n",
       "    }\n",
       "\n",
       "    .dataframe tbody tr th {\n",
       "        vertical-align: top;\n",
       "    }\n",
       "\n",
       "    .dataframe thead th {\n",
       "        text-align: right;\n",
       "    }\n",
       "</style>\n",
       "<table border=\"1\" class=\"dataframe\">\n",
       "  <thead>\n",
       "    <tr style=\"text-align: right;\">\n",
       "      <th></th>\n",
       "      <th>energy</th>\n",
       "      <th>AirTemp</th>\n",
       "      <th>RelativeHumidity</th>\n",
       "      <th>Dni</th>\n",
       "      <th>energy_lag_1</th>\n",
       "      <th>energy_lag_335</th>\n",
       "      <th>energy_lag_328</th>\n",
       "      <th>energy_lag_336</th>\n",
       "      <th>energy_lag_46</th>\n",
       "      <th>energy_lag_334</th>\n",
       "      <th>...</th>\n",
       "      <th>energy_lag_191</th>\n",
       "      <th>energy_lag_330</th>\n",
       "      <th>energy_lag_319</th>\n",
       "      <th>energy_lag_3</th>\n",
       "      <th>energy_lag_56</th>\n",
       "      <th>energy_lag_320</th>\n",
       "      <th>energy_lag_145</th>\n",
       "      <th>energy_lag_281</th>\n",
       "      <th>energy_lag_43</th>\n",
       "      <th>energy_lag_9</th>\n",
       "    </tr>\n",
       "  </thead>\n",
       "  <tbody>\n",
       "    <tr>\n",
       "      <th>count</th>\n",
       "      <td>7.618080e+06</td>\n",
       "      <td>7.618080e+06</td>\n",
       "      <td>7.618080e+06</td>\n",
       "      <td>7.618080e+06</td>\n",
       "      <td>7.618080e+06</td>\n",
       "      <td>7.618080e+06</td>\n",
       "      <td>7.618080e+06</td>\n",
       "      <td>7.618080e+06</td>\n",
       "      <td>7.618080e+06</td>\n",
       "      <td>7.618080e+06</td>\n",
       "      <td>...</td>\n",
       "      <td>7.618080e+06</td>\n",
       "      <td>7.618080e+06</td>\n",
       "      <td>7.618080e+06</td>\n",
       "      <td>7.618080e+06</td>\n",
       "      <td>7.618080e+06</td>\n",
       "      <td>7.618080e+06</td>\n",
       "      <td>7.618080e+06</td>\n",
       "      <td>7.618080e+06</td>\n",
       "      <td>7.618080e+06</td>\n",
       "      <td>7.618080e+06</td>\n",
       "    </tr>\n",
       "    <tr>\n",
       "      <th>mean</th>\n",
       "      <td>4.047301e+00</td>\n",
       "      <td>1.037881e+01</td>\n",
       "      <td>8.224648e-01</td>\n",
       "      <td>9.455131e+01</td>\n",
       "      <td>4.047312e+00</td>\n",
       "      <td>4.045883e+00</td>\n",
       "      <td>4.045944e+00</td>\n",
       "      <td>4.045876e+00</td>\n",
       "      <td>4.047256e+00</td>\n",
       "      <td>4.045890e+00</td>\n",
       "      <td>...</td>\n",
       "      <td>4.046697e+00</td>\n",
       "      <td>4.045925e+00</td>\n",
       "      <td>4.046136e+00</td>\n",
       "      <td>4.047327e+00</td>\n",
       "      <td>4.047236e+00</td>\n",
       "      <td>4.046105e+00</td>\n",
       "      <td>4.046361e+00</td>\n",
       "      <td>4.046634e+00</td>\n",
       "      <td>4.047247e+00</td>\n",
       "      <td>4.047365e+00</td>\n",
       "    </tr>\n",
       "    <tr>\n",
       "      <th>std</th>\n",
       "      <td>8.456606e+00</td>\n",
       "      <td>5.630281e+00</td>\n",
       "      <td>1.291052e-01</td>\n",
       "      <td>2.143843e+02</td>\n",
       "      <td>8.456609e+00</td>\n",
       "      <td>8.456215e+00</td>\n",
       "      <td>8.456158e+00</td>\n",
       "      <td>8.456223e+00</td>\n",
       "      <td>8.456330e+00</td>\n",
       "      <td>8.456208e+00</td>\n",
       "      <td>...</td>\n",
       "      <td>8.456546e+00</td>\n",
       "      <td>8.456171e+00</td>\n",
       "      <td>8.456273e+00</td>\n",
       "      <td>8.456609e+00</td>\n",
       "      <td>8.456302e+00</td>\n",
       "      <td>8.456240e+00</td>\n",
       "      <td>8.455656e+00</td>\n",
       "      <td>8.457047e+00</td>\n",
       "      <td>8.456333e+00</td>\n",
       "      <td>8.456579e+00</td>\n",
       "    </tr>\n",
       "    <tr>\n",
       "      <th>min</th>\n",
       "      <td>0.000000e+00</td>\n",
       "      <td>-9.000000e+00</td>\n",
       "      <td>3.060000e-01</td>\n",
       "      <td>0.000000e+00</td>\n",
       "      <td>0.000000e+00</td>\n",
       "      <td>0.000000e+00</td>\n",
       "      <td>0.000000e+00</td>\n",
       "      <td>0.000000e+00</td>\n",
       "      <td>0.000000e+00</td>\n",
       "      <td>0.000000e+00</td>\n",
       "      <td>...</td>\n",
       "      <td>0.000000e+00</td>\n",
       "      <td>0.000000e+00</td>\n",
       "      <td>0.000000e+00</td>\n",
       "      <td>0.000000e+00</td>\n",
       "      <td>0.000000e+00</td>\n",
       "      <td>0.000000e+00</td>\n",
       "      <td>0.000000e+00</td>\n",
       "      <td>0.000000e+00</td>\n",
       "      <td>0.000000e+00</td>\n",
       "      <td>0.000000e+00</td>\n",
       "    </tr>\n",
       "    <tr>\n",
       "      <th>25%</th>\n",
       "      <td>2.290000e-01</td>\n",
       "      <td>6.400000e+00</td>\n",
       "      <td>7.450000e-01</td>\n",
       "      <td>0.000000e+00</td>\n",
       "      <td>2.290000e-01</td>\n",
       "      <td>2.290000e-01</td>\n",
       "      <td>2.290000e-01</td>\n",
       "      <td>2.290000e-01</td>\n",
       "      <td>2.290000e-01</td>\n",
       "      <td>2.290000e-01</td>\n",
       "      <td>...</td>\n",
       "      <td>2.290000e-01</td>\n",
       "      <td>2.290000e-01</td>\n",
       "      <td>2.290000e-01</td>\n",
       "      <td>2.290000e-01</td>\n",
       "      <td>2.290000e-01</td>\n",
       "      <td>2.290000e-01</td>\n",
       "      <td>2.290000e-01</td>\n",
       "      <td>2.290000e-01</td>\n",
       "      <td>2.290000e-01</td>\n",
       "      <td>2.290000e-01</td>\n",
       "    </tr>\n",
       "    <tr>\n",
       "      <th>50%</th>\n",
       "      <td>7.630000e-01</td>\n",
       "      <td>1.030000e+01</td>\n",
       "      <td>8.590000e-01</td>\n",
       "      <td>0.000000e+00</td>\n",
       "      <td>7.630000e-01</td>\n",
       "      <td>7.620000e-01</td>\n",
       "      <td>7.620000e-01</td>\n",
       "      <td>7.620000e-01</td>\n",
       "      <td>7.630000e-01</td>\n",
       "      <td>7.620000e-01</td>\n",
       "      <td>...</td>\n",
       "      <td>7.630000e-01</td>\n",
       "      <td>7.620000e-01</td>\n",
       "      <td>7.620000e-01</td>\n",
       "      <td>7.630000e-01</td>\n",
       "      <td>7.630000e-01</td>\n",
       "      <td>7.620000e-01</td>\n",
       "      <td>7.630000e-01</td>\n",
       "      <td>7.630000e-01</td>\n",
       "      <td>7.630000e-01</td>\n",
       "      <td>7.630000e-01</td>\n",
       "    </tr>\n",
       "    <tr>\n",
       "      <th>75%</th>\n",
       "      <td>3.258000e+00</td>\n",
       "      <td>1.440000e+01</td>\n",
       "      <td>9.260000e-01</td>\n",
       "      <td>1.500000e+01</td>\n",
       "      <td>3.258000e+00</td>\n",
       "      <td>3.255000e+00</td>\n",
       "      <td>3.255000e+00</td>\n",
       "      <td>3.255000e+00</td>\n",
       "      <td>3.258000e+00</td>\n",
       "      <td>3.255000e+00</td>\n",
       "      <td>...</td>\n",
       "      <td>3.256000e+00</td>\n",
       "      <td>3.255000e+00</td>\n",
       "      <td>3.255000e+00</td>\n",
       "      <td>3.258000e+00</td>\n",
       "      <td>3.258000e+00</td>\n",
       "      <td>3.255000e+00</td>\n",
       "      <td>3.257000e+00</td>\n",
       "      <td>3.256000e+00</td>\n",
       "      <td>3.258000e+00</td>\n",
       "      <td>3.259000e+00</td>\n",
       "    </tr>\n",
       "    <tr>\n",
       "      <th>max</th>\n",
       "      <td>7.470000e+01</td>\n",
       "      <td>2.970000e+01</td>\n",
       "      <td>1.000000e+00</td>\n",
       "      <td>9.460000e+02</td>\n",
       "      <td>7.470000e+01</td>\n",
       "      <td>7.470000e+01</td>\n",
       "      <td>7.470000e+01</td>\n",
       "      <td>7.470000e+01</td>\n",
       "      <td>7.470000e+01</td>\n",
       "      <td>7.470000e+01</td>\n",
       "      <td>...</td>\n",
       "      <td>7.470000e+01</td>\n",
       "      <td>7.470000e+01</td>\n",
       "      <td>7.470000e+01</td>\n",
       "      <td>7.470000e+01</td>\n",
       "      <td>7.470000e+01</td>\n",
       "      <td>7.470000e+01</td>\n",
       "      <td>7.470000e+01</td>\n",
       "      <td>7.470000e+01</td>\n",
       "      <td>7.470000e+01</td>\n",
       "      <td>7.470000e+01</td>\n",
       "    </tr>\n",
       "  </tbody>\n",
       "</table>\n",
       "<p>8 rows × 44 columns</p>\n",
       "</div>"
      ],
      "text/plain": [
       "             energy       AirTemp  RelativeHumidity           Dni  \\\n",
       "count  7.618080e+06  7.618080e+06      7.618080e+06  7.618080e+06   \n",
       "mean   4.047301e+00  1.037881e+01      8.224648e-01  9.455131e+01   \n",
       "std    8.456606e+00  5.630281e+00      1.291052e-01  2.143843e+02   \n",
       "min    0.000000e+00 -9.000000e+00      3.060000e-01  0.000000e+00   \n",
       "25%    2.290000e-01  6.400000e+00      7.450000e-01  0.000000e+00   \n",
       "50%    7.630000e-01  1.030000e+01      8.590000e-01  0.000000e+00   \n",
       "75%    3.258000e+00  1.440000e+01      9.260000e-01  1.500000e+01   \n",
       "max    7.470000e+01  2.970000e+01      1.000000e+00  9.460000e+02   \n",
       "\n",
       "       energy_lag_1  energy_lag_335  energy_lag_328  energy_lag_336  \\\n",
       "count  7.618080e+06    7.618080e+06    7.618080e+06    7.618080e+06   \n",
       "mean   4.047312e+00    4.045883e+00    4.045944e+00    4.045876e+00   \n",
       "std    8.456609e+00    8.456215e+00    8.456158e+00    8.456223e+00   \n",
       "min    0.000000e+00    0.000000e+00    0.000000e+00    0.000000e+00   \n",
       "25%    2.290000e-01    2.290000e-01    2.290000e-01    2.290000e-01   \n",
       "50%    7.630000e-01    7.620000e-01    7.620000e-01    7.620000e-01   \n",
       "75%    3.258000e+00    3.255000e+00    3.255000e+00    3.255000e+00   \n",
       "max    7.470000e+01    7.470000e+01    7.470000e+01    7.470000e+01   \n",
       "\n",
       "       energy_lag_46  energy_lag_334  ...  energy_lag_191  energy_lag_330  \\\n",
       "count   7.618080e+06    7.618080e+06  ...    7.618080e+06    7.618080e+06   \n",
       "mean    4.047256e+00    4.045890e+00  ...    4.046697e+00    4.045925e+00   \n",
       "std     8.456330e+00    8.456208e+00  ...    8.456546e+00    8.456171e+00   \n",
       "min     0.000000e+00    0.000000e+00  ...    0.000000e+00    0.000000e+00   \n",
       "25%     2.290000e-01    2.290000e-01  ...    2.290000e-01    2.290000e-01   \n",
       "50%     7.630000e-01    7.620000e-01  ...    7.630000e-01    7.620000e-01   \n",
       "75%     3.258000e+00    3.255000e+00  ...    3.256000e+00    3.255000e+00   \n",
       "max     7.470000e+01    7.470000e+01  ...    7.470000e+01    7.470000e+01   \n",
       "\n",
       "       energy_lag_319  energy_lag_3  energy_lag_56  energy_lag_320  \\\n",
       "count    7.618080e+06  7.618080e+06   7.618080e+06    7.618080e+06   \n",
       "mean     4.046136e+00  4.047327e+00   4.047236e+00    4.046105e+00   \n",
       "std      8.456273e+00  8.456609e+00   8.456302e+00    8.456240e+00   \n",
       "min      0.000000e+00  0.000000e+00   0.000000e+00    0.000000e+00   \n",
       "25%      2.290000e-01  2.290000e-01   2.290000e-01    2.290000e-01   \n",
       "50%      7.620000e-01  7.630000e-01   7.630000e-01    7.620000e-01   \n",
       "75%      3.255000e+00  3.258000e+00   3.258000e+00    3.255000e+00   \n",
       "max      7.470000e+01  7.470000e+01   7.470000e+01    7.470000e+01   \n",
       "\n",
       "       energy_lag_145  energy_lag_281  energy_lag_43  energy_lag_9  \n",
       "count    7.618080e+06    7.618080e+06   7.618080e+06  7.618080e+06  \n",
       "mean     4.046361e+00    4.046634e+00   4.047247e+00  4.047365e+00  \n",
       "std      8.455656e+00    8.457047e+00   8.456333e+00  8.456579e+00  \n",
       "min      0.000000e+00    0.000000e+00   0.000000e+00  0.000000e+00  \n",
       "25%      2.290000e-01    2.290000e-01   2.290000e-01  2.290000e-01  \n",
       "50%      7.630000e-01    7.630000e-01   7.630000e-01  7.630000e-01  \n",
       "75%      3.257000e+00    3.256000e+00   3.258000e+00  3.259000e+00  \n",
       "max      7.470000e+01    7.470000e+01   7.470000e+01  7.470000e+01  \n",
       "\n",
       "[8 rows x 44 columns]"
      ]
     },
     "execution_count": 40,
     "metadata": {},
     "output_type": "execute_result"
    }
   ],
   "source": [
    "ddf.describe()"
   ]
  },
  {
   "cell_type": "code",
   "execution_count": 41,
   "metadata": {},
   "outputs": [],
   "source": [
    "X_train, X_test, y_train, y_test = train_test_split(ddf[[f\"energy_lag_{f}\" for f in features]], ddf['energy'],\n",
    "                                                    test_size=0.2, random_state=42)"
   ]
  },
  {
   "cell_type": "code",
   "execution_count": 44,
   "metadata": {},
   "outputs": [],
   "source": [
    "\n",
    "model = xgb.XGBRegressor(n_estimators=1000, learning_rate=0.05, max_depth=5, tree_method='gpu_hist', verbosity=2)"
   ]
  },
  {
   "cell_type": "code",
   "execution_count": 45,
   "metadata": {},
   "outputs": [
    {
     "name": "stdout",
     "output_type": "stream",
     "text": [
      "Training time: 285.3513 s\n"
     ]
    }
   ],
   "source": [
    "init = time.time()\n",
    "model.fit(X_train, y_train)\n",
    "end = time.time()\n",
    "\n",
    "print('Training time: {:.4f} s'.format(end - init))"
   ]
  },
  {
   "cell_type": "code",
   "execution_count": 46,
   "metadata": {},
   "outputs": [
    {
     "name": "stdout",
     "output_type": "stream",
     "text": [
      "Prediction time: 9.9936 s\n"
     ]
    }
   ],
   "source": [
    "init = time.time()\n",
    "preds = model.predict(X_test)\n",
    "end = time.time()\n",
    "\n",
    "print('Prediction time: {:.4f} s'.format(end - init))"
   ]
  },
  {
   "cell_type": "code",
   "execution_count": 47,
   "metadata": {},
   "outputs": [
    {
     "data": {
      "image/png": "[encoded data removed]",
      "text/plain": [
       "<Figure size 921.6x518.4 with 1 Axes>"
      ]
     },
     "metadata": {
      "needs_background": "light"
     },
     "output_type": "display_data"
    }
   ],
   "source": [
    "# plot error histogram\n",
    "plt.hist(np.abs(preds - y_test), bins=200)\n",
    "plt.title('Prediction Error')\n",
    "plt.xlabel('Error')\n",
    "plt.ylabel('Count')\n",
    "plt.show()"
   ]
  },
  {
   "cell_type": "code",
   "execution_count": 48,
   "metadata": {},
   "outputs": [
    {
     "data": {
      "image/png": "[encoded data removed]",
      "text/plain": [
       "<Figure size 921.6x518.4 with 1 Axes>"
      ]
     },
     "metadata": {
      "needs_background": "light"
     },
     "output_type": "display_data"
    }
   ],
   "source": [
    "plt.scatter(y_test, preds)\n",
    "plt.title('Prediction Error')\n",
    "plt.xlabel('True Energy')\n",
    "plt.ylabel('Predicted Energy')\n",
    "plt.plot([0, max(y_test)], [0, max(y_test)], '--', color='red')\n",
    "plt.legend(['perfect prediction', 'predictions'])\n",
    "plt.show()"
   ]
  },
  {
   "cell_type": "code",
   "execution_count": 49,
   "metadata": {},
   "outputs": [
    {
     "name": "stdout",
     "output_type": "stream",
     "text": [
      "MSE: 0.5210 kWh\n",
      "RMSE: 0.7218 kWh\n",
      "MAE: 0.2930 kWh\n",
      "WMAPE: 7.2313 %\n",
      "R2: 0.9927\n"
     ]
    }
   ],
   "source": [
    "mse = mean_squared_error(y_test, preds)\n",
    "rmse = np.sqrt(mse)\n",
    "mae = mean_absolute_error(y_test, preds)\n",
    "wmape = np.sum(np.abs(preds - y_test)) / np.sum(np.abs(y_test)) * 100\n",
    "r2 = r2_score(y_test, preds)\n",
    "\n",
    "print('MSE: {:.4f} kWh'.format(mse))\n",
    "print('RMSE: {:.4f} kWh'.format(rmse))\n",
    "print('MAE: {:.4f} kWh'.format(mae))\n",
    "print('WMAPE: {:.4f} %'.format(wmape))\n",
    "print('R2: {:.4f}'.format(r2))\n"
   ]
  },
  {
   "cell_type": "markdown",
   "metadata": {},
   "source": [
    "## Use houses as training data"
   ]
  },
  {
   "cell_type": "code",
   "execution_count": 50,
   "metadata": {},
   "outputs": [
    {
     "data": {
      "text/plain": [
       "69"
      ]
     },
     "execution_count": 50,
     "metadata": {},
     "output_type": "execute_result"
    }
   ],
   "source": [
    "ddf.location.nunique()"
   ]
  },
  {
   "cell_type": "code",
   "execution_count": 51,
   "metadata": {},
   "outputs": [
    {
     "data": {
      "text/plain": [
       "Guildhall Electricity Supply 1 (HH)              228384\n",
       "Bath Central Library Electricity (HH)            224784\n",
       "##Weston Library Electricity Supply 1            197376\n",
       "Royal Victoria Park Nursery Electricity          196848\n",
       "Moorland Rd Library                              194304\n",
       "                                                  ...  \n",
       "Mechanical Control Panel 1                         7536\n",
       "Ground & First Floor North - Power & Lighting      7536\n",
       "Air cooled chiller 1                               2352\n",
       "AirCooled Chiller 2                                 432\n",
       "Ground Floor Disabled WC Water Heater                96\n",
       "Name: location, Length: 69, dtype: int64"
      ]
     },
     "execution_count": 51,
     "metadata": {},
     "output_type": "execute_result"
    }
   ],
   "source": [
    "ddf.location.value_counts()"
   ]
  },
  {
   "cell_type": "code",
   "execution_count": 52,
   "metadata": {},
   "outputs": [
    {
     "data": {
      "text/plain": [
       "array(['St Johns Catholic Primary (P272 HH)',\n",
       "       'Saltford C of E Primary School (P272 HH)', 'Lewis House (New HH)',\n",
       "       'Guildhall Electricity Supply 1 (HH)',\n",
       "       'St Saviours C of E Infant School',\n",
       "       'Midsomer Norton Library (P272 HH)',\n",
       "       'St Saviours C of E Infant School',\n",
       "       '##Northgate House Electricity Supply 2',\n",
       "       'St Marks C of E School (HH)',\n",
       "       'St Marks C of E School - Orchard Lodge'], dtype=object)"
      ]
     },
     "execution_count": 52,
     "metadata": {},
     "output_type": "execute_result"
    }
   ],
   "source": [
    "# get 10 random locations\n",
    "locations = ddf.location.sample(10).values\n",
    "locations"
   ]
  },
  {
   "cell_type": "code",
   "execution_count": 53,
   "metadata": {},
   "outputs": [
    {
     "name": "stdout",
     "output_type": "stream",
     "text": [
      "(1467888, 46) (6150192, 46)\n"
     ]
    }
   ],
   "source": [
    "test = ddf[ddf.location.isin(locations)]\n",
    "train = ddf[~ddf.location.isin(locations)]\n",
    "print(test.shape, train.shape)\n",
    "\n",
    "X_train = train[[f\"energy_lag_{f}\" for f in features]]\n",
    "y_train = train['energy']\n",
    "X_test = test[[f\"energy_lag_{f}\" for f in features]]\n",
    "y_test = test['energy']"
   ]
  },
  {
   "cell_type": "code",
   "execution_count": 54,
   "metadata": {},
   "outputs": [
    {
     "data": {
      "text/plain": [
       "23.867352433875237"
      ]
     },
     "execution_count": 54,
     "metadata": {},
     "output_type": "execute_result"
    }
   ],
   "source": [
    "test.shape[0] / train.shape[0] * 100"
   ]
  },
  {
   "cell_type": "code",
   "execution_count": 65,
   "metadata": {},
   "outputs": [],
   "source": [
    "\n",
    "model2 = xgb.XGBRegressor(n_estimators=1000, learning_rate=0.05, max_depth=5, tree_method='gpu_hist', verbosity=2)"
   ]
  },
  {
   "cell_type": "code",
   "execution_count": 6,
   "metadata": {},
   "outputs": [
    {
     "name": "stdout",
     "output_type": "stream",
     "text": [
      "Training time: 246.7055 s\n"
     ]
    }
   ],
   "source": [
    "init = time.time()\n",
    "model2.fit(X_train, y_train)\n",
    "end = time.time()\n",
    "\n",
    "print('Training time: {:.4f} s'.format(end - init))"
   ]
  },
  {
   "cell_type": "code",
   "execution_count": null,
   "metadata": {},
   "outputs": [
    {
     "name": "stdout",
     "output_type": "stream",
     "text": [
      "Prediction time: 9.5662 s\n"
     ]
    }
   ],
   "source": [
    "init = time.time()\n",
    "preds2 = model2.predict(X_test)\n",
    "end = time.time()\n",
    "\n",
    "print('Prediction time: {:.4f} s'.format(end - init))"
   ]
  },
  {
   "cell_type": "code",
   "execution_count": null,
   "metadata": {},
   "outputs": [
    {
     "name": "stdout",
     "output_type": "stream",
     "text": [
      "MSE: 2.4923 kWh\n",
      "RMSE: 1.5787 kWh\n",
      "MAE: 0.7686 kWh\n",
      "WMAPE: 7.1454 %\n",
      "R2: 0.9871\n"
     ]
    }
   ],
   "source": [
    "mse = mean_squared_error(y_test, preds2)\n",
    "rmse = np.sqrt(mse)\n",
    "mae = mean_absolute_error(y_test, preds2)\n",
    "wmape = np.sum(np.abs(preds2 - y_test)) / np.sum(np.abs(y_test)) * 100\n",
    "r2 = r2_score(y_test, preds2)\n",
    "\n",
    "print('MSE: {:.4f} kWh'.format(mse))\n",
    "print('RMSE: {:.4f} kWh'.format(rmse))\n",
    "print('MAE: {:.4f} kWh'.format(mae))\n",
    "print('WMAPE: {:.4f} %'.format(wmape))\n",
    "print('R2: {:.4f}'.format(r2))"
   ]
  },
  {
   "cell_type": "markdown",
   "source": [
    "### Export the model\n",
    "\n",
    "This section will run the best model on the all dataset and export it as a pickle file."
   ],
   "metadata": {
    "collapsed": false,
    "pycharm": {
     "name": "#%% md\n"
    }
   }
  },
  {
   "cell_type": "code",
   "execution_count": 2,
   "outputs": [],
   "source": [
    "features = ['energy_lag_1', 'energy_lag_46', 'energy_lag_328', 'energy_lag_334',\n",
    "            'energy_lag_335', 'energy_lag_336']"
   ],
   "metadata": {
    "collapsed": false,
    "pycharm": {
     "name": "#%%\n"
    }
   }
  },
  {
   "cell_type": "code",
   "execution_count": 11,
   "outputs": [
    {
     "data": {
      "text/plain": "                                     location                       time  \\\n0  ##Bishop Sutton Primary School Electricity  2017-01-08 00:00:00+00:00   \n1  ##Bishop Sutton Primary School Electricity  2017-01-08 00:30:00+00:00   \n2  ##Bishop Sutton Primary School Electricity  2017-01-08 01:00:00+00:00   \n3  ##Bishop Sutton Primary School Electricity  2017-01-08 01:30:00+00:00   \n4  ##Bishop Sutton Primary School Electricity  2017-01-08 02:00:00+00:00   \n5  ##Bishop Sutton Primary School Electricity  2017-01-08 02:30:00+00:00   \n6  ##Bishop Sutton Primary School Electricity  2017-01-08 03:00:00+00:00   \n7  ##Bishop Sutton Primary School Electricity  2017-01-08 03:30:00+00:00   \n8  ##Bishop Sutton Primary School Electricity  2017-01-08 04:00:00+00:00   \n9  ##Bishop Sutton Primary School Electricity  2017-01-08 04:30:00+00:00   \n\n   energy  energy_lag_1  energy_lag_46  energy_lag_328  energy_lag_334  \\\n0   0.000         0.000          0.000           0.005           0.000   \n1   0.000         0.000          0.005           0.005           0.005   \n2   0.000         0.000          0.005           0.006           0.005   \n3   0.006         0.000          0.006           0.005           0.006   \n4   0.005         0.006          0.005           0.005           0.005   \n5   0.005         0.005          0.005           0.005           0.005   \n6   0.005         0.005          0.005           0.005           0.005   \n7   0.006         0.005          0.006           0.006           0.005   \n8   0.005         0.006          0.005           0.005           0.006   \n9   0.005         0.005          0.005           0.000           0.005   \n\n   energy_lag_335  energy_lag_336  \n0           0.000           0.000  \n1           0.000           0.000  \n2           0.005           0.000  \n3           0.005           0.005  \n4           0.006           0.005  \n5           0.005           0.006  \n6           0.005           0.005  \n7           0.005           0.005  \n8           0.005           0.005  \n9           0.006           0.005  ",
      "text/html": "<div>\n<style scoped>\n    .dataframe tbody tr th:only-of-type {\n        vertical-align: middle;\n    }\n\n    .dataframe tbody tr th {\n        vertical-align: top;\n    }\n\n    .dataframe thead th {\n        text-align: right;\n    }\n</style>\n<table border=\"1\" class=\"dataframe\">\n  <thead>\n    <tr style=\"text-align: right;\">\n      <th></th>\n      <th>location</th>\n      <th>time</th>\n      <th>energy</th>\n      <th>energy_lag_1</th>\n      <th>energy_lag_46</th>\n      <th>energy_lag_328</th>\n      <th>energy_lag_334</th>\n      <th>energy_lag_335</th>\n      <th>energy_lag_336</th>\n    </tr>\n  </thead>\n  <tbody>\n    <tr>\n      <th>0</th>\n      <td>##Bishop Sutton Primary School Electricity</td>\n      <td>2017-01-08 00:00:00+00:00</td>\n      <td>0.000</td>\n      <td>0.000</td>\n      <td>0.000</td>\n      <td>0.005</td>\n      <td>0.000</td>\n      <td>0.000</td>\n      <td>0.000</td>\n    </tr>\n    <tr>\n      <th>1</th>\n      <td>##Bishop Sutton Primary School Electricity</td>\n      <td>2017-01-08 00:30:00+00:00</td>\n      <td>0.000</td>\n      <td>0.000</td>\n      <td>0.005</td>\n      <td>0.005</td>\n      <td>0.005</td>\n      <td>0.000</td>\n      <td>0.000</td>\n    </tr>\n    <tr>\n      <th>2</th>\n      <td>##Bishop Sutton Primary School Electricity</td>\n      <td>2017-01-08 01:00:00+00:00</td>\n      <td>0.000</td>\n      <td>0.000</td>\n      <td>0.005</td>\n      <td>0.006</td>\n      <td>0.005</td>\n      <td>0.005</td>\n      <td>0.000</td>\n    </tr>\n    <tr>\n      <th>3</th>\n      <td>##Bishop Sutton Primary School Electricity</td>\n      <td>2017-01-08 01:30:00+00:00</td>\n      <td>0.006</td>\n      <td>0.000</td>\n      <td>0.006</td>\n      <td>0.005</td>\n      <td>0.006</td>\n      <td>0.005</td>\n      <td>0.005</td>\n    </tr>\n    <tr>\n      <th>4</th>\n      <td>##Bishop Sutton Primary School Electricity</td>\n      <td>2017-01-08 02:00:00+00:00</td>\n      <td>0.005</td>\n      <td>0.006</td>\n      <td>0.005</td>\n      <td>0.005</td>\n      <td>0.005</td>\n      <td>0.006</td>\n      <td>0.005</td>\n    </tr>\n    <tr>\n      <th>5</th>\n      <td>##Bishop Sutton Primary School Electricity</td>\n      <td>2017-01-08 02:30:00+00:00</td>\n      <td>0.005</td>\n      <td>0.005</td>\n      <td>0.005</td>\n      <td>0.005</td>\n      <td>0.005</td>\n      <td>0.005</td>\n      <td>0.006</td>\n    </tr>\n    <tr>\n      <th>6</th>\n      <td>##Bishop Sutton Primary School Electricity</td>\n      <td>2017-01-08 03:00:00+00:00</td>\n      <td>0.005</td>\n      <td>0.005</td>\n      <td>0.005</td>\n      <td>0.005</td>\n      <td>0.005</td>\n      <td>0.005</td>\n      <td>0.005</td>\n    </tr>\n    <tr>\n      <th>7</th>\n      <td>##Bishop Sutton Primary School Electricity</td>\n      <td>2017-01-08 03:30:00+00:00</td>\n      <td>0.006</td>\n      <td>0.005</td>\n      <td>0.006</td>\n      <td>0.006</td>\n      <td>0.005</td>\n      <td>0.005</td>\n      <td>0.005</td>\n    </tr>\n    <tr>\n      <th>8</th>\n      <td>##Bishop Sutton Primary School Electricity</td>\n      <td>2017-01-08 04:00:00+00:00</td>\n      <td>0.005</td>\n      <td>0.006</td>\n      <td>0.005</td>\n      <td>0.005</td>\n      <td>0.006</td>\n      <td>0.005</td>\n      <td>0.005</td>\n    </tr>\n    <tr>\n      <th>9</th>\n      <td>##Bishop Sutton Primary School Electricity</td>\n      <td>2017-01-08 04:30:00+00:00</td>\n      <td>0.005</td>\n      <td>0.005</td>\n      <td>0.005</td>\n      <td>0.000</td>\n      <td>0.005</td>\n      <td>0.006</td>\n      <td>0.005</td>\n    </tr>\n  </tbody>\n</table>\n</div>"
     },
     "execution_count": 11,
     "metadata": {},
     "output_type": "execute_result"
    }
   ],
   "source": [
    "cols = [\"time\", \"location\", \"energy\"] + features\n",
    "df = pd.read_csv('data/BANES_v3_oneweek.csv', usecols=cols)\n",
    "df.head(10)"
   ],
   "metadata": {
    "collapsed": false,
    "pycharm": {
     "name": "#%%\n"
    }
   }
  },
  {
   "cell_type": "code",
   "execution_count": 12,
   "outputs": [
    {
     "data": {
      "text/plain": "Junior School Electricity - Corridor 1              54049\nPaulton Library & Hub (1-2 Hill Court)              54049\nInfants School - Main School 2                      54049\nJunior School Electricity - Kitchen                 54049\nKeynsham Childrens Centre - Castle School Annexe    54049\n                                                    ...  \n##Nothgate House Electricity Supply 3                6961\nAir cooled chiller 1                                 2352\n##Bishop Sutton Primary School Electricity           1777\nAirCooled Chiller 2                                   432\nGround Floor Disabled WC Water Heater                  96\nName: location, Length: 65, dtype: int64"
     },
     "execution_count": 12,
     "metadata": {},
     "output_type": "execute_result"
    }
   ],
   "source": [
    "df.location.value_counts()"
   ],
   "metadata": {
    "collapsed": false,
    "pycharm": {
     "name": "#%%\n"
    }
   }
  },
  {
   "cell_type": "code",
   "execution_count": 13,
   "outputs": [
    {
     "data": {
      "text/plain": "array(['St Marks C of E School - Orchard Lodge',\n       'Haycombe Cemetery Chapel Electricity Sup',\n       'Freshford C of E Primary Electricity Sup',\n       'Keynsham Childrens Centre - Castle School Annexe',\n       'The Hollies Offices MSN (P272 HH)',\n       'Infants School - Main School 1',\n       'Westfield Childrens Centre (Now Schools Responsibility)',\n       'Pensford Primary Electricity Supply 3',\n       'The Hollies Offices MSN (P272 HH)',\n       'Junior School Electricity - Kitchen'], dtype=object)"
     },
     "execution_count": 13,
     "metadata": {},
     "output_type": "execute_result"
    }
   ],
   "source": [
    "# get 10 random locations\n",
    "locations = df.location.sample(10).values\n",
    "locations"
   ],
   "metadata": {
    "collapsed": false,
    "pycharm": {
     "name": "#%%\n"
    }
   }
  },
  {
   "cell_type": "code",
   "execution_count": 14,
   "outputs": [
    {
     "name": "stdout",
     "output_type": "stream",
     "text": [
      "Test corresponds to 19.401353615811672% of the data\n"
     ]
    }
   ],
   "source": [
    "test = df[df.location.isin(locations)]\n",
    "train = df[~df.location.isin(locations)]\n",
    "print(\"Test corresponds to {}% of the data\".format(test.shape[0] / df.shape[0] * 100))\n",
    "\n",
    "X_train = train[features]\n",
    "y_train = train['energy']\n",
    "X_test = test[features]\n",
    "y_test = test['energy']"
   ],
   "metadata": {
    "collapsed": false,
    "pycharm": {
     "name": "#%%\n"
    }
   }
  },
  {
   "cell_type": "code",
   "execution_count": 15,
   "outputs": [],
   "source": [
    "model = xgb.XGBRegressor(n_estimators=1000, learning_rate=0.05, max_depth=5, tree_method='gpu_hist', verbosity=2)"
   ],
   "metadata": {
    "collapsed": false,
    "pycharm": {
     "name": "#%%\n"
    }
   }
  },
  {
   "cell_type": "code",
   "execution_count": 16,
   "outputs": [
    {
     "name": "stdout",
     "output_type": "stream",
     "text": [
      "Training time: 33.2428 s\n",
      "Prediction time: 1.6105 s\n",
      "MSE: 0.1188 kWh\n",
      "RMSE: 0.3447 kWh\n",
      "MAE: 0.1469 kWh\n",
      "WMAPE: 10.5317 %\n",
      "R2: 0.9862\n"
     ]
    }
   ],
   "source": [
    "init = time.time()\n",
    "model.fit(X_train, y_train)\n",
    "end = time.time()\n",
    "\n",
    "print('Training time: {:.4f} s'.format(end - init))\n",
    "\n",
    "# save model\n",
    "pickle.dump(model, open('models/model_v1.pkl', 'wb'))\n",
    "\n",
    "init = time.time()\n",
    "preds = model.predict(X_test)\n",
    "end = time.time()\n",
    "\n",
    "print('Prediction time: {:.4f} s'.format(end - init))\n",
    "\n",
    "mse = mean_squared_error(y_test, preds)\n",
    "rmse = np.sqrt(mse)\n",
    "mae = mean_absolute_error(y_test, preds)\n",
    "wmape = np.sum(np.abs(preds - y_test)) / np.sum(np.abs(y_test)) * 100\n",
    "r2 = r2_score(y_test, preds)\n",
    "\n",
    "print('MSE: {:.4f} kWh'.format(mse))\n",
    "print('RMSE: {:.4f} kWh'.format(rmse))\n",
    "print('MAE: {:.4f} kWh'.format(mae))\n",
    "print('WMAPE: {:.4f} %'.format(wmape))\n",
    "print('R2: {:.4f}'.format(r2))"
   ],
   "metadata": {
    "collapsed": false,
    "pycharm": {
     "name": "#%%\n"
    }
   }
  },
  {
   "cell_type": "code",
   "execution_count": 33,
   "outputs": [],
   "source": [
    "df.to_csv('data/BANES_v4_featureimportance.csv', index=False)"
   ],
   "metadata": {
    "collapsed": false,
    "pycharm": {
     "name": "#%%\n"
    }
   }
  }
 ],
 "metadata": {
  "interpreter": {
   "hash": "9b1f332fd89bb55c2c3f9863fa09609ddaa711e42a9a5767d6b702ced9885182"
  },
  "kernelspec": {
   "display_name": "Python 3 (ipykernel)",
   "language": "python",
   "name": "python3"
  },
  "language_info": {
   "codemirror_mode": {
    "name": "ipython",
    "version": 3
   },
   "file_extension": ".py",
   "mimetype": "text/x-python",
   "name": "python",
   "nbconvert_exporter": "python",
   "pygments_lexer": "ipython3",
   "version": "3.9.12"
  }
 },
 "nbformat": 4,
 "nbformat_minor": 4
}