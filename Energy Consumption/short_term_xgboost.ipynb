{
 "cells": [
  {
   "cell_type": "markdown",
   "metadata": {},
   "source": [
    "# Short Term Load Forecasting using XGBoost\n",
    "\n",
    "This notebook demonstrates the use of XGBoost for short term load forecasting. It follows the steps in [\"Short Term Load Forecasting Using XGBoost\"](https://doi.org/10.1007/978-3-030-15035-8_108)."
   ]
  },
  {
   "cell_type": "code",
   "execution_count": 1,
   "metadata": {},
   "outputs": [],
   "source": [
    "# import libraries\n",
    "import pandas as pd\n",
    "import numpy as np\n",
    "import matplotlib.pyplot as plt\n",
    "\n",
    "import xgboost as xgb\n",
    "\n",
    "from sklearn.model_selection import train_test_split\n",
    "from sklearn.metrics import mean_absolute_error, mean_squared_error, r2_score\n",
    "\n",
    "from tqdm import tqdm\n",
    "\n",
    "import time\n",
    "import pickle\n",
    "import warnings\n",
    "warnings.filterwarnings('ignore')\n",
    "\n",
    "plt.rcParams['figure.figsize'] = (12.8, 7.2)\n"
   ]
  },
  {
   "cell_type": "code",
   "execution_count": 2,
   "metadata": {},
   "outputs": [
    {
     "data": {
      "text/html": [
       "<div>\n",
       "<style scoped>\n",
       "    .dataframe tbody tr th:only-of-type {\n",
       "        vertical-align: middle;\n",
       "    }\n",
       "\n",
       "    .dataframe tbody tr th {\n",
       "        vertical-align: top;\n",
       "    }\n",
       "\n",
       "    .dataframe thead th {\n",
       "        text-align: right;\n",
       "    }\n",
       "</style>\n",
       "<table border=\"1\" class=\"dataframe\">\n",
       "  <thead>\n",
       "    <tr style=\"text-align: right;\">\n",
       "      <th></th>\n",
       "      <th>location</th>\n",
       "      <th>time</th>\n",
       "      <th>energy</th>\n",
       "      <th>AirTemp</th>\n",
       "      <th>RelativeHumidity</th>\n",
       "      <th>Dni</th>\n",
       "    </tr>\n",
       "  </thead>\n",
       "  <tbody>\n",
       "    <tr>\n",
       "      <th>0</th>\n",
       "      <td>## OLD Paulton Library Electricity Supply 1</td>\n",
       "      <td>2008-06-14 00:30:00+00:00</td>\n",
       "      <td>0.08</td>\n",
       "      <td>9.1</td>\n",
       "      <td>0.829</td>\n",
       "      <td>0.0</td>\n",
       "    </tr>\n",
       "    <tr>\n",
       "      <th>1</th>\n",
       "      <td>## OLD Paulton Library Electricity Supply 1</td>\n",
       "      <td>2008-06-14 01:00:00+00:00</td>\n",
       "      <td>0.07</td>\n",
       "      <td>8.9</td>\n",
       "      <td>0.836</td>\n",
       "      <td>0.0</td>\n",
       "    </tr>\n",
       "    <tr>\n",
       "      <th>2</th>\n",
       "      <td>## OLD Paulton Library Electricity Supply 1</td>\n",
       "      <td>2008-06-14 01:30:00+00:00</td>\n",
       "      <td>0.08</td>\n",
       "      <td>8.7</td>\n",
       "      <td>0.844</td>\n",
       "      <td>0.0</td>\n",
       "    </tr>\n",
       "    <tr>\n",
       "      <th>3</th>\n",
       "      <td>## OLD Paulton Library Electricity Supply 1</td>\n",
       "      <td>2008-06-14 02:00:00+00:00</td>\n",
       "      <td>0.07</td>\n",
       "      <td>8.5</td>\n",
       "      <td>0.852</td>\n",
       "      <td>0.0</td>\n",
       "    </tr>\n",
       "    <tr>\n",
       "      <th>4</th>\n",
       "      <td>## OLD Paulton Library Electricity Supply 1</td>\n",
       "      <td>2008-06-14 02:30:00+00:00</td>\n",
       "      <td>0.08</td>\n",
       "      <td>8.3</td>\n",
       "      <td>0.860</td>\n",
       "      <td>0.0</td>\n",
       "    </tr>\n",
       "  </tbody>\n",
       "</table>\n",
       "</div>"
      ],
      "text/plain": [
       "                                      location                      time  \\\n",
       "0  ## OLD Paulton Library Electricity Supply 1 2008-06-14 00:30:00+00:00   \n",
       "1  ## OLD Paulton Library Electricity Supply 1 2008-06-14 01:00:00+00:00   \n",
       "2  ## OLD Paulton Library Electricity Supply 1 2008-06-14 01:30:00+00:00   \n",
       "3  ## OLD Paulton Library Electricity Supply 1 2008-06-14 02:00:00+00:00   \n",
       "4  ## OLD Paulton Library Electricity Supply 1 2008-06-14 02:30:00+00:00   \n",
       "\n",
       "   energy  AirTemp  RelativeHumidity  Dni  \n",
       "0    0.08      9.1             0.829  0.0  \n",
       "1    0.07      8.9             0.836  0.0  \n",
       "2    0.08      8.7             0.844  0.0  \n",
       "3    0.07      8.5             0.852  0.0  \n",
       "4    0.08      8.3             0.860  0.0  "
      ]
     },
     "execution_count": 2,
     "metadata": {},
     "output_type": "execute_result"
    }
   ],
   "source": [
    "df = pd.read_csv('../data/BANES_v2.csv', parse_dates=['time'])\n",
    "# df = df.groupby(['time', 'location']).mean().reset_index()\n",
    "df.head()"
   ]
  },
  {
   "cell_type": "code",
   "execution_count": 3,
   "metadata": {},
   "outputs": [],
   "source": [
    "df = df.sort_values(by=['location', 'time'])"
   ]
  },
  {
   "cell_type": "markdown",
   "metadata": {},
   "source": [
    "Joining the last week of data will expand the usage up to almost 20 GiB of data. That's too large for the RAM and unnecessary for this.\n",
    "We will use only around 3 years of data to reduce the RAM usage."
   ]
  },
  {
   "cell_type": "code",
   "execution_count": 4,
   "metadata": {},
   "outputs": [],
   "source": [
    "df = df[df['time'] >= '2017-01-01']"
   ]
  },
  {
   "cell_type": "code",
   "execution_count": 5,
   "metadata": {},
   "outputs": [
    {
     "name": "stderr",
     "output_type": "stream",
     "text": [
      "100%|██████████| 336/336 [01:51<00:00,  3.01it/s]\n"
     ]
    }
   ],
   "source": [
    "# join the last 7 days of data\n",
    "for i in tqdm(range(1, 48 * 7 + 1)):\n",
    "    df.loc[df['time'].shift(i) == df['time'] - pd.Timedelta(i * 30, 'm'), f\"energy_lag_{i}\"] = df['energy'].shift(i)"
   ]
  },
  {
   "cell_type": "code",
   "execution_count": 6,
   "metadata": {},
   "outputs": [
    {
     "data": {
      "text/html": [
       "<div>\n",
       "<style scoped>\n",
       "    .dataframe tbody tr th:only-of-type {\n",
       "        vertical-align: middle;\n",
       "    }\n",
       "\n",
       "    .dataframe tbody tr th {\n",
       "        vertical-align: top;\n",
       "    }\n",
       "\n",
       "    .dataframe thead th {\n",
       "        text-align: right;\n",
       "    }\n",
       "</style>\n",
       "<table border=\"1\" class=\"dataframe\">\n",
       "  <thead>\n",
       "    <tr style=\"text-align: right;\">\n",
       "      <th></th>\n",
       "      <th>location</th>\n",
       "      <th>time</th>\n",
       "      <th>energy</th>\n",
       "      <th>AirTemp</th>\n",
       "      <th>RelativeHumidity</th>\n",
       "      <th>Dni</th>\n",
       "      <th>energy_lag_1</th>\n",
       "      <th>energy_lag_2</th>\n",
       "      <th>energy_lag_3</th>\n",
       "      <th>energy_lag_4</th>\n",
       "      <th>...</th>\n",
       "      <th>energy_lag_327</th>\n",
       "      <th>energy_lag_328</th>\n",
       "      <th>energy_lag_329</th>\n",
       "      <th>energy_lag_330</th>\n",
       "      <th>energy_lag_331</th>\n",
       "      <th>energy_lag_332</th>\n",
       "      <th>energy_lag_333</th>\n",
       "      <th>energy_lag_334</th>\n",
       "      <th>energy_lag_335</th>\n",
       "      <th>energy_lag_336</th>\n",
       "    </tr>\n",
       "  </thead>\n",
       "  <tbody>\n",
       "    <tr>\n",
       "      <th>188447</th>\n",
       "      <td>##Bishop Sutton Primary School Electricity</td>\n",
       "      <td>2017-01-08 00:00:00+00:00</td>\n",
       "      <td>0.000</td>\n",
       "      <td>8.4</td>\n",
       "      <td>0.987</td>\n",
       "      <td>0.0</td>\n",
       "      <td>0.000</td>\n",
       "      <td>0.0</td>\n",
       "      <td>0.0</td>\n",
       "      <td>0.0</td>\n",
       "      <td>...</td>\n",
       "      <td>0.005</td>\n",
       "      <td>0.005</td>\n",
       "      <td>0.005</td>\n",
       "      <td>0.005</td>\n",
       "      <td>0.006</td>\n",
       "      <td>0.005</td>\n",
       "      <td>0.005</td>\n",
       "      <td>0.000</td>\n",
       "      <td>0.000</td>\n",
       "      <td>0.000</td>\n",
       "    </tr>\n",
       "    <tr>\n",
       "      <th>188448</th>\n",
       "      <td>##Bishop Sutton Primary School Electricity</td>\n",
       "      <td>2017-01-08 00:30:00+00:00</td>\n",
       "      <td>0.000</td>\n",
       "      <td>8.3</td>\n",
       "      <td>0.987</td>\n",
       "      <td>0.0</td>\n",
       "      <td>0.000</td>\n",
       "      <td>0.0</td>\n",
       "      <td>0.0</td>\n",
       "      <td>0.0</td>\n",
       "      <td>...</td>\n",
       "      <td>0.006</td>\n",
       "      <td>0.005</td>\n",
       "      <td>0.005</td>\n",
       "      <td>0.005</td>\n",
       "      <td>0.005</td>\n",
       "      <td>0.006</td>\n",
       "      <td>0.005</td>\n",
       "      <td>0.005</td>\n",
       "      <td>0.000</td>\n",
       "      <td>0.000</td>\n",
       "    </tr>\n",
       "    <tr>\n",
       "      <th>188449</th>\n",
       "      <td>##Bishop Sutton Primary School Electricity</td>\n",
       "      <td>2017-01-08 01:00:00+00:00</td>\n",
       "      <td>0.000</td>\n",
       "      <td>8.2</td>\n",
       "      <td>0.987</td>\n",
       "      <td>0.0</td>\n",
       "      <td>0.000</td>\n",
       "      <td>0.0</td>\n",
       "      <td>0.0</td>\n",
       "      <td>0.0</td>\n",
       "      <td>...</td>\n",
       "      <td>0.005</td>\n",
       "      <td>0.006</td>\n",
       "      <td>0.005</td>\n",
       "      <td>0.005</td>\n",
       "      <td>0.005</td>\n",
       "      <td>0.005</td>\n",
       "      <td>0.006</td>\n",
       "      <td>0.005</td>\n",
       "      <td>0.005</td>\n",
       "      <td>0.000</td>\n",
       "    </tr>\n",
       "    <tr>\n",
       "      <th>188450</th>\n",
       "      <td>##Bishop Sutton Primary School Electricity</td>\n",
       "      <td>2017-01-08 01:30:00+00:00</td>\n",
       "      <td>0.006</td>\n",
       "      <td>8.1</td>\n",
       "      <td>0.987</td>\n",
       "      <td>0.0</td>\n",
       "      <td>0.000</td>\n",
       "      <td>0.0</td>\n",
       "      <td>0.0</td>\n",
       "      <td>0.0</td>\n",
       "      <td>...</td>\n",
       "      <td>0.005</td>\n",
       "      <td>0.005</td>\n",
       "      <td>0.006</td>\n",
       "      <td>0.005</td>\n",
       "      <td>0.005</td>\n",
       "      <td>0.005</td>\n",
       "      <td>0.005</td>\n",
       "      <td>0.006</td>\n",
       "      <td>0.005</td>\n",
       "      <td>0.005</td>\n",
       "    </tr>\n",
       "    <tr>\n",
       "      <th>188451</th>\n",
       "      <td>##Bishop Sutton Primary School Electricity</td>\n",
       "      <td>2017-01-08 02:00:00+00:00</td>\n",
       "      <td>0.005</td>\n",
       "      <td>8.0</td>\n",
       "      <td>0.988</td>\n",
       "      <td>0.0</td>\n",
       "      <td>0.006</td>\n",
       "      <td>0.0</td>\n",
       "      <td>0.0</td>\n",
       "      <td>0.0</td>\n",
       "      <td>...</td>\n",
       "      <td>0.005</td>\n",
       "      <td>0.005</td>\n",
       "      <td>0.005</td>\n",
       "      <td>0.006</td>\n",
       "      <td>0.005</td>\n",
       "      <td>0.005</td>\n",
       "      <td>0.005</td>\n",
       "      <td>0.005</td>\n",
       "      <td>0.006</td>\n",
       "      <td>0.005</td>\n",
       "    </tr>\n",
       "  </tbody>\n",
       "</table>\n",
       "<p>5 rows × 342 columns</p>\n",
       "</div>"
      ],
      "text/plain": [
       "                                          location                      time  \\\n",
       "188447  ##Bishop Sutton Primary School Electricity 2017-01-08 00:00:00+00:00   \n",
       "188448  ##Bishop Sutton Primary School Electricity 2017-01-08 00:30:00+00:00   \n",
       "188449  ##Bishop Sutton Primary School Electricity 2017-01-08 01:00:00+00:00   \n",
       "188450  ##Bishop Sutton Primary School Electricity 2017-01-08 01:30:00+00:00   \n",
       "188451  ##Bishop Sutton Primary School Electricity 2017-01-08 02:00:00+00:00   \n",
       "\n",
       "        energy  AirTemp  RelativeHumidity  Dni  energy_lag_1  energy_lag_2  \\\n",
       "188447   0.000      8.4             0.987  0.0         0.000           0.0   \n",
       "188448   0.000      8.3             0.987  0.0         0.000           0.0   \n",
       "188449   0.000      8.2             0.987  0.0         0.000           0.0   \n",
       "188450   0.006      8.1             0.987  0.0         0.000           0.0   \n",
       "188451   0.005      8.0             0.988  0.0         0.006           0.0   \n",
       "\n",
       "        energy_lag_3  energy_lag_4  ...  energy_lag_327  energy_lag_328  \\\n",
       "188447           0.0           0.0  ...           0.005           0.005   \n",
       "188448           0.0           0.0  ...           0.006           0.005   \n",
       "188449           0.0           0.0  ...           0.005           0.006   \n",
       "188450           0.0           0.0  ...           0.005           0.005   \n",
       "188451           0.0           0.0  ...           0.005           0.005   \n",
       "\n",
       "        energy_lag_329  energy_lag_330  energy_lag_331  energy_lag_332  \\\n",
       "188447           0.005           0.005           0.006           0.005   \n",
       "188448           0.005           0.005           0.005           0.006   \n",
       "188449           0.005           0.005           0.005           0.005   \n",
       "188450           0.006           0.005           0.005           0.005   \n",
       "188451           0.005           0.006           0.005           0.005   \n",
       "\n",
       "        energy_lag_333  energy_lag_334  energy_lag_335  energy_lag_336  \n",
       "188447           0.005           0.000           0.000           0.000  \n",
       "188448           0.005           0.005           0.000           0.000  \n",
       "188449           0.006           0.005           0.005           0.000  \n",
       "188450           0.005           0.006           0.005           0.005  \n",
       "188451           0.005           0.005           0.006           0.005  \n",
       "\n",
       "[5 rows x 342 columns]"
      ]
     },
     "execution_count": 6,
     "metadata": {},
     "output_type": "execute_result"
    }
   ],
   "source": [
    "df.dropna(inplace=True)\n",
    "df.head()"
   ]
  },
  {
   "cell_type": "code",
   "execution_count": 8,
   "metadata": {},
   "outputs": [],
   "source": [
    "df.to_csv('../data/BANES_v3_oneweek.csv', index=False)"
   ]
  },
  {
   "cell_type": "markdown",
   "metadata": {},
   "source": [
    "## Feature Selection"
   ]
  },
  {
   "cell_type": "code",
   "execution_count": 3,
   "metadata": {},
   "outputs": [
    {
     "data": {
      "text/html": [
       "<div>\n",
       "<style scoped>\n",
       "    .dataframe tbody tr th:only-of-type {\n",
       "        vertical-align: middle;\n",
       "    }\n",
       "\n",
       "    .dataframe tbody tr th {\n",
       "        vertical-align: top;\n",
       "    }\n",
       "\n",
       "    .dataframe thead th {\n",
       "        text-align: right;\n",
       "    }\n",
       "</style>\n",
       "<table border=\"1\" class=\"dataframe\">\n",
       "  <thead>\n",
       "    <tr style=\"text-align: right;\">\n",
       "      <th></th>\n",
       "      <th>location</th>\n",
       "      <th>time</th>\n",
       "      <th>energy</th>\n",
       "      <th>energy_lag_1</th>\n",
       "      <th>energy_lag_2</th>\n",
       "      <th>energy_lag_3</th>\n",
       "      <th>energy_lag_4</th>\n",
       "      <th>energy_lag_5</th>\n",
       "      <th>energy_lag_6</th>\n",
       "      <th>energy_lag_7</th>\n",
       "      <th>...</th>\n",
       "      <th>energy_lag_329</th>\n",
       "      <th>energy_lag_330</th>\n",
       "      <th>energy_lag_331</th>\n",
       "      <th>energy_lag_332</th>\n",
       "      <th>energy_lag_333</th>\n",
       "      <th>energy_lag_334</th>\n",
       "      <th>energy_lag_335</th>\n",
       "      <th>energy_lag_336</th>\n",
       "      <th>AirTemp</th>\n",
       "      <th>RelativeHumidity</th>\n",
       "    </tr>\n",
       "  </thead>\n",
       "  <tbody>\n",
       "    <tr>\n",
       "      <th>0</th>\n",
       "      <td>##Bishop Sutton Primary School Electricity</td>\n",
       "      <td>2017-01-08 00:30:00+00:00</td>\n",
       "      <td>0.0000</td>\n",
       "      <td>0.0000</td>\n",
       "      <td>0.000</td>\n",
       "      <td>0.0</td>\n",
       "      <td>0.0</td>\n",
       "      <td>0.0</td>\n",
       "      <td>0.0</td>\n",
       "      <td>0.0</td>\n",
       "      <td>...</td>\n",
       "      <td>0.0050</td>\n",
       "      <td>0.0050</td>\n",
       "      <td>0.0050</td>\n",
       "      <td>0.0050</td>\n",
       "      <td>0.005</td>\n",
       "      <td>0.005</td>\n",
       "      <td>0.000</td>\n",
       "      <td>0.182488</td>\n",
       "      <td>8.3</td>\n",
       "      <td>0.987</td>\n",
       "    </tr>\n",
       "    <tr>\n",
       "      <th>1</th>\n",
       "      <td>##Bishop Sutton Primary School Electricity</td>\n",
       "      <td>2017-01-08 01:00:00+00:00</td>\n",
       "      <td>0.0000</td>\n",
       "      <td>0.0000</td>\n",
       "      <td>0.000</td>\n",
       "      <td>0.0</td>\n",
       "      <td>0.0</td>\n",
       "      <td>0.0</td>\n",
       "      <td>0.0</td>\n",
       "      <td>0.0</td>\n",
       "      <td>...</td>\n",
       "      <td>0.0055</td>\n",
       "      <td>0.0050</td>\n",
       "      <td>0.0050</td>\n",
       "      <td>0.0050</td>\n",
       "      <td>0.005</td>\n",
       "      <td>0.005</td>\n",
       "      <td>0.005</td>\n",
       "      <td>0.000000</td>\n",
       "      <td>8.2</td>\n",
       "      <td>0.987</td>\n",
       "    </tr>\n",
       "    <tr>\n",
       "      <th>2</th>\n",
       "      <td>##Bishop Sutton Primary School Electricity</td>\n",
       "      <td>2017-01-08 01:30:00+00:00</td>\n",
       "      <td>0.0060</td>\n",
       "      <td>0.0000</td>\n",
       "      <td>0.000</td>\n",
       "      <td>0.0</td>\n",
       "      <td>0.0</td>\n",
       "      <td>0.0</td>\n",
       "      <td>0.0</td>\n",
       "      <td>0.0</td>\n",
       "      <td>...</td>\n",
       "      <td>0.0060</td>\n",
       "      <td>0.0055</td>\n",
       "      <td>0.0050</td>\n",
       "      <td>0.0050</td>\n",
       "      <td>0.005</td>\n",
       "      <td>0.005</td>\n",
       "      <td>0.005</td>\n",
       "      <td>0.005000</td>\n",
       "      <td>8.1</td>\n",
       "      <td>0.987</td>\n",
       "    </tr>\n",
       "    <tr>\n",
       "      <th>3</th>\n",
       "      <td>##Bishop Sutton Primary School Electricity</td>\n",
       "      <td>2017-01-08 02:00:00+00:00</td>\n",
       "      <td>0.0055</td>\n",
       "      <td>0.0060</td>\n",
       "      <td>0.000</td>\n",
       "      <td>0.0</td>\n",
       "      <td>0.0</td>\n",
       "      <td>0.0</td>\n",
       "      <td>0.0</td>\n",
       "      <td>0.0</td>\n",
       "      <td>...</td>\n",
       "      <td>0.0055</td>\n",
       "      <td>0.0060</td>\n",
       "      <td>0.0055</td>\n",
       "      <td>0.0050</td>\n",
       "      <td>0.005</td>\n",
       "      <td>0.005</td>\n",
       "      <td>0.005</td>\n",
       "      <td>0.005000</td>\n",
       "      <td>8.0</td>\n",
       "      <td>0.988</td>\n",
       "    </tr>\n",
       "    <tr>\n",
       "      <th>4</th>\n",
       "      <td>##Bishop Sutton Primary School Electricity</td>\n",
       "      <td>2017-01-08 02:30:00+00:00</td>\n",
       "      <td>0.0050</td>\n",
       "      <td>0.0055</td>\n",
       "      <td>0.006</td>\n",
       "      <td>0.0</td>\n",
       "      <td>0.0</td>\n",
       "      <td>0.0</td>\n",
       "      <td>0.0</td>\n",
       "      <td>0.0</td>\n",
       "      <td>...</td>\n",
       "      <td>0.0050</td>\n",
       "      <td>0.0055</td>\n",
       "      <td>0.0060</td>\n",
       "      <td>0.0055</td>\n",
       "      <td>0.005</td>\n",
       "      <td>0.005</td>\n",
       "      <td>0.005</td>\n",
       "      <td>0.005000</td>\n",
       "      <td>7.9</td>\n",
       "      <td>0.988</td>\n",
       "    </tr>\n",
       "  </tbody>\n",
       "</table>\n",
       "<p>5 rows × 341 columns</p>\n",
       "</div>"
      ],
      "text/plain": [
       "                                     location                      time  \\\n",
       "0  ##Bishop Sutton Primary School Electricity 2017-01-08 00:30:00+00:00   \n",
       "1  ##Bishop Sutton Primary School Electricity 2017-01-08 01:00:00+00:00   \n",
       "2  ##Bishop Sutton Primary School Electricity 2017-01-08 01:30:00+00:00   \n",
       "3  ##Bishop Sutton Primary School Electricity 2017-01-08 02:00:00+00:00   \n",
       "4  ##Bishop Sutton Primary School Electricity 2017-01-08 02:30:00+00:00   \n",
       "\n",
       "   energy  energy_lag_1  energy_lag_2  energy_lag_3  energy_lag_4  \\\n",
       "0  0.0000        0.0000         0.000           0.0           0.0   \n",
       "1  0.0000        0.0000         0.000           0.0           0.0   \n",
       "2  0.0060        0.0000         0.000           0.0           0.0   \n",
       "3  0.0055        0.0060         0.000           0.0           0.0   \n",
       "4  0.0050        0.0055         0.006           0.0           0.0   \n",
       "\n",
       "   energy_lag_5  energy_lag_6  energy_lag_7  ...  energy_lag_329  \\\n",
       "0           0.0           0.0           0.0  ...          0.0050   \n",
       "1           0.0           0.0           0.0  ...          0.0055   \n",
       "2           0.0           0.0           0.0  ...          0.0060   \n",
       "3           0.0           0.0           0.0  ...          0.0055   \n",
       "4           0.0           0.0           0.0  ...          0.0050   \n",
       "\n",
       "   energy_lag_330  energy_lag_331  energy_lag_332  energy_lag_333  \\\n",
       "0          0.0050          0.0050          0.0050           0.005   \n",
       "1          0.0050          0.0050          0.0050           0.005   \n",
       "2          0.0055          0.0050          0.0050           0.005   \n",
       "3          0.0060          0.0055          0.0050           0.005   \n",
       "4          0.0055          0.0060          0.0055           0.005   \n",
       "\n",
       "   energy_lag_334  energy_lag_335  energy_lag_336  AirTemp  RelativeHumidity  \n",
       "0           0.005           0.000        0.182488      8.3             0.987  \n",
       "1           0.005           0.005        0.000000      8.2             0.987  \n",
       "2           0.005           0.005        0.005000      8.1             0.987  \n",
       "3           0.005           0.005        0.005000      8.0             0.988  \n",
       "4           0.005           0.005        0.005000      7.9             0.988  \n",
       "\n",
       "[5 rows x 341 columns]"
      ]
     },
     "execution_count": 3,
     "metadata": {},
     "output_type": "execute_result"
    }
   ],
   "source": [
    "df = pd.read_csv('../data/BANES_v3_oneweek.csv', parse_dates=['time'])\n",
    "df.head()"
   ]
  },
  {
   "cell_type": "code",
   "execution_count": 12,
   "metadata": {},
   "outputs": [
    {
     "data": {
      "text/plain": [
       "(2466431, 342)"
      ]
     },
     "execution_count": 12,
     "metadata": {},
     "output_type": "execute_result"
    }
   ],
   "source": [
    "df.shape"
   ]
  },
  {
   "cell_type": "code",
   "execution_count": 13,
   "metadata": {},
   "outputs": [
    {
     "data": {
      "text/plain": [
       "843519402"
      ]
     },
     "execution_count": 13,
     "metadata": {},
     "output_type": "execute_result"
    }
   ],
   "source": [
    "df.shape[0] * df.shape[1]"
   ]
  },
  {
   "cell_type": "markdown",
   "metadata": {},
   "source": [
    "3 years of data is still too large. We'll only use around one year and half."
   ]
  },
  {
   "cell_type": "code",
   "execution_count": 14,
   "metadata": {},
   "outputs": [
    {
     "data": {
      "text/plain": [
       "(array([[13.9  ,  0.937,  0.   , ...,  0.   ,  0.   ,  0.   ],\n",
       "        [13.9  ,  0.942,  0.   , ...,  0.   ,  0.   ,  0.   ],\n",
       "        [14.   ,  0.948,  0.   , ...,  0.   ,  0.   ,  0.   ],\n",
       "        [14.1  ,  0.951,  0.   , ...,  0.   ,  0.   ,  0.   ],\n",
       "        [14.1  ,  0.952,  0.   , ...,  0.   ,  0.   ,  0.   ]]),\n",
       " array([1.347, 1.384, 1.344, 1.394, 1.34 ]))"
      ]
     },
     "execution_count": 14,
     "metadata": {},
     "output_type": "execute_result"
    }
   ],
   "source": [
    "df = df[df['time'] >= '2019-01-01']\n",
    "\n",
    "X_vals = df.drop(['energy', 'location', 'time'], axis=1).values\n",
    "y_vals = df['energy'].values\n",
    "\n",
    "X_vals[:5], y_vals[:5]"
   ]
  },
  {
   "cell_type": "code",
   "execution_count": 15,
   "metadata": {},
   "outputs": [],
   "source": [
    "model = xgb.XGBRegressor(n_estimators=1000, learning_rate=0.05, max_depth=5, tree_method='gpu_hist', verbosity=2)"
   ]
  },
  {
   "cell_type": "code",
   "execution_count": 16,
   "metadata": {},
   "outputs": [
    {
     "name": "stdout",
     "output_type": "stream",
     "text": [
      "Training time: 288.2831 s\n"
     ]
    }
   ],
   "source": [
    "init = time.time()\n",
    "model.fit(X_vals, y_vals)\n",
    "end = time.time()\n",
    "\n",
    "print('Training time: {:.4f} s'.format(end - init))"
   ]
  },
  {
   "cell_type": "code",
   "execution_count": 17,
   "metadata": {},
   "outputs": [],
   "source": [
    "\n",
    "pickle.dump(model, open('../models/model_featureimportance.pkl', 'wb'))"
   ]
  },
  {
   "cell_type": "code",
   "execution_count": 18,
   "metadata": {},
   "outputs": [],
   "source": [
    "columns = df.drop(['energy', 'location', 'time'], axis=1).columns"
   ]
  },
  {
   "cell_type": "code",
   "execution_count": 19,
   "metadata": {},
   "outputs": [],
   "source": [
    "feature_importance = pd.Series(model.feature_importances_, index=columns)"
   ]
  },
  {
   "cell_type": "code",
   "execution_count": 20,
   "metadata": {},
   "outputs": [
    {
     "data": {
      "image/png": "[encoded data removed]",
      "text/plain": [
       "<Figure size 921.6x518.4 with 1 Axes>"
      ]
     },
     "metadata": {
      "needs_background": "light"
     },
     "output_type": "display_data"
    }
   ],
   "source": [
    "plt.bar(range(len(model.feature_importances_)), model.feature_importances_)\n",
    "plt.title('Feature Importance')\n",
    "plt.xlabel('Feature')\n",
    "plt.ylabel('Importance')\n",
    "plt.show()"
   ]
  },
  {
   "cell_type": "code",
   "execution_count": 21,
   "metadata": {},
   "outputs": [
    {
     "data": {
      "image/png": "[encoded data removed]",
      "text/plain": [
       "<Figure size 921.6x518.4 with 1 Axes>"
      ]
     },
     "metadata": {
      "needs_background": "light"
     },
     "output_type": "display_data"
    }
   ],
   "source": [
    "plt.bar(range(len(model.feature_importances_)), model.feature_importances_)\n",
    "# on the top of the bar plot, add the feature names but only for the 20 largest features\n",
    "plt.title('Feature Importance (limited)')\n",
    "plt.xlabel('Feature')\n",
    "plt.ylabel('Importance')\n",
    "plt.ylim([0, 0.015])\n",
    "plt.show()"
   ]
  },
  {
   "cell_type": "code",
   "execution_count": 22,
   "metadata": {},
   "outputs": [
    {
     "data": {
      "image/png": "[encoded data removed]",
      "text/plain": [
       "<Figure size 921.6x720 with 1 Axes>"
      ]
     },
     "metadata": {
      "needs_background": "light"
     },
     "output_type": "display_data"
    }
   ],
   "source": [
    "plt.figure(figsize=(12.8, 10))\n",
    "\n",
    "feature_importance.nlargest(40).plot(kind='barh')\n",
    "plt.title('Feature Importance (top 40)')\n",
    "plt.ylabel('Feature')\n",
    "plt.xlabel('Importance')\n",
    "plt.show()"
   ]
  },
  {
   "cell_type": "code",
   "execution_count": 23,
   "metadata": {},
   "outputs": [
    {
     "data": {
      "image/png": "[encoded data removed]",
      "text/plain": [
       "<Figure size 921.6x720 with 1 Axes>"
      ]
     },
     "metadata": {
      "needs_background": "light"
     },
     "output_type": "display_data"
    }
   ],
   "source": [
    "plt.figure(figsize=(12.8, 10))\n",
    "\n",
    "feature_importance.drop(['energy_lag_1']).nlargest(40).plot(kind='barh')\n",
    "plt.title('Feature Importance (top 40 without lag 1)')\n",
    "plt.ylabel('Feature')\n",
    "plt.xlabel('Importance')\n",
    "plt.show()"
   ]
  },
  {
   "cell_type": "code",
   "execution_count": 24,
   "metadata": {},
   "outputs": [
    {
     "data": {
      "text/plain": [
       "Index(['energy_lag_1', 'energy_lag_328', 'energy_lag_335', 'energy_lag_46',\n",
       "       'energy_lag_336', 'energy_lag_334', 'energy_lag_48', 'energy_lag_47',\n",
       "       'energy_lag_287', 'energy_lag_280', 'energy_lag_286', 'energy_lag_51',\n",
       "       'energy_lag_45', 'energy_lag_327', 'energy_lag_279', 'energy_lag_332',\n",
       "       'energy_lag_315', 'energy_lag_331', 'energy_lag_50', 'energy_lag_333',\n",
       "       'energy_lag_326', 'energy_lag_49', 'energy_lag_284', 'energy_lag_291',\n",
       "       'energy_lag_289', 'energy_lag_288', 'energy_lag_2', 'energy_lag_320',\n",
       "       'energy_lag_317', 'energy_lag_40', 'energy_lag_56', 'energy_lag_57',\n",
       "       'energy_lag_195', 'energy_lag_24', 'energy_lag_39', 'energy_lag_285',\n",
       "       'energy_lag_52', 'energy_lag_44', 'energy_lag_329', 'energy_lag_3'],\n",
       "      dtype='object')"
      ]
     },
     "execution_count": 24,
     "metadata": {},
     "output_type": "execute_result"
    }
   ],
   "source": [
    "features = feature_importance.nlargest(40).index\n",
    "features"
   ]
  },
  {
   "cell_type": "markdown",
   "metadata": {},
   "source": [
    "## Export Data with the top 40 features"
   ]
  },
  {
   "cell_type": "code",
   "execution_count": 2,
   "metadata": {},
   "outputs": [],
   "source": [
    "features = ['energy_lag_1', 'energy_lag_328', 'energy_lag_335', 'energy_lag_46',\n",
    "       'energy_lag_336', 'energy_lag_334', 'energy_lag_48', 'energy_lag_47',\n",
    "       'energy_lag_287', 'energy_lag_280', 'energy_lag_286', 'energy_lag_51',\n",
    "       'energy_lag_45', 'energy_lag_327', 'energy_lag_279', 'energy_lag_332',\n",
    "       'energy_lag_315', 'energy_lag_331', 'energy_lag_50', 'energy_lag_333',\n",
    "       'energy_lag_326', 'energy_lag_49', 'energy_lag_284', 'energy_lag_291',\n",
    "       'energy_lag_289', 'energy_lag_288', 'energy_lag_2', 'energy_lag_320',\n",
    "       'energy_lag_317', 'energy_lag_40', 'energy_lag_56', 'energy_lag_57',\n",
    "       'energy_lag_195', 'energy_lag_24', 'energy_lag_39', 'energy_lag_285',\n",
    "       'energy_lag_52', 'energy_lag_44', 'energy_lag_329', 'energy_lag_3']"
   ]
  },
  {
   "cell_type": "code",
   "execution_count": 4,
   "metadata": {},
   "outputs": [
    {
     "data": {
      "text/plain": [
       "[1,\n",
       " 328,\n",
       " 335,\n",
       " 46,\n",
       " 336,\n",
       " 334,\n",
       " 48,\n",
       " 47,\n",
       " 287,\n",
       " 280,\n",
       " 286,\n",
       " 51,\n",
       " 45,\n",
       " 327,\n",
       " 279,\n",
       " 332,\n",
       " 315,\n",
       " 331,\n",
       " 50,\n",
       " 333,\n",
       " 326,\n",
       " 49,\n",
       " 284,\n",
       " 291,\n",
       " 289,\n",
       " 288,\n",
       " 2,\n",
       " 320,\n",
       " 317,\n",
       " 40,\n",
       " 56,\n",
       " 57,\n",
       " 195,\n",
       " 24,\n",
       " 39,\n",
       " 285,\n",
       " 52,\n",
       " 44,\n",
       " 329,\n",
       " 3]"
      ]
     },
     "execution_count": 4,
     "metadata": {},
     "output_type": "execute_result"
    }
   ],
   "source": [
    "features = [int(f.split(\"_\")[-1]) for f in features]\n",
    "features"
   ]
  },
  {
   "cell_type": "code",
   "execution_count": 5,
   "metadata": {},
   "outputs": [],
   "source": [
    "ddf = pd.read_csv('../data/BANES_v2.csv', parse_dates=['time'])"
   ]
  },
  {
   "cell_type": "code",
   "execution_count": 6,
   "metadata": {},
   "outputs": [
    {
     "name": "stderr",
     "output_type": "stream",
     "text": [
      "100%|██████████| 40/40 [00:38<00:00,  1.05it/s]\n"
     ]
    }
   ],
   "source": [
    "for i in tqdm(range(len(features))):\n",
    "    f = features[i]\n",
    "    ddf.loc[ddf['time'].shift(f) == ddf['time'] - pd.Timedelta(f * 30, 'm'), f\"energy_lag_{f}\"] = ddf['energy'].shift(f)"
   ]
  },
  {
   "cell_type": "code",
   "execution_count": 7,
   "metadata": {},
   "outputs": [],
   "source": [
    "ddf = ddf.dropna()\n"
   ]
  },
  {
   "cell_type": "code",
   "execution_count": 8,
   "metadata": {},
   "outputs": [],
   "source": [
    "ddf.to_csv('../data/BANES_v4_featureimportance.csv', index=False)"
   ]
  }
 ],
 "metadata": {
  "interpreter": {
   "hash": "9b1f332fd89bb55c2c3f9863fa09609ddaa711e42a9a5767d6b702ced9885182"
  },
  "kernelspec": {
   "display_name": "Python 3.9.12 64-bit (windows store)",
   "language": "python",
   "name": "python3"
  },
  "language_info": {
   "codemirror_mode": {
    "name": "ipython",
    "version": 3
   },
   "file_extension": ".py",
   "mimetype": "text/x-python",
   "name": "python",
   "nbconvert_exporter": "python",
   "pygments_lexer": "ipython3",
   "version": "3.9.12"
  },
  "orig_nbformat": 4
 },
 "nbformat": 4,
 "nbformat_minor": 2
}
