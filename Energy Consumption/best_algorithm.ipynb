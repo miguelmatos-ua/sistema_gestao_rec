{
 "cells": [
  {
   "cell_type": "markdown",
   "metadata": {},
   "source": [
    "# Best Algorithm\n",
    "\n",
    "This notebook will test several algorithms and compare their performance. Afterwards, the best algorithm will be trained with different parameters.\n",
    "\n",
    "We will use the 5 previous hours to train the models in the first phase. We will also only use one location, for faster development."
   ]
  },
  {
   "cell_type": "code",
   "execution_count": 1,
   "metadata": {},
   "outputs": [
    {
     "name": "stderr",
     "output_type": "stream",
     "text": [
      "/home/mcmatos/.local/lib/python3.9/site-packages/xgboost/compat.py:36: FutureWarning: pandas.Int64Index is deprecated and will be removed from pandas in a future version. Use pandas.Index with the appropriate dtype instead.\n",
      "  from pandas import MultiIndex, Int64Index\n"
     ]
    }
   ],
   "source": [
    "# import libraries\n",
    "import numpy as np\n",
    "import pandas as pd\n",
    "import matplotlib.pyplot as plt\n",
    "\n",
    "from sklearn.model_selection import train_test_split\n",
    "from sklearn.preprocessing import StandardScaler\n",
    "from sklearn.metrics import (\n",
    "    mean_absolute_error,\n",
    "    mean_squared_error,\n",
    "    r2_score,\n",
    "    mean_absolute_percentage_error,\n",
    ")\n",
    "\n",
    "# import XGBoost\n",
    "import xgboost as xgb\n",
    "\n",
    "# import Gradient Boosting\n",
    "from sklearn.ensemble import GradientBoostingRegressor\n",
    "\n",
    "# import Artificial Neural Network\n",
    "from sklearn.neural_network import MLPRegressor\n",
    "\n",
    "# import LSTM\n",
    "from sklearn.preprocessing import MinMaxScaler\n",
    "from keras.models import Sequential\n",
    "from keras.layers import Dense, LSTM\n"
   ]
  },
  {
   "cell_type": "code",
   "execution_count": 2,
   "metadata": {},
   "outputs": [
    {
     "data": {
      "text/html": [
       "<div>\n",
       "<style scoped>\n",
       "    .dataframe tbody tr th:only-of-type {\n",
       "        vertical-align: middle;\n",
       "    }\n",
       "\n",
       "    .dataframe tbody tr th {\n",
       "        vertical-align: top;\n",
       "    }\n",
       "\n",
       "    .dataframe thead th {\n",
       "        text-align: right;\n",
       "    }\n",
       "</style>\n",
       "<table border=\"1\" class=\"dataframe\">\n",
       "  <thead>\n",
       "    <tr style=\"text-align: right;\">\n",
       "      <th></th>\n",
       "      <th>time</th>\n",
       "      <th>location</th>\n",
       "      <th>postcode</th>\n",
       "      <th>energy</th>\n",
       "    </tr>\n",
       "  </thead>\n",
       "  <tbody>\n",
       "    <tr>\n",
       "      <th>0</th>\n",
       "      <td>2006-10-01 00:30:00+00:00</td>\n",
       "      <td>Bath Central Library Electricity (HH)</td>\n",
       "      <td>BA1 5AL</td>\n",
       "      <td>5.9</td>\n",
       "    </tr>\n",
       "    <tr>\n",
       "      <th>1</th>\n",
       "      <td>2006-10-01 01:00:00+00:00</td>\n",
       "      <td>Guildhall Electricity Supply 1 (HH)</td>\n",
       "      <td>BA1 5AW</td>\n",
       "      <td>33.0</td>\n",
       "    </tr>\n",
       "    <tr>\n",
       "      <th>2</th>\n",
       "      <td>2006-10-01 01:30:00+00:00</td>\n",
       "      <td>Guildhall Electricity Supply 1 (HH)</td>\n",
       "      <td>BA1 5AW</td>\n",
       "      <td>32.7</td>\n",
       "    </tr>\n",
       "    <tr>\n",
       "      <th>3</th>\n",
       "      <td>2006-10-01 02:00:00+00:00</td>\n",
       "      <td>Guildhall Electricity Supply 1 (HH)</td>\n",
       "      <td>BA1 5AW</td>\n",
       "      <td>32.2</td>\n",
       "    </tr>\n",
       "    <tr>\n",
       "      <th>4</th>\n",
       "      <td>2006-10-01 02:30:00+00:00</td>\n",
       "      <td>Bath Central Library Electricity (HH)</td>\n",
       "      <td>BA1 5AL</td>\n",
       "      <td>5.9</td>\n",
       "    </tr>\n",
       "  </tbody>\n",
       "</table>\n",
       "</div>"
      ],
      "text/plain": [
       "                       time                               location postcode  \\\n",
       "0 2006-10-01 00:30:00+00:00  Bath Central Library Electricity (HH)  BA1 5AL   \n",
       "1 2006-10-01 01:00:00+00:00    Guildhall Electricity Supply 1 (HH)  BA1 5AW   \n",
       "2 2006-10-01 01:30:00+00:00    Guildhall Electricity Supply 1 (HH)  BA1 5AW   \n",
       "3 2006-10-01 02:00:00+00:00    Guildhall Electricity Supply 1 (HH)  BA1 5AW   \n",
       "4 2006-10-01 02:30:00+00:00  Bath Central Library Electricity (HH)  BA1 5AL   \n",
       "\n",
       "   energy  \n",
       "0     5.9  \n",
       "1    33.0  \n",
       "2    32.7  \n",
       "3    32.2  \n",
       "4     5.9  "
      ]
     },
     "execution_count": 2,
     "metadata": {},
     "output_type": "execute_result"
    }
   ],
   "source": [
    "df = pd.read_csv(\"BANES_cleaned_final.csv\", parse_dates=[\"time\"])\n",
    "df.head()\n"
   ]
  },
  {
   "cell_type": "code",
   "execution_count": 3,
   "metadata": {},
   "outputs": [
    {
     "data": {
      "text/html": [
       "<div>\n",
       "<style scoped>\n",
       "    .dataframe tbody tr th:only-of-type {\n",
       "        vertical-align: middle;\n",
       "    }\n",
       "\n",
       "    .dataframe tbody tr th {\n",
       "        vertical-align: top;\n",
       "    }\n",
       "\n",
       "    .dataframe thead th {\n",
       "        text-align: right;\n",
       "    }\n",
       "</style>\n",
       "<table border=\"1\" class=\"dataframe\">\n",
       "  <thead>\n",
       "    <tr style=\"text-align: right;\">\n",
       "      <th></th>\n",
       "      <th>time</th>\n",
       "      <th>location</th>\n",
       "      <th>energy</th>\n",
       "      <th>energy_1</th>\n",
       "      <th>energy_2</th>\n",
       "      <th>energy_3</th>\n",
       "      <th>energy_4</th>\n",
       "      <th>energy_5</th>\n",
       "      <th>energy_6</th>\n",
       "      <th>energy_7</th>\n",
       "      <th>energy_8</th>\n",
       "      <th>energy_9</th>\n",
       "      <th>energy_10</th>\n",
       "    </tr>\n",
       "  </thead>\n",
       "  <tbody>\n",
       "    <tr>\n",
       "      <th>78454</th>\n",
       "      <td>2008-06-14 00:30:00+00:00</td>\n",
       "      <td>## OLD Paulton Library Electricity Supply 1</td>\n",
       "      <td>0.08</td>\n",
       "      <td>NaN</td>\n",
       "      <td>NaN</td>\n",
       "      <td>NaN</td>\n",
       "      <td>NaN</td>\n",
       "      <td>NaN</td>\n",
       "      <td>NaN</td>\n",
       "      <td>NaN</td>\n",
       "      <td>NaN</td>\n",
       "      <td>NaN</td>\n",
       "      <td>NaN</td>\n",
       "    </tr>\n",
       "    <tr>\n",
       "      <th>78464</th>\n",
       "      <td>2008-06-14 01:00:00+00:00</td>\n",
       "      <td>## OLD Paulton Library Electricity Supply 1</td>\n",
       "      <td>0.07</td>\n",
       "      <td>0.08</td>\n",
       "      <td>NaN</td>\n",
       "      <td>NaN</td>\n",
       "      <td>NaN</td>\n",
       "      <td>NaN</td>\n",
       "      <td>NaN</td>\n",
       "      <td>NaN</td>\n",
       "      <td>NaN</td>\n",
       "      <td>NaN</td>\n",
       "      <td>NaN</td>\n",
       "    </tr>\n",
       "    <tr>\n",
       "      <th>78485</th>\n",
       "      <td>2008-06-14 02:30:00+00:00</td>\n",
       "      <td>## OLD Paulton Library Electricity Supply 1</td>\n",
       "      <td>0.08</td>\n",
       "      <td>0.07</td>\n",
       "      <td>0.08</td>\n",
       "      <td>NaN</td>\n",
       "      <td>NaN</td>\n",
       "      <td>NaN</td>\n",
       "      <td>NaN</td>\n",
       "      <td>NaN</td>\n",
       "      <td>NaN</td>\n",
       "      <td>NaN</td>\n",
       "      <td>NaN</td>\n",
       "    </tr>\n",
       "    <tr>\n",
       "      <th>78503</th>\n",
       "      <td>2008-06-14 03:30:00+00:00</td>\n",
       "      <td>## OLD Paulton Library Electricity Supply 1</td>\n",
       "      <td>0.08</td>\n",
       "      <td>0.08</td>\n",
       "      <td>0.07</td>\n",
       "      <td>0.08</td>\n",
       "      <td>NaN</td>\n",
       "      <td>NaN</td>\n",
       "      <td>NaN</td>\n",
       "      <td>NaN</td>\n",
       "      <td>NaN</td>\n",
       "      <td>NaN</td>\n",
       "      <td>NaN</td>\n",
       "    </tr>\n",
       "    <tr>\n",
       "      <th>78513</th>\n",
       "      <td>2008-06-14 04:00:00+00:00</td>\n",
       "      <td>## OLD Paulton Library Electricity Supply 1</td>\n",
       "      <td>0.07</td>\n",
       "      <td>0.08</td>\n",
       "      <td>0.08</td>\n",
       "      <td>0.07</td>\n",
       "      <td>0.08</td>\n",
       "      <td>NaN</td>\n",
       "      <td>NaN</td>\n",
       "      <td>NaN</td>\n",
       "      <td>NaN</td>\n",
       "      <td>NaN</td>\n",
       "      <td>NaN</td>\n",
       "    </tr>\n",
       "  </tbody>\n",
       "</table>\n",
       "</div>"
      ],
      "text/plain": [
       "                           time                                     location  \\\n",
       "78454 2008-06-14 00:30:00+00:00  ## OLD Paulton Library Electricity Supply 1   \n",
       "78464 2008-06-14 01:00:00+00:00  ## OLD Paulton Library Electricity Supply 1   \n",
       "78485 2008-06-14 02:30:00+00:00  ## OLD Paulton Library Electricity Supply 1   \n",
       "78503 2008-06-14 03:30:00+00:00  ## OLD Paulton Library Electricity Supply 1   \n",
       "78513 2008-06-14 04:00:00+00:00  ## OLD Paulton Library Electricity Supply 1   \n",
       "\n",
       "       energy  energy_1  energy_2  energy_3  energy_4  energy_5  energy_6  \\\n",
       "78454    0.08       NaN       NaN       NaN       NaN       NaN       NaN   \n",
       "78464    0.07      0.08       NaN       NaN       NaN       NaN       NaN   \n",
       "78485    0.08      0.07      0.08       NaN       NaN       NaN       NaN   \n",
       "78503    0.08      0.08      0.07      0.08       NaN       NaN       NaN   \n",
       "78513    0.07      0.08      0.08      0.07      0.08       NaN       NaN   \n",
       "\n",
       "       energy_7  energy_8  energy_9  energy_10  \n",
       "78454       NaN       NaN       NaN        NaN  \n",
       "78464       NaN       NaN       NaN        NaN  \n",
       "78485       NaN       NaN       NaN        NaN  \n",
       "78503       NaN       NaN       NaN        NaN  \n",
       "78513       NaN       NaN       NaN        NaN  "
      ]
     },
     "execution_count": 3,
     "metadata": {},
     "output_type": "execute_result"
    }
   ],
   "source": [
    "df1 = df[[\"energy\", \"time\", \"location\"]]\n",
    "\n",
    "df1 = (\n",
    "    df1.groupby([\"time\", \"location\"])\n",
    "    .mean()\n",
    "    .reset_index()\n",
    "    .sort_values(by=[\"location\", \"time\"])\n",
    ")\n",
    "\n",
    "# we need the last 10 rows (the last 5 hours)\n",
    "for i in range(1, 11):\n",
    "    df1[f\"energy_{i}\"] = df1.shift(i)[\"energy\"]\n",
    "\n",
    "df1.head()\n"
   ]
  },
  {
   "cell_type": "code",
   "execution_count": 4,
   "metadata": {},
   "outputs": [],
   "source": [
    "# drop the first 10 rows of each location\n",
    "locations = df1[\"location\"].unique()\n",
    "\n",
    "rows_to_delete = []\n",
    "\n",
    "for location in locations:\n",
    "    rows_to_delete.append(df1[df1[\"location\"] == location].index[:48])\n",
    "\n",
    "rows_to_delete = [i for index in rows_to_delete for i in index]\n",
    "# drop rows, rows_to_delete contains their index\n",
    "df1.drop(rows_to_delete, inplace=True)\n"
   ]
  },
  {
   "cell_type": "code",
   "execution_count": 5,
   "metadata": {},
   "outputs": [
    {
     "data": {
      "text/html": [
       "<div>\n",
       "<style scoped>\n",
       "    .dataframe tbody tr th:only-of-type {\n",
       "        vertical-align: middle;\n",
       "    }\n",
       "\n",
       "    .dataframe tbody tr th {\n",
       "        vertical-align: top;\n",
       "    }\n",
       "\n",
       "    .dataframe thead th {\n",
       "        text-align: right;\n",
       "    }\n",
       "</style>\n",
       "<table border=\"1\" class=\"dataframe\">\n",
       "  <thead>\n",
       "    <tr style=\"text-align: right;\">\n",
       "      <th></th>\n",
       "      <th>time</th>\n",
       "      <th>location</th>\n",
       "      <th>energy</th>\n",
       "      <th>energy_1</th>\n",
       "      <th>energy_2</th>\n",
       "      <th>energy_3</th>\n",
       "      <th>energy_4</th>\n",
       "      <th>energy_5</th>\n",
       "      <th>energy_6</th>\n",
       "      <th>energy_7</th>\n",
       "      <th>energy_8</th>\n",
       "      <th>energy_9</th>\n",
       "      <th>energy_10</th>\n",
       "    </tr>\n",
       "  </thead>\n",
       "  <tbody>\n",
       "    <tr>\n",
       "      <th>98</th>\n",
       "      <td>2006-10-02 08:30:00+00:00</td>\n",
       "      <td>Guildhall Electricity Supply 1 (HH)</td>\n",
       "      <td>53.5</td>\n",
       "      <td>51.4</td>\n",
       "      <td>50.6</td>\n",
       "      <td>31.8</td>\n",
       "      <td>30.8</td>\n",
       "      <td>31.3</td>\n",
       "      <td>31.1</td>\n",
       "      <td>31.0</td>\n",
       "      <td>30.9</td>\n",
       "      <td>30.6</td>\n",
       "      <td>30.8</td>\n",
       "    </tr>\n",
       "    <tr>\n",
       "      <th>100</th>\n",
       "      <td>2006-10-02 09:00:00+00:00</td>\n",
       "      <td>Guildhall Electricity Supply 1 (HH)</td>\n",
       "      <td>54.6</td>\n",
       "      <td>53.5</td>\n",
       "      <td>51.4</td>\n",
       "      <td>50.6</td>\n",
       "      <td>31.8</td>\n",
       "      <td>30.8</td>\n",
       "      <td>31.3</td>\n",
       "      <td>31.1</td>\n",
       "      <td>31.0</td>\n",
       "      <td>30.9</td>\n",
       "      <td>30.6</td>\n",
       "    </tr>\n",
       "    <tr>\n",
       "      <th>101</th>\n",
       "      <td>2006-10-02 09:30:00+00:00</td>\n",
       "      <td>Guildhall Electricity Supply 1 (HH)</td>\n",
       "      <td>56.5</td>\n",
       "      <td>54.6</td>\n",
       "      <td>53.5</td>\n",
       "      <td>51.4</td>\n",
       "      <td>50.6</td>\n",
       "      <td>31.8</td>\n",
       "      <td>30.8</td>\n",
       "      <td>31.3</td>\n",
       "      <td>31.1</td>\n",
       "      <td>31.0</td>\n",
       "      <td>30.9</td>\n",
       "    </tr>\n",
       "    <tr>\n",
       "      <th>103</th>\n",
       "      <td>2006-10-02 10:00:00+00:00</td>\n",
       "      <td>Guildhall Electricity Supply 1 (HH)</td>\n",
       "      <td>58.1</td>\n",
       "      <td>56.5</td>\n",
       "      <td>54.6</td>\n",
       "      <td>53.5</td>\n",
       "      <td>51.4</td>\n",
       "      <td>50.6</td>\n",
       "      <td>31.8</td>\n",
       "      <td>30.8</td>\n",
       "      <td>31.3</td>\n",
       "      <td>31.1</td>\n",
       "      <td>31.0</td>\n",
       "    </tr>\n",
       "    <tr>\n",
       "      <th>106</th>\n",
       "      <td>2006-10-02 11:00:00+00:00</td>\n",
       "      <td>Guildhall Electricity Supply 1 (HH)</td>\n",
       "      <td>59.0</td>\n",
       "      <td>58.1</td>\n",
       "      <td>56.5</td>\n",
       "      <td>54.6</td>\n",
       "      <td>53.5</td>\n",
       "      <td>51.4</td>\n",
       "      <td>50.6</td>\n",
       "      <td>31.8</td>\n",
       "      <td>30.8</td>\n",
       "      <td>31.3</td>\n",
       "      <td>31.1</td>\n",
       "    </tr>\n",
       "  </tbody>\n",
       "</table>\n",
       "</div>"
      ],
      "text/plain": [
       "                         time                             location  energy  \\\n",
       "98  2006-10-02 08:30:00+00:00  Guildhall Electricity Supply 1 (HH)    53.5   \n",
       "100 2006-10-02 09:00:00+00:00  Guildhall Electricity Supply 1 (HH)    54.6   \n",
       "101 2006-10-02 09:30:00+00:00  Guildhall Electricity Supply 1 (HH)    56.5   \n",
       "103 2006-10-02 10:00:00+00:00  Guildhall Electricity Supply 1 (HH)    58.1   \n",
       "106 2006-10-02 11:00:00+00:00  Guildhall Electricity Supply 1 (HH)    59.0   \n",
       "\n",
       "     energy_1  energy_2  energy_3  energy_4  energy_5  energy_6  energy_7  \\\n",
       "98       51.4      50.6      31.8      30.8      31.3      31.1      31.0   \n",
       "100      53.5      51.4      50.6      31.8      30.8      31.3      31.1   \n",
       "101      54.6      53.5      51.4      50.6      31.8      30.8      31.3   \n",
       "103      56.5      54.6      53.5      51.4      50.6      31.8      30.8   \n",
       "106      58.1      56.5      54.6      53.5      51.4      50.6      31.8   \n",
       "\n",
       "     energy_8  energy_9  energy_10  \n",
       "98       30.9      30.6       30.8  \n",
       "100      31.0      30.9       30.6  \n",
       "101      31.1      31.0       30.9  \n",
       "103      31.3      31.1       31.0  \n",
       "106      30.8      31.3       31.1  "
      ]
     },
     "execution_count": 5,
     "metadata": {},
     "output_type": "execute_result"
    }
   ],
   "source": [
    "max_location = df1[\"location\"].value_counts().idxmax()\n",
    "\n",
    "df_max = df1[df1[\"location\"] == max_location]\n",
    "\n",
    "df_max.head()\n"
   ]
  },
  {
   "cell_type": "code",
   "execution_count": 6,
   "metadata": {},
   "outputs": [],
   "source": [
    "def pre_processing(df: pd.DataFrame, X_columns, y_columns, random=True, test_size=0.2):\n",
    "    \"\"\"Pre-processing function\n",
    "\n",
    "    This function takes a dataframe and splits it into X and y.\n",
    "    It also splits the data into train and test.\n",
    "\n",
    "    Args:\n",
    "        df: pandas dataframe\n",
    "        X_columns: list of columns to be used as X\n",
    "        y_columns: list of columns to be used as y\n",
    "        random: boolean, if True, randomize the dataframe\n",
    "        test_size: float, the size of the test set\n",
    "\n",
    "    Returns:\n",
    "        X_train: numpy array of X_train\n",
    "        X_test: numpy array of X_test\n",
    "        y_train: numpy array of y_train\n",
    "        y_test: numpy array of y_test\n",
    "    \"\"\"\n",
    "    X = df[X_columns]\n",
    "    y = df[y_columns]\n",
    "\n",
    "    if random:\n",
    "        # split into train and test\n",
    "        X_train, X_test, y_train, y_test = train_test_split(\n",
    "            X, y, test_size=test_size, random_state=42\n",
    "        )\n",
    "    else:\n",
    "        # get first train size of data as train\n",
    "        X_train = X.iloc[: int(X.shape[0] * (1 - test_size))]\n",
    "        y_train = y.iloc[: int(y.shape[0] * (1 - test_size))]\n",
    "        # get remaining data as test\n",
    "        X_test = X.iloc[int(X.shape[0] * (1 - test_size)) :]\n",
    "        y_test = y.iloc[int(y.shape[0] * (1 - test_size)) :]\n",
    "\n",
    "    return X_train, X_test, y_train, y_test\n",
    "\n",
    "\n",
    "def plot_results(preds: np.array, actuals: np.array, title: str):\n",
    "    \"\"\"Plotting function\n",
    "\n",
    "    This function plots the predicted and actual values.\n",
    "\n",
    "    Args:\n",
    "        preds: numpy array of predicted values\n",
    "        actuals: numpy array of actual values\n",
    "    \"\"\"\n",
    "    plt.scatter(actuals, preds, c=\"b\", label=\"predicted\")\n",
    "    plt.xlabel(\"actual\")\n",
    "    plt.ylabel(\"predicted\")\n",
    "    plt.title(title)\n",
    "    plt.xlim(0, plt.xlim()[1])\n",
    "    plt.ylim(0, plt.ylim()[1])\n",
    "    _ = plt.plot([0, 100], [0, 100], \"--r\", label=\"y=x\")\n",
    "    plt.legend()\n",
    "    plt.show()\n",
    "\n",
    "\n",
    "def performance_metrics(preds: np.array, actuals: np.array):\n",
    "    \"\"\"Performance metrics function\n",
    "\n",
    "    This function calculates the performance metrics.\n",
    "\n",
    "    Args:\n",
    "        preds: numpy array of predicted values\n",
    "        actuals: numpy array of actual values\n",
    "    \"\"\"\n",
    "    # calculate performance metrics\n",
    "    mse = mean_squared_error(actuals, preds)\n",
    "    rmse = np.sqrt(mse)\n",
    "    mae = mean_absolute_error(actuals, preds)\n",
    "    wmape = np.sum(np.abs(actuals - preds)) / np.sum(np.abs(actuals))\n",
    "    r2 = r2_score(actuals, preds)\n",
    "\n",
    "    # print performance metrics\n",
    "    print(\"MSE: %.4f\" % mse)\n",
    "    print(\"RMSE: %.4f\" % rmse)\n",
    "    print(\"MAE: %.4f\" % mae)\n",
    "    print(\"WMAPE: %.4f\" % wmape)\n",
    "    print(\"R2: %.4f\" % r2)\n"
   ]
  },
  {
   "cell_type": "markdown",
   "metadata": {},
   "source": [
    "### Scale the data\n",
    "\n",
    "Use `MixMaxScaler` to scale the data."
   ]
  },
  {
   "cell_type": "code",
   "execution_count": 7,
   "metadata": {},
   "outputs": [
    {
     "data": {
      "text/html": [
       "<div>\n",
       "<style scoped>\n",
       "    .dataframe tbody tr th:only-of-type {\n",
       "        vertical-align: middle;\n",
       "    }\n",
       "\n",
       "    .dataframe tbody tr th {\n",
       "        vertical-align: top;\n",
       "    }\n",
       "\n",
       "    .dataframe thead th {\n",
       "        text-align: right;\n",
       "    }\n",
       "</style>\n",
       "<table border=\"1\" class=\"dataframe\">\n",
       "  <thead>\n",
       "    <tr style=\"text-align: right;\">\n",
       "      <th></th>\n",
       "      <th>energy</th>\n",
       "      <th>energy_1</th>\n",
       "      <th>energy_2</th>\n",
       "      <th>energy_3</th>\n",
       "      <th>energy_4</th>\n",
       "      <th>energy_5</th>\n",
       "      <th>energy_6</th>\n",
       "      <th>energy_7</th>\n",
       "      <th>energy_8</th>\n",
       "      <th>energy_9</th>\n",
       "      <th>energy_10</th>\n",
       "    </tr>\n",
       "  </thead>\n",
       "  <tbody>\n",
       "    <tr>\n",
       "      <th>0</th>\n",
       "      <td>0.716198</td>\n",
       "      <td>0.688086</td>\n",
       "      <td>0.677376</td>\n",
       "      <td>0.425703</td>\n",
       "      <td>0.412316</td>\n",
       "      <td>0.419009</td>\n",
       "      <td>0.416332</td>\n",
       "      <td>0.414993</td>\n",
       "      <td>0.413655</td>\n",
       "      <td>0.409639</td>\n",
       "      <td>0.412316</td>\n",
       "    </tr>\n",
       "    <tr>\n",
       "      <th>1</th>\n",
       "      <td>0.730924</td>\n",
       "      <td>0.716198</td>\n",
       "      <td>0.688086</td>\n",
       "      <td>0.677376</td>\n",
       "      <td>0.425703</td>\n",
       "      <td>0.412316</td>\n",
       "      <td>0.419009</td>\n",
       "      <td>0.416332</td>\n",
       "      <td>0.414993</td>\n",
       "      <td>0.413655</td>\n",
       "      <td>0.409639</td>\n",
       "    </tr>\n",
       "    <tr>\n",
       "      <th>2</th>\n",
       "      <td>0.756359</td>\n",
       "      <td>0.730924</td>\n",
       "      <td>0.716198</td>\n",
       "      <td>0.688086</td>\n",
       "      <td>0.677376</td>\n",
       "      <td>0.425703</td>\n",
       "      <td>0.412316</td>\n",
       "      <td>0.419009</td>\n",
       "      <td>0.416332</td>\n",
       "      <td>0.414993</td>\n",
       "      <td>0.413655</td>\n",
       "    </tr>\n",
       "    <tr>\n",
       "      <th>3</th>\n",
       "      <td>0.777778</td>\n",
       "      <td>0.756359</td>\n",
       "      <td>0.730924</td>\n",
       "      <td>0.716198</td>\n",
       "      <td>0.688086</td>\n",
       "      <td>0.677376</td>\n",
       "      <td>0.425703</td>\n",
       "      <td>0.412316</td>\n",
       "      <td>0.419009</td>\n",
       "      <td>0.416332</td>\n",
       "      <td>0.414993</td>\n",
       "    </tr>\n",
       "    <tr>\n",
       "      <th>4</th>\n",
       "      <td>0.789826</td>\n",
       "      <td>0.777778</td>\n",
       "      <td>0.756359</td>\n",
       "      <td>0.730924</td>\n",
       "      <td>0.716198</td>\n",
       "      <td>0.688086</td>\n",
       "      <td>0.677376</td>\n",
       "      <td>0.425703</td>\n",
       "      <td>0.412316</td>\n",
       "      <td>0.419009</td>\n",
       "      <td>0.416332</td>\n",
       "    </tr>\n",
       "  </tbody>\n",
       "</table>\n",
       "</div>"
      ],
      "text/plain": [
       "     energy  energy_1  energy_2  energy_3  energy_4  energy_5  energy_6  \\\n",
       "0  0.716198  0.688086  0.677376  0.425703  0.412316  0.419009  0.416332   \n",
       "1  0.730924  0.716198  0.688086  0.677376  0.425703  0.412316  0.419009   \n",
       "2  0.756359  0.730924  0.716198  0.688086  0.677376  0.425703  0.412316   \n",
       "3  0.777778  0.756359  0.730924  0.716198  0.688086  0.677376  0.425703   \n",
       "4  0.789826  0.777778  0.756359  0.730924  0.716198  0.688086  0.677376   \n",
       "\n",
       "   energy_7  energy_8  energy_9  energy_10  \n",
       "0  0.414993  0.413655  0.409639   0.412316  \n",
       "1  0.416332  0.414993  0.413655   0.409639  \n",
       "2  0.419009  0.416332  0.414993   0.413655  \n",
       "3  0.412316  0.419009  0.416332   0.414993  \n",
       "4  0.425703  0.412316  0.419009   0.416332  "
      ]
     },
     "execution_count": 7,
     "metadata": {},
     "output_type": "execute_result"
    }
   ],
   "source": [
    "scaler = MinMaxScaler()\n",
    "df_values = df_max[[\"energy\", *[f\"energy_{i}\" for i in range(1, 11)]]]\n",
    "df_values = scaler.fit_transform(df_values)\n",
    "df_values = pd.DataFrame(\n",
    "    df_values, columns=[\"energy\", *[f\"energy_{i}\" for i in range(1, 11)]]\n",
    ")\n",
    "df_values.head()\n"
   ]
  },
  {
   "cell_type": "markdown",
   "metadata": {},
   "source": [
    "## LSTM\n",
    "\n",
    "Train an LSTM model with the last 5 hours of the data."
   ]
  },
  {
   "cell_type": "code",
   "execution_count": 8,
   "metadata": {},
   "outputs": [
    {
     "name": "stdout",
     "output_type": "stream",
     "text": [
      "[0.33467202 0.3480589  0.37483266 0.40160643 0.42838019 0.48192771\n",
      " 0.50870147 0.54886212 0.562249   0.54886212] [0.33467202]\n",
      "[0.62516734 0.54350736 0.5167336  0.50468541 0.49799197 0.43373494\n",
      " 0.43641232 0.4270415  0.41633199 0.40963855] [0.70950469]\n",
      "[0.29049531 0.2811245  0.30120482 0.27710843 0.28514056 0.27978581\n",
      " 0.29317269 0.29585007 0.28246319 0.28781794] [0.29986613]\n",
      "[0.26104418 0.24230254 0.26104418 0.27576975 0.27576975 0.27175368\n",
      " 0.27041499 0.2811245  0.27041499 0.29451138] [0.25435074]\n",
      "[0.53681392 0.54484605 0.55957162 0.54350736 0.53012048 0.55823293\n",
      " 0.5502008  0.5502008  0.56492637 0.55153949] [0.49129853]\n"
     ]
    }
   ],
   "source": [
    "X_train, X_test, y_train, y_test = pre_processing(\n",
    "    df_values,\n",
    "    X_columns=[f\"energy_{i}\" for i in range(1, 11)],\n",
    "    y_columns=[\"energy\"],\n",
    "    random=True,\n",
    "    test_size=0.2,\n",
    ")\n",
    "\n",
    "X_train = X_train.to_numpy()\n",
    "X_test = X_test.to_numpy()\n",
    "y_train = y_train.to_numpy()\n",
    "y_test = y_test.to_numpy()\n",
    "\n",
    "for i in range(5):\n",
    "    print(X_train[i], y_train[i])\n"
   ]
  },
  {
   "cell_type": "code",
   "execution_count": 9,
   "metadata": {},
   "outputs": [],
   "source": [
    "n_features = 1\n",
    "X_train = X_train.reshape(X_train.shape[0], X_train.shape[1], n_features)\n",
    "X_test = X_test.reshape(X_test.shape[0], X_test.shape[1], n_features)\n"
   ]
  },
  {
   "cell_type": "code",
   "execution_count": 10,
   "metadata": {},
   "outputs": [],
   "source": [
    "from keras.layers import CuDNNLSTM\n",
    "\n",
    "\n",
    "def create_lstm_model(X):\n",
    "    \"\"\"\n",
    "    Build an LSTM model\n",
    "\n",
    "    Args:\n",
    "        X: pandas dataframe or numpy array, containing the data to train\n",
    "\n",
    "    Returns:\n",
    "        model: LSTM model\n",
    "    \"\"\"\n",
    "    # define model\n",
    "    model = Sequential()\n",
    "    model.add(LSTM(5, return_sequences=True, input_shape=(X.shape[1], 1)))\n",
    "    model.add(LSTM(5))\n",
    "    model.add(Dense(1))\n",
    "    model.compile(optimizer=\"adam\", loss=\"mse\", metrics=[\"mse\"])\n",
    "    return model\n"
   ]
  },
  {
   "cell_type": "code",
   "execution_count": 11,
   "metadata": {},
   "outputs": [
    {
     "name": "stderr",
     "output_type": "stream",
     "text": [
      "2022-04-01 23:55:37.945786: I tensorflow/stream_executor/cuda/cuda_gpu_executor.cc:936] successful NUMA node read from SysFS had negative value (-1), but there must be at least one NUMA node, so returning NUMA node zero\n",
      "2022-04-01 23:55:38.024802: W tensorflow/stream_executor/platform/default/dso_loader.cc:64] Could not load dynamic library 'libcudnn.so.8'; dlerror: libcudnn.so.8: cannot open shared object file: No such file or directory\n",
      "2022-04-01 23:55:38.024832: W tensorflow/core/common_runtime/gpu/gpu_device.cc:1850] Cannot dlopen some GPU libraries. Please make sure the missing libraries mentioned above are installed properly if you would like to use GPU. Follow the guide at https://www.tensorflow.org/install/gpu for how to download and setup the required libraries for your platform.\n",
      "Skipping registering GPU devices...\n",
      "2022-04-01 23:55:38.034321: I tensorflow/core/platform/cpu_feature_guard.cc:151] This TensorFlow binary is optimized with oneAPI Deep Neural Network Library (oneDNN) to use the following CPU instructions in performance-critical operations:  AVX2 FMA\n",
      "To enable them in other operations, rebuild TensorFlow with the appropriate compiler flags.\n"
     ]
    }
   ],
   "source": [
    "lstm_model = create_lstm_model(X_train)\n"
   ]
  },
  {
   "cell_type": "code",
   "execution_count": 12,
   "metadata": {},
   "outputs": [
    {
     "name": "stdout",
     "output_type": "stream",
     "text": [
      "Epoch 1/25\n",
      "12244/12244 [==============================] - 288s 23ms/step - loss: 0.0027 - mse: 0.0027\n",
      "Epoch 2/25\n",
      "12244/12244 [==============================] - 354s 29ms/step - loss: 0.0013 - mse: 0.0013\n",
      "Epoch 3/25\n",
      "12244/12244 [==============================] - 141s 11ms/step - loss: 0.0011 - mse: 0.0011\n",
      "Epoch 4/25\n",
      "12244/12244 [==============================] - 138s 11ms/step - loss: 0.0010 - mse: 0.0010\n",
      "Epoch 5/25\n",
      "12244/12244 [==============================] - 144s 12ms/step - loss: 9.8834e-04 - mse: 9.8834e-04\n",
      "Epoch 6/25\n",
      "12244/12244 [==============================] - 154s 13ms/step - loss: 9.7245e-04 - mse: 9.7245e-04\n",
      "Epoch 7/25\n",
      "12244/12244 [==============================] - 165s 13ms/step - loss: 9.5236e-04 - mse: 9.5236e-04\n",
      "Epoch 8/25\n",
      "12244/12244 [==============================] - 178s 15ms/step - loss: 9.3702e-04 - mse: 9.3702e-04\n",
      "Epoch 9/25\n",
      "12244/12244 [==============================] - 181s 15ms/step - loss: 9.2965e-04 - mse: 9.2965e-04\n",
      "Epoch 10/25\n",
      "12244/12244 [==============================] - 174s 14ms/step - loss: 9.2266e-04 - mse: 9.2266e-04\n",
      "Epoch 11/25\n",
      "12244/12244 [==============================] - 167s 14ms/step - loss: 9.1238e-04 - mse: 9.1238e-04\n",
      "Epoch 12/25\n",
      "12244/12244 [==============================] - 162s 13ms/step - loss: 9.0378e-04 - mse: 9.0378e-04\n",
      "Epoch 13/25\n",
      "12244/12244 [==============================] - 160s 13ms/step - loss: 9.0042e-04 - mse: 9.0042e-04\n",
      "Epoch 14/25\n",
      "12244/12244 [==============================] - 162s 13ms/step - loss: 8.9195e-04 - mse: 8.9195e-04\n",
      "Epoch 15/25\n",
      "12244/12244 [==============================] - 161s 13ms/step - loss: 8.9159e-04 - mse: 8.9159e-04\n",
      "Epoch 16/25\n",
      "12244/12244 [==============================] - 162s 13ms/step - loss: 8.8621e-04 - mse: 8.8621e-04\n",
      "Epoch 17/25\n",
      "12244/12244 [==============================] - 157s 13ms/step - loss: 8.8161e-04 - mse: 8.8161e-04\n",
      "Epoch 18/25\n",
      "12244/12244 [==============================] - 159s 13ms/step - loss: 8.7879e-04 - mse: 8.7879e-04\n",
      "Epoch 19/25\n",
      "12244/12244 [==============================] - 173s 14ms/step - loss: 8.7431e-04 - mse: 8.7431e-04\n",
      "Epoch 20/25\n",
      "12244/12244 [==============================] - 162s 13ms/step - loss: 8.7322e-04 - mse: 8.7322e-04\n",
      "Epoch 21/25\n",
      "12244/12244 [==============================] - 148s 12ms/step - loss: 8.7174e-04 - mse: 8.7174e-04\n",
      "Epoch 22/25\n",
      "12244/12244 [==============================] - 147s 12ms/step - loss: 8.7343e-04 - mse: 8.7343e-04\n",
      "Epoch 23/25\n",
      "12244/12244 [==============================] - 160s 13ms/step - loss: 8.6908e-04 - mse: 8.6908e-04\n",
      "Epoch 24/25\n",
      "12244/12244 [==============================] - 169s 14ms/step - loss: 8.6500e-04 - mse: 8.6500e-04\n",
      "Epoch 25/25\n",
      "12244/12244 [==============================] - 177s 14ms/step - loss: 8.6632e-04 - mse: 8.6632e-04\n"
     ]
    },
    {
     "data": {
      "text/plain": [
       "<keras.callbacks.History at 0x7f658adeebe0>"
      ]
     },
     "execution_count": 12,
     "metadata": {},
     "output_type": "execute_result"
    }
   ],
   "source": [
    "# fit model\n",
    "lstm_model.fit(X_train, y_train, epochs=25, batch_size=10)\n"
   ]
  },
  {
   "cell_type": "code",
   "execution_count": 13,
   "metadata": {},
   "outputs": [
    {
     "data": {
      "image/png": "[encoded data removed]",
      "text/plain": [
       "<Figure size 432x288 with 1 Axes>"
      ]
     },
     "metadata": {
      "needs_background": "light"
     },
     "output_type": "display_data"
    }
   ],
   "source": [
    "# plot loss\n",
    "plt.plot(lstm_model.history.history[\"loss\"], c=\"b\")\n",
    "plt.title(\"LSTM Loss\")\n",
    "plt.xlabel(\"epoch\")\n",
    "plt.ylabel(\"loss\")\n",
    "plt.legend([\"loss\"])\n",
    "plt.show()\n"
   ]
  },
  {
   "cell_type": "code",
   "execution_count": 14,
   "metadata": {},
   "outputs": [],
   "source": [
    "# make predictions\n",
    "preds = lstm_model.predict(X_test.reshape(X_test.shape[0], X_test.shape[1], 1))\n",
    "# preds = scaler.inverse_transform(preds)\n"
   ]
  },
  {
   "cell_type": "code",
   "execution_count": 15,
   "metadata": {},
   "outputs": [
    {
     "name": "stdout",
     "output_type": "stream",
     "text": [
      "(30609, 11)\n"
     ]
    },
    {
     "data": {
      "text/plain": [
       "array([23.44001 , 26.89218 , 52.99465 , 20.977201, 39.82583 , 35.96551 ,\n",
       "       35.760036, 27.09806 , 29.40143 , 32.301594], dtype=float32)"
      ]
     },
     "execution_count": 15,
     "metadata": {},
     "output_type": "execute_result"
    }
   ],
   "source": [
    "# append 10 columns of ones to preds\n",
    "_preds = preds.copy()\n",
    "\n",
    "for i in range(10):\n",
    "    _preds = np.append(_preds, preds, axis=1)\n",
    "\n",
    "print(_preds.shape)\n",
    "\n",
    "_preds = scaler.inverse_transform(_preds)\n",
    "# first column of each row\n",
    "preds = _preds[:, 0]\n",
    "preds[:10]\n"
   ]
  },
  {
   "cell_type": "code",
   "execution_count": 16,
   "metadata": {},
   "outputs": [
    {
     "name": "stdout",
     "output_type": "stream",
     "text": [
      "(30609, 11)\n"
     ]
    },
    {
     "data": {
      "text/plain": [
       "array([24.1, 23.4, 50.6, 19.6, 42.5, 36.3, 39.8, 29.1, 28.9, 31.5])"
      ]
     },
     "execution_count": 16,
     "metadata": {},
     "output_type": "execute_result"
    }
   ],
   "source": [
    "_y_test = y_test.copy()\n",
    "\n",
    "for i in range(10):\n",
    "    _y_test = np.append(_y_test, y_test, axis=1)\n",
    "\n",
    "print(_y_test.shape)\n",
    "\n",
    "_y_test = scaler.inverse_transform(_y_test)\n",
    "\n",
    "_y_test = _y_test[:, 0]\n",
    "_y_test[:10]\n"
   ]
  },
  {
   "cell_type": "code",
   "execution_count": 17,
   "metadata": {},
   "outputs": [
    {
     "data": {
      "image/png": "[encoded data removed]",
      "text/plain": [
       "<Figure size 432x288 with 1 Axes>"
      ]
     },
     "metadata": {
      "needs_background": "light"
     },
     "output_type": "display_data"
    }
   ],
   "source": [
    "# plot results\n",
    "plot_results(preds, _y_test, \"LSTM\")\n"
   ]
  },
  {
   "cell_type": "code",
   "execution_count": 18,
   "metadata": {},
   "outputs": [
    {
     "name": "stdout",
     "output_type": "stream",
     "text": [
      "MSE: 4.8102\n",
      "RMSE: 2.1932\n",
      "MAE: 1.4833\n",
      "WMAPE: 0.0442\n",
      "R2: 0.9543\n"
     ]
    }
   ],
   "source": [
    "# performance metrics\n",
    "performance_metrics(preds, _y_test)\n"
   ]
  },
  {
   "cell_type": "markdown",
   "metadata": {},
   "source": [
    "## ANN\n",
    "\n",
    "Train the ANN model with the last 5 hours of the data."
   ]
  },
  {
   "cell_type": "code",
   "execution_count": 19,
   "metadata": {},
   "outputs": [],
   "source": [
    "def create_ann_model(X):\n",
    "    \"\"\"\n",
    "    Build an ANN model\n",
    "\n",
    "    Args:\n",
    "        X: pandas dataframe or numpy array, containing the data to train\n",
    "\n",
    "    Returns:\n",
    "        model: ANN model\n",
    "    \"\"\"\n",
    "    # define model\n",
    "    model = Sequential()\n",
    "    model.add(Dense(10, input_dim=X.shape[1], activation=\"relu\"))\n",
    "    model.add(Dense(10, activation=\"relu\"))\n",
    "    model.add(Dense(1))\n",
    "    model.compile(optimizer=\"adam\", loss=\"mse\", metrics=[\"mse\"])\n",
    "    return model\n"
   ]
  },
  {
   "cell_type": "code",
   "execution_count": 20,
   "metadata": {},
   "outputs": [],
   "source": [
    "ann_model = create_ann_model(X_train)\n"
   ]
  },
  {
   "cell_type": "code",
   "execution_count": 21,
   "metadata": {},
   "outputs": [
    {
     "name": "stdout",
     "output_type": "stream",
     "text": [
      "Epoch 1/25\n",
      "12244/12244 [==============================] - 25s 2ms/step - loss: 0.0014 - mse: 0.0014\n",
      "Epoch 2/25\n",
      "12244/12244 [==============================] - 25s 2ms/step - loss: 9.6328e-04 - mse: 9.6328e-04\n",
      "Epoch 3/25\n",
      "12244/12244 [==============================] - 23s 2ms/step - loss: 9.3064e-04 - mse: 9.3064e-04\n",
      "Epoch 4/25\n",
      "12244/12244 [==============================] - 18s 2ms/step - loss: 9.0721e-04 - mse: 9.0721e-04\n",
      "Epoch 5/25\n",
      "12244/12244 [==============================] - 15s 1ms/step - loss: 8.9494e-04 - mse: 8.9494e-04\n",
      "Epoch 6/25\n",
      "12244/12244 [==============================] - 15s 1ms/step - loss: 8.9015e-04 - mse: 8.9015e-04\n",
      "Epoch 7/25\n",
      "12244/12244 [==============================] - 15s 1ms/step - loss: 8.8023e-04 - mse: 8.8023e-04\n",
      "Epoch 8/25\n",
      "12244/12244 [==============================] - 19s 2ms/step - loss: 8.7434e-04 - mse: 8.7434e-04\n",
      "Epoch 9/25\n",
      "12244/12244 [==============================] - 17s 1ms/step - loss: 8.6985e-04 - mse: 8.6985e-04\n",
      "Epoch 10/25\n",
      "12244/12244 [==============================] - 15s 1ms/step - loss: 8.6439e-04 - mse: 8.6439e-04\n",
      "Epoch 11/25\n",
      "12244/12244 [==============================] - 16s 1ms/step - loss: 8.6602e-04 - mse: 8.6602e-04\n",
      "Epoch 12/25\n",
      "12244/12244 [==============================] - 16s 1ms/step - loss: 8.6223e-04 - mse: 8.6223e-04\n",
      "Epoch 13/25\n",
      "12244/12244 [==============================] - 14s 1ms/step - loss: 8.5781e-04 - mse: 8.5781e-04\n",
      "Epoch 14/25\n",
      "12244/12244 [==============================] - 14s 1ms/step - loss: 8.5867e-04 - mse: 8.5867e-04\n",
      "Epoch 15/25\n",
      "12244/12244 [==============================] - 16s 1ms/step - loss: 8.5911e-04 - mse: 8.5911e-04\n",
      "Epoch 16/25\n",
      "12244/12244 [==============================] - 19s 2ms/step - loss: 8.5306e-04 - mse: 8.5306e-04\n",
      "Epoch 17/25\n",
      "12244/12244 [==============================] - 16s 1ms/step - loss: 8.5310e-04 - mse: 8.5310e-04\n",
      "Epoch 18/25\n",
      "12244/12244 [==============================] - 14s 1ms/step - loss: 8.5128e-04 - mse: 8.5128e-04\n",
      "Epoch 19/25\n",
      "12244/12244 [==============================] - 14s 1ms/step - loss: 8.5035e-04 - mse: 8.5035e-04\n",
      "Epoch 20/25\n",
      "12244/12244 [==============================] - 14s 1ms/step - loss: 8.4520e-04 - mse: 8.4520e-04\n",
      "Epoch 21/25\n",
      "12244/12244 [==============================] - 14s 1ms/step - loss: 8.4834e-04 - mse: 8.4834e-04\n",
      "Epoch 22/25\n",
      "12244/12244 [==============================] - 15s 1ms/step - loss: 8.4633e-04 - mse: 8.4633e-04\n",
      "Epoch 23/25\n",
      "12244/12244 [==============================] - 17s 1ms/step - loss: 8.4626e-04 - mse: 8.4626e-04\n",
      "Epoch 24/25\n",
      "12244/12244 [==============================] - 14s 1ms/step - loss: 8.4654e-04 - mse: 8.4654e-04\n",
      "Epoch 25/25\n",
      "12244/12244 [==============================] - 15s 1ms/step - loss: 8.4498e-04 - mse: 8.4498e-04\n"
     ]
    },
    {
     "data": {
      "text/plain": [
       "<keras.callbacks.History at 0x7f658ce9beb0>"
      ]
     },
     "execution_count": 21,
     "metadata": {},
     "output_type": "execute_result"
    }
   ],
   "source": [
    "# fit model\n",
    "ann_model.fit(X_train, y_train, epochs=25, batch_size=10)\n"
   ]
  },
  {
   "cell_type": "code",
   "execution_count": 22,
   "metadata": {},
   "outputs": [
    {
     "data": {
      "image/png": "[encoded data removed]",
      "text/plain": [
       "<Figure size 432x288 with 1 Axes>"
      ]
     },
     "metadata": {
      "needs_background": "light"
     },
     "output_type": "display_data"
    }
   ],
   "source": [
    "# plot loss\n",
    "plt.plot(ann_model.history.history[\"loss\"], c=\"b\")\n",
    "plt.title(\"ANN Loss\")\n",
    "plt.xlabel(\"epoch\")\n",
    "plt.ylabel(\"loss\")\n",
    "plt.legend([\"loss\"])\n",
    "plt.show()\n"
   ]
  },
  {
   "cell_type": "code",
   "execution_count": 23,
   "metadata": {},
   "outputs": [],
   "source": [
    "# make predictions\n",
    "preds = ann_model.predict(X_test)\n"
   ]
  },
  {
   "cell_type": "code",
   "execution_count": 24,
   "metadata": {},
   "outputs": [
    {
     "name": "stdout",
     "output_type": "stream",
     "text": [
      "(30609, 11)\n"
     ]
    },
    {
     "data": {
      "text/plain": [
       "array([23.585554, 28.0471  , 53.48356 , 21.119387, 40.645733, 36.83156 ,\n",
       "       37.629505, 27.96006 , 29.554152, 32.421627], dtype=float32)"
      ]
     },
     "execution_count": 24,
     "metadata": {},
     "output_type": "execute_result"
    }
   ],
   "source": [
    "# append 10 columns of ones to preds\n",
    "_preds = preds.copy()\n",
    "\n",
    "for i in range(10):\n",
    "    _preds = np.append(_preds, preds, axis=1)\n",
    "\n",
    "print(_preds.shape)\n",
    "\n",
    "_preds = scaler.inverse_transform(_preds)\n",
    "# first column of each row\n",
    "preds = _preds[:, 0]\n",
    "preds[:10]\n"
   ]
  },
  {
   "cell_type": "code",
   "execution_count": 25,
   "metadata": {},
   "outputs": [
    {
     "data": {
      "image/png": "[encoded data removed]",
      "text/plain": [
       "<Figure size 432x288 with 1 Axes>"
      ]
     },
     "metadata": {
      "needs_background": "light"
     },
     "output_type": "display_data"
    }
   ],
   "source": [
    "# plot results\n",
    "plot_results(preds, _y_test, \"ANN\")\n"
   ]
  },
  {
   "cell_type": "code",
   "execution_count": 26,
   "metadata": {},
   "outputs": [
    {
     "name": "stdout",
     "output_type": "stream",
     "text": [
      "MSE: 4.8144\n",
      "RMSE: 2.1942\n",
      "MAE: 1.4621\n",
      "WMAPE: 0.0435\n",
      "R2: 0.9542\n"
     ]
    }
   ],
   "source": [
    "# performance metrics\n",
    "performance_metrics(preds, _y_test)\n"
   ]
  },
  {
   "cell_type": "markdown",
   "metadata": {},
   "source": [
    "## Gradient Boosting\n",
    "\n",
    "Train the Gradient Boosting model with the last 5 hours of the data."
   ]
  },
  {
   "cell_type": "code",
   "execution_count": 27,
   "metadata": {},
   "outputs": [],
   "source": [
    "def create_gbdt_model():\n",
    "    \"\"\"\n",
    "    Build an GBDT model\n",
    "\n",
    "    Args:\n",
    "        X: pandas dataframe or numpy array, containing the data to train\n",
    "\n",
    "    Returns:\n",
    "        model: GBDT model\n",
    "    \"\"\"\n",
    "    # define model\n",
    "    model = GradientBoostingRegressor(n_estimators=100, learning_rate=0.1)\n",
    "    return model\n"
   ]
  },
  {
   "cell_type": "code",
   "execution_count": 28,
   "metadata": {},
   "outputs": [],
   "source": [
    "gbdt_model = create_gbdt_model()\n"
   ]
  },
  {
   "cell_type": "code",
   "execution_count": 29,
   "metadata": {},
   "outputs": [],
   "source": [
    "X_train = X_train.reshape(X_train.shape[0], X_train.shape[1])\n",
    "X_test = X_test.reshape(X_test.shape[0], X_test.shape[1])\n",
    "y_train = y_train.reshape(y_train.shape[0])\n",
    "y_test = y_test.reshape(y_test.shape[0])\n"
   ]
  },
  {
   "cell_type": "code",
   "execution_count": 30,
   "metadata": {},
   "outputs": [
    {
     "data": {
      "text/plain": [
       "GradientBoostingRegressor()"
      ]
     },
     "execution_count": 30,
     "metadata": {},
     "output_type": "execute_result"
    }
   ],
   "source": [
    "gbdt_model.fit(X_train, y_train)\n"
   ]
  },
  {
   "cell_type": "code",
   "execution_count": 31,
   "metadata": {},
   "outputs": [],
   "source": [
    "# make predictions\n",
    "preds = gbdt_model.predict(X_test)\n"
   ]
  },
  {
   "cell_type": "code",
   "execution_count": 32,
   "metadata": {},
   "outputs": [
    {
     "name": "stdout",
     "output_type": "stream",
     "text": [
      "(30609, 11)\n"
     ]
    },
    {
     "data": {
      "text/plain": [
       "array([22.97520229, 26.96600113, 53.43249186, 20.64531573, 39.66864181,\n",
       "       35.52933425, 35.75939672, 27.22145623, 29.56371331, 32.52344154])"
      ]
     },
     "execution_count": 32,
     "metadata": {},
     "output_type": "execute_result"
    }
   ],
   "source": [
    "_preds = preds.copy()\n",
    "\n",
    "_preds = _preds.reshape(_preds.shape[0], 1)\n",
    "\n",
    "for i in range(10):\n",
    "    _preds = np.append(_preds, preds.reshape(preds.shape[0], 1), axis=1)\n",
    "\n",
    "print(_preds.shape)\n",
    "\n",
    "_preds = scaler.inverse_transform(_preds)\n",
    "preds = _preds[:, 0]\n",
    "preds[:10]\n"
   ]
  },
  {
   "cell_type": "code",
   "execution_count": 33,
   "metadata": {},
   "outputs": [
    {
     "data": {
      "image/png": "[encoded data removed]",
      "text/plain": [
       "<Figure size 432x288 with 1 Axes>"
      ]
     },
     "metadata": {
      "needs_background": "light"
     },
     "output_type": "display_data"
    }
   ],
   "source": [
    "# plot results\n",
    "plot_results(preds, _y_test, \"GBDT\")\n"
   ]
  },
  {
   "cell_type": "code",
   "execution_count": 34,
   "metadata": {},
   "outputs": [
    {
     "name": "stdout",
     "output_type": "stream",
     "text": [
      "MSE: 4.6371\n",
      "RMSE: 2.1534\n",
      "MAE: 1.4406\n",
      "WMAPE: 0.0429\n",
      "R2: 0.9559\n"
     ]
    }
   ],
   "source": [
    "# performance metrics\n",
    "performance_metrics(preds, _y_test)\n"
   ]
  },
  {
   "cell_type": "markdown",
   "metadata": {},
   "source": [
    "## XGBoost\n",
    "\n",
    "Apply the XGBoost model with the last 5 hours of the data."
   ]
  },
  {
   "cell_type": "code",
   "execution_count": 35,
   "metadata": {},
   "outputs": [],
   "source": [
    "def create_xgboost_model():\n",
    "    \"\"\"\n",
    "    Build an XGBoost model\n",
    "\n",
    "    Args:\n",
    "        X: pandas dataframe or numpy array, containing the data to train\n",
    "\n",
    "    Returns:\n",
    "        model: XGBoost model\n",
    "    \"\"\"\n",
    "    # define model\n",
    "    model = xgb.XGBRegressor(max_depth=5, learning_rate=0.1, n_estimators=100, verbosity=1, seed=42)\n",
    "    return model\n"
   ]
  },
  {
   "cell_type": "code",
   "execution_count": 36,
   "metadata": {},
   "outputs": [],
   "source": [
    "xgboost_model = create_xgboost_model()\n"
   ]
  },
  {
   "cell_type": "code",
   "execution_count": 37,
   "metadata": {},
   "outputs": [
    {
     "data": {
      "text/plain": [
       "XGBRegressor(base_score=0.5, booster='gbtree', colsample_bylevel=1,\n",
       "             colsample_bynode=1, colsample_bytree=1, enable_categorical=False,\n",
       "             gamma=0, gpu_id=-1, importance_type=None,\n",
       "             interaction_constraints='', learning_rate=0.1, max_delta_step=0,\n",
       "             max_depth=5, min_child_weight=1, missing=nan,\n",
       "             monotone_constraints='()', n_estimators=100, n_jobs=8,\n",
       "             num_parallel_tree=1, predictor='auto', random_state=42,\n",
       "             reg_alpha=0, reg_lambda=1, scale_pos_weight=1, seed=42,\n",
       "             subsample=1, tree_method='exact', validate_parameters=1,\n",
       "             verbosity=1)"
      ]
     },
     "execution_count": 37,
     "metadata": {},
     "output_type": "execute_result"
    }
   ],
   "source": [
    "xgboost_model.fit(X_train, y_train)\n"
   ]
  },
  {
   "cell_type": "code",
   "execution_count": 38,
   "metadata": {},
   "outputs": [],
   "source": [
    "preds = xgboost_model.predict(X_test)\n"
   ]
  },
  {
   "cell_type": "code",
   "execution_count": 39,
   "metadata": {},
   "outputs": [
    {
     "name": "stdout",
     "output_type": "stream",
     "text": [
      "(30609, 11)\n"
     ]
    },
    {
     "data": {
      "text/plain": [
       "array([22.980518, 27.112368, 53.733967, 20.619675, 39.79522 , 36.02729 ,\n",
       "       36.10729 , 26.932436, 29.49307 , 32.49065 ], dtype=float32)"
      ]
     },
     "execution_count": 39,
     "metadata": {},
     "output_type": "execute_result"
    }
   ],
   "source": [
    "# append 10 columns of ones to preds\n",
    "_preds = preds.copy()\n",
    "\n",
    "_preds = _preds.reshape(_preds.shape[0], 1)\n",
    "\n",
    "for i in range(10):\n",
    "    _preds = np.append(_preds, preds.reshape(preds.shape[0], 1), axis=1)\n",
    "\n",
    "print(_preds.shape)\n",
    "\n",
    "_preds = scaler.inverse_transform(_preds)\n",
    "preds = _preds[:, 0]\n",
    "preds[:10]\n"
   ]
  },
  {
   "cell_type": "code",
   "execution_count": 40,
   "metadata": {},
   "outputs": [
    {
     "data": {
      "image/png": "[encoded data removed]",
      "text/plain": [
       "<Figure size 432x288 with 1 Axes>"
      ]
     },
     "metadata": {
      "needs_background": "light"
     },
     "output_type": "display_data"
    }
   ],
   "source": [
    "# plot results\n",
    "plot_results(preds, _y_test, \"XGBoost\")\n"
   ]
  },
  {
   "cell_type": "code",
   "execution_count": 41,
   "metadata": {},
   "outputs": [
    {
     "name": "stdout",
     "output_type": "stream",
     "text": [
      "MSE: 4.5059\n",
      "RMSE: 2.1227\n",
      "MAE: 1.4168\n",
      "WMAPE: 0.0422\n",
      "R2: 0.9572\n"
     ]
    }
   ],
   "source": [
    "# performance metrics\n",
    "performance_metrics(preds, _y_test)\n"
   ]
  },
  {
   "cell_type": "code",
   "execution_count": null,
   "metadata": {},
   "outputs": [],
   "source": []
  }
 ],
 "metadata": {
  "interpreter": {
   "hash": "31f2aee4e71d21fbe5cf8b01ff0e069b9275f58929596ceb00d14d90e3e16cd6"
  },
  "kernelspec": {
   "display_name": "Python 3.9.7 64-bit",
   "language": "python",
   "name": "python3"
  },
  "language_info": {
   "codemirror_mode": {
    "name": "ipython",
    "version": 3
   },
   "file_extension": ".py",
   "mimetype": "text/x-python",
   "name": "python",
   "nbconvert_exporter": "python",
   "pygments_lexer": "ipython3",
   "version": "3.9.7"
  },
  "orig_nbformat": 4
 },
 "nbformat": 4,
 "nbformat_minor": 2
}
