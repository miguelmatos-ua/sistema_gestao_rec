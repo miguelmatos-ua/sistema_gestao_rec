{
 "cells": [
  {
   "cell_type": "code",
   "execution_count": 1,
   "metadata": {},
   "outputs": [],
   "source": [
    "import pickle\n",
    "\n",
    "import pandas as pd\n",
    "import numpy as np\n",
    "import matplotlib.pyplot as plt\n",
    "import seaborn as sns\n",
    "\n",
    "import xgboost as xgb"
   ]
  },
  {
   "cell_type": "code",
   "execution_count": 5,
   "metadata": {},
   "outputs": [],
   "source": [
    "# load the first rows of the data\n",
    "df = pd.read_csv(\"../data/BANES_v3_oneweek.csv\", parse_dates=['time'], nrows=10)\n",
    "columns = df.drop(['energy', 'location', 'time'], axis=1).columns"
   ]
  },
  {
   "cell_type": "code",
   "execution_count": 6,
   "metadata": {},
   "outputs": [],
   "source": [
    "model: xgb.XGBRegressor = pickle.load(open(\"../models/model_featureimportance.pkl\", \"rb\"))\n",
    "feature_importance = pd.Series(model.feature_importances_, index=columns)"
   ]
  },
  {
   "cell_type": "code",
   "execution_count": 9,
   "metadata": {},
   "outputs": [
    {
     "data": {
      "image/png": "[encoded data removed]",
      "text/plain": [
       "<Figure size 921.6x518.4 with 1 Axes>"
      ]
     },
     "metadata": {
      "needs_background": "light"
     },
     "output_type": "display_data"
    }
   ],
   "source": [
    "plt.figure(figsize=(12.8, 7.2))\n",
    "plt.bar(range(len(model.feature_importances_)), model.feature_importances_, color=\"navy\")\n",
    "plt.title('Feature Importance')\n",
    "plt.xlabel('Feature')\n",
    "plt.ylabel('Importance')\n",
    "plt.show()"
   ]
  },
  {
   "cell_type": "code",
   "execution_count": 12,
   "metadata": {},
   "outputs": [
    {
     "data": {
      "image/png": "[encoded data removed]",
      "text/plain": [
       "<Figure size 921.6x518.4 with 1 Axes>"
      ]
     },
     "metadata": {
      "needs_background": "light"
     },
     "output_type": "display_data"
    }
   ],
   "source": [
    "plt.figure(figsize=(12.8, 7.2))\n",
    "\n",
    "plt.bar(range(len(model.feature_importances_)), model.feature_importances_, color=\"navy\")\n",
    "# on the top of the bar plot, add the feature names but only for the 20 largest features\n",
    "plt.title('Feature Importance (limited)')\n",
    "plt.xlabel('Feature')\n",
    "plt.ylabel('Importance')\n",
    "plt.ylim([0, 0.015])\n",
    "plt.show()"
   ]
  },
  {
   "cell_type": "markdown",
   "metadata": {},
   "source": [
    "Market prices"
   ]
  },
  {
   "cell_type": "code",
   "execution_count": 16,
   "metadata": {},
   "outputs": [
    {
     "data": {
      "text/html": [
       "<div>\n",
       "<style scoped>\n",
       "    .dataframe tbody tr th:only-of-type {\n",
       "        vertical-align: middle;\n",
       "    }\n",
       "\n",
       "    .dataframe tbody tr th {\n",
       "        vertical-align: top;\n",
       "    }\n",
       "\n",
       "    .dataframe thead th {\n",
       "        text-align: right;\n",
       "    }\n",
       "</style>\n",
       "<table border=\"1\" class=\"dataframe\">\n",
       "  <thead>\n",
       "    <tr style=\"text-align: right;\">\n",
       "      <th></th>\n",
       "      <th>location</th>\n",
       "      <th>time</th>\n",
       "      <th>energy</th>\n",
       "      <th>AirTemp</th>\n",
       "      <th>RelativeHumidity</th>\n",
       "      <th>Dni</th>\n",
       "    </tr>\n",
       "  </thead>\n",
       "  <tbody>\n",
       "    <tr>\n",
       "      <th>0</th>\n",
       "      <td>## OLD Paulton Library Electricity Supply 1</td>\n",
       "      <td>2008-06-14 00:30:00+00:00</td>\n",
       "      <td>0.08</td>\n",
       "      <td>9.1</td>\n",
       "      <td>0.829</td>\n",
       "      <td>0.0</td>\n",
       "    </tr>\n",
       "    <tr>\n",
       "      <th>1</th>\n",
       "      <td>## OLD Paulton Library Electricity Supply 1</td>\n",
       "      <td>2008-06-14 01:00:00+00:00</td>\n",
       "      <td>0.07</td>\n",
       "      <td>8.9</td>\n",
       "      <td>0.836</td>\n",
       "      <td>0.0</td>\n",
       "    </tr>\n",
       "    <tr>\n",
       "      <th>2</th>\n",
       "      <td>## OLD Paulton Library Electricity Supply 1</td>\n",
       "      <td>2008-06-14 01:30:00+00:00</td>\n",
       "      <td>0.08</td>\n",
       "      <td>8.7</td>\n",
       "      <td>0.844</td>\n",
       "      <td>0.0</td>\n",
       "    </tr>\n",
       "    <tr>\n",
       "      <th>3</th>\n",
       "      <td>## OLD Paulton Library Electricity Supply 1</td>\n",
       "      <td>2008-06-14 02:00:00+00:00</td>\n",
       "      <td>0.07</td>\n",
       "      <td>8.5</td>\n",
       "      <td>0.852</td>\n",
       "      <td>0.0</td>\n",
       "    </tr>\n",
       "    <tr>\n",
       "      <th>4</th>\n",
       "      <td>## OLD Paulton Library Electricity Supply 1</td>\n",
       "      <td>2008-06-14 02:30:00+00:00</td>\n",
       "      <td>0.08</td>\n",
       "      <td>8.3</td>\n",
       "      <td>0.860</td>\n",
       "      <td>0.0</td>\n",
       "    </tr>\n",
       "  </tbody>\n",
       "</table>\n",
       "</div>"
      ],
      "text/plain": [
       "                                      location                      time  \\\n",
       "0  ## OLD Paulton Library Electricity Supply 1 2008-06-14 00:30:00+00:00   \n",
       "1  ## OLD Paulton Library Electricity Supply 1 2008-06-14 01:00:00+00:00   \n",
       "2  ## OLD Paulton Library Electricity Supply 1 2008-06-14 01:30:00+00:00   \n",
       "3  ## OLD Paulton Library Electricity Supply 1 2008-06-14 02:00:00+00:00   \n",
       "4  ## OLD Paulton Library Electricity Supply 1 2008-06-14 02:30:00+00:00   \n",
       "\n",
       "   energy  AirTemp  RelativeHumidity  Dni  \n",
       "0    0.08      9.1             0.829  0.0  \n",
       "1    0.07      8.9             0.836  0.0  \n",
       "2    0.08      8.7             0.844  0.0  \n",
       "3    0.07      8.5             0.852  0.0  \n",
       "4    0.08      8.3             0.860  0.0  "
      ]
     },
     "execution_count": 16,
     "metadata": {},
     "output_type": "execute_result"
    }
   ],
   "source": [
    "df = pd.read_csv(\"../data/BANES_v2.csv\", parse_dates=['time'])\n",
    "df.head()"
   ]
  },
  {
   "cell_type": "code",
   "execution_count": 18,
   "metadata": {},
   "outputs": [
    {
     "data": {
      "text/html": [
       "<div>\n",
       "<style scoped>\n",
       "    .dataframe tbody tr th:only-of-type {\n",
       "        vertical-align: middle;\n",
       "    }\n",
       "\n",
       "    .dataframe tbody tr th {\n",
       "        vertical-align: top;\n",
       "    }\n",
       "\n",
       "    .dataframe thead th {\n",
       "        text-align: right;\n",
       "    }\n",
       "</style>\n",
       "<table border=\"1\" class=\"dataframe\">\n",
       "  <thead>\n",
       "    <tr style=\"text-align: right;\">\n",
       "      <th></th>\n",
       "      <th>time</th>\n",
       "      <th>energy</th>\n",
       "      <th>AirTemp</th>\n",
       "      <th>RelativeHumidity</th>\n",
       "      <th>Dni</th>\n",
       "    </tr>\n",
       "  </thead>\n",
       "  <tbody>\n",
       "    <tr>\n",
       "      <th>0</th>\n",
       "      <td>2007-01-01 00:30:00+00:00</td>\n",
       "      <td>25.50</td>\n",
       "      <td>8.0</td>\n",
       "      <td>0.814</td>\n",
       "      <td>0.0</td>\n",
       "    </tr>\n",
       "    <tr>\n",
       "      <th>1</th>\n",
       "      <td>2007-01-01 01:00:00+00:00</td>\n",
       "      <td>25.75</td>\n",
       "      <td>7.7</td>\n",
       "      <td>0.833</td>\n",
       "      <td>0.0</td>\n",
       "    </tr>\n",
       "    <tr>\n",
       "      <th>2</th>\n",
       "      <td>2007-01-01 01:30:00+00:00</td>\n",
       "      <td>26.15</td>\n",
       "      <td>7.3</td>\n",
       "      <td>0.852</td>\n",
       "      <td>0.0</td>\n",
       "    </tr>\n",
       "    <tr>\n",
       "      <th>3</th>\n",
       "      <td>2007-01-01 02:00:00+00:00</td>\n",
       "      <td>27.55</td>\n",
       "      <td>7.0</td>\n",
       "      <td>0.872</td>\n",
       "      <td>0.0</td>\n",
       "    </tr>\n",
       "    <tr>\n",
       "      <th>4</th>\n",
       "      <td>2007-01-01 02:30:00+00:00</td>\n",
       "      <td>27.95</td>\n",
       "      <td>6.6</td>\n",
       "      <td>0.892</td>\n",
       "      <td>0.0</td>\n",
       "    </tr>\n",
       "  </tbody>\n",
       "</table>\n",
       "</div>"
      ],
      "text/plain": [
       "                       time  energy  AirTemp  RelativeHumidity  Dni\n",
       "0 2007-01-01 00:30:00+00:00   25.50      8.0             0.814  0.0\n",
       "1 2007-01-01 01:00:00+00:00   25.75      7.7             0.833  0.0\n",
       "2 2007-01-01 01:30:00+00:00   26.15      7.3             0.852  0.0\n",
       "3 2007-01-01 02:00:00+00:00   27.55      7.0             0.872  0.0\n",
       "4 2007-01-01 02:30:00+00:00   27.95      6.6             0.892  0.0"
      ]
     },
     "execution_count": 18,
     "metadata": {},
     "output_type": "execute_result"
    }
   ],
   "source": [
    "df = df.groupby(['time']).mean().reset_index()\n",
    "df.head()"
   ]
  },
  {
   "cell_type": "code",
   "execution_count": 21,
   "metadata": {},
   "outputs": [],
   "source": [
    "from datetime import timedelta, datetime\n",
    "import pytz\n",
    "\n",
    "def tarifa_bihoraria_diaria_ponta(time) -> bool:\n",
    "    return time.hour >= 8 and time.hour < 22\n",
    "\n",
    "def tarifa_bihoraria_semanal_ponta(time: datetime) -> bool:\n",
    "    time = time.astimezone(pytz.timezone(\"Europe/Lisbon\"))\n",
    "\n",
    "    hour = time.hour\n",
    "    # if it is daylight savings time\n",
    "    if time.tz.dst != timedelta(0):\n",
    "        if time.weekday() == 5:\n",
    "            # it is saturday\n",
    "            if hour < 9 or (hour >= 14 and hour < 20) or (hour >= 22):\n",
    "                tarifa = False\n",
    "            else:\n",
    "                tarifa = True\n",
    "        elif time.weekday() == 6:\n",
    "            # it is sunday\n",
    "            tarifa = False\n",
    "        else:\n",
    "            if hour < 7:\n",
    "                tarifa = False\n",
    "            else:\n",
    "                tarifa = True\n",
    "    else:\n",
    "        if time.weekday() == 5:\n",
    "            # it is saturday\n",
    "            if (\n",
    "                time.to_pydatetime()\n",
    "                < datetime(\n",
    "                    time.year,\n",
    "                    time.month,\n",
    "                    time.day,\n",
    "                    9,\n",
    "                    30,\n",
    "                    0,\n",
    "                    tzinfo=pytz.timezone(\"Europe/Lisbon\"),\n",
    "                )\n",
    "                or (\n",
    "                    time.to_pydatetime()\n",
    "                    >= datetime(\n",
    "                        time.year,\n",
    "                        time.month,\n",
    "                        time.day,\n",
    "                        13,\n",
    "                        0,\n",
    "                        0,\n",
    "                        tzinfo=pytz.timezone(\"Europe/Lisbon\"),\n",
    "                    )\n",
    "                    and time.to_pydatetime()\n",
    "                    < datetime(\n",
    "                        time.year,\n",
    "                        time.month,\n",
    "                        time.day,\n",
    "                        18,\n",
    "                        30,\n",
    "                        0,\n",
    "                        tzinfo=pytz.timezone(\"Europe/Lisbon\"),\n",
    "                    )\n",
    "                )\n",
    "                or (\n",
    "                    time.to_pydatetime()\n",
    "                    >= datetime(\n",
    "                        time.year,\n",
    "                        time.month,\n",
    "                        time.day,\n",
    "                        22,\n",
    "                        0,\n",
    "                        0,\n",
    "                        tzinfo=pytz.timezone(\"Europe/Lisbon\"),\n",
    "                    )\n",
    "                )\n",
    "            ):\n",
    "                tarifa = False\n",
    "            else:\n",
    "                tarifa = True\n",
    "        elif time.weekday() == 6:\n",
    "            # it is sunday\n",
    "            tarifa = False\n",
    "        else:\n",
    "            if hour < 7:\n",
    "                tarifa = False\n",
    "            else:\n",
    "                tarifa = True\n",
    "    return tarifa\n"
   ]
  },
  {
   "cell_type": "code",
   "execution_count": 22,
   "metadata": {},
   "outputs": [
    {
     "name": "stderr",
     "output_type": "stream",
     "text": [
      "C:\\Users\\migue\\AppData\\Local\\Temp/ipykernel_120968/3296489012.py:16: SettingWithCopyWarning: \n",
      "A value is trying to be set on a copy of a slice from a DataFrame.\n",
      "Try using .loc[row_indexer,col_indexer] = value instead\n",
      "\n",
      "See the caveats in the documentation: https://pandas.pydata.org/pandas-docs/stable/user_guide/indexing.html#returning-a-view-versus-a-copy\n",
      "  no_prod[\"time\"] = pd.to_datetime(no_prod[\"time\"])\n",
      "C:\\Users\\migue\\AppData\\Local\\Temp/ipykernel_120968/3296489012.py:18: FutureWarning: Dropping of nuisance columns in DataFrame reductions (with 'numeric_only=None') is deprecated; in a future version this will raise TypeError.  Select only valid columns before calling the reduction.\n",
      "  no_prod.sum().apply(lambda x: f\"{x:.4f}\")\n"
     ]
    },
    {
     "data": {
      "text/plain": [
       "energy                     1741886.1067\n",
       "price_bihorario_diario      285857.4185\n",
       "price_bihorario_semanal     283567.7304\n",
       "price_simples               275740.5707\n",
       "dtype: object"
      ]
     },
     "execution_count": 22,
     "metadata": {},
     "output_type": "execute_result"
    }
   ],
   "source": [
    "TARIFA_SIMPLES = 0.1583\n",
    "TARIFA_PONTA = 0.1917\n",
    "TARIFA_FORA_PONTA = 0.1044\n",
    "\n",
    "def no_production(line: pd.array) -> pd.array:\n",
    "    \"\"\"No production scenario. All energy consumed comes from the grid.\"\"\"\n",
    "    # add prices\n",
    "    tarifa_diario = TARIFA_PONTA if tarifa_bihoraria_diaria_ponta(line[\"time\"]) else TARIFA_FORA_PONTA\n",
    "    line[\"price_bihorario_diario\"] = tarifa_diario * line[\"energy\"]\n",
    "    tarifa_semanal = TARIFA_PONTA if tarifa_bihoraria_semanal_ponta(line[\"time\"]) else TARIFA_FORA_PONTA\n",
    "    line[\"price_bihorario_semanal\"] = tarifa_semanal * line[\"energy\"]\n",
    "    line[\"price_simples\"] = TARIFA_SIMPLES * line[\"energy\"]\n",
    "    return line\n",
    "\n",
    "no_prod = df[[\"time\", \"energy\"]]\n",
    "no_prod[\"time\"] = pd.to_datetime(no_prod[\"time\"])\n",
    "no_prod = no_prod.apply(no_production, axis=1)\n",
    "no_prod.sum().apply(lambda x: f\"{x:.4f}\")"
   ]
  },
  {
   "cell_type": "code",
   "execution_count": 23,
   "metadata": {},
   "outputs": [
    {
     "data": {
      "text/html": [
       "<div>\n",
       "<style scoped>\n",
       "    .dataframe tbody tr th:only-of-type {\n",
       "        vertical-align: middle;\n",
       "    }\n",
       "\n",
       "    .dataframe tbody tr th {\n",
       "        vertical-align: top;\n",
       "    }\n",
       "\n",
       "    .dataframe thead th {\n",
       "        text-align: right;\n",
       "    }\n",
       "</style>\n",
       "<table border=\"1\" class=\"dataframe\">\n",
       "  <thead>\n",
       "    <tr style=\"text-align: right;\">\n",
       "      <th></th>\n",
       "      <th>time</th>\n",
       "      <th>energy</th>\n",
       "      <th>price_bihorario_diario</th>\n",
       "      <th>price_bihorario_semanal</th>\n",
       "      <th>price_simples</th>\n",
       "    </tr>\n",
       "  </thead>\n",
       "  <tbody>\n",
       "    <tr>\n",
       "      <th>0</th>\n",
       "      <td>2007-01-01 00:30:00+00:00</td>\n",
       "      <td>25.50</td>\n",
       "      <td>2.66220</td>\n",
       "      <td>2.66220</td>\n",
       "      <td>4.036650</td>\n",
       "    </tr>\n",
       "    <tr>\n",
       "      <th>1</th>\n",
       "      <td>2007-01-01 01:00:00+00:00</td>\n",
       "      <td>25.75</td>\n",
       "      <td>2.68830</td>\n",
       "      <td>2.68830</td>\n",
       "      <td>4.076225</td>\n",
       "    </tr>\n",
       "    <tr>\n",
       "      <th>2</th>\n",
       "      <td>2007-01-01 01:30:00+00:00</td>\n",
       "      <td>26.15</td>\n",
       "      <td>2.73006</td>\n",
       "      <td>2.73006</td>\n",
       "      <td>4.139545</td>\n",
       "    </tr>\n",
       "    <tr>\n",
       "      <th>3</th>\n",
       "      <td>2007-01-01 02:00:00+00:00</td>\n",
       "      <td>27.55</td>\n",
       "      <td>2.87622</td>\n",
       "      <td>2.87622</td>\n",
       "      <td>4.361165</td>\n",
       "    </tr>\n",
       "    <tr>\n",
       "      <th>4</th>\n",
       "      <td>2007-01-01 02:30:00+00:00</td>\n",
       "      <td>27.95</td>\n",
       "      <td>2.91798</td>\n",
       "      <td>2.91798</td>\n",
       "      <td>4.424485</td>\n",
       "    </tr>\n",
       "  </tbody>\n",
       "</table>\n",
       "</div>"
      ],
      "text/plain": [
       "                       time  energy  price_bihorario_diario  \\\n",
       "0 2007-01-01 00:30:00+00:00   25.50                 2.66220   \n",
       "1 2007-01-01 01:00:00+00:00   25.75                 2.68830   \n",
       "2 2007-01-01 01:30:00+00:00   26.15                 2.73006   \n",
       "3 2007-01-01 02:00:00+00:00   27.55                 2.87622   \n",
       "4 2007-01-01 02:30:00+00:00   27.95                 2.91798   \n",
       "\n",
       "   price_bihorario_semanal  price_simples  \n",
       "0                  2.66220       4.036650  \n",
       "1                  2.68830       4.076225  \n",
       "2                  2.73006       4.139545  \n",
       "3                  2.87622       4.361165  \n",
       "4                  2.91798       4.424485  "
      ]
     },
     "execution_count": 23,
     "metadata": {},
     "output_type": "execute_result"
    }
   ],
   "source": [
    "no_prod.head()"
   ]
  },
  {
   "cell_type": "code",
   "execution_count": 39,
   "metadata": {},
   "outputs": [
    {
     "data": {
      "text/html": [
       "<div>\n",
       "<style scoped>\n",
       "    .dataframe tbody tr th:only-of-type {\n",
       "        vertical-align: middle;\n",
       "    }\n",
       "\n",
       "    .dataframe tbody tr th {\n",
       "        vertical-align: top;\n",
       "    }\n",
       "\n",
       "    .dataframe thead th {\n",
       "        text-align: right;\n",
       "    }\n",
       "</style>\n",
       "<table border=\"1\" class=\"dataframe\">\n",
       "  <thead>\n",
       "    <tr style=\"text-align: right;\">\n",
       "      <th></th>\n",
       "      <th>time</th>\n",
       "      <th>energy</th>\n",
       "      <th>price_bihorario_diario</th>\n",
       "      <th>price_bihorario_semanal</th>\n",
       "      <th>price_simples</th>\n",
       "    </tr>\n",
       "  </thead>\n",
       "  <tbody>\n",
       "    <tr>\n",
       "      <th>0</th>\n",
       "      <td>2007-01-01 00:30:00+00:00</td>\n",
       "      <td>25.50</td>\n",
       "      <td>2.66220</td>\n",
       "      <td>2.66220</td>\n",
       "      <td>4.036650</td>\n",
       "    </tr>\n",
       "    <tr>\n",
       "      <th>1</th>\n",
       "      <td>2044-01-01 01:30:00+00:00</td>\n",
       "      <td>51.25</td>\n",
       "      <td>5.35050</td>\n",
       "      <td>5.35050</td>\n",
       "      <td>8.112875</td>\n",
       "    </tr>\n",
       "    <tr>\n",
       "      <th>2</th>\n",
       "      <td>2080-12-31 03:00:00+00:00</td>\n",
       "      <td>77.40</td>\n",
       "      <td>8.08056</td>\n",
       "      <td>8.08056</td>\n",
       "      <td>12.252420</td>\n",
       "    </tr>\n",
       "    <tr>\n",
       "      <th>3</th>\n",
       "      <td>2118-01-01 05:00:00+00:00</td>\n",
       "      <td>104.95</td>\n",
       "      <td>10.95678</td>\n",
       "      <td>10.95678</td>\n",
       "      <td>16.613585</td>\n",
       "    </tr>\n",
       "    <tr>\n",
       "      <th>4</th>\n",
       "      <td>2155-01-01 07:30:00+00:00</td>\n",
       "      <td>132.90</td>\n",
       "      <td>13.87476</td>\n",
       "      <td>13.87476</td>\n",
       "      <td>21.038070</td>\n",
       "    </tr>\n",
       "  </tbody>\n",
       "</table>\n",
       "</div>"
      ],
      "text/plain": [
       "                       time  energy  price_bihorario_diario  \\\n",
       "0 2007-01-01 00:30:00+00:00   25.50                 2.66220   \n",
       "1 2044-01-01 01:30:00+00:00   51.25                 5.35050   \n",
       "2 2080-12-31 03:00:00+00:00   77.40                 8.08056   \n",
       "3 2118-01-01 05:00:00+00:00  104.95                10.95678   \n",
       "4 2155-01-01 07:30:00+00:00  132.90                13.87476   \n",
       "\n",
       "   price_bihorario_semanal  price_simples  \n",
       "0                  2.66220       4.036650  \n",
       "1                  5.35050       8.112875  \n",
       "2                  8.08056      12.252420  \n",
       "3                 10.95678      16.613585  \n",
       "4                 13.87476      21.038070  "
      ]
     },
     "execution_count": 39,
     "metadata": {},
     "output_type": "execute_result"
    }
   ],
   "source": [
    "cumsum = no_prod.cumsum()\n",
    "cumsum.head()"
   ]
  },
  {
   "cell_type": "code",
   "execution_count": 44,
   "metadata": {},
   "outputs": [
    {
     "data": {
      "image/png": "[encoded data removed]",
      "text/plain": [
       "<Figure size 921.6x518.4 with 1 Axes>"
      ]
     },
     "metadata": {
      "needs_background": "light"
     },
     "output_type": "display_data"
    }
   ],
   "source": [
    "cumsum[\"time\"] = no_prod[\"time\"]\n",
    "ax = cumsum.plot(x=\"time\", y=\"price_bihorario_diario\", c=\"navy\", figsize=(12.8, 7.2))\n",
    "cumsum.plot(x=\"time\", y=\"price_bihorario_semanal\", c=\"red\", ax=ax)\n",
    "cumsum.plot(x=\"time\", y=\"price_simples\", c=\"green\", ax=ax)\n",
    "plt.legend([\"Bihourly tariff (daily)\", \"Bihourly tariff (weekly)\", \"Simple tariff\"])\n",
    "plt.title(\"Price of energy consumed over time\")\n",
    "plt.xlabel(\"Time\")\n",
    "plt.ylabel(\"Price (€)\")\n",
    "plt.show()"
   ]
  },
  {
   "cell_type": "code",
   "execution_count": 47,
   "metadata": {},
   "outputs": [
    {
     "data": {
      "text/html": [
       "<div>\n",
       "<style scoped>\n",
       "    .dataframe tbody tr th:only-of-type {\n",
       "        vertical-align: middle;\n",
       "    }\n",
       "\n",
       "    .dataframe tbody tr th {\n",
       "        vertical-align: top;\n",
       "    }\n",
       "\n",
       "    .dataframe thead th {\n",
       "        text-align: right;\n",
       "    }\n",
       "</style>\n",
       "<table border=\"1\" class=\"dataframe\">\n",
       "  <thead>\n",
       "    <tr style=\"text-align: right;\">\n",
       "      <th></th>\n",
       "      <th>energy</th>\n",
       "      <th>price_bihorario_diario</th>\n",
       "      <th>price_bihorario_semanal</th>\n",
       "      <th>price_simples</th>\n",
       "    </tr>\n",
       "  </thead>\n",
       "  <tbody>\n",
       "    <tr>\n",
       "      <th>count</th>\n",
       "      <td>229728.0000</td>\n",
       "      <td>229728.0000</td>\n",
       "      <td>229728.0000</td>\n",
       "      <td>229728.0000</td>\n",
       "    </tr>\n",
       "    <tr>\n",
       "      <th>mean</th>\n",
       "      <td>7.5824</td>\n",
       "      <td>1.2443</td>\n",
       "      <td>1.2344</td>\n",
       "      <td>1.2003</td>\n",
       "    </tr>\n",
       "    <tr>\n",
       "      <th>std</th>\n",
       "      <td>10.1052</td>\n",
       "      <td>1.8411</td>\n",
       "      <td>1.8388</td>\n",
       "      <td>1.5997</td>\n",
       "    </tr>\n",
       "    <tr>\n",
       "      <th>min</th>\n",
       "      <td>0.6400</td>\n",
       "      <td>0.0668</td>\n",
       "      <td>0.0691</td>\n",
       "      <td>0.1013</td>\n",
       "    </tr>\n",
       "    <tr>\n",
       "      <th>25%</th>\n",
       "      <td>2.5148</td>\n",
       "      <td>0.3369</td>\n",
       "      <td>0.3044</td>\n",
       "      <td>0.3981</td>\n",
       "    </tr>\n",
       "    <tr>\n",
       "      <th>50%</th>\n",
       "      <td>3.8570</td>\n",
       "      <td>0.5800</td>\n",
       "      <td>0.6037</td>\n",
       "      <td>0.6106</td>\n",
       "    </tr>\n",
       "    <tr>\n",
       "      <th>75%</th>\n",
       "      <td>6.7914</td>\n",
       "      <td>1.2634</td>\n",
       "      <td>1.2706</td>\n",
       "      <td>1.0751</td>\n",
       "    </tr>\n",
       "    <tr>\n",
       "      <th>max</th>\n",
       "      <td>60.1500</td>\n",
       "      <td>11.5308</td>\n",
       "      <td>11.5308</td>\n",
       "      <td>9.5217</td>\n",
       "    </tr>\n",
       "  </tbody>\n",
       "</table>\n",
       "</div>"
      ],
      "text/plain": [
       "           energy  price_bihorario_diario  price_bihorario_semanal  \\\n",
       "count 229728.0000             229728.0000              229728.0000   \n",
       "mean       7.5824                  1.2443                   1.2344   \n",
       "std       10.1052                  1.8411                   1.8388   \n",
       "min        0.6400                  0.0668                   0.0691   \n",
       "25%        2.5148                  0.3369                   0.3044   \n",
       "50%        3.8570                  0.5800                   0.6037   \n",
       "75%        6.7914                  1.2634                   1.2706   \n",
       "max       60.1500                 11.5308                  11.5308   \n",
       "\n",
       "       price_simples  \n",
       "count    229728.0000  \n",
       "mean          1.2003  \n",
       "std           1.5997  \n",
       "min           0.1013  \n",
       "25%           0.3981  \n",
       "50%           0.6106  \n",
       "75%           1.0751  \n",
       "max           9.5217  "
      ]
     },
     "execution_count": 47,
     "metadata": {},
     "output_type": "execute_result"
    }
   ],
   "source": [
    "pd.set_option('display.float_format', lambda x: '%.4f' % x)\n",
    "no_prod.describe()"
   ]
  },
  {
   "cell_type": "code",
   "execution_count": 48,
   "metadata": {},
   "outputs": [
    {
     "name": "stderr",
     "output_type": "stream",
     "text": [
      "C:\\Users\\migue\\AppData\\Local\\Temp/ipykernel_120968/2631640189.py:1: FutureWarning: Dropping of nuisance columns in DataFrame reductions (with 'numeric_only=None') is deprecated; in a future version this will raise TypeError.  Select only valid columns before calling the reduction.\n",
      "  no_prod.sum().apply(lambda x: f\"{x:.4f}\")\n"
     ]
    },
    {
     "data": {
      "text/plain": [
       "energy                     1741886.1067\n",
       "price_bihorario_diario      285857.4185\n",
       "price_bihorario_semanal     283567.7304\n",
       "price_simples               275740.5707\n",
       "dtype: object"
      ]
     },
     "execution_count": 48,
     "metadata": {},
     "output_type": "execute_result"
    }
   ],
   "source": [
    "no_prod.sum().apply(lambda x: f\"{x:.4f}\")"
   ]
  }
 ],
 "metadata": {
  "kernelspec": {
   "display_name": "Python 3.9.13 64-bit (windows store)",
   "language": "python",
   "name": "python3"
  },
  "language_info": {
   "codemirror_mode": {
    "name": "ipython",
    "version": 3
   },
   "file_extension": ".py",
   "mimetype": "text/x-python",
   "name": "python",
   "nbconvert_exporter": "python",
   "pygments_lexer": "ipython3",
   "version": "3.9.13"
  },
  "orig_nbformat": 4,
  "vscode": {
   "interpreter": {
    "hash": "8f1ce1086d2f6c02a53e250c2f887551bffde74d546fcc653ec29f93a533c281"
   }
  }
 },
 "nbformat": 4,
 "nbformat_minor": 2
}
