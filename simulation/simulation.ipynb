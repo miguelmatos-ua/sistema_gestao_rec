{
 "cells": [
  {
   "cell_type": "code",
   "execution_count": 6,
   "metadata": {
    "collapsed": true
   },
   "outputs": [],
   "source": [
    "import warnings\n",
    "\n",
    "import pandas as pd\n",
    "\n",
    "warnings.filterwarnings('ignore')\n",
    "\n",
    "import os\n",
    "\n",
    "path = os.path.join(os.getcwd(), 'Documents\\\\tese')\n",
    "\n",
    "# change working directory\n",
    "os.chdir(path)"
   ]
  },
  {
   "cell_type": "code",
   "execution_count": 7,
   "outputs": [
    {
     "data": {
      "text/plain": "         Date  Hour  Session  Price - PT [€/MWh]  Price - ES [€/MWh]\n0  2008-07-01     1        0               70.31               63.11\n1  2008-07-01     2        0               64.54               58.55\n2  2008-07-01     3        0               64.08               55.85\n3  2008-07-01     4        0               63.50               55.00\n4  2008-07-01     5        0               63.28               53.96",
      "text/html": "<div>\n<style scoped>\n    .dataframe tbody tr th:only-of-type {\n        vertical-align: middle;\n    }\n\n    .dataframe tbody tr th {\n        vertical-align: top;\n    }\n\n    .dataframe thead th {\n        text-align: right;\n    }\n</style>\n<table border=\"1\" class=\"dataframe\">\n  <thead>\n    <tr style=\"text-align: right;\">\n      <th></th>\n      <th>Date</th>\n      <th>Hour</th>\n      <th>Session</th>\n      <th>Price - PT [€/MWh]</th>\n      <th>Price - ES [€/MWh]</th>\n    </tr>\n  </thead>\n  <tbody>\n    <tr>\n      <th>0</th>\n      <td>2008-07-01</td>\n      <td>1</td>\n      <td>0</td>\n      <td>70.31</td>\n      <td>63.11</td>\n    </tr>\n    <tr>\n      <th>1</th>\n      <td>2008-07-01</td>\n      <td>2</td>\n      <td>0</td>\n      <td>64.54</td>\n      <td>58.55</td>\n    </tr>\n    <tr>\n      <th>2</th>\n      <td>2008-07-01</td>\n      <td>3</td>\n      <td>0</td>\n      <td>64.08</td>\n      <td>55.85</td>\n    </tr>\n    <tr>\n      <th>3</th>\n      <td>2008-07-01</td>\n      <td>4</td>\n      <td>0</td>\n      <td>63.50</td>\n      <td>55.00</td>\n    </tr>\n    <tr>\n      <th>4</th>\n      <td>2008-07-01</td>\n      <td>5</td>\n      <td>0</td>\n      <td>63.28</td>\n      <td>53.96</td>\n    </tr>\n  </tbody>\n</table>\n</div>"
     },
     "execution_count": 7,
     "metadata": {},
     "output_type": "execute_result"
    }
   ],
   "source": [
    "# read data\n",
    "df = pd.read_excel('data/PrecoMerc.xlsx')\n",
    "df.head()"
   ],
   "metadata": {
    "collapsed": false,
    "pycharm": {
     "name": "#%%\n"
    }
   }
  },
  {
   "cell_type": "code",
   "execution_count": 9,
   "outputs": [
    {
     "data": {
      "text/plain": "        Date            Hour  Session  Price - PT [€/MWh]  Price - ES [€/MWh]  \\\n0 2008-07-01 0 days 01:00:00        0               70.31               63.11   \n1 2008-07-01 0 days 02:00:00        0               64.54               58.55   \n2 2008-07-01 0 days 03:00:00        0               64.08               55.85   \n3 2008-07-01 0 days 04:00:00        0               63.50               55.00   \n4 2008-07-01 0 days 05:00:00        0               63.28               53.96   \n\n                 time  \n0 2008-07-01 01:00:00  \n1 2008-07-01 02:00:00  \n2 2008-07-01 03:00:00  \n3 2008-07-01 04:00:00  \n4 2008-07-01 05:00:00  ",
      "text/html": "<div>\n<style scoped>\n    .dataframe tbody tr th:only-of-type {\n        vertical-align: middle;\n    }\n\n    .dataframe tbody tr th {\n        vertical-align: top;\n    }\n\n    .dataframe thead th {\n        text-align: right;\n    }\n</style>\n<table border=\"1\" class=\"dataframe\">\n  <thead>\n    <tr style=\"text-align: right;\">\n      <th></th>\n      <th>Date</th>\n      <th>Hour</th>\n      <th>Session</th>\n      <th>Price - PT [€/MWh]</th>\n      <th>Price - ES [€/MWh]</th>\n      <th>time</th>\n    </tr>\n  </thead>\n  <tbody>\n    <tr>\n      <th>0</th>\n      <td>2008-07-01</td>\n      <td>0 days 01:00:00</td>\n      <td>0</td>\n      <td>70.31</td>\n      <td>63.11</td>\n      <td>2008-07-01 01:00:00</td>\n    </tr>\n    <tr>\n      <th>1</th>\n      <td>2008-07-01</td>\n      <td>0 days 02:00:00</td>\n      <td>0</td>\n      <td>64.54</td>\n      <td>58.55</td>\n      <td>2008-07-01 02:00:00</td>\n    </tr>\n    <tr>\n      <th>2</th>\n      <td>2008-07-01</td>\n      <td>0 days 03:00:00</td>\n      <td>0</td>\n      <td>64.08</td>\n      <td>55.85</td>\n      <td>2008-07-01 03:00:00</td>\n    </tr>\n    <tr>\n      <th>3</th>\n      <td>2008-07-01</td>\n      <td>0 days 04:00:00</td>\n      <td>0</td>\n      <td>63.50</td>\n      <td>55.00</td>\n      <td>2008-07-01 04:00:00</td>\n    </tr>\n    <tr>\n      <th>4</th>\n      <td>2008-07-01</td>\n      <td>0 days 05:00:00</td>\n      <td>0</td>\n      <td>63.28</td>\n      <td>53.96</td>\n      <td>2008-07-01 05:00:00</td>\n    </tr>\n  </tbody>\n</table>\n</div>"
     },
     "execution_count": 9,
     "metadata": {},
     "output_type": "execute_result"
    }
   ],
   "source": [
    "# parse hour to timedelta\n",
    "df['Hour'] = pd.to_timedelta(df['Hour'], unit='h')\n",
    "df['Date'] = pd.to_datetime(df['Date'])\n",
    "df['time'] = df['Date'] + df['Hour']\n",
    "df.head()"
   ],
   "metadata": {
    "collapsed": false,
    "pycharm": {
     "name": "#%%\n"
    }
   }
  },
  {
   "cell_type": "code",
   "execution_count": null,
   "outputs": [],
   "source": [],
   "metadata": {
    "collapsed": false,
    "pycharm": {
     "name": "#%%\n"
    }
   }
  }
 ],
 "metadata": {
  "kernelspec": {
   "display_name": "Python 3",
   "language": "python",
   "name": "python3"
  },
  "language_info": {
   "codemirror_mode": {
    "name": "ipython",
    "version": 2
   },
   "file_extension": ".py",
   "mimetype": "text/x-python",
   "name": "python",
   "nbconvert_exporter": "python",
   "pygments_lexer": "ipython2",
   "version": "2.7.6"
  }
 },
 "nbformat": 4,
 "nbformat_minor": 0
}