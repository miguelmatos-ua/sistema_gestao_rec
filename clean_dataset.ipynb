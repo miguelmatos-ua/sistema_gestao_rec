{
 "cells": [
  {
   "cell_type": "markdown",
   "metadata": {},
   "source": [
    "# Notebook para exploração do dataset\n",
    "\n",
    "Exploração de dados do dataset \"BANES Energy Data Electricity\".\n",
    "\n",
    "Colunas do dataset:\n",
    "\n",
    "- **ID** - text\n",
    "- **Data** -  timestamp\n",
    "- **Location** \t- Text\n",
    "- **PostCode** -\t Text\n",
    "- **Units** -\t Text\n",
    "- **TotalUnits** -\t Numeric\n",
    "- **00:30** até **24:00** - Numeric\n",
    "- **MPAN** - Text\n",
    "- **MSID** - Text"
   ]
  },
  {
   "cell_type": "code",
   "execution_count": 15,
   "metadata": {},
   "outputs": [],
   "source": [
    "# import libraries\n",
    "import numpy as np\n",
    "import matplotlib.pyplot as plt\n",
    "import pandas as pd\n"
   ]
  },
  {
   "cell_type": "code",
   "execution_count": 2,
   "metadata": {},
   "outputs": [
    {
     "data": {
      "text/html": [
       "<div>\n",
       "<style scoped>\n",
       "    .dataframe tbody tr th:only-of-type {\n",
       "        vertical-align: middle;\n",
       "    }\n",
       "\n",
       "    .dataframe tbody tr th {\n",
       "        vertical-align: top;\n",
       "    }\n",
       "\n",
       "    .dataframe thead th {\n",
       "        text-align: right;\n",
       "    }\n",
       "</style>\n",
       "<table border=\"1\" class=\"dataframe\">\n",
       "  <thead>\n",
       "    <tr style=\"text-align: right;\">\n",
       "      <th></th>\n",
       "      <th>id</th>\n",
       "      <th>date</th>\n",
       "      <th>location</th>\n",
       "      <th>postcode</th>\n",
       "      <th>units</th>\n",
       "      <th>totalunits</th>\n",
       "      <th>_00_30</th>\n",
       "      <th>_01_00</th>\n",
       "      <th>_01_30</th>\n",
       "      <th>_02_00</th>\n",
       "      <th>...</th>\n",
       "      <th>_20_30</th>\n",
       "      <th>_21_00</th>\n",
       "      <th>_21_30</th>\n",
       "      <th>_22_00</th>\n",
       "      <th>_22_30</th>\n",
       "      <th>_23_00</th>\n",
       "      <th>_23_30</th>\n",
       "      <th>_24_00</th>\n",
       "      <th>mpan</th>\n",
       "      <th>msid</th>\n",
       "    </tr>\n",
       "  </thead>\n",
       "  <tbody>\n",
       "    <tr>\n",
       "      <th>0</th>\n",
       "      <td>b7041f9c6e37c356a08dc9e116db2d02</td>\n",
       "      <td>2017-11-14T00:00:00+00:00</td>\n",
       "      <td>Infants School - Main School 2</td>\n",
       "      <td>BA2 1LG</td>\n",
       "      <td>kWh</td>\n",
       "      <td>125.602</td>\n",
       "      <td>0.452</td>\n",
       "      <td>0.485</td>\n",
       "      <td>0.443</td>\n",
       "      <td>0.464</td>\n",
       "      <td>...</td>\n",
       "      <td>0.531</td>\n",
       "      <td>0.548</td>\n",
       "      <td>0.541</td>\n",
       "      <td>0.480</td>\n",
       "      <td>0.572</td>\n",
       "      <td>0.477</td>\n",
       "      <td>0.540</td>\n",
       "      <td>0.509</td>\n",
       "      <td>2.200013e+12</td>\n",
       "      <td>E12BG00542</td>\n",
       "    </tr>\n",
       "    <tr>\n",
       "      <th>1</th>\n",
       "      <td>016c483021d1658579e21c452283fdf8</td>\n",
       "      <td>2016-07-24T00:00:00+00:00</td>\n",
       "      <td>Infants School - Hot Water</td>\n",
       "      <td>BA2 1LG</td>\n",
       "      <td>kWh</td>\n",
       "      <td>0.002</td>\n",
       "      <td>0.000</td>\n",
       "      <td>0.000</td>\n",
       "      <td>0.000</td>\n",
       "      <td>0.001</td>\n",
       "      <td>...</td>\n",
       "      <td>0.000</td>\n",
       "      <td>0.000</td>\n",
       "      <td>0.000</td>\n",
       "      <td>0.000</td>\n",
       "      <td>0.000</td>\n",
       "      <td>0.000</td>\n",
       "      <td>0.000</td>\n",
       "      <td>0.000</td>\n",
       "      <td>2.200013e+12</td>\n",
       "      <td>E12BG05597</td>\n",
       "    </tr>\n",
       "    <tr>\n",
       "      <th>2</th>\n",
       "      <td>6e4157799066e9af580d66f7d6639dc8</td>\n",
       "      <td>2017-02-05T00:00:00+00:00</td>\n",
       "      <td>Infants School - Kitchen</td>\n",
       "      <td>BA2 1LG</td>\n",
       "      <td>kWh</td>\n",
       "      <td>15.080</td>\n",
       "      <td>0.343</td>\n",
       "      <td>0.270</td>\n",
       "      <td>0.202</td>\n",
       "      <td>0.199</td>\n",
       "      <td>...</td>\n",
       "      <td>0.339</td>\n",
       "      <td>0.282</td>\n",
       "      <td>0.333</td>\n",
       "      <td>0.362</td>\n",
       "      <td>0.317</td>\n",
       "      <td>0.293</td>\n",
       "      <td>0.320</td>\n",
       "      <td>0.279</td>\n",
       "      <td>2.200013e+12</td>\n",
       "      <td>E12BG05598</td>\n",
       "    </tr>\n",
       "    <tr>\n",
       "      <th>3</th>\n",
       "      <td>38e91f884c7d7390ee7d01cd2f9390f3</td>\n",
       "      <td>2016-04-24T00:00:00+00:00</td>\n",
       "      <td>Infants School - Main School 2</td>\n",
       "      <td>BA2 1LG</td>\n",
       "      <td>kWh</td>\n",
       "      <td>26.122</td>\n",
       "      <td>0.448</td>\n",
       "      <td>0.476</td>\n",
       "      <td>0.469</td>\n",
       "      <td>0.417</td>\n",
       "      <td>...</td>\n",
       "      <td>0.503</td>\n",
       "      <td>0.458</td>\n",
       "      <td>0.463</td>\n",
       "      <td>0.518</td>\n",
       "      <td>0.531</td>\n",
       "      <td>0.436</td>\n",
       "      <td>0.458</td>\n",
       "      <td>0.519</td>\n",
       "      <td>2.200013e+12</td>\n",
       "      <td>E12BG00542</td>\n",
       "    </tr>\n",
       "    <tr>\n",
       "      <th>4</th>\n",
       "      <td>d7c380269879bec87f3d5c72e7bf08c0</td>\n",
       "      <td>2013-04-29T00:00:00+00:00</td>\n",
       "      <td>Infants School - Main School 2</td>\n",
       "      <td>BA2 1LG</td>\n",
       "      <td>kWh</td>\n",
       "      <td>130.252</td>\n",
       "      <td>0.885</td>\n",
       "      <td>0.723</td>\n",
       "      <td>0.841</td>\n",
       "      <td>0.959</td>\n",
       "      <td>...</td>\n",
       "      <td>1.167</td>\n",
       "      <td>1.053</td>\n",
       "      <td>0.979</td>\n",
       "      <td>1.003</td>\n",
       "      <td>0.960</td>\n",
       "      <td>0.954</td>\n",
       "      <td>0.997</td>\n",
       "      <td>1.015</td>\n",
       "      <td>2.200013e+12</td>\n",
       "      <td>E12BG00542</td>\n",
       "    </tr>\n",
       "  </tbody>\n",
       "</table>\n",
       "<p>5 rows × 56 columns</p>\n",
       "</div>"
      ],
      "text/plain": [
       "                                 id                       date  \\\n",
       "0  b7041f9c6e37c356a08dc9e116db2d02  2017-11-14T00:00:00+00:00   \n",
       "1  016c483021d1658579e21c452283fdf8  2016-07-24T00:00:00+00:00   \n",
       "2  6e4157799066e9af580d66f7d6639dc8  2017-02-05T00:00:00+00:00   \n",
       "3  38e91f884c7d7390ee7d01cd2f9390f3  2016-04-24T00:00:00+00:00   \n",
       "4  d7c380269879bec87f3d5c72e7bf08c0  2013-04-29T00:00:00+00:00   \n",
       "\n",
       "                         location postcode units  totalunits  _00_30  _01_00  \\\n",
       "0  Infants School - Main School 2  BA2 1LG   kWh     125.602   0.452   0.485   \n",
       "1      Infants School - Hot Water  BA2 1LG   kWh       0.002   0.000   0.000   \n",
       "2        Infants School - Kitchen  BA2 1LG   kWh      15.080   0.343   0.270   \n",
       "3  Infants School - Main School 2  BA2 1LG   kWh      26.122   0.448   0.476   \n",
       "4  Infants School - Main School 2  BA2 1LG   kWh     130.252   0.885   0.723   \n",
       "\n",
       "   _01_30  _02_00  ...  _20_30  _21_00  _21_30  _22_00  _22_30  _23_00  \\\n",
       "0   0.443   0.464  ...   0.531   0.548   0.541   0.480   0.572   0.477   \n",
       "1   0.000   0.001  ...   0.000   0.000   0.000   0.000   0.000   0.000   \n",
       "2   0.202   0.199  ...   0.339   0.282   0.333   0.362   0.317   0.293   \n",
       "3   0.469   0.417  ...   0.503   0.458   0.463   0.518   0.531   0.436   \n",
       "4   0.841   0.959  ...   1.167   1.053   0.979   1.003   0.960   0.954   \n",
       "\n",
       "   _23_30  _24_00          mpan        msid  \n",
       "0   0.540   0.509  2.200013e+12  E12BG00542  \n",
       "1   0.000   0.000  2.200013e+12  E12BG05597  \n",
       "2   0.320   0.279  2.200013e+12  E12BG05598  \n",
       "3   0.458   0.519  2.200013e+12  E12BG00542  \n",
       "4   0.997   1.015  2.200013e+12  E12BG00542  \n",
       "\n",
       "[5 rows x 56 columns]"
      ]
     },
     "execution_count": 2,
     "metadata": {},
     "output_type": "execute_result"
    }
   ],
   "source": [
    "df = pd.read_csv('BANES.csv')\n",
    "df.head()\n"
   ]
  },
  {
   "cell_type": "code",
   "execution_count": 3,
   "metadata": {},
   "outputs": [
    {
     "name": "stdout",
     "output_type": "stream",
     "text": [
      "Unique id's: 166259\n",
      "Shape of dataframe: (166276, 56)\n",
      "Unique units's column 1\n"
     ]
    }
   ],
   "source": [
    "# number of unique id's\n",
    "print(\"Unique id's:\", df['id'].nunique())\n",
    "print(\"Shape of dataframe:\", df.shape)\n",
    "\n",
    "# number of unique units column\n",
    "print(\"Unique units's column\", df['units'].nunique())\n"
   ]
  },
  {
   "cell_type": "markdown",
   "metadata": {},
   "source": [
    "The column `units` is unnecessary, since there is only one value: ``kWh``, so we'll remove that column.\n",
    "\n",
    "Same thing with the column `id`. Every line of the dataset has a unique id, which makes it redundant. We'll also remove that column."
   ]
  },
  {
   "cell_type": "code",
   "execution_count": 4,
   "metadata": {},
   "outputs": [],
   "source": [
    "# drop columns units and id\n",
    "df.drop(['units', 'id'], axis=1, inplace=True)\n"
   ]
  },
  {
   "cell_type": "markdown",
   "metadata": {},
   "source": [
    "#### About the dataset\n",
    "\n",
    "This dataset contains a ``postcode`` column and a ``location`` column. We'll find out exactly what these columns mean."
   ]
  },
  {
   "cell_type": "code",
   "execution_count": 5,
   "metadata": {},
   "outputs": [
    {
     "name": "stdout",
     "output_type": "stream",
     "text": [
      "Number of unique postcodes 30 \n",
      "\n",
      "Unique postcodes:\n",
      " ['BA2 1LG' 'BA1 1NH' 'BS39 5XD' 'BA2 1QR' 'BA1 1LN' 'BS39 7QY' 'BA2 7WE'\n",
      " 'BA2 3PL' 'BS39 4AA' 'BA2 2RQ' 'BA2 9HS' 'BA2 3NR' 'BS39 7QG' 'BA1 2QN'\n",
      " 'BS31 2TS' 'BA1 5AW' 'BA1 1JG' 'BS31 3DW' 'BA3 2DA' 'BA1 5AL' 'BS39 4EQ'\n",
      " 'BA1 6ND' 'BS31 1FS' 'BA3 3XX' 'BA1 6RB' 'BA1 6NY' 'BA3 2DP' 'BA3 3QQ'\n",
      " 'BS31 3DJ' 'BA1 4BU']\n"
     ]
    }
   ],
   "source": [
    "print(\"Number of unique postcodes\", df['postcode'].nunique(), \"\\n\")\n",
    "\n",
    "print(\"Unique postcodes:\\n\", df['postcode'].unique())"
   ]
  },
  {
   "cell_type": "code",
   "execution_count": 6,
   "metadata": {},
   "outputs": [
    {
     "name": "stdout",
     "output_type": "stream",
     "text": [
      "Number of unique locations 72 \n",
      "\n",
      "Unique locations:\n",
      " ['Infants School - Main School 2' 'Infants School - Hot Water'\n",
      " 'Infants School - Kitchen' 'Infants School - Main School 1'\n",
      " 'Swallow Street Stores & Workshop Electri'\n",
      " 'Bishop Sutton Primary School Electricity'\n",
      " 'Twerton Infant School Electricity Supply'\n",
      " '##Northgate House Electricity Supply 2'\n",
      " 'Paulton Junior School Electricity Supply'\n",
      " 'Freshford C of E Primary Electricity Sup'] ...\n"
     ]
    }
   ],
   "source": [
    "print(\"Number of unique locations\", df['location'].nunique(), \"\\n\")\n",
    "\n",
    "print(\"Unique locations:\\n\", df['location'].unique()[:10], \"...\")\n"
   ]
  },
  {
   "cell_type": "code",
   "execution_count": 7,
   "metadata": {},
   "outputs": [],
   "source": [
    "# for each location, find all postcodes are associated with it\n",
    "# and print them if there are more than one\n",
    "for location in df['location'].unique():\n",
    "    if df[df['location'] == location]['postcode'].nunique() > 1:\n",
    "        print(location, df[df['location'] == location]['postcode'].unique())\n"
   ]
  },
  {
   "cell_type": "markdown",
   "metadata": {},
   "source": [
    "Each ``location`` is associated with one and only ``postcode``.\n",
    "\n",
    "#### Other things about the dataset\n",
    "\n",
    "- The postcodes are mostly of the city of Bath, UK\n",
    "- The locations are only of public buildings, mostly schools\n",
    "\n",
    "#### Next step\n",
    "\n",
    "Find *dirty* values in the dataset."
   ]
  },
  {
   "cell_type": "code",
   "execution_count": 8,
   "metadata": {},
   "outputs": [
    {
     "name": "stdout",
     "output_type": "stream",
     "text": [
      "\n",
      "Number of null values: 5100\n"
     ]
    }
   ],
   "source": [
    "# find null values\n",
    "print(\"\\nNumber of null values:\", df.isnull().sum().sum())"
   ]
  },
  {
   "cell_type": "code",
   "execution_count": 9,
   "metadata": {},
   "outputs": [
    {
     "name": "stdout",
     "output_type": "stream",
     "text": [
      "Columns with null values:\n"
     ]
    },
    {
     "data": {
      "text/plain": [
       "Index(['mpan', 'msid'], dtype='object')"
      ]
     },
     "execution_count": 9,
     "metadata": {},
     "output_type": "execute_result"
    }
   ],
   "source": [
    "print(\"Columns with null values:\")\n",
    "df.columns[df.isnull().sum() > 0]"
   ]
  },
  {
   "cell_type": "code",
   "execution_count": 10,
   "metadata": {},
   "outputs": [
    {
     "name": "stdout",
     "output_type": "stream",
     "text": [
      "Unique values of mpan and msid:\n"
     ]
    },
    {
     "data": {
      "text/plain": [
       "(57, 57)"
      ]
     },
     "execution_count": 10,
     "metadata": {},
     "output_type": "execute_result"
    }
   ],
   "source": [
    "print(\"Unique values of mpan and msid:\")\n",
    "df['mpan'].nunique(), df['msid'].nunique()"
   ]
  },
  {
   "cell_type": "markdown",
   "metadata": {},
   "source": [
    "There are 57 values, which means it may not be a good idea to remove these columns."
   ]
  },
  {
   "cell_type": "code",
   "execution_count": 11,
   "metadata": {},
   "outputs": [
    {
     "name": "stdout",
     "output_type": "stream",
     "text": [
      "Postcode where mpan or msid is null:\n",
      "mpan: ['BS31 1FS']\n",
      "msid: ['BS31 1FS']\n"
     ]
    }
   ],
   "source": [
    "print(\"Postcode where mpan or msid is null:\")\n",
    "print(\"mpan:\", df[df['mpan'].isnull()]['postcode'].unique())\n",
    "print(\"msid:\", df[df['msid'].isnull()]['postcode'].unique())"
   ]
  },
  {
   "cell_type": "code",
   "execution_count": 12,
   "metadata": {},
   "outputs": [
    {
     "name": "stdout",
     "output_type": "stream",
     "text": [
      "Lines with postcode 'BS31 1FS' where mpan is not null:\n"
     ]
    },
    {
     "data": {
      "text/plain": [
       "1997"
      ]
     },
     "execution_count": 12,
     "metadata": {},
     "output_type": "execute_result"
    }
   ],
   "source": [
    "# lines with postcode 'BS31 1FS' where mpan is not null\n",
    "print(\"Lines with postcode 'BS31 1FS' where mpan is not null:\")\n",
    "df[(df['postcode'] == 'BS31 1FS') & (df['mpan'].notnull())].shape[0]\n"
   ]
  },
  {
   "cell_type": "code",
   "execution_count": 13,
   "metadata": {},
   "outputs": [
    {
     "name": "stdout",
     "output_type": "stream",
     "text": [
      "Lines with postcode 'BS31 1FS' where msid is not null:\n"
     ]
    },
    {
     "data": {
      "text/plain": [
       "1997"
      ]
     },
     "execution_count": 13,
     "metadata": {},
     "output_type": "execute_result"
    }
   ],
   "source": [
    "# lines with postcode 'BS31 1FS' where msid is not null\n",
    "print(\"Lines with postcode 'BS31 1FS' where msid is not null:\")\n",
    "df[(df['postcode'] == 'BS31 1FS') & (df['msid'].notnull())].shape[0]"
   ]
  },
  {
   "cell_type": "markdown",
   "metadata": {},
   "source": [
    "``mpan`` and ``msid`` are a controller identifier, these columns are often not important, so we'll leave the *NaN* values.\n",
    "\n",
    "#### Negative values\n",
    "\n",
    "The values from the hour usage should always be >= 0, so if there are negative values they should be discarded."
   ]
  },
  {
   "cell_type": "code",
   "execution_count": 14,
   "metadata": {},
   "outputs": [
    {
     "name": "stdout",
     "output_type": "stream",
     "text": [
      "_02_30 9\n",
      "_15_00 5\n",
      "_17_30 3\n",
      "_20_00 1\n",
      "_20_30 1\n",
      "_22_00 1\n"
     ]
    }
   ],
   "source": [
    "# find negative values in all rows\n",
    "for col, val in df.iloc[:, 4:-2].apply(lambda x: x[x < 0].shape[0], axis=0).iteritems():\n",
    "    print(col, val) if val > 0 else None"
   ]
  },
  {
   "cell_type": "markdown",
   "metadata": {},
   "source": [
    "There are negative values in the columns ``_02_30``, ``_15_00``, ``_17_30``, ``_20_00``, ``_20_30``, ``_22_00``.\n",
    "\n",
    "These values should be rejected, since the usage is never negative, it can only be larger or equal to 0."
   ]
  },
  {
   "cell_type": "code",
   "execution_count": 24,
   "metadata": {},
   "outputs": [
    {
     "name": "stdout",
     "output_type": "stream",
     "text": [
      "       postcode                                location        _02_30\n",
      "74166  BS31 1FS    First Floor Disabled WC Water Heater -3.800000e-07\n",
      "75361  BS31 1FS   Ground Floor Disabled WC Water Heater -1.530000e-06\n",
      "81418  BS31 1FS             First Floor WC Water Heater -1.900000e-07\n",
      "81637  BS31 1FS  First Floor Kitchenenette Water Heater -7.600000e-07\n",
      "81770  BS31 1FS                    Air cooled chiller 1 -2.441000e-05\n",
      "81781  BS31 1FS   Ground Floor Disabled WC Water Heater -1.530000e-06\n",
      "81871  BS31 1FS  First Floor Kitchenenette Water Heater -1.530000e-06\n",
      "81947  BS31 1FS    First Floor Disabled WC Water Heater -1.900000e-07\n",
      "82167  BS31 1FS             First Floor WC Water Heater -1.000000e-07\n",
      "       postcode                                location        _15_00\n",
      "68730  BS31 1FS  First Floor Kitchenenette Water Heater -1.530000e-06\n",
      "81298  BS31 1FS                     AirCooled Chiller 2 -2.452160e+07\n",
      "81374  BS31 1FS                    Air cooled chiller 1 -6.728121e+07\n",
      "83885  BS31 1FS                     AirCooled Chiller 2 -2.452160e+07\n",
      "83886  BS31 1FS                    Air cooled chiller 1 -6.728121e+07\n",
      "       postcode                               location        _17_30\n",
      "64810  BS31 1FS            First Floor WC Water Heater -1.000000e-07\n",
      "68123  BS31 1FS  Ground Floor Disabled WC Water Heater -1.530000e-06\n",
      "68575  BS31 1FS   First Floor Disabled WC Water Heater -1.900000e-07\n",
      "       postcode              location    _20_00\n",
      "81527  BS31 1FS  Air cooled chiller 1 -0.000012\n",
      "       postcode                       location    _20_30\n",
      "82433  BS31 1FS  Ground Floor South - Lighting -0.000781\n",
      "       postcode              location    _22_00\n",
      "78877  BS31 1FS  Air cooled chiller 1 -0.000024\n"
     ]
    }
   ],
   "source": [
    "# for all rows, if there is a negative value in a column, print the row\n",
    "to_remove = []\n",
    "for col, val in df.iloc[:, 4:-2].apply(lambda x: x[x < 0].shape[0], axis=0).iteritems():\n",
    "    if val > 0:\n",
    "        print(df[df[col] < 0].loc[:, ['postcode', 'location', col]])\n",
    "        to_remove.append(df[df[col] < 0].index)"
   ]
  },
  {
   "cell_type": "markdown",
   "metadata": {},
   "source": [
    "These are the rows that are going to be eliminated, since they contain negative values."
   ]
  },
  {
   "cell_type": "code",
   "execution_count": 29,
   "metadata": {},
   "outputs": [
    {
     "data": {
      "text/plain": [
       "[74166,\n",
       " 75361,\n",
       " 81418,\n",
       " 81637,\n",
       " 81770,\n",
       " 81781,\n",
       " 81871,\n",
       " 81947,\n",
       " 82167,\n",
       " 68730,\n",
       " 81298,\n",
       " 81374,\n",
       " 83885,\n",
       " 83886,\n",
       " 64810,\n",
       " 68123,\n",
       " 68575,\n",
       " 81527,\n",
       " 82433,\n",
       " 78877]"
      ]
     },
     "execution_count": 29,
     "metadata": {},
     "output_type": "execute_result"
    }
   ],
   "source": [
    "to_remove = [b for a in to_remove for b in a]\n",
    "to_remove"
   ]
  },
  {
   "cell_type": "code",
   "execution_count": 30,
   "metadata": {},
   "outputs": [],
   "source": [
    "# remove all rows with the indexs in to_remove\n",
    "df.drop(to_remove, axis=0, inplace=True)"
   ]
  },
  {
   "cell_type": "markdown",
   "metadata": {},
   "source": [
    "The dataset is now *clean*.\n",
    "\n",
    "#### Changes to dataset summary\n",
    "\n",
    "- Drop columns `units` and `id`\n",
    "- Drop rows with negative values\n",
    "\n",
    "#### Next step\n",
    "\n",
    "Export the *clean* dataset, and join the weather info."
   ]
  },
  {
   "cell_type": "code",
   "execution_count": 31,
   "metadata": {},
   "outputs": [],
   "source": [
    "# export the dataframe to csv\n",
    "df.to_csv('BANES_cleaned.csv', index=False)"
   ]
  }
 ],
 "metadata": {
  "interpreter": {
   "hash": "9b1f332fd89bb55c2c3f9863fa09609ddaa711e42a9a5767d6b702ced9885182"
  },
  "kernelspec": {
   "display_name": "Python 3.9.10 64-bit (windows store)",
   "language": "python",
   "name": "python3"
  },
  "language_info": {
   "codemirror_mode": {
    "name": "ipython",
    "version": 3
   },
   "file_extension": ".py",
   "mimetype": "text/x-python",
   "name": "python",
   "nbconvert_exporter": "python",
   "pygments_lexer": "ipython3",
   "version": "3.9.10"
  },
  "orig_nbformat": 4
 },
 "nbformat": 4,
 "nbformat_minor": 2
}
